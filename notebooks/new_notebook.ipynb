{
 "cells": [
  {
   "cell_type": "code",
   "execution_count": 4,
   "metadata": {},
   "outputs": [],
   "source": [
    "from pyspark.sql import SparkSession, Window\n",
    "import pyspark.sql.functions as F"
   ]
  },
  {
   "cell_type": "code",
   "execution_count": 5,
   "metadata": {},
   "outputs": [
    {
     "name": "stderr",
     "output_type": "stream",
     "text": [
      "Setting default log level to \"WARN\".\n",
      "To adjust logging level use sc.setLogLevel(newLevel). For SparkR, use setLogLevel(newLevel).\n",
      "23/07/18 09:53:13 WARN NativeCodeLoader: Unable to load native-hadoop library for your platform... using builtin-java classes where applicable\n"
     ]
    }
   ],
   "source": [
    "spark = SparkSession \\\n",
    "    .builder \\\n",
    "    .appName(\"PySpark Experimentation\") \\\n",
    "    .getOrCreate()"
   ]
  },
  {
   "cell_type": "code",
   "execution_count": 6,
   "metadata": {},
   "outputs": [],
   "source": [
    "data_df = spark.createDataFrame([\n",
    "    (1, \"2023-06-01\", 5, 4, \"option_1\", \"option_3\"),\n",
    "    (1, \"2023-06-01\", 6, 1, \"option_2\", \"option_3\"),\n",
    "    (1, \"2023-06-02\", 7, 6, \"option_1\", \"option_3\"),\n",
    "    (1, \"2023-06-06\", 4, 2, \"option_1\", \"option_4\"),\n",
    "    (2, \"2023-06-03\", 10, 12, \"option_2\", \"option_3\"),\n",
    "    (2, \"2023-06-03\", 13, 15, \"option_2\", \"option_4\"),\n",
    "], schema=[\"id\", \"timestamp\", \"numerical_1\", \"numerical_2\", \"categorical_feature_1\", \"categorical_feature_2\"])\n",
    "\n",
    "data_df = data_df.withColumn(\"timestamp\", F.to_timestamp(F.col(\"timestamp\"), \"yyyy-MM-dd\"))"
   ]
  },
  {
   "cell_type": "code",
   "execution_count": 7,
   "metadata": {},
   "outputs": [
    {
     "name": "stdout",
     "output_type": "stream",
     "text": [
      "root\n",
      " |-- id: long (nullable = true)\n",
      " |-- timestamp: timestamp (nullable = true)\n",
      " |-- numerical_1: long (nullable = true)\n",
      " |-- numerical_2: long (nullable = true)\n",
      " |-- categorical_feature_1: string (nullable = true)\n",
      " |-- categorical_feature_2: string (nullable = true)\n",
      "\n"
     ]
    }
   ],
   "source": [
    "data_df.printSchema()"
   ]
  },
  {
   "cell_type": "code",
   "execution_count": 8,
   "metadata": {},
   "outputs": [
    {
     "name": "stderr",
     "output_type": "stream",
     "text": [
      "                                                                                \r"
     ]
    },
    {
     "name": "stdout",
     "output_type": "stream",
     "text": [
      "+---+-------------------+-----------+-----------+---------------------+---------------------+\n",
      "| id|          timestamp|numerical_1|numerical_2|categorical_feature_1|categorical_feature_2|\n",
      "+---+-------------------+-----------+-----------+---------------------+---------------------+\n",
      "|  1|2023-06-01 00:00:00|          5|          4|             option_1|             option_3|\n",
      "|  1|2023-06-01 00:00:00|          6|          1|             option_2|             option_3|\n",
      "|  1|2023-06-02 00:00:00|          7|          6|             option_1|             option_3|\n",
      "|  1|2023-06-06 00:00:00|          4|          2|             option_1|             option_4|\n",
      "|  2|2023-06-03 00:00:00|         10|         12|             option_2|             option_3|\n",
      "|  2|2023-06-03 00:00:00|         13|         15|             option_2|             option_4|\n",
      "+---+-------------------+-----------+-----------+---------------------+---------------------+\n",
      "\n"
     ]
    }
   ],
   "source": [
    "data_df.show()"
   ]
  },
  {
   "cell_type": "code",
   "execution_count": 9,
   "metadata": {},
   "outputs": [],
   "source": [
    "utf_shift_hours = 2\n",
    "windows_size = \"2 days\""
   ]
  },
  {
   "cell_type": "code",
   "execution_count": 10,
   "metadata": {},
   "outputs": [],
   "source": [
    "window_column = F.window(timeColumn=F.col(\"timestamp\"), windowDuration=windows_size, startTime=f\"-{utf_shift_hours} hours\")"
   ]
  },
  {
   "cell_type": "code",
   "execution_count": 11,
   "metadata": {},
   "outputs": [],
   "source": [
    "data_df = data_df.withColumn(\"window\", window_column)"
   ]
  },
  {
   "cell_type": "code",
   "execution_count": 12,
   "metadata": {},
   "outputs": [
    {
     "name": "stdout",
     "output_type": "stream",
     "text": [
      "+---+-------------------+-----------+-----------+---------------------+---------------------+------------------------------------------+\n",
      "|id |timestamp          |numerical_1|numerical_2|categorical_feature_1|categorical_feature_2|window                                    |\n",
      "+---+-------------------+-----------+-----------+---------------------+---------------------+------------------------------------------+\n",
      "|1  |2023-06-01 00:00:00|5          |4          |option_1             |option_3             |{2023-05-31 00:00:00, 2023-06-02 00:00:00}|\n",
      "|1  |2023-06-01 00:00:00|6          |1          |option_2             |option_3             |{2023-05-31 00:00:00, 2023-06-02 00:00:00}|\n",
      "|1  |2023-06-02 00:00:00|7          |6          |option_1             |option_3             |{2023-06-02 00:00:00, 2023-06-04 00:00:00}|\n",
      "|1  |2023-06-06 00:00:00|4          |2          |option_1             |option_4             |{2023-06-06 00:00:00, 2023-06-08 00:00:00}|\n",
      "|2  |2023-06-03 00:00:00|10         |12         |option_2             |option_3             |{2023-06-02 00:00:00, 2023-06-04 00:00:00}|\n",
      "|2  |2023-06-03 00:00:00|13         |15         |option_2             |option_4             |{2023-06-02 00:00:00, 2023-06-04 00:00:00}|\n",
      "+---+-------------------+-----------+-----------+---------------------+---------------------+------------------------------------------+\n",
      "\n"
     ]
    }
   ],
   "source": [
    "data_df.show(truncate=False)"
   ]
  },
  {
   "cell_type": "code",
   "execution_count": 2,
   "metadata": {},
   "outputs": [
    {
     "data": {
      "text/plain": [
       "[1, 2, 3, 4]"
      ]
     },
     "execution_count": 2,
     "metadata": {},
     "output_type": "execute_result"
    }
   ],
   "source": [
    "#[ [ {\"cate1\": [opt1,opt2]}, {\"cat2\":[opt2]} ],[ {\"cate1\": [opt1]} ] ]\n",
    "process(filters: list[list[dict[str,list[str]]]], aggr_functions: dict[str,str]) -> final_df\n",
    "\n",
    "\n",
    "######## Generazione delle aggregazioni\n",
    "# Algoritmo:\n",
    "# genero il prodotto cartesiano di tutte le possibili funzioni di aggregazioni su tutte le possibili colonne numeriche\n",
    "# lista di tutti dizionari di aggregazioni possibili\n",
    "\n",
    "########  Fase di grouping \n",
    "# Algoritmo:\n",
    "# Definisci la lista di colonne ([id_columns] + windows_column)\n",
    "\n",
    "### Metodi\n",
    "# grouping(df) -> grouped_df\n",
    "## colonne = identifires_column.append(windows_column)\n",
    "## grouped_columns = [F.col(col) for col in colonne]\n",
    "## grouped_df = data_df.groupBy(*grouped_columns)ù\n",
    "# capire se ha senso cachare\n",
    "\n",
    "########  Fase di Aggregation\n",
    "# Algoritmo:\n",
    "# ciclo su tutte le possibili aggregazioni\n",
    "##### creo una colonna per ogni elemento della lista\n",
    "##### se l'elemento della lista contiene solo una tuple allora la mando a fare pivot\n",
    "######## il pivot lo fa sulla colonna messa come secondo elemento della tupla \n",
    "##### se come secondo elemento troviamo * allora non si mettono filtri nel pivot e lo fa su tutte\n",
    "####### se l'elemento della lista contiene più di una tupla allora la mando a fare la select\n",
    "####### tutte le opzioni di una stessa categorica vanno in or (prendi la somma di tutti i soldi spesi in cibo o in sigarette)\n",
    "####### tutti gli elementi di categorie diverse vanno in and (prendi la somma di tutti i soldi spesi in (cibo or sigarette) and (pagari in contanti)\n",
    "# faccio il join tra tutti i df che ho creato\n",
    "from functools import reduce\n",
    "def join_dataframes(df1: DataFrame, df2: DataFrame):\n",
    "    return df1.join(df2, \"primary_key_column\")\n",
    "df_final = reduce(join_dataframes, df_list)\n",
    "\n",
    "### Metodi\n",
    "pivoting(grouped_df, filter: dict[str,str], aggr_functions: dict[str,str]) -> final_df\n",
    "    return grouped_df.pivot(categorical_var_names,options).agg(aggr_functions)\n",
    "\n",
    "selecting(grouped_df, filters: list[dict[str,list[str]]], aggr_functions: dict[str,str]) -> final_df\n",
    "# Filtra le righe che soddisfano le condizioni desiderate\n",
    "filter_conditions = [\n",
    "    (F.col(\"categorical_feature_1\").isin([\"pasta\", \"spezie\"])),\n",
    "    (F.col(\"categorical_feature_2\").isin([\"bitcoin\", \"cash\"]))\n",
    "]\n",
    "# Combina tutti i filtri in una unica espressione logica utilizzando l'operatore logico AND\n",
    "filter_expression = reduce(lambda f1, f2: f1 & f2, filter_conditions)\n",
    "# lambda lambda f1, f2: f1 & f2 -> funzione anonima che prende un due filtri e una condizione e ritorna l'unione dei due filtri secondo la condizione data\n",
    "# reduce(funzione, lista) -> applica la funzione a tutti gli elementi della lista e ritorna il risultato\n",
    "# Applica il filtro complessivo una volta sola \n",
    " filtered_df = data_df.filter(filter_expression)\n",
    "\n",
    "\n",
    "\n"
   ]
  },
  {
   "cell_type": "code",
   "execution_count": 29,
   "metadata": {},
   "outputs": [
    {
     "name": "stdout",
     "output_type": "stream",
     "text": [
      "+----------------+\n",
      "|avg(numerical_1)|\n",
      "+----------------+\n",
      "|             4.5|\n",
      "+----------------+\n",
      "\n",
      "+---+-------------------+-----------+-----------+---------------------+---------------------+\n",
      "| id|          timestamp|numerical_1|numerical_2|categorical_feature_1|categorical_feature_2|\n",
      "+---+-------------------+-----------+-----------+---------------------+---------------------+\n",
      "|  1|2023-06-01 00:00:00|          5|          4|                pasta|              bitcoin|\n",
      "|  1|2023-06-01 00:00:00|          4|          1|               spezie|             bancomat|\n",
      "|  1|2023-06-01 00:00:00|          6|          1|           spazzolini|             bancomat|\n",
      "|  1|2023-06-02 00:00:00|          7|          6|                pasta|             bancomat|\n",
      "|  1|2023-06-06 00:00:00|          4|          2|                pasta|                 cash|\n",
      "+---+-------------------+-----------+-----------+---------------------+---------------------+\n",
      "\n"
     ]
    }
   ],
   "source": [
    "from pyspark.sql import SparkSession\n",
    "from pyspark.sql import functions as F\n",
    "from functools import reduce\n",
    "\n",
    "# Crea la sessione di Spark\n",
    "spark = SparkSession.builder.getOrCreate()\n",
    "\n",
    "# Definisci lo schema del DataFrame di esempio\n",
    "schema = [\"id\", \"timestamp\", \"numerical_1\", \"numerical_2\", \"categorical_feature_1\", \"categorical_feature_2\"]\n",
    "\n",
    "# Crea il DataFrame di esempio\n",
    "data_df = spark.createDataFrame([\n",
    "    (1, \"2023-06-01\", 5, 4, \"pasta\", \"bitcoin\"),\n",
    "    (1, \"2023-06-01\", 4, 1, \"spezie\", \"bancomat\"),\n",
    "    (1, \"2023-06-01\", 6, 1, \"spazzolini\", \"bancomat\"),\n",
    "    (1, \"2023-06-02\", 7, 6, \"pasta\", \"bancomat\"),\n",
    "    (1, \"2023-06-06\", 4, 2, \"pasta\", \"cash\"),\n",
    "    #(2, \"2023-06-03\", 10, 12, \"option_2\", \"option_3\"),\n",
    "    #(2, \"2023-06-03\", 13, 15, \"option_2\", \"option_4\"),\n",
    "], schema=schema)\n",
    "\n",
    "\n",
    "\n",
    "\n",
    "# Converti la colonna \"timestamp\" in formato data\n",
    "data_df = data_df.withColumn(\"timestamp\", F.to_timestamp(F.col(\"timestamp\"), \"yyyy-MM-dd\"))\n",
    "\n",
    "filter_conditions = [\n",
    "    (F.col(\"categorical_feature_1\").isin([\"pasta\", \"spezie\"])),\n",
    "    (F.col(\"categorical_feature_2\").isin([\"bitcoin\", \"cash\"]))\n",
    "]\n",
    "\n",
    "# Applica i filtri utilizzando l'operatore logico AND\n",
    "filter_expression = reduce(lambda f1, f2: f1 & f2, filter_conditions)\n",
    "# Applica il filtro complessivo una volta solo su una condizioni logica creata unendo tutti i possibili filtri\n",
    "filtered_df = data_df.filter(filter_expression)\n",
    "\n",
    "\n",
    "# Calcola la media di numerical_1\n",
    "aggregated_df = filtered_df.groupBy().avg(\"numerical_1\")\n",
    "\n",
    "# Visualizza il risultato\n",
    "aggregated_df.show()\n",
    "\n",
    "data_df.show()\n",
    "\n"
   ]
  },
  {
   "cell_type": "code",
   "execution_count": 17,
   "metadata": {},
   "outputs": [
    {
     "name": "stdout",
     "output_type": "stream",
     "text": [
      "+---+--------------------+\n",
      "| id|              window|\n",
      "+---+--------------------+\n",
      "|  1|{2023-05-31 00:00...|\n",
      "|  1|{2023-06-02 00:00...|\n",
      "|  1|{2023-06-06 00:00...|\n",
      "|  2|{2023-06-02 00:00...|\n",
      "+---+--------------------+\n",
      "\n"
     ]
    }
   ],
   "source": [
    "# Solution 3\n",
    "\n",
    "cat_grouped_1_df = data_df.groupBy(F.col(\"id\"), window_column).pivot(\"categorical_feature_1\", []).agg({\"numerical_1\": \"sum\"})\n",
    "cat_grouped_2_df = data_df.groupBy(F.col(\"id\"), window_column).pivot(\"categorical_feature_2\").agg({\"numerical_2\": \"sum\"})\n",
    "\n",
    "cat_grouped_df = cat_grouped_1_df.join(cat_grouped_2_df, on=[\"id\", \"window\"])\n",
    "cat_grouped_1_df.show()"
   ]
  },
  {
   "cell_type": "code",
   "execution_count": 23,
   "metadata": {},
   "outputs": [
    {
     "name": "stdout",
     "output_type": "stream",
     "text": [
      "+---+--------------------+---+\n",
      "| id|              window|tot|\n",
      "+---+--------------------+---+\n",
      "|  1|{2023-05-31 00:00...| 11|\n",
      "|  1|{2023-06-02 00:00...|  7|\n",
      "|  1|{2023-06-06 00:00...|  4|\n",
      "|  2|{2023-06-02 00:00...| 23|\n",
      "+---+--------------------+---+\n",
      "\n"
     ]
    }
   ],
   "source": [
    "num_grouped_df = data_df.groupBy(F.col(\"id\"), window_column).agg(F.sum(\"numerical_1\").alias(\"tot\"))\n",
    "num_grouped_df.show()"
   ]
  },
  {
   "cell_type": "code",
   "execution_count": 24,
   "metadata": {},
   "outputs": [
    {
     "name": "stdout",
     "output_type": "stream",
     "text": [
      "+---+--------------------+--------+--------+---+\n",
      "| id|              window|option_1|option_2|tot|\n",
      "+---+--------------------+--------+--------+---+\n",
      "|  1|{2023-05-31 00:00...|       5|       6| 11|\n",
      "|  1|{2023-06-02 00:00...|       7|    null|  7|\n",
      "|  1|{2023-06-06 00:00...|       4|    null|  4|\n",
      "|  2|{2023-06-02 00:00...|    null|      23| 23|\n",
      "+---+--------------------+--------+--------+---+\n",
      "\n"
     ]
    }
   ],
   "source": [
    "grouped_df = cat_grouped_df.join(num_grouped_df, on=[\"id\", \"window\"])\n",
    "grouped_df.show()"
   ]
  },
  {
   "cell_type": "code",
   "execution_count": 25,
   "metadata": {},
   "outputs": [
    {
     "name": "stdout",
     "output_type": "stream",
     "text": [
      "+---+--------------------+--------+--------+---+-------------------+\n",
      "| id|              window|option_1|option_2|tot|          timestamp|\n",
      "+---+--------------------+--------+--------+---+-------------------+\n",
      "|  1|{2023-05-31 00:00...|       5|       6| 11|2023-05-31 00:00:00|\n",
      "|  1|{2023-06-02 00:00...|       7|    null|  7|2023-06-02 00:00:00|\n",
      "|  1|{2023-06-06 00:00...|       4|    null|  4|2023-06-06 00:00:00|\n",
      "|  2|{2023-06-02 00:00...|    null|      23| 23|2023-06-02 00:00:00|\n",
      "+---+--------------------+--------+--------+---+-------------------+\n",
      "\n"
     ]
    }
   ],
   "source": [
    "grouped_df = grouped_df.withColumn(\"timestamp\", F.col(\"window\").start)\n",
    "# grouped_df = grouped_df.withColumn(\"window_end\", F.col(\"window\").end)\n",
    "\n",
    "grouped_df.show()"
   ]
  },
  {
   "cell_type": "code",
   "execution_count": 26,
   "metadata": {},
   "outputs": [
    {
     "name": "stdout",
     "output_type": "stream",
     "text": [
      "+---+-------------------+-------------------+\n",
      "| id|   min_window_start|     max_window_end|\n",
      "+---+-------------------+-------------------+\n",
      "|  1|2023-05-31 00:00:00|2023-06-08 00:00:00|\n",
      "|  2|2023-06-02 00:00:00|2023-06-04 00:00:00|\n",
      "+---+-------------------+-------------------+\n",
      "\n"
     ]
    }
   ],
   "source": [
    "ids_df = data_df.select(F.col(\"id\"), F.col(\"window\").start.alias(\"window_start\"), F.col(\"window\").end.alias(\"window_end\")).distinct()\n",
    "ids_df = ids_df.groupBy(\"id\").agg(F.min(\"window_start\").alias(\"min_window_start\"), F.max(\"window_end\").alias(\"max_window_end\"))\n",
    "ids_df.show()"
   ]
  },
  {
   "cell_type": "code",
   "execution_count": 27,
   "metadata": {},
   "outputs": [
    {
     "name": "stdout",
     "output_type": "stream",
     "text": [
      "+---+-------------------+\n",
      "| id|          timestamp|\n",
      "+---+-------------------+\n",
      "|  1|2023-05-31 00:00:00|\n",
      "|  1|2023-06-02 00:00:00|\n",
      "|  1|2023-06-04 00:00:00|\n",
      "|  1|2023-06-06 00:00:00|\n",
      "|  1|2023-06-08 00:00:00|\n",
      "|  2|2023-06-02 00:00:00|\n",
      "|  2|2023-06-04 00:00:00|\n",
      "+---+-------------------+\n",
      "\n"
     ]
    }
   ],
   "source": [
    "ids_timestamps_df = ids_df.withColumn(\"timestamps\", F.expr(f\"sequence(to_timestamp(min_window_start), to_timestamp(max_window_end), interval {windows_size})\")).drop(\"min_window_start\", \"max_window_end\")\n",
    "ids_timestamps_df = ids_timestamps_df.withColumn(\"timestamp\", F.explode(F.col(\"timestamps\"))).drop(\"window_start\", \"window_end\", \"timestamps\")\n",
    "ids_timestamps_df.show()"
   ]
  },
  {
   "cell_type": "code",
   "execution_count": 28,
   "metadata": {},
   "outputs": [
    {
     "name": "stdout",
     "output_type": "stream",
     "text": [
      "+---+-------------------+-----------+-----------+-------------------+--------------------+\n",
      "| id|          timestamp|numerical_1|numerical_2|categorical_feature|              window|\n",
      "+---+-------------------+-----------+-----------+-------------------+--------------------+\n",
      "|  1|2023-06-01 00:00:00|          5|          4|           option_1|{2023-05-31 00:00...|\n",
      "|  1|2023-06-01 00:00:00|          6|          1|           option_2|{2023-05-31 00:00...|\n",
      "|  1|2023-06-02 00:00:00|          7|          6|           option_1|{2023-06-02 00:00...|\n",
      "|  1|2023-06-06 00:00:00|          4|          2|           option_1|{2023-06-06 00:00...|\n",
      "|  2|2023-06-03 00:00:00|         10|         12|           option_2|{2023-06-02 00:00...|\n",
      "|  2|2023-06-03 00:00:00|         13|         15|           option_2|{2023-06-02 00:00...|\n",
      "+---+-------------------+-----------+-----------+-------------------+--------------------+\n",
      "\n"
     ]
    }
   ],
   "source": [
    "data_df.show()"
   ]
  },
  {
   "cell_type": "code",
   "execution_count": 29,
   "metadata": {},
   "outputs": [
    {
     "name": "stdout",
     "output_type": "stream",
     "text": [
      "+---+-------------------+--------+--------+---+\n",
      "|id |timestamp          |option_1|option_2|tot|\n",
      "+---+-------------------+--------+--------+---+\n",
      "|1  |2023-05-31 00:00:00|5       |6       |11 |\n",
      "|1  |2023-06-02 00:00:00|7       |0       |7  |\n",
      "|1  |2023-06-04 00:00:00|0       |0       |0  |\n",
      "|1  |2023-06-06 00:00:00|4       |0       |4  |\n",
      "|1  |2023-06-08 00:00:00|0       |0       |0  |\n",
      "|2  |2023-06-02 00:00:00|0       |23      |23 |\n",
      "|2  |2023-06-04 00:00:00|0       |0       |0  |\n",
      "+---+-------------------+--------+--------+---+\n",
      "\n"
     ]
    }
   ],
   "source": [
    "group_on = (grouped_df.timestamp == ids_timestamps_df.timestamp) & (grouped_df.id == ids_timestamps_df.id)\n",
    "grouped_df.join(ids_timestamps_df, on=[\"id\", \"timestamp\"], how='right').fillna(0, subset=[\"tot\", \"option_1\", \"option_2\"]).drop(\"window\").show(truncate=False)"
   ]
  },
  {
   "cell_type": "code",
   "execution_count": null,
   "metadata": {},
   "outputs": [],
   "source": []
  }
 ],
 "metadata": {
  "kernelspec": {
   "display_name": "pyspark",
   "language": "python",
   "name": "python3"
  },
  "language_info": {
   "codemirror_mode": {
    "name": "ipython",
    "version": 3
   },
   "file_extension": ".py",
   "mimetype": "text/x-python",
   "name": "python",
   "nbconvert_exporter": "python",
   "pygments_lexer": "ipython3",
   "version": "3.10.12"
  },
  "orig_nbformat": 4
 },
 "nbformat": 4,
 "nbformat_minor": 2
}

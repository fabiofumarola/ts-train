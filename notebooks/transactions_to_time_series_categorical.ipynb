{
 "cells": [
  {
   "cell_type": "code",
   "execution_count": 1,
   "metadata": {},
   "outputs": [],
   "source": [
    "from pyspark.sql import SparkSession, Window\n",
    "import pyspark.sql.functions as F"
   ]
  },
  {
   "cell_type": "code",
   "execution_count": 2,
   "metadata": {},
   "outputs": [
    {
     "name": "stderr",
     "output_type": "stream",
     "text": [
      "Setting default log level to \"WARN\".\n",
      "To adjust logging level use sc.setLogLevel(newLevel). For SparkR, use setLogLevel(newLevel).\n",
      "23/07/17 16:15:18 WARN NativeCodeLoader: Unable to load native-hadoop library for your platform... using builtin-java classes where applicable\n"
     ]
    }
   ],
   "source": [
    "spark = SparkSession \\\n",
    "    .builder \\\n",
    "    .appName(\"PySpark Experimentation\") \\\n",
    "    .getOrCreate()"
   ]
  },
  {
   "cell_type": "code",
   "execution_count": 3,
   "metadata": {},
   "outputs": [],
   "source": [
    "data_df = spark.createDataFrame([\n",
    "    (1, \"2023-06-01\", 5, \"option_1\"),\n",
    "    (1, \"2023-06-01\", 6, \"option_2\"),\n",
    "    (1, \"2023-06-02\", 7, \"option_1\"),\n",
    "    (1, \"2023-06-06\", 4, \"option_1\"),\n",
    "    (2, \"2023-06-03\", 10, \"option_2\"),\n",
    "    (2, \"2023-06-03\", 13, \"option_2\"),\n",
    "], schema=['id', 'timestamp', 'amount', \"categorical_feature\"])\n",
    "\n",
    "data_df = data_df.withColumn(\"timestamp\", F.to_timestamp(F.col(\"timestamp\"), \"yyyy-MM-dd\"))"
   ]
  },
  {
   "cell_type": "code",
   "execution_count": 4,
   "metadata": {},
   "outputs": [
    {
     "name": "stdout",
     "output_type": "stream",
     "text": [
      "root\n",
      " |-- id: long (nullable = true)\n",
      " |-- timestamp: timestamp (nullable = true)\n",
      " |-- amount: long (nullable = true)\n",
      " |-- categorical_feature: string (nullable = true)\n",
      "\n"
     ]
    }
   ],
   "source": [
    "data_df.printSchema()"
   ]
  },
  {
   "cell_type": "code",
   "execution_count": 9,
   "metadata": {},
   "outputs": [
    {
     "data": {
      "text/plain": [
       "True"
      ]
     },
     "execution_count": 9,
     "metadata": {},
     "output_type": "execute_result"
    }
   ],
   "source": []
  },
  {
   "cell_type": "code",
   "execution_count": 5,
   "metadata": {},
   "outputs": [
    {
     "name": "stderr",
     "output_type": "stream",
     "text": [
      "                                                                                \r"
     ]
    },
    {
     "name": "stdout",
     "output_type": "stream",
     "text": [
      "+---+-------------------+------+-------------------+\n",
      "| id|          timestamp|amount|categorical_feature|\n",
      "+---+-------------------+------+-------------------+\n",
      "|  1|2023-06-01 00:00:00|     5|           option_1|\n",
      "|  1|2023-06-01 00:00:00|     6|           option_2|\n",
      "|  1|2023-06-02 00:00:00|     7|           option_1|\n",
      "|  1|2023-06-06 00:00:00|     4|           option_1|\n",
      "|  2|2023-06-03 00:00:00|    10|           option_2|\n",
      "|  2|2023-06-03 00:00:00|    13|           option_2|\n",
      "+---+-------------------+------+-------------------+\n",
      "\n"
     ]
    },
    {
     "name": "stderr",
     "output_type": "stream",
     "text": [
      "23/07/04 10:53:49 WARN GarbageCollectionMetrics: To enable non-built-in garbage collector(s) List(G1 Concurrent GC), users should configure it(them) to spark.eventLog.gcMetrics.youngGenerationGarbageCollectors or spark.eventLog.gcMetrics.oldGenerationGarbageCollectors\n"
     ]
    }
   ],
   "source": [
    "data_df.show()"
   ]
  },
  {
   "cell_type": "code",
   "execution_count": 5,
   "metadata": {},
   "outputs": [],
   "source": [
    "utf_shift_hours = 2\n",
    "windows_size = \"2 days\""
   ]
  },
  {
   "cell_type": "code",
   "execution_count": 6,
   "metadata": {},
   "outputs": [],
   "source": [
    "window_column = F.window(timeColumn=F.col(\"timestamp\"), windowDuration=windows_size, startTime=f\"-{utf_shift_hours} hours\")"
   ]
  },
  {
   "cell_type": "code",
   "execution_count": 7,
   "metadata": {},
   "outputs": [],
   "source": [
    "data_df = data_df.withColumn(\"window\", window_column)"
   ]
  },
  {
   "cell_type": "code",
   "execution_count": 8,
   "metadata": {},
   "outputs": [
    {
     "name": "stderr",
     "output_type": "stream",
     "text": [
      "                                                                                \r"
     ]
    },
    {
     "name": "stdout",
     "output_type": "stream",
     "text": [
      "+---+-------------------+------+-------------------+------------------------------------------+\n",
      "|id |timestamp          |amount|categorical_feature|window                                    |\n",
      "+---+-------------------+------+-------------------+------------------------------------------+\n",
      "|1  |2023-06-01 00:00:00|5     |option_1           |{2023-05-31 00:00:00, 2023-06-02 00:00:00}|\n",
      "|1  |2023-06-01 00:00:00|6     |option_2           |{2023-05-31 00:00:00, 2023-06-02 00:00:00}|\n",
      "|1  |2023-06-02 00:00:00|7     |option_1           |{2023-06-02 00:00:00, 2023-06-04 00:00:00}|\n",
      "|1  |2023-06-06 00:00:00|4     |option_1           |{2023-06-06 00:00:00, 2023-06-08 00:00:00}|\n",
      "|2  |2023-06-03 00:00:00|10    |option_2           |{2023-06-02 00:00:00, 2023-06-04 00:00:00}|\n",
      "|2  |2023-06-03 00:00:00|13    |option_2           |{2023-06-02 00:00:00, 2023-06-04 00:00:00}|\n",
      "+---+-------------------+------+-------------------+------------------------------------------+\n",
      "\n"
     ]
    }
   ],
   "source": [
    "data_df.show(truncate=False)"
   ]
  },
  {
   "cell_type": "code",
   "execution_count": 9,
   "metadata": {},
   "outputs": [
    {
     "name": "stderr",
     "output_type": "stream",
     "text": [
      "23/07/17 16:15:30 WARN GarbageCollectionMetrics: To enable non-built-in garbage collector(s) List(G1 Concurrent GC), users should configure it(them) to spark.eventLog.gcMetrics.youngGenerationGarbageCollectors or spark.eventLog.gcMetrics.oldGenerationGarbageCollectors\n"
     ]
    },
    {
     "name": "stdout",
     "output_type": "stream",
     "text": [
      "+---+--------------------+--------+--------+\n",
      "| id|              window|option_1|option_2|\n",
      "+---+--------------------+--------+--------+\n",
      "|  1|{2023-05-31 00:00...|       1|       1|\n",
      "|  1|{2023-06-06 00:00...|       1|    null|\n",
      "|  2|{2023-06-02 00:00...|    null|       2|\n",
      "|  1|{2023-06-02 00:00...|       1|    null|\n",
      "+---+--------------------+--------+--------+\n",
      "\n"
     ]
    }
   ],
   "source": [
    "cat_grouped_df = data_df.groupBy(F.col(\"id\"), window_column).pivot(\"categorical_feature\").count()\n",
    "cat_grouped_df.show()"
   ]
  },
  {
   "cell_type": "code",
   "execution_count": 10,
   "metadata": {},
   "outputs": [
    {
     "name": "stdout",
     "output_type": "stream",
     "text": [
      "+---+--------------------+---+\n",
      "| id|              window|tot|\n",
      "+---+--------------------+---+\n",
      "|  1|{2023-05-31 00:00...| 11|\n",
      "|  1|{2023-06-02 00:00...|  7|\n",
      "|  1|{2023-06-06 00:00...|  4|\n",
      "|  2|{2023-06-02 00:00...| 23|\n",
      "+---+--------------------+---+\n",
      "\n"
     ]
    }
   ],
   "source": [
    "num_grouped_df = data_df.groupBy(F.col(\"id\"), window_column).agg(F.sum(\"amount\").alias(\"tot\"))\n",
    "num_grouped_df.show()"
   ]
  },
  {
   "cell_type": "code",
   "execution_count": 11,
   "metadata": {},
   "outputs": [
    {
     "name": "stdout",
     "output_type": "stream",
     "text": [
      "+---+--------------------+--------+--------+---+\n",
      "| id|              window|option_1|option_2|tot|\n",
      "+---+--------------------+--------+--------+---+\n",
      "|  1|{2023-05-31 00:00...|       1|       1| 11|\n",
      "|  1|{2023-06-02 00:00...|       1|    null|  7|\n",
      "|  1|{2023-06-06 00:00...|       1|    null|  4|\n",
      "|  2|{2023-06-02 00:00...|    null|       2| 23|\n",
      "+---+--------------------+--------+--------+---+\n",
      "\n"
     ]
    }
   ],
   "source": [
    "grouped_df = cat_grouped_df.join(num_grouped_df, on=[\"id\", \"window\"])\n",
    "grouped_df.show()"
   ]
  },
  {
   "cell_type": "code",
   "execution_count": 12,
   "metadata": {},
   "outputs": [
    {
     "name": "stdout",
     "output_type": "stream",
     "text": [
      "+---+--------------------+--------+--------+---+-------------------+\n",
      "| id|              window|option_1|option_2|tot|          timestamp|\n",
      "+---+--------------------+--------+--------+---+-------------------+\n",
      "|  1|{2023-05-31 00:00...|       1|       1| 11|2023-05-31 00:00:00|\n",
      "|  1|{2023-06-02 00:00...|       1|    null|  7|2023-06-02 00:00:00|\n",
      "|  1|{2023-06-06 00:00...|       1|    null|  4|2023-06-06 00:00:00|\n",
      "|  2|{2023-06-02 00:00...|    null|       2| 23|2023-06-02 00:00:00|\n",
      "+---+--------------------+--------+--------+---+-------------------+\n",
      "\n"
     ]
    }
   ],
   "source": [
    "grouped_df = grouped_df.withColumn(\"timestamp\", F.col(\"window\").start)\n",
    "# grouped_df = grouped_df.withColumn(\"window_end\", F.col(\"window\").end)\n",
    "\n",
    "grouped_df.show()"
   ]
  },
  {
   "cell_type": "code",
   "execution_count": 15,
   "metadata": {},
   "outputs": [],
   "source": [
    "min_window_timestamp = grouped_df.select(F.min(F.col(\"timestamp\"))).collect()[0].__getitem__('min(timestamp)')\n",
    "max_window_timestamp = grouped_df.select(F.max(F.col(\"timestamp\"))).collect()[0].__getitem__('max(timestamp)')"
   ]
  },
  {
   "cell_type": "code",
   "execution_count": 16,
   "metadata": {},
   "outputs": [
    {
     "name": "stdout",
     "output_type": "stream",
     "text": [
      "+----------+\n",
      "|      date|\n",
      "+----------+\n",
      "|2023-05-31|\n",
      "|2023-06-02|\n",
      "|2023-06-04|\n",
      "|2023-06-06|\n",
      "+----------+\n",
      "\n"
     ]
    }
   ],
   "source": [
    "spark.sql(f\"SELECT sequence(to_date('{min_window_timestamp}'), to_date('{max_window_timestamp}'), interval 2 days) as date\").withColumn(\"date\", F.explode(F.col(\"date\"))).show()"
   ]
  },
  {
   "cell_type": "code",
   "execution_count": 17,
   "metadata": {},
   "outputs": [
    {
     "name": "stdout",
     "output_type": "stream",
     "text": [
      "+----------+\n",
      "| timestamp|\n",
      "+----------+\n",
      "|2023-05-31|\n",
      "|2023-06-02|\n",
      "|2023-06-04|\n",
      "|2023-06-06|\n",
      "+----------+\n",
      "\n"
     ]
    }
   ],
   "source": [
    "timestamps_df = spark.sql(f\"SELECT sequence(to_date('{min_window_timestamp}'), to_date('{max_window_timestamp}'), interval 2 days) as date\").withColumn(\"date\", F.explode(F.col(\"date\")))\n",
    "timestamps_df = timestamps_df.withColumn(\"timestamp\", F.to_date(F.col(\"date\"), \"yyyy-MM-dd\")).drop(\"date\")\n",
    "\n",
    "timestamps_df.show()"
   ]
  },
  {
   "cell_type": "code",
   "execution_count": 18,
   "metadata": {},
   "outputs": [
    {
     "name": "stdout",
     "output_type": "stream",
     "text": [
      "root\n",
      " |-- timestamp: date (nullable = true)\n",
      "\n"
     ]
    }
   ],
   "source": [
    "timestamps_df.printSchema()"
   ]
  },
  {
   "cell_type": "code",
   "execution_count": 19,
   "metadata": {},
   "outputs": [
    {
     "name": "stdout",
     "output_type": "stream",
     "text": [
      "+----------+---+\n",
      "| timestamp| id|\n",
      "+----------+---+\n",
      "|2023-05-31|  1|\n",
      "|2023-06-02|  1|\n",
      "|2023-06-04|  1|\n",
      "|2023-06-06|  1|\n",
      "|2023-05-31|  2|\n",
      "|2023-06-02|  2|\n",
      "|2023-06-04|  2|\n",
      "|2023-06-06|  2|\n",
      "+----------+---+\n",
      "\n"
     ]
    }
   ],
   "source": [
    "ids_df = data_df.select(F.col(\"id\")).distinct()\n",
    "ids_timestamps_df = timestamps_df.join(ids_df, how=\"cross\")\n",
    "\n",
    "ids_timestamps_df.show()"
   ]
  },
  {
   "cell_type": "code",
   "execution_count": 20,
   "metadata": {},
   "outputs": [
    {
     "name": "stdout",
     "output_type": "stream",
     "text": [
      "+---+----------+--------+--------+---+\n",
      "|id |timestamp |option_1|option_2|tot|\n",
      "+---+----------+--------+--------+---+\n",
      "|1  |2023-05-31|1       |1       |11 |\n",
      "|1  |2023-06-02|1       |0       |7  |\n",
      "|1  |2023-06-04|0       |0       |0  |\n",
      "|1  |2023-06-06|1       |0       |4  |\n",
      "|2  |2023-05-31|0       |0       |0  |\n",
      "|2  |2023-06-02|0       |2       |23 |\n",
      "|2  |2023-06-04|0       |0       |0  |\n",
      "|2  |2023-06-06|0       |0       |0  |\n",
      "+---+----------+--------+--------+---+\n",
      "\n"
     ]
    }
   ],
   "source": [
    "group_on = (grouped_df.timestamp == ids_timestamps_df.timestamp) & (grouped_df.id == ids_timestamps_df.id)\n",
    "grouped_df.join(ids_timestamps_df, on=[\"id\", \"timestamp\"], how='right').fillna(0, subset=[\"tot\", \"option_1\", \"option_2\"]).drop(\"window\").show(truncate=False)"
   ]
  },
  {
   "cell_type": "code",
   "execution_count": null,
   "metadata": {},
   "outputs": [],
   "source": [
    "spark.stop()"
   ]
  },
  {
   "cell_type": "code",
   "execution_count": null,
   "metadata": {},
   "outputs": [],
   "source": []
  },
  {
   "cell_type": "code",
   "execution_count": 18,
   "metadata": {},
   "outputs": [
    {
     "name": "stdout",
     "output_type": "stream",
     "text": [
      "veloce\n"
     ]
    }
   ],
   "source": [
    "class StepProva():\n",
    "    def process(self):\n",
    "        print(\"ciao\")\n",
    "\n",
    "    def __call__(self):\n",
    "        preprocess\n",
    "        process\n",
    "        posteprocess\n",
    "        print(\"veloce\")\n",
    "\n",
    "stepProva = StepProva()\n",
    "stepProva()"
   ]
  },
  {
   "cell_type": "code",
   "execution_count": 1,
   "metadata": {},
   "outputs": [
    {
     "name": "stdout",
     "output_type": "stream",
     "text": [
      "{'a': 'ciao', 'b': [1, 2, 3]}\n"
     ]
    }
   ],
   "source": [
    "a = {\n",
    "    \"a\": \"ciao\",\n",
    "    \"b\": [1,2,3]\n",
    "}\n",
    "\n",
    "print(a)"
   ]
  },
  {
   "cell_type": "code",
   "execution_count": 8,
   "metadata": {},
   "outputs": [
    {
     "name": "stdout",
     "output_type": "stream",
     "text": [
      "ciao\n"
     ]
    }
   ],
   "source": [
    "from abc import ABC, abstractmethod\n",
    "class AbstractPipelineStep(ABC):\n",
    "\n",
    "    @classmethod\n",
    "    @abstractmethod\n",
    "    def from_config(cls):\n",
    "        pass\n",
    "\n",
    "class Prova(AbstractPipelineStep):\n",
    "    @classmethod\n",
    "    def from_config(cls):\n",
    "        print(\"ciao\")\n",
    "\n",
    "p = Prova()\n",
    "p.from_config()"
   ]
  },
  {
   "cell_type": "code",
   "execution_count": 10,
   "metadata": {},
   "outputs": [
    {
     "ename": "ValidationError",
     "evalue": "1 validation error for UserForm\nfruits\n  Input should be 'apple','banana' or 'melon' [type=enum, input_value='sapple', input_type=str]",
     "output_type": "error",
     "traceback": [
      "\u001b[0;31m---------------------------------------------------------------------------\u001b[0m",
      "\u001b[0;31mValidationError\u001b[0m                           Traceback (most recent call last)",
      "Cell \u001b[0;32mIn[10], line 15\u001b[0m\n\u001b[1;32m     12\u001b[0m \u001b[39mclass\u001b[39;00m \u001b[39mUserForm\u001b[39;00m(BaseModel):\n\u001b[1;32m     13\u001b[0m     fruits: Fruit\n\u001b[0;32m---> 15\u001b[0m user_form \u001b[39m=\u001b[39m UserForm(fruits\u001b[39m=\u001b[39m\u001b[39m\"\u001b[39m\u001b[39msapple\u001b[39m\u001b[39m\"\u001b[39m)\n",
      "File \u001b[0;32m~/miniconda3/envs/jolly/lib/python3.11/site-packages/pydantic/main.py:150\u001b[0m, in \u001b[0;36mBaseModel.__init__\u001b[0;34m(__pydantic_self__, **data)\u001b[0m\n\u001b[1;32m    148\u001b[0m \u001b[39m# `__tracebackhide__` tells pytest and some other tools to omit this function from tracebacks\u001b[39;00m\n\u001b[1;32m    149\u001b[0m __tracebackhide__ \u001b[39m=\u001b[39m \u001b[39mTrue\u001b[39;00m\n\u001b[0;32m--> 150\u001b[0m __pydantic_self__\u001b[39m.\u001b[39m__pydantic_validator__\u001b[39m.\u001b[39mvalidate_python(data, self_instance\u001b[39m=\u001b[39m__pydantic_self__)\n",
      "\u001b[0;31mValidationError\u001b[0m: 1 validation error for UserForm\nfruits\n  Input should be 'apple','banana' or 'melon' [type=enum, input_value='sapple', input_type=str]"
     ]
    }
   ],
   "source": [
    "from pydantic import BaseModel\n",
    "from typing import List\n",
    "from enum import Enum\n",
    "\n",
    "\n",
    "class Fruit(str, Enum):\n",
    "    APPLE = 'apple'\n",
    "    BANANA = 'banana'\n",
    "    MELON = 'melon'\n",
    "\n",
    "\n",
    "class UserForm(BaseModel):\n",
    "    fruits: Fruit\n",
    "\n",
    "user_form = UserForm(fruits=\"sapple\")"
   ]
  },
  {
   "cell_type": "code",
   "execution_count": null,
   "metadata": {},
   "outputs": [],
   "source": []
  }
 ],
 "metadata": {
  "kernelspec": {
   "display_name": "pyspark",
   "language": "python",
   "name": "python3"
  },
  "language_info": {
   "codemirror_mode": {
    "name": "ipython",
    "version": 3
   },
   "file_extension": ".py",
   "mimetype": "text/x-python",
   "name": "python",
   "nbconvert_exporter": "python",
   "pygments_lexer": "ipython3",
   "version": "3.9.17"
  },
  "orig_nbformat": 4
 },
 "nbformat": 4,
 "nbformat_minor": 2
}

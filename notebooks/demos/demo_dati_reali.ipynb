{
 "cells": [
  {
   "cell_type": "markdown",
   "metadata": {
    "jp-MarkdownHeadingCollapsed": true,
    "slideshow": {
     "slide_type": "skip"
    }
   },
   "source": [
    "# Import di tutte le librerie necessarie, inclusa la nostra libreria di supporto"
   ]
  },
  {
   "cell_type": "code",
   "execution_count": 1,
   "metadata": {
    "slideshow": {
     "slide_type": "skip"
    }
   },
   "outputs": [
    {
     "data": {
      "text/html": [
       "<style>pre { white-space: pre !important; }</style>"
      ],
      "text/plain": [
       "<IPython.core.display.HTML object>"
      ]
     },
     "metadata": {},
     "output_type": "display_data"
    }
   ],
   "source": [
    "# Nostre librerie\n",
    "from ts_train.step.aggregation import Aggregation\n",
    "from ts_train.step.filling import Filling\n",
    "from ts_train.step.time_bucketing import TimeBucketing\n",
    "\n",
    "\n",
    "# Librerie terze\n",
    "from pyspark.sql import SparkSession\n",
    "from pyspark.sql import SparkSession\n",
    "from pyspark.sql.functions import col\n",
    "import random\n",
    "import plotly.graph_objects as go\n",
    "from plotly.offline import iplot\n",
    "from pyspark.sql import functions as F\n",
    "import plotly.graph_objects as go\n",
    "from pyspark.sql import SparkSession\n",
    "from pyspark.sql.functions import col\n",
    "from pyspark.sql.functions import count\n",
    "from pyspark.sql.functions import col, lit\n",
    "\n",
    "# Codice per visualizzazione su notebook\n",
    "from IPython.core.display import HTML\n",
    "display(HTML(\"<style>pre { white-space: pre !important; }</style>\"))"
   ]
  },
  {
   "cell_type": "markdown",
   "metadata": {
    "slideshow": {
     "slide_type": "skip"
    }
   },
   "source": [
    "### Metodi secondari utili solo per questa demo"
   ]
  },
  {
   "cell_type": "code",
   "execution_count": 2,
   "metadata": {
    "slideshow": {
     "slide_type": "skip"
    }
   },
   "outputs": [],
   "source": [
    "def get_random_user(filled_df):\n",
    "    all_user_ids = filled_df.select('ID_CLIENTE_BIC').distinct().collect()\n",
    "    all_user_ids = [row.ID_CLIENTE_BIC for row in all_user_ids]\n",
    "    rand_id = random.randint(0, len(all_user_ids)-1)\n",
    "    rand_user_id = all_user_ids[rand_id]\n",
    "    return rand_user_id\n",
    "\n",
    "\n",
    "def plot(x_values, y_values, x_name, y_name, title, mode=\"lines\"):\n",
    "    # Create the time series line plot with Plotly\n",
    "    fig = go.Figure()\n",
    "    fig.add_trace(go.Scatter(x=x_values, y=y_values, mode=mode, name=title))\n",
    "    fig.update_layout(title=title,\n",
    "                      xaxis_title=x_name,\n",
    "                      yaxis_title=y_name,\n",
    "                      showlegend=True,\n",
    "                      template='plotly_white')\n",
    "    \n",
    "    # Show the plot directly in the Jupyter Notebook\n",
    "    iplot(fig)\n",
    "\n",
    "def get_values(df,col_name):\n",
    "    return df.select(col(col_name)).rdd.flatMap(lambda x: x).collect()\n",
    "\n",
    "\n",
    "\n",
    "\n",
    "def filled(df,time_bucket_col_name,identifier_cols_name,time_bucket_size,time_bucket_granularity,new_timestamp_col_name,time_zone):\n",
    "    # Creates a list of identifier columns\n",
    "    identifier_cols = [\n",
    "        F.col(identifier_col_name)\n",
    "        for identifier_col_name in identifier_cols_name\n",
    "    ]\n",
    "    \n",
    "    # Creates the bucket size\n",
    "    time_bucket_duration = (\n",
    "        str(time_bucket_size) + \" \" + time_bucket_granularity\n",
    "    )\n",
    "    \n",
    "    # Creates aliases for simplicity and code readability\n",
    "    time_bucket_start = f\"{time_bucket_col_name}_start\"\n",
    "    time_bucket_end = f\"{time_bucket_col_name}_end\"\n",
    "    min_time_bucket_start = f\"min_{time_bucket_col_name}_start\"\n",
    "    max_time_bucket_end = f\"max_{time_bucket_col_name}_end\"\n",
    "    \n",
    "    # Creates a new DataFrame with only the identifier columns\n",
    "    # Splits the bucket into two column, start and end assigning to new columns\n",
    "    ids_df = df.select(\n",
    "        *identifier_cols,\n",
    "        F.col(time_bucket_col_name).start.alias(time_bucket_start),\n",
    "        F.col(time_bucket_col_name).end.alias(time_bucket_end),\n",
    "    )\n",
    "    \n",
    "    ids_df = ids_df.withColumn(\"bucket_end\", F.date_trunc(time_bucket_granularity, \"bucket_end\"))\n",
    "    ids_df = ids_df.withColumn(\"bucket_start\", F.date_trunc(time_bucket_granularity, \"bucket_start\"))\n",
    "\n",
    "    \n",
    "    \n",
    "    # Takes only one record for every user\n",
    "    # Saves only the min start and the max end\n",
    "    ids_df = ids_df.groupBy(*identifier_cols).agg(\n",
    "        F.min(time_bucket_start).alias(min_time_bucket_start),\n",
    "        F.max(time_bucket_end).alias(max_time_bucket_end),\n",
    "    )\n",
    "    \n",
    "    \n",
    "    # Creates a new column with inside for each user an array of timestamps from\n",
    "    # the min to the max of the time bucket of that particular user\n",
    "    # Drops min and max columns\n",
    "    ids_timestamps_df = ids_df.withColumn(\n",
    "        \"timestamps\",\n",
    "        F.expr(\n",
    "            f\"sequence(to_timestamp({min_time_bucket_start}),\"\n",
    "            f\" to_timestamp({max_time_bucket_end}), interval\"\n",
    "            f\" {time_bucket_duration})\"\n",
    "        ),\n",
    "    ).drop(\n",
    "        min_time_bucket_start,\n",
    "        max_time_bucket_end,\n",
    "    )\n",
    "    \n",
    "    # Explodes the array of timestamps into a series of rows each with a timestamp\n",
    "    # column representing the start of that time bucket\n",
    "    # Drops timestamps array column\n",
    "    ids_timestamps_df = ids_timestamps_df.withColumn(\n",
    "        new_timestamp_col_name, F.explode(F.col(\"timestamps\"))\n",
    "    ).drop(\n",
    "        \"timestamps\",\n",
    "    )\n",
    "    \n",
    "    df = df.withColumn(\n",
    "        new_timestamp_col_name, F.col(time_bucket_col_name).start\n",
    "    )\n",
    "\n",
    "    # Joins the DataFrame with the new DataFrame in which has been generated\n",
    "    # timestamps for every user from its min timestamp to his max\n",
    "    # Fills with 0 null values of every column\n",
    "    # Drops time bucket column\n",
    "    join_on_cols = [*identifier_cols_name, new_timestamp_col_name]\n",
    "    df = df.withColumn(new_timestamp_col_name, F.date_trunc(time_bucket_granularity, new_timestamp_col_name))\n",
    "    df = (\n",
    "        df.join(ids_timestamps_df, on=join_on_cols, how=\"right\")\n",
    "        .fillna(0)  # TODO verify this has no negative effect\n",
    "        .drop(time_bucket_col_name)  # TODO choose if we want to drop\n",
    "    )\n",
    "\n",
    "    df = df.orderBy(*identifier_cols_name, new_timestamp_col_name)\n",
    "\n",
    "    return df \n",
    "\n",
    "def timerange_df(df,time_col_name):\n",
    "    # Converte le date in formato \"yyyy-MM-dd\" in tipo DateType\n",
    "    start_date = spark.sql(\"SELECT CAST('{}' AS DATE)\".format(START_DATE)).first()[0]\n",
    "    end_date = spark.sql(\"SELECT CAST('{}' AS DATE)\".format(END_DATE)).first()[0]\n",
    "    \n",
    "    # Filtra le righe del DataFrame all'interno del range di date specificato\n",
    "    df_plot = df.filter((col(time_col_name) >= start_date) & (col(time_col_name) <= end_date))\n",
    "    return df_plot\n",
    "\n",
    "def plot_in_timerange(df, time_col_name, y_col_name,title, mode):\n",
    "    df_plot = timerange_df(df,time_col_name)\n",
    "    \n",
    "    x_values = get_values(df_plot, time_col_name)\n",
    "    y_values = get_values(df_plot, y_col_name)\n",
    "    \n",
    "    # Call the plot function with the extracted x_values and y_values\n",
    "    plot(x_values, y_values, x_name='Date', y_name=y_col_name, title=title, mode=mode)\n",
    "    \n",
    "def plot_timerange_buckets(time_bucket_df, time_col_name):\n",
    "\n",
    "    # Extract the start of each bucket as x_values list and the counter for each bucket as y_values list\n",
    "    x_values = get_values(time_bucket_df,time_col_name)\n",
    "    y_values = get_values(time_bucket_df,\"count\") \n",
    "    \n",
    "    \n",
    "    # Create a bar plot\n",
    "    fig = go.Figure()\n",
    "    fig.add_trace(go.Bar(x=x_values, y=y_values))\n",
    "    \n",
    "    # Update layout\n",
    "    fig.update_layout(title='Usefulness of Time Buckets',\n",
    "                      xaxis_title='Timestamps in Bucket',\n",
    "                      yaxis_title='Counter in Bucket',\n",
    "                      template='plotly_white')\n",
    "    \n",
    "    # Show the plot\n",
    "    fig.show()"
   ]
  },
  {
   "cell_type": "code",
   "execution_count": 3,
   "metadata": {
    "slideshow": {
     "slide_type": "skip"
    }
   },
   "outputs": [],
   "source": [
    "# Variabili globali usate solo per la presentazione:\n",
    "\n",
    "## si è deciso di mostrare un cliente specifico per avere dei plot più leggibili. L'utente è stato scelto a caso\n",
    "## si è deciso di concentrarsi su un intervallo temporale ristretto per poter mostrare meglio i risultati sul plot.\n",
    "\n",
    "DATA_COLUMN_NAME = \"DATA_TRANSAZIONE\"\n",
    "START_DATE = \"2023-02-15\"\n",
    "END_DATE = \"2023-04-25\""
   ]
  },
  {
   "cell_type": "markdown",
   "metadata": {
    "jp-MarkdownHeadingCollapsed": true,
    "slideshow": {
     "slide_type": "slide"
    }
   },
   "source": [
    "# Presentazione del problema\n",
    "Use case immaginato: predizione di abbandono carta in favore dei contanti\n"
   ]
  },
  {
   "cell_type": "markdown",
   "metadata": {
    "jp-MarkdownHeadingCollapsed": true,
    "slideshow": {
     "slide_type": "slide"
    }
   },
   "source": [
    "# Dataset Utilizzato:\n",
    "\n",
    "- **Tabella di partenza**: cust_know.ck_trans_cat\n",
    "- **Colonne selezionate**: ARCA_TIPO_CARTA, DATA_CONTABILE, DATA_TRANSAZIONE, ORA_TRANSAZIONE, IMPORTO,SEGNO, ID_CLIENTE_BIC, IS_CARTA, TIPO_CANALE, TIPO_CANALE_AGG, IS_BON, IS_SDD, CATEGORY_LIV0, CATEGORY_LIV1, CATEGORY_LIV2, IS_CC, IS_LIB, MERCHANT\n",
    "- **Utenti estratti**: 1000\n",
    "- **Totale transazioni**: 960.404\n"
   ]
  },
  {
   "cell_type": "code",
   "execution_count": 4,
   "metadata": {
    "slideshow": {
     "slide_type": "skip"
    }
   },
   "outputs": [
    {
     "name": "stderr",
     "output_type": "stream",
     "text": [
      "Setting default log level to \"WARN\".\n",
      "To adjust logging level use sc.setLogLevel(newLevel). For SparkR, use setLogLevel(newLevel).\n",
      "23/08/01 16:39:21 WARN NativeCodeLoader: Unable to load native-hadoop library for your platform... using builtin-java classes where applicable\n",
      "                                                                                \r"
     ]
    }
   ],
   "source": [
    "# LOADING DATA\n",
    "\n",
    "# Create a SparkSession\n",
    "spark = SparkSession.builder \\\n",
    "    .appName(\"Read CSV\") \\\n",
    "    .getOrCreate()\n",
    "\n",
    "PATH_TO_DATA = \"../../data/df_ts.csv\"\n",
    "original_df = spark.read \\\n",
    "    .option(\"header\", \"true\") \\\n",
    "    .option(\"inferSchema\", \"true\") \\\n",
    "    .option(\"delimiter\", \"|\") \\\n",
    "    .option(\"encoding\", \"utf-8\") \\\n",
    "    .option(\"multiline\", \"False\") \\\n",
    "    .csv(PATH_TO_DATA)\n",
    "\n",
    "\n",
    "original_df = original_df.orderBy(col(\"ID_CLIENTE_BIC\"),col(DATA_COLUMN_NAME)) # order by date\n"
   ]
  },
  {
   "cell_type": "markdown",
   "metadata": {
    "jp-MarkdownHeadingCollapsed": true,
    "slideshow": {
     "slide_type": "slide"
    }
   },
   "source": [
    "### Vediamo un estratto del dataset\n",
    "\n",
    "Per comodità espositiva ci concetriamo solo su un utente"
   ]
  },
  {
   "cell_type": "code",
   "execution_count": 5,
   "metadata": {
    "slideshow": {
     "slide_type": "slide"
    }
   },
   "outputs": [
    {
     "name": "stderr",
     "output_type": "stream",
     "text": [
      "[Stage 2:>                                                          (0 + 8) / 8]\r"
     ]
    },
    {
     "name": "stdout",
     "output_type": "stream",
     "text": [
      "+---------------+--------------+----------------+-------------------+-------+-----+--------------+--------+--------------+---------------+------+------+-----------------+-----------------------------+-------------+-----+------+-----------+\n",
      "|ARCA_TIPO_CARTA|DATA_CONTABILE|DATA_TRANSAZIONE|ORA_TRANSAZIONE    |IMPORTO|SEGNO|ID_CLIENTE_BIC|IS_CARTA|TIPO_CANALE   |TIPO_CANALE_AGG|IS_BON|IS_SDD|CATEGORY_LIV0    |CATEGORY_LIV1                |CATEGORY_LIV2|IS_CC|IS_LIB|MERCHANT   |\n",
      "+---------------+--------------+----------------+-------------------+-------+-----+--------------+--------+--------------+---------------+------+------+-----------------+-----------------------------+-------------+-----+------+-----------+\n",
      "|EVOLUTION      |2021-05-04    |2021-04-29      |2023-08-01 17:34:11|70.0   |-    |89761829      |true    |ATM_BANCARIO  |FISICO_ESTERNO |false |false |prelievo_contante|null                         |null         |false|false |null       |\n",
      "|EVOLUTION      |2021-05-04    |2021-04-29      |2023-08-01 17:34:12|2.0    |-    |89761829      |true    |ALTRO         |ALTRO          |false |false |prelievo_contante|null                         |null         |false|false |null       |\n",
      "|CARTA_DEBITO   |2021-05-01    |2021-04-29      |2023-08-01 14:19:00|5.75   |-    |89761829      |true    |FISICO_ESTERNO|FISICO_ESTERNO |false |false |tempo_libero     |ristoranti_takeaway_aperitivi|null         |false|false |alice pizza|\n",
      "|CARTA_DEBITO   |2021-05-01    |2021-04-29      |2023-08-01 17:39:57|10.0   |-    |89761829      |true    |FISICO_ESTERNO|FISICO_ESTERNO |false |false |tempo_libero     |ristoranti_takeaway_aperitivi|null         |false|false |null       |\n",
      "|EVOLUTION      |2021-05-04    |2021-04-30      |2023-08-01 18:49:42|150.0  |-    |89761829      |true    |ATM_BANCARIO  |FISICO_ESTERNO |false |false |prelievo_contante|null                         |null         |false|false |banco bpm  |\n",
      "|EVOLUTION      |2021-05-04    |2021-04-30      |2023-08-01 06:54:19|50.0   |-    |89761829      |true    |ATM_BANCARIO  |FISICO_ESTERNO |false |false |prelievo_contante|null                         |null         |false|false |null       |\n",
      "|EVOLUTION      |2021-05-04    |2021-04-30      |2023-08-01 06:54:20|2.0    |-    |89761829      |true    |ALTRO         |ALTRO          |false |false |prelievo_contante|null                         |null         |false|false |null       |\n",
      "|CARTA_DEBITO   |2021-05-04    |2021-04-30      |2023-08-01 18:46:00|52.14  |-    |89761829      |true    |FISICO_ESTERNO|FISICO_ESTERNO |false |false |alimentari_spesa |alimentari_supermercato      |null         |false|false |carrefour  |\n",
      "|EVOLUTION      |2021-05-04    |2021-04-30      |2023-08-01 18:49:43|2.0    |-    |89761829      |true    |ALTRO         |ALTRO          |false |false |prelievo_contante|null                         |null         |false|false |null       |\n",
      "|CARTA_DEBITO   |2021-05-04    |2021-04-30      |2023-08-01 18:22:29|6.0    |-    |89761829      |true    |FISICO_ESTERNO|FISICO_ESTERNO |false |false |tempo_libero     |ristoranti_takeaway_aperitivi|null         |false|false |null       |\n",
      "|CARTA_DEBITO   |2021-05-04    |2021-04-30      |2023-08-01 19:00:44|10.0   |-    |89761829      |true    |FISICO_ESTERNO|FISICO_ESTERNO |false |false |tempo_libero     |ristoranti_takeaway_aperitivi|null         |false|false |null       |\n",
      "|CARTA_DEBITO   |2021-05-01    |2021-04-30      |2023-08-01 07:09:00|10.0   |-    |89761829      |true    |ATM_POSTE     |FISICO_POSTE   |false |false |prelievo_contante|null                         |null         |false|false |null       |\n",
      "|CARTA_DEBITO   |2021-05-02    |2021-05-01      |2023-08-01 07:30:00|10.0   |-    |89761829      |true    |ATM_POSTE     |FISICO_POSTE   |false |false |prelievo_contante|null                         |null         |false|false |null       |\n",
      "|CARTA_DEBITO   |2021-05-03    |2021-05-02      |2023-08-01 17:16:00|10.0   |-    |89761829      |true    |ATM_POSTE     |FISICO_POSTE   |false |false |prelievo_contante|null                         |null         |false|false |null       |\n",
      "|CARTA_DEBITO   |2021-05-03    |2021-05-02      |2023-08-01 05:36:00|10.0   |-    |89761829      |true    |ATM_POSTE     |FISICO_POSTE   |false |false |prelievo_contante|null                         |null         |false|false |null       |\n",
      "|CARTA_DEBITO   |2021-05-04    |2021-05-03      |2023-08-01 08:16:00|10.0   |-    |89761829      |true    |ATM_POSTE     |FISICO_POSTE   |false |false |prelievo_contante|null                         |null         |false|false |null       |\n",
      "|CARTA_DEBITO   |2021-05-05    |2021-05-03      |2023-08-01 17:00:57|10.0   |-    |89761829      |true    |FISICO_ESTERNO|FISICO_ESTERNO |false |false |tempo_libero     |ristoranti_takeaway_aperitivi|null         |false|false |null       |\n",
      "|EVOLUTION      |2021-05-07    |2021-05-04      |2023-08-01 16:59:00|2.0    |-    |89761829      |true    |ALTRO         |ALTRO          |false |false |prelievo_contante|null                         |null         |false|false |null       |\n",
      "|CARTA_DEBITO   |2021-05-06    |2021-05-04      |2023-08-01 13:33:00|5.45   |-    |89761829      |true    |FISICO_ESTERNO|FISICO_ESTERNO |false |false |tempo_libero     |ristoranti_takeaway_aperitivi|null         |false|false |alice pizza|\n",
      "|CARTA_DEBITO   |2021-05-05    |2021-05-04      |2023-08-01 07:00:00|10.0   |-    |89761829      |true    |ATM_POSTE     |FISICO_POSTE   |false |false |prelievo_contante|null                         |null         |false|false |null       |\n",
      "+---------------+--------------+----------------+-------------------+-------+-----+--------------+--------+--------------+---------------+------+------+-----------------+-----------------------------+-------------+-----+------+-----------+\n",
      "only showing top 20 rows\n",
      "\n"
     ]
    },
    {
     "name": "stderr",
     "output_type": "stream",
     "text": [
      "                                                                                \r"
     ]
    }
   ],
   "source": [
    "# Per comodità espositiva ci concetriamo solo su un utente\n",
    "ID_CLIENTE = \"89761829\"\n",
    "\n",
    "original_df = original_df.filter(F.col(\"ID_CLIENTE_BIC\").isin(ID_CLIENTE)) \n",
    "original_df.show(truncate=False)"
   ]
  },
  {
   "cell_type": "markdown",
   "metadata": {
    "slideshow": {
     "slide_type": "slide"
    }
   },
   "source": [
    "# Iniziamo ad esplorare i dati\n",
    "\n",
    "Plottiamo tutti gli importi dell' utente"
   ]
  },
  {
   "cell_type": "code",
   "execution_count": 6,
   "metadata": {
    "slideshow": {
     "slide_type": "slide"
    }
   },
   "outputs": [
    {
     "data": {
      "application/vnd.plotly.v1+json": {
       "config": {
        "linkText": "Export to plot.ly",
        "plotlyServerURL": "https://plot.ly",
        "showLink": false
       },
       "data": [
        {
         "mode": "lines",
         "name": "Time Series of Importo",
         "type": "scatter",
         "x": [
          "2021-04-29",
          "2021-04-29",
          "2021-04-29",
          "2021-04-29",
          "2021-04-30",
          "2021-04-30",
          "2021-04-30",
          "2021-04-30",
          "2021-04-30",
          "2021-04-30",
          "2021-04-30",
          "2021-04-30",
          "2021-05-01",
          "2021-05-02",
          "2021-05-02",
          "2021-05-03",
          "2021-05-03",
          "2021-05-04",
          "2021-05-04",
          "2021-05-04",
          "2021-05-04",
          "2021-05-04",
          "2021-05-05",
          "2021-05-06",
          "2021-05-06",
          "2021-05-08",
          "2021-05-08",
          "2021-05-10",
          "2021-05-10",
          "2021-05-10",
          "2021-05-11",
          "2021-05-12",
          "2021-05-13",
          "2021-05-13",
          "2021-05-13",
          "2021-05-14",
          "2021-05-14",
          "2021-05-14",
          "2021-05-14",
          "2021-05-14",
          "2021-05-14",
          "2021-05-14",
          "2021-05-14",
          "2021-05-15",
          "2021-05-15",
          "2021-05-15",
          "2021-05-17",
          "2021-05-17",
          "2021-05-18",
          "2021-05-18",
          "2021-05-18",
          "2021-05-18",
          "2021-05-19",
          "2021-05-19",
          "2021-05-19",
          "2021-05-19",
          "2021-05-20",
          "2021-05-20",
          "2021-05-21",
          "2021-05-21",
          "2021-05-21",
          "2021-05-22",
          "2021-05-22",
          "2021-05-22",
          "2021-05-23",
          "2021-05-24",
          "2021-05-25",
          "2021-05-25",
          "2021-05-25",
          "2021-05-25",
          "2021-05-25",
          "2021-05-26",
          "2021-05-26",
          "2021-05-27",
          "2021-05-28",
          "2021-05-28",
          "2021-05-28",
          "2021-05-28",
          "2021-05-29",
          "2021-05-29",
          "2021-05-29",
          "2021-05-29",
          "2021-05-29",
          "2021-05-29",
          "2021-05-30",
          "2021-05-30",
          "2021-05-31",
          "2021-05-31",
          "2021-06-01",
          "2021-06-01",
          "2021-06-01",
          "2021-06-01",
          "2021-06-02",
          "2021-06-02",
          "2021-06-02",
          "2021-06-02",
          "2021-06-03",
          "2021-06-03",
          "2021-06-04",
          "2021-06-04",
          "2021-06-04",
          "2021-06-04",
          "2021-06-05",
          "2021-06-05",
          "2021-06-05",
          "2021-06-05",
          "2021-06-05",
          "2021-06-05",
          "2021-06-06",
          "2021-06-06",
          "2021-06-06",
          "2021-06-08",
          "2021-06-08",
          "2021-06-08",
          "2021-06-08",
          "2021-06-09",
          "2021-06-09",
          "2021-06-09",
          "2021-06-10",
          "2021-06-10",
          "2021-06-10",
          "2021-06-10",
          "2021-06-10",
          "2021-06-11",
          "2021-06-11",
          "2021-06-11",
          "2021-06-12",
          "2021-06-12",
          "2021-06-12",
          "2021-06-12",
          "2021-06-12",
          "2021-06-13",
          "2021-06-14",
          "2021-06-14",
          "2021-06-15",
          "2021-06-15",
          "2021-06-15",
          "2021-06-15",
          "2021-06-16",
          "2021-06-16",
          "2021-06-17",
          "2021-06-17",
          "2021-06-17",
          "2021-06-17",
          "2021-06-17",
          "2021-06-17",
          "2021-06-17",
          "2021-06-18",
          "2021-06-18",
          "2021-06-18",
          "2021-06-18",
          "2021-06-18",
          "2021-06-18",
          "2021-06-18",
          "2021-06-19",
          "2021-06-19",
          "2021-06-19",
          "2021-06-19",
          "2021-06-19",
          "2021-06-20",
          "2021-06-20",
          "2021-06-20",
          "2021-06-20",
          "2021-06-20",
          "2021-06-21",
          "2021-06-21",
          "2021-06-21",
          "2021-06-22",
          "2021-06-22",
          "2021-06-22",
          "2021-06-23",
          "2021-06-23",
          "2021-06-23",
          "2021-06-23",
          "2021-06-23",
          "2021-06-23",
          "2021-06-23",
          "2021-06-24",
          "2021-06-24",
          "2021-06-24",
          "2021-06-25",
          "2021-06-25",
          "2021-06-25",
          "2021-06-25",
          "2021-06-26",
          "2021-06-26",
          "2021-06-26",
          "2021-06-26",
          "2021-06-27",
          "2021-06-27",
          "2021-06-27",
          "2021-06-28",
          "2021-06-28",
          "2021-06-29",
          "2021-06-29",
          "2021-06-29",
          "2021-06-30",
          "2021-06-30",
          "2021-06-30",
          "2021-06-30",
          "2021-07-01",
          "2021-07-01",
          "2021-07-01",
          "2021-07-01",
          "2021-07-02",
          "2021-07-02",
          "2021-07-02",
          "2021-07-02",
          "2021-07-03",
          "2021-07-03",
          "2021-07-03",
          "2021-07-03",
          "2021-07-04",
          "2021-07-04",
          "2021-07-04",
          "2021-07-04",
          "2021-07-04",
          "2021-07-04",
          "2021-07-04",
          "2021-07-04",
          "2021-07-04",
          "2021-07-04",
          "2021-07-04",
          "2021-07-05",
          "2021-07-06",
          "2021-07-06",
          "2021-07-06",
          "2021-07-06",
          "2021-07-07",
          "2021-07-07",
          "2021-07-07",
          "2021-07-07",
          "2021-07-07",
          "2021-07-07",
          "2021-07-07",
          "2021-07-08",
          "2021-07-09",
          "2021-07-09",
          "2021-07-09",
          "2021-07-09",
          "2021-07-09",
          "2021-07-09",
          "2021-07-10",
          "2021-07-10",
          "2021-07-10",
          "2021-07-10",
          "2021-07-10",
          "2021-07-10",
          "2021-07-10",
          "2021-07-10",
          "2021-07-10",
          "2021-07-10",
          "2021-07-11",
          "2021-07-11",
          "2021-07-11",
          "2021-07-12",
          "2021-07-12",
          "2021-07-13",
          "2021-07-13",
          "2021-07-13",
          "2021-07-14",
          "2021-07-14",
          "2021-07-14",
          "2021-07-14",
          "2021-07-14",
          "2021-07-14",
          "2021-07-15",
          "2021-07-15",
          "2021-07-15",
          "2021-07-15",
          "2021-07-15",
          "2021-07-15",
          "2021-07-15",
          "2021-07-15",
          "2021-07-15",
          "2021-07-16",
          "2021-07-16",
          "2021-07-16",
          "2021-07-16",
          "2021-07-16",
          "2021-07-16",
          "2021-07-16",
          "2021-07-17",
          "2021-07-17",
          "2021-07-17",
          "2021-07-17",
          "2021-07-17",
          "2021-07-18",
          "2021-07-18",
          "2021-07-18",
          "2021-07-18",
          "2021-07-18",
          "2021-07-19",
          "2021-07-19",
          "2021-07-19",
          "2021-07-19",
          "2021-07-19",
          "2021-07-20",
          "2021-07-20",
          "2021-07-21",
          "2021-07-21",
          "2021-07-21",
          "2021-07-21",
          "2021-07-22",
          "2021-07-22",
          "2021-07-22",
          "2021-07-22",
          "2021-07-22",
          "2021-07-22",
          "2021-07-22",
          "2021-07-23",
          "2021-07-23",
          "2021-07-23",
          "2021-07-23",
          "2021-07-24",
          "2021-07-24",
          "2021-07-24",
          "2021-07-24",
          "2021-07-24",
          "2021-07-25",
          "2021-07-25",
          "2021-07-25",
          "2021-07-25",
          "2021-07-26",
          "2021-07-26",
          "2021-07-26",
          "2021-07-27",
          "2021-07-27",
          "2021-07-27",
          "2021-07-28",
          "2021-07-28",
          "2021-07-28",
          "2021-07-28",
          "2021-07-29",
          "2021-07-29",
          "2021-07-29",
          "2021-07-29",
          "2021-07-29",
          "2021-07-30",
          "2021-07-30",
          "2021-07-31",
          "2021-07-31",
          "2021-07-31",
          "2021-07-31",
          "2021-07-31",
          "2021-07-31",
          "2021-07-31",
          "2021-07-31",
          "2021-08-01",
          "2021-08-01",
          "2021-08-01",
          "2021-08-01",
          "2021-08-01",
          "2021-08-01",
          "2021-08-02",
          "2021-08-03",
          "2021-08-03",
          "2021-08-03",
          "2021-08-03",
          "2021-08-03",
          "2021-08-04",
          "2021-08-04",
          "2021-08-05",
          "2021-08-05",
          "2021-08-05",
          "2021-08-05",
          "2021-08-05",
          "2021-08-06",
          "2021-08-06",
          "2021-08-06",
          "2021-08-06",
          "2021-08-07",
          "2021-08-07",
          "2021-08-07",
          "2021-08-07",
          "2021-08-07",
          "2021-08-07",
          "2021-08-08",
          "2021-08-08",
          "2021-08-08",
          "2021-08-08",
          "2021-08-08",
          "2021-08-09",
          "2021-08-10",
          "2021-08-10",
          "2021-08-10",
          "2021-08-11",
          "2021-08-11",
          "2021-08-11",
          "2021-08-11",
          "2021-08-11",
          "2021-08-12",
          "2021-08-12",
          "2021-08-12",
          "2021-08-12",
          "2021-08-13",
          "2021-08-13",
          "2021-08-13",
          "2021-08-14",
          "2021-08-14",
          "2021-08-14",
          "2021-08-14",
          "2021-08-15",
          "2021-08-15",
          "2021-08-15",
          "2021-08-15",
          "2021-08-16",
          "2021-08-16",
          "2021-08-17",
          "2021-08-17",
          "2021-08-18",
          "2021-08-18",
          "2021-08-18",
          "2021-08-19",
          "2021-08-19",
          "2021-08-20",
          "2021-08-20",
          "2021-08-21",
          "2021-08-21",
          "2021-08-21",
          "2021-08-21",
          "2021-08-21",
          "2021-08-21",
          "2021-08-21",
          "2021-08-22",
          "2021-08-22",
          "2021-08-22",
          "2021-08-22",
          "2021-08-23",
          "2021-08-23",
          "2021-08-23",
          "2021-08-23",
          "2021-08-24",
          "2021-08-24",
          "2021-08-24",
          "2021-08-24",
          "2021-08-24",
          "2021-08-25",
          "2021-08-25",
          "2021-08-25",
          "2021-08-25",
          "2021-08-25",
          "2021-08-26",
          "2021-08-27",
          "2021-08-27",
          "2021-08-27",
          "2021-08-27",
          "2021-08-27",
          "2021-08-27",
          "2021-08-27",
          "2021-08-27",
          "2021-08-28",
          "2021-08-28",
          "2021-08-28",
          "2021-08-28",
          "2021-08-28",
          "2021-08-28",
          "2021-08-28",
          "2021-08-28",
          "2021-08-29",
          "2021-08-29",
          "2021-08-29",
          "2021-08-29",
          "2021-08-30",
          "2021-08-30",
          "2021-08-30",
          "2021-08-30",
          "2021-08-30",
          "2021-08-30",
          "2021-08-31",
          "2021-08-31",
          "2021-08-31",
          "2021-08-31",
          "2021-09-01",
          "2021-09-01",
          "2021-09-01",
          "2021-09-01",
          "2021-09-01",
          "2021-09-02",
          "2021-09-02",
          "2021-09-02",
          "2021-09-02",
          "2021-09-02",
          "2021-09-03",
          "2021-09-03",
          "2021-09-03",
          "2021-09-04",
          "2021-09-04",
          "2021-09-04",
          "2021-09-04",
          "2021-09-04",
          "2021-09-05",
          "2021-09-05",
          "2021-09-05",
          "2021-09-05",
          "2021-09-05",
          "2021-09-06",
          "2021-09-06",
          "2021-09-06",
          "2021-09-06",
          "2021-09-07",
          "2021-09-08",
          "2021-09-08",
          "2021-09-08",
          "2021-09-08",
          "2021-09-09",
          "2021-09-09",
          "2021-09-09",
          "2021-09-10",
          "2021-09-10",
          "2021-09-10",
          "2021-09-10",
          "2021-09-10",
          "2021-09-10",
          "2021-09-11",
          "2021-09-11",
          "2021-09-11",
          "2021-09-11",
          "2021-09-11",
          "2021-09-11",
          "2021-09-11",
          "2021-09-11",
          "2021-09-11",
          "2021-09-11",
          "2021-09-11",
          "2021-09-12",
          "2021-09-12",
          "2021-09-13",
          "2021-09-14",
          "2021-09-14",
          "2021-09-14",
          "2021-09-15",
          "2021-09-15",
          "2021-09-15",
          "2021-09-16",
          "2021-09-16",
          "2021-09-16",
          "2021-09-17",
          "2021-09-17",
          "2021-09-17",
          "2021-09-17",
          "2021-09-17",
          "2021-09-18",
          "2021-09-18",
          "2021-09-18",
          "2021-09-18",
          "2021-09-18",
          "2021-09-19",
          "2021-09-19",
          "2021-09-19",
          "2021-09-19",
          "2021-09-19",
          "2021-09-19",
          "2021-09-20",
          "2021-09-20",
          "2021-09-20",
          "2021-09-21",
          "2021-09-21",
          "2021-09-21",
          "2021-09-21",
          "2021-09-21",
          "2021-09-21",
          "2021-09-22",
          "2021-09-22",
          "2021-09-22",
          "2021-09-22",
          "2021-09-22",
          "2021-09-23",
          "2021-09-23",
          "2021-09-23",
          "2021-09-23",
          "2021-09-23",
          "2021-09-24",
          "2021-09-24",
          "2021-09-25",
          "2021-09-25",
          "2021-09-25",
          "2021-09-25",
          "2021-09-25",
          "2021-09-25",
          "2021-09-25",
          "2021-09-25",
          "2021-09-25",
          "2021-09-25",
          "2021-09-26",
          "2021-09-26",
          "2021-09-26",
          "2021-09-27",
          "2021-09-27",
          "2021-09-27",
          "2021-09-28",
          "2021-09-28",
          "2021-09-28",
          "2021-09-28",
          "2021-09-28",
          "2021-09-29",
          "2021-09-29",
          "2021-09-29",
          "2021-09-30",
          "2021-09-30",
          "2021-09-30",
          "2021-10-01",
          "2021-10-01",
          "2021-10-01",
          "2021-10-01",
          "2021-10-01",
          "2021-10-01",
          "2021-10-01",
          "2021-10-02",
          "2021-10-02",
          "2021-10-02",
          "2021-10-02",
          "2021-10-02",
          "2021-10-03",
          "2021-10-03",
          "2021-10-03",
          "2021-10-04",
          "2021-10-04",
          "2021-10-05",
          "2021-10-06",
          "2021-10-06",
          "2021-10-06",
          "2021-10-07",
          "2021-10-07",
          "2021-10-07",
          "2021-10-07",
          "2021-10-07",
          "2021-10-07",
          "2021-10-07",
          "2021-10-08",
          "2021-10-08",
          "2021-10-09",
          "2021-10-09",
          "2021-10-09",
          "2021-10-09",
          "2021-10-09",
          "2021-10-10",
          "2021-10-11",
          "2021-10-11",
          "2021-10-11",
          "2021-10-12",
          "2021-10-12",
          "2021-10-12",
          "2021-10-12",
          "2021-10-12",
          "2021-10-13",
          "2021-10-13",
          "2021-10-13",
          "2021-10-14",
          "2021-10-14",
          "2021-10-14",
          "2021-10-14",
          "2021-10-15",
          "2021-10-15",
          "2021-10-15",
          "2021-10-16",
          "2021-10-16",
          "2021-10-16",
          "2021-10-16",
          "2021-10-16",
          "2021-10-16",
          "2021-10-16",
          "2021-10-17",
          "2021-10-18",
          "2021-10-18",
          "2021-10-19",
          "2021-10-19",
          "2021-10-19",
          "2021-10-20",
          "2021-10-20",
          "2021-10-20",
          "2021-10-20",
          "2021-10-21",
          "2021-10-21",
          "2021-10-21",
          "2021-10-21",
          "2021-10-21",
          "2021-10-22",
          "2021-10-22",
          "2021-10-23",
          "2021-10-23",
          "2021-10-23",
          "2021-10-23",
          "2021-10-23",
          "2021-10-23",
          "2021-10-23",
          "2021-10-23",
          "2021-10-23",
          "2021-10-24",
          "2021-10-24",
          "2021-10-24",
          "2021-10-24",
          "2021-10-24",
          "2021-10-25",
          "2021-10-25",
          "2021-10-25",
          "2021-10-25",
          "2021-10-26",
          "2021-10-26",
          "2021-10-26",
          "2021-10-26",
          "2021-10-26",
          "2021-10-26",
          "2021-10-26",
          "2021-10-26",
          "2021-10-27",
          "2021-10-27",
          "2021-10-27",
          "2021-10-27",
          "2021-10-27",
          "2021-10-27",
          "2021-10-27",
          "2021-10-28",
          "2021-10-29",
          "2021-10-29",
          "2021-10-29",
          "2021-10-29",
          "2021-10-29",
          "2021-10-30",
          "2021-10-30",
          "2021-10-30",
          "2021-10-30",
          "2021-10-30",
          "2021-10-31",
          "2021-10-31",
          "2021-11-02",
          "2021-11-02",
          "2021-11-02",
          "2021-11-02",
          "2021-11-02",
          "2021-11-02",
          "2021-11-03",
          "2021-11-03",
          "2021-11-03",
          "2021-11-03",
          "2021-11-04",
          "2021-11-04",
          "2021-11-04",
          "2021-11-05",
          "2021-11-05",
          "2021-11-05",
          "2021-11-05",
          "2021-11-05",
          "2021-11-05",
          "2021-11-06",
          "2021-11-06",
          "2021-11-06",
          "2021-11-06",
          "2021-11-06",
          "2021-11-06",
          "2021-11-08",
          "2021-11-08",
          "2021-11-08",
          "2021-11-08",
          "2021-11-10",
          "2021-11-10",
          "2021-11-11",
          "2021-11-11",
          "2021-11-11",
          "2021-11-11",
          "2021-11-11",
          "2021-11-11",
          "2021-11-12",
          "2021-11-13",
          "2021-11-13",
          "2021-11-13",
          "2021-11-13",
          "2021-11-13",
          "2021-11-13",
          "2021-11-13",
          "2021-11-13",
          "2021-11-13",
          "2021-11-13",
          "2021-11-13",
          "2021-11-14",
          "2021-11-14",
          "2021-11-14",
          "2021-11-15",
          "2021-11-15",
          "2021-11-15",
          "2021-11-16",
          "2021-11-16",
          "2021-11-16",
          "2021-11-17",
          "2021-11-17",
          "2021-11-17",
          "2021-11-17",
          "2021-11-18",
          "2021-11-18",
          "2021-11-18",
          "2021-11-19",
          "2021-11-19",
          "2021-11-19",
          "2021-11-19",
          "2021-11-20",
          "2021-11-20",
          "2021-11-20",
          "2021-11-20",
          "2021-11-20",
          "2021-11-20",
          "2021-11-21",
          "2021-11-21",
          "2021-11-21",
          "2021-11-21",
          "2021-11-21",
          "2021-11-21",
          "2021-11-22",
          "2021-11-22",
          "2021-11-22",
          "2021-11-23",
          "2021-11-23",
          "2021-11-24",
          "2021-11-24",
          "2021-11-25",
          "2021-11-25",
          "2021-11-25",
          "2021-11-25",
          "2021-11-26",
          "2021-11-26",
          "2021-11-26",
          "2021-11-26",
          "2021-11-26",
          "2021-11-27",
          "2021-11-27",
          "2021-11-27",
          "2021-11-27",
          "2021-11-28",
          "2021-11-28",
          "2021-11-28",
          "2021-11-28",
          "2021-11-28",
          "2021-11-29",
          "2021-11-29",
          "2021-11-30",
          "2021-11-30",
          "2021-11-30",
          "2021-11-30",
          "2021-11-30",
          "2021-11-30",
          "2021-11-30",
          "2021-12-01",
          "2021-12-01",
          "2021-12-02",
          "2021-12-02",
          "2021-12-02",
          "2021-12-03",
          "2021-12-03",
          "2021-12-03",
          "2021-12-05",
          "2021-12-06",
          "2021-12-06",
          "2021-12-07",
          "2021-12-07",
          "2021-12-07",
          "2021-12-07",
          "2021-12-09",
          "2021-12-09",
          "2021-12-09",
          "2021-12-09",
          "2021-12-09",
          "2021-12-10",
          "2021-12-10",
          "2021-12-10",
          "2021-12-10",
          "2021-12-11",
          "2021-12-11",
          "2021-12-11",
          "2021-12-12",
          "2021-12-12",
          "2021-12-12",
          "2021-12-13",
          "2021-12-13",
          "2021-12-13",
          "2021-12-13",
          "2021-12-13",
          "2021-12-13",
          "2021-12-14",
          "2021-12-14",
          "2021-12-14",
          "2021-12-14",
          "2021-12-14",
          "2021-12-15",
          "2021-12-15",
          "2021-12-15",
          "2021-12-15",
          "2021-12-15",
          "2021-12-16",
          "2021-12-16",
          "2021-12-16",
          "2021-12-16",
          "2021-12-16",
          "2021-12-18",
          "2021-12-18",
          "2021-12-18",
          "2021-12-18",
          "2021-12-18",
          "2021-12-19",
          "2021-12-19",
          "2021-12-19",
          "2021-12-19",
          "2021-12-19",
          "2021-12-19",
          "2021-12-19",
          "2021-12-20",
          "2021-12-20",
          "2021-12-20",
          "2021-12-21",
          "2021-12-21",
          "2021-12-21",
          "2021-12-21",
          "2021-12-22",
          "2021-12-22",
          "2021-12-22",
          "2021-12-22",
          "2021-12-22",
          "2021-12-23",
          "2021-12-23",
          "2021-12-23",
          "2021-12-23",
          "2021-12-24",
          "2021-12-24",
          "2021-12-24",
          "2021-12-24",
          "2021-12-25",
          "2021-12-25",
          "2021-12-26",
          "2021-12-26",
          "2021-12-26",
          "2021-12-26",
          "2021-12-27",
          "2021-12-28",
          "2021-12-28",
          "2021-12-28",
          "2021-12-28",
          "2021-12-28",
          "2021-12-29",
          "2021-12-29",
          "2021-12-29",
          "2021-12-30",
          "2021-12-30",
          "2021-12-31",
          "2021-12-31",
          "2021-12-31",
          "2021-12-31",
          "2021-12-31",
          "2021-12-31",
          "2021-12-31",
          "2021-12-31",
          "2021-12-31",
          "2022-01-02",
          "2022-01-02",
          "2022-01-02",
          "2022-01-02",
          "2022-01-03",
          "2022-01-03",
          "2022-01-03",
          "2022-01-04",
          "2022-01-04",
          "2022-01-05",
          "2022-01-05",
          "2022-01-05",
          "2022-01-05",
          "2022-01-05",
          "2022-01-05",
          "2022-01-06",
          "2022-01-06",
          "2022-01-06",
          "2022-01-07",
          "2022-01-07",
          "2022-01-07",
          "2022-01-07",
          "2022-01-07",
          "2022-01-09",
          "2022-01-09",
          "2022-01-09",
          "2022-01-09",
          "2022-01-09",
          "2022-01-09",
          "2022-01-09",
          "2022-01-09",
          "2022-01-10",
          "2022-01-10",
          "2022-01-11",
          "2022-01-11",
          "2022-01-11",
          "2022-01-11",
          "2022-01-11",
          "2022-01-12",
          "2022-01-12",
          "2022-01-12",
          "2022-01-12",
          "2022-01-13",
          "2022-01-13",
          "2022-01-13",
          "2022-01-13",
          "2022-01-13",
          "2022-01-14",
          "2022-01-14",
          "2022-01-14",
          "2022-01-14",
          "2022-01-14",
          "2022-01-14",
          "2022-01-15",
          "2022-01-15",
          "2022-01-15",
          "2022-01-15",
          "2022-01-15",
          "2022-01-16",
          "2022-01-16",
          "2022-01-16",
          "2022-01-16",
          "2022-01-16",
          "2022-01-18",
          "2022-01-18",
          "2022-01-18",
          "2022-01-19",
          "2022-01-19",
          "2022-01-19",
          "2022-01-19",
          "2022-01-19",
          "2022-01-19",
          "2022-01-19",
          "2022-01-19",
          "2022-01-20",
          "2022-01-20",
          "2022-01-20",
          "2022-01-20",
          "2022-01-21",
          "2022-01-21",
          "2022-01-22",
          "2022-01-22",
          "2022-01-22",
          "2022-01-22",
          "2022-01-22",
          "2022-01-22",
          "2022-01-22",
          "2022-01-23",
          "2022-01-23",
          "2022-01-23",
          "2022-01-23",
          "2022-01-23",
          "2022-01-24",
          "2022-01-24",
          "2022-01-24",
          "2022-01-25",
          "2022-01-26",
          "2022-01-26",
          "2022-01-27",
          "2022-01-27",
          "2022-01-27",
          "2022-01-27",
          "2022-01-27",
          "2022-01-27",
          "2022-01-27",
          "2022-01-27",
          "2022-01-28",
          "2022-01-28",
          "2022-01-28",
          "2022-01-28",
          "2022-01-29",
          "2022-01-29",
          "2022-01-29",
          "2022-01-29",
          "2022-01-29",
          "2022-01-30",
          "2022-01-30",
          "2022-01-30",
          "2022-01-31",
          "2022-01-31",
          "2022-01-31",
          "2022-01-31",
          "2022-01-31",
          "2022-02-01",
          "2022-02-01",
          "2022-02-01",
          "2022-02-02",
          "2022-02-03",
          "2022-02-03",
          "2022-02-04",
          "2022-02-04",
          "2022-02-04",
          "2022-02-05",
          "2022-02-05",
          "2022-02-05",
          "2022-02-05",
          "2022-02-05",
          "2022-02-05",
          "2022-02-06",
          "2022-02-06",
          "2022-02-07",
          "2022-02-07",
          "2022-02-08",
          "2022-02-08",
          "2022-02-08",
          "2022-02-08",
          "2022-02-09",
          "2022-02-09",
          "2022-02-09",
          "2022-02-09",
          "2022-02-09",
          "2022-02-10",
          "2022-02-11",
          "2022-02-11",
          "2022-02-12",
          "2022-02-12",
          "2022-02-12",
          "2022-02-12",
          "2022-02-12",
          "2022-02-12",
          "2022-02-12",
          "2022-02-13",
          "2022-02-13",
          "2022-02-14",
          "2022-02-14",
          "2022-02-14",
          "2022-02-15",
          "2022-02-16",
          "2022-02-17",
          "2022-02-17",
          "2022-02-17",
          "2022-02-18",
          "2022-02-18",
          "2022-02-18",
          "2022-02-18",
          "2022-02-18",
          "2022-02-19",
          "2022-02-19",
          "2022-02-19",
          "2022-02-19",
          "2022-02-19",
          "2022-02-19",
          "2022-02-20",
          "2022-02-20",
          "2022-02-20",
          "2022-02-21",
          "2022-02-22",
          "2022-02-22",
          "2022-02-23",
          "2022-02-23",
          "2022-02-23",
          "2022-02-23",
          "2022-02-23",
          "2022-02-24",
          "2022-02-24",
          "2022-02-24",
          "2022-02-26",
          "2022-02-26",
          "2022-02-26",
          "2022-02-26",
          "2022-02-26",
          "2022-02-26",
          "2022-02-26",
          "2022-02-26",
          "2022-02-26",
          "2022-02-27",
          "2022-02-27",
          "2022-02-27",
          "2022-02-27",
          "2022-02-27",
          "2022-02-27",
          "2022-02-27",
          "2022-02-27",
          "2022-02-27",
          "2022-02-27",
          "2022-02-28",
          "2022-02-28",
          "2022-02-28",
          "2022-02-28",
          "2022-02-28",
          "2022-02-28",
          "2022-03-01",
          "2022-03-01",
          "2022-03-01",
          "2022-03-01",
          "2022-03-01",
          "2022-03-01",
          "2022-03-01",
          "2022-03-01",
          "2022-03-02",
          "2022-03-02",
          "2022-03-02",
          "2022-03-03",
          "2022-03-03",
          "2022-03-03",
          "2022-03-04",
          "2022-03-04",
          "2022-03-05",
          "2022-03-05",
          "2022-03-05",
          "2022-03-05",
          "2022-03-05",
          "2022-03-05",
          "2022-03-06",
          "2022-03-06",
          "2022-03-06",
          "2022-03-07",
          "2022-03-07",
          "2022-03-08",
          "2022-03-08",
          "2022-03-08",
          "2022-03-08",
          "2022-03-08",
          "2022-03-09",
          "2022-03-09",
          "2022-03-09",
          "2022-03-09",
          "2022-03-09",
          "2022-03-10",
          "2022-03-10",
          "2022-03-10",
          "2022-03-11",
          "2022-03-11",
          "2022-03-11",
          "2022-03-11",
          "2022-03-11",
          "2022-03-11",
          "2022-03-12",
          "2022-03-12",
          "2022-03-12",
          "2022-03-12",
          "2022-03-12",
          "2022-03-12",
          "2022-03-12",
          "2022-03-13",
          "2022-03-13",
          "2022-03-13",
          "2022-03-13",
          "2022-03-13",
          "2022-03-14",
          "2022-03-15",
          "2022-03-15",
          "2022-03-15",
          "2022-03-15",
          "2022-03-16",
          "2022-03-16",
          "2022-03-16",
          "2022-03-16",
          "2022-03-16",
          "2022-03-17",
          "2022-03-17",
          "2022-03-17",
          "2022-03-17",
          "2022-03-18",
          "2022-03-18",
          "2022-03-18",
          "2022-03-18",
          "2022-03-19",
          "2022-03-19",
          "2022-03-19",
          "2022-03-19",
          "2022-03-20",
          "2022-03-20",
          "2022-03-20",
          "2022-03-20",
          "2022-03-22",
          "2022-03-22",
          "2022-03-22",
          "2022-03-23",
          "2022-03-23",
          "2022-03-24",
          "2022-03-24",
          "2022-03-24",
          "2022-03-25",
          "2022-03-25",
          "2022-03-25",
          "2022-03-26",
          "2022-03-26",
          "2022-03-26",
          "2022-03-27",
          "2022-03-27",
          "2022-03-27",
          "2022-03-27",
          "2022-03-28",
          "2022-03-28",
          "2022-03-28",
          "2022-03-28",
          "2022-03-29",
          "2022-03-29",
          "2022-03-29",
          "2022-03-30",
          "2022-03-30",
          "2022-03-31",
          "2022-03-31",
          "2022-04-01",
          "2022-04-01",
          "2022-04-01",
          "2022-04-01",
          "2022-04-01",
          "2022-04-02",
          "2022-04-02",
          "2022-04-02",
          "2022-04-02",
          "2022-04-02",
          "2022-04-02",
          "2022-04-02",
          "2022-04-03",
          "2022-04-03",
          "2022-04-03",
          "2022-04-03",
          "2022-04-05",
          "2022-04-05",
          "2022-04-06",
          "2022-04-07",
          "2022-04-07",
          "2022-04-08",
          "2022-04-08",
          "2022-04-09",
          "2022-04-09",
          "2022-04-10",
          "2022-04-10",
          "2022-04-11",
          "2022-04-11",
          "2022-04-11",
          "2022-04-11",
          "2022-04-12",
          "2022-04-12",
          "2022-04-12",
          "2022-04-12",
          "2022-04-12",
          "2022-04-12",
          "2022-04-12",
          "2022-04-13",
          "2022-04-13",
          "2022-04-14",
          "2022-04-14",
          "2022-04-14",
          "2022-04-14",
          "2022-04-15",
          "2022-04-15",
          "2022-04-15",
          "2022-04-15",
          "2022-04-15",
          "2022-04-16",
          "2022-04-16",
          "2022-04-16",
          "2022-04-16",
          "2022-04-17",
          "2022-04-17",
          "2022-04-17",
          "2022-04-17",
          "2022-04-18",
          "2022-04-18",
          "2022-04-18",
          "2022-04-19",
          "2022-04-19",
          "2022-04-20",
          "2022-04-20",
          "2022-04-20",
          "2022-04-20",
          "2022-04-20",
          "2022-04-20",
          "2022-04-21",
          "2022-04-21",
          "2022-04-21",
          "2022-04-22",
          "2022-04-22",
          "2022-04-23",
          "2022-04-23",
          "2022-04-23",
          "2022-04-23",
          "2022-04-23",
          "2022-04-24",
          "2022-04-24",
          "2022-04-25",
          "2022-04-25",
          "2022-04-25",
          "2022-04-25",
          "2022-04-25",
          "2022-04-26",
          "2022-04-26",
          "2022-04-26",
          "2022-04-26",
          "2022-04-26",
          "2022-04-27",
          "2022-04-27",
          "2022-04-27",
          "2022-04-28",
          "2022-04-28",
          "2022-04-28",
          "2022-04-28",
          "2022-04-29",
          "2022-04-29",
          "2022-04-29",
          "2022-05-01",
          "2022-05-01",
          "2022-05-01",
          "2022-05-01",
          "2022-05-02",
          "2022-05-02",
          "2022-05-02",
          "2022-05-03",
          "2022-05-03",
          "2022-05-03",
          "2022-05-03",
          "2022-05-03",
          "2022-05-04",
          "2022-05-04",
          "2022-05-04",
          "2022-05-05",
          "2022-05-05",
          "2022-05-06",
          "2022-05-06",
          "2022-05-06",
          "2022-05-06",
          "2022-05-07",
          "2022-05-08",
          "2022-05-09",
          "2022-05-09",
          "2022-05-10",
          "2022-05-10",
          "2022-05-10",
          "2022-05-10",
          "2022-05-10",
          "2022-05-10",
          "2022-05-10",
          "2022-05-11",
          "2022-05-11",
          "2022-05-11",
          "2022-05-11",
          "2022-05-11",
          "2022-05-12",
          "2022-05-12",
          "2022-05-12",
          "2022-05-12",
          "2022-05-12",
          "2022-05-12",
          "2022-05-13",
          "2022-05-13",
          "2022-05-13",
          "2022-05-13",
          "2022-05-13",
          "2022-05-14",
          "2022-05-14",
          "2022-05-14",
          "2022-05-14",
          "2022-05-14",
          "2022-05-14",
          "2022-05-14",
          "2022-05-14",
          "2022-05-15",
          "2022-05-15",
          "2022-05-15",
          "2022-05-16",
          "2022-05-16",
          "2022-05-16",
          "2022-05-16",
          "2022-05-17",
          "2022-05-17",
          "2022-05-17",
          "2022-05-17",
          "2022-05-18",
          "2022-05-18",
          "2022-05-19",
          "2022-05-19",
          "2022-05-19",
          "2022-05-20",
          "2022-05-20",
          "2022-05-20",
          "2022-05-21",
          "2022-05-21",
          "2022-05-21",
          "2022-05-22",
          "2022-05-22",
          "2022-05-22",
          "2022-05-22",
          "2022-05-23",
          "2022-05-23",
          "2022-05-23",
          "2022-05-23",
          "2022-05-23",
          "2022-05-24",
          "2022-05-24",
          "2022-05-25",
          "2022-05-25",
          "2022-05-25",
          "2022-05-26",
          "2022-05-26",
          "2022-05-26",
          "2022-05-26",
          "2022-05-27",
          "2022-05-27",
          "2022-05-27",
          "2022-05-27",
          "2022-05-27",
          "2022-05-28",
          "2022-05-28",
          "2022-05-28",
          "2022-05-28",
          "2022-05-28",
          "2022-05-28",
          "2022-05-29",
          "2022-05-29",
          "2022-05-30",
          "2022-05-30",
          "2022-05-30",
          "2022-05-30",
          "2022-05-30",
          "2022-05-30",
          "2022-05-31",
          "2022-05-31",
          "2022-05-31",
          "2022-05-31",
          "2022-06-01",
          "2022-06-01",
          "2022-06-02",
          "2022-06-02",
          "2022-06-02",
          "2022-06-03",
          "2022-06-03",
          "2022-06-03",
          "2022-06-05",
          "2022-06-05",
          "2022-06-06",
          "2022-06-07",
          "2022-06-07",
          "2022-06-07",
          "2022-06-08",
          "2022-06-08",
          "2022-06-08",
          "2022-06-08",
          "2022-06-09",
          "2022-06-09",
          "2022-06-10",
          "2022-06-10",
          "2022-06-11",
          "2022-06-11",
          "2022-06-11",
          "2022-06-12",
          "2022-06-12",
          "2022-06-12",
          "2022-06-12",
          "2022-06-12",
          "2022-06-12",
          "2022-06-13",
          "2022-06-13",
          "2022-06-13",
          "2022-06-13",
          "2022-06-13",
          "2022-06-14",
          "2022-06-14",
          "2022-06-14",
          "2022-06-14",
          "2022-06-14",
          "2022-06-14",
          "2022-06-15",
          "2022-06-15",
          "2022-06-15",
          "2022-06-15",
          "2022-06-16",
          "2022-06-16",
          "2022-06-16",
          "2022-06-16",
          "2022-06-17",
          "2022-06-17",
          "2022-06-17",
          "2022-06-17",
          "2022-06-18",
          "2022-06-18",
          "2022-06-18",
          "2022-06-18",
          "2022-06-18",
          "2022-06-18",
          "2022-06-18",
          "2022-06-18",
          "2022-06-19",
          "2022-06-19",
          "2022-06-19",
          "2022-06-19",
          "2022-06-19",
          "2022-06-19",
          "2022-06-19",
          "2022-06-20",
          "2022-06-20",
          "2022-06-20",
          "2022-06-20",
          "2022-06-20",
          "2022-06-21",
          "2022-06-21",
          "2022-06-21",
          "2022-06-21",
          "2022-06-21",
          "2022-06-21",
          "2022-06-21",
          "2022-06-22",
          "2022-06-22",
          "2022-06-22",
          "2022-06-22",
          "2022-06-23",
          "2022-06-23",
          "2022-06-23",
          "2022-06-24",
          "2022-06-24",
          "2022-06-24",
          "2022-06-24",
          "2022-06-24",
          "2022-06-24",
          "2022-06-24",
          "2022-06-24",
          "2022-06-25",
          "2022-06-25",
          "2022-06-25",
          "2022-06-25",
          "2022-06-25",
          "2022-06-26",
          "2022-06-26",
          "2022-06-26",
          "2022-06-26",
          "2022-06-26",
          "2022-06-26",
          "2022-06-26",
          "2022-06-26",
          "2022-06-27",
          "2022-06-27",
          "2022-06-27",
          "2022-06-27",
          "2022-06-28",
          "2022-06-28",
          "2022-06-28",
          "2022-06-28",
          "2022-06-28",
          "2022-06-29",
          "2022-06-29",
          "2022-06-29",
          "2022-06-29",
          "2022-06-30",
          "2022-06-30",
          "2022-07-01",
          "2022-07-01",
          "2022-07-01",
          "2022-07-01",
          "2022-07-01",
          "2022-07-01",
          "2022-07-01",
          "2022-07-02",
          "2022-07-02",
          "2022-07-02",
          "2022-07-02",
          "2022-07-02",
          "2022-07-02",
          "2022-07-02",
          "2022-07-02",
          "2022-07-02",
          "2022-07-03",
          "2022-07-03",
          "2022-07-04",
          "2022-07-04",
          "2022-07-04",
          "2022-07-05",
          "2022-07-05",
          "2022-07-05",
          "2022-07-06",
          "2022-07-06",
          "2022-07-06",
          "2022-07-07",
          "2022-07-07",
          "2022-07-07",
          "2022-07-07",
          "2022-07-08",
          "2022-07-08",
          "2022-07-08",
          "2022-07-08",
          "2022-07-08",
          "2022-07-09",
          "2022-07-09",
          "2022-07-09",
          "2022-07-10",
          "2022-07-10",
          "2022-07-10",
          "2022-07-10",
          "2022-07-11",
          "2022-07-11",
          "2022-07-11",
          "2022-07-12",
          "2022-07-12",
          "2022-07-12",
          "2022-07-12",
          "2022-07-12",
          "2022-07-13",
          "2022-07-13",
          "2022-07-13",
          "2022-07-14",
          "2022-07-14",
          "2022-07-14",
          "2022-07-14",
          "2022-07-14",
          "2022-07-14",
          "2022-07-14",
          "2022-07-14",
          "2022-07-14",
          "2022-07-14",
          "2022-07-15",
          "2022-07-15",
          "2022-07-15",
          "2022-07-15",
          "2022-07-15",
          "2022-07-16",
          "2022-07-16",
          "2022-07-16",
          "2022-07-16",
          "2022-07-16",
          "2022-07-16",
          "2022-07-16",
          "2022-07-16",
          "2022-07-16",
          "2022-07-16",
          "2022-07-17",
          "2022-07-17",
          "2022-07-18",
          "2022-07-18",
          "2022-07-18",
          "2022-07-18",
          "2022-07-18",
          "2022-07-18",
          "2022-07-19",
          "2022-07-19",
          "2022-07-19",
          "2022-07-20",
          "2022-07-20",
          "2022-07-20",
          "2022-07-20",
          "2022-07-20",
          "2022-07-20",
          "2022-07-21",
          "2022-07-21",
          "2022-07-21",
          "2022-07-21",
          "2022-07-21",
          "2022-07-22",
          "2022-07-22",
          "2022-07-22",
          "2022-07-22",
          "2022-07-22",
          "2022-07-22",
          "2022-07-23",
          "2022-07-23",
          "2022-07-23",
          "2022-07-23",
          "2022-07-24",
          "2022-07-24",
          "2022-07-24",
          "2022-07-24",
          "2022-07-24",
          "2022-07-25",
          "2022-07-25",
          "2022-07-25",
          "2022-07-25",
          "2022-07-25",
          "2022-07-25",
          "2022-07-26",
          "2022-07-26",
          "2022-07-26",
          "2022-07-26",
          "2022-07-26",
          "2022-07-26",
          "2022-07-26",
          "2022-07-26",
          "2022-07-27",
          "2022-07-27",
          "2022-07-27",
          "2022-07-27",
          "2022-07-27",
          "2022-07-27",
          "2022-07-28",
          "2022-07-28",
          "2022-07-29",
          "2022-07-29",
          "2022-07-30",
          "2022-07-30",
          "2022-07-30",
          "2022-07-31",
          "2022-08-01",
          "2022-08-02",
          "2022-08-02",
          "2022-08-02",
          "2022-08-02",
          "2022-08-02",
          "2022-08-02",
          "2022-08-03",
          "2022-08-03",
          "2022-08-03",
          "2022-08-03",
          "2022-08-03",
          "2022-08-04",
          "2022-08-04",
          "2022-08-04",
          "2022-08-04",
          "2022-08-04",
          "2022-08-04",
          "2022-08-04",
          "2022-08-04",
          "2022-08-05",
          "2022-08-05",
          "2022-08-05",
          "2022-08-05",
          "2022-08-05",
          "2022-08-06",
          "2022-08-06",
          "2022-08-06",
          "2022-08-07",
          "2022-08-07",
          "2022-08-07",
          "2022-08-07",
          "2022-08-08",
          "2022-08-08",
          "2022-08-08",
          "2022-08-08",
          "2022-08-09",
          "2022-08-09",
          "2022-08-09",
          "2022-08-09",
          "2022-08-09",
          "2022-08-10",
          "2022-08-10",
          "2022-08-10",
          "2022-08-10",
          "2022-08-10",
          "2022-08-10",
          "2022-08-10",
          "2022-08-10",
          "2022-08-10",
          "2022-08-11",
          "2022-08-11",
          "2022-08-12",
          "2022-08-12",
          "2022-08-12",
          "2022-08-12",
          "2022-08-12",
          "2022-08-12",
          "2022-08-13",
          "2022-08-13",
          "2022-08-14",
          "2022-08-14",
          "2022-08-15",
          "2022-08-15",
          "2022-08-15",
          "2022-08-16",
          "2022-08-16",
          "2022-08-17",
          "2022-08-17",
          "2022-08-18",
          "2022-08-18",
          "2022-08-18",
          "2022-08-18",
          "2022-08-18",
          "2022-08-19",
          "2022-08-20",
          "2022-08-20",
          "2022-08-20",
          "2022-08-20",
          "2022-08-20",
          "2022-08-21",
          "2022-08-21",
          "2022-08-22",
          "2022-08-22",
          "2022-08-22",
          "2022-08-22",
          "2022-08-22",
          "2022-08-23",
          "2022-08-23",
          "2022-08-23",
          "2022-08-24",
          "2022-08-24",
          "2022-08-24",
          "2022-08-24",
          "2022-08-24",
          "2022-08-25",
          "2022-08-25",
          "2022-08-25",
          "2022-08-25",
          "2022-08-25",
          "2022-08-25",
          "2022-08-26",
          "2022-08-26",
          "2022-08-26",
          "2022-08-26",
          "2022-08-26",
          "2022-08-26",
          "2022-08-27",
          "2022-08-27",
          "2022-08-27",
          "2022-08-28",
          "2022-08-28",
          "2022-08-28",
          "2022-08-28",
          "2022-08-28",
          "2022-08-28",
          "2022-08-29",
          "2022-08-29",
          "2022-08-29",
          "2022-08-29",
          "2022-08-29",
          "2022-08-30",
          "2022-08-30",
          "2022-08-30",
          "2022-08-30",
          "2022-08-30",
          "2022-08-31",
          "2022-08-31",
          "2022-08-31",
          "2022-08-31",
          "2022-08-31",
          "2022-09-01",
          "2022-09-01",
          "2022-09-01",
          "2022-09-01",
          "2022-09-01",
          "2022-09-02",
          "2022-09-02",
          "2022-09-02",
          "2022-09-03",
          "2022-09-03",
          "2022-09-03",
          "2022-09-03",
          "2022-09-04",
          "2022-09-04",
          "2022-09-04",
          "2022-09-04",
          "2022-09-04",
          "2022-09-06",
          "2022-09-06",
          "2022-09-06",
          "2022-09-06",
          "2022-09-07",
          "2022-09-07",
          "2022-09-07",
          "2022-09-10",
          "2022-09-10",
          "2022-09-10",
          "2022-09-10",
          "2022-09-12",
          "2022-09-13",
          "2022-09-13",
          "2022-09-16",
          "2022-09-16",
          "2022-09-17",
          "2022-09-17",
          "2022-09-17",
          "2022-09-19",
          "2022-09-21",
          "2022-09-21",
          "2022-09-22",
          "2022-09-22",
          "2022-09-22",
          "2022-09-23",
          "2022-09-23",
          "2022-09-23",
          "2022-09-24",
          "2022-09-24",
          "2022-09-24",
          "2022-09-24",
          "2022-09-24",
          "2022-09-25",
          "2022-09-25",
          "2022-09-25",
          "2022-09-25",
          "2022-09-26",
          "2022-09-26",
          "2022-09-26",
          "2022-09-27",
          "2022-09-27",
          "2022-09-27",
          "2022-09-27",
          "2022-09-27",
          "2022-09-28",
          "2022-09-29",
          "2022-09-29",
          "2022-09-29",
          "2022-09-29",
          "2022-09-29",
          "2022-09-30",
          "2022-09-30",
          "2022-09-30",
          "2022-09-30",
          "2022-09-30",
          "2022-10-01",
          "2022-10-01",
          "2022-10-01",
          "2022-10-01",
          "2022-10-01",
          "2022-10-01",
          "2022-10-02",
          "2022-10-02",
          "2022-10-02",
          "2022-10-02",
          "2022-10-03",
          "2022-10-03",
          "2022-10-03",
          "2022-10-03",
          "2022-10-04",
          "2022-10-04",
          "2022-10-04",
          "2022-10-05",
          "2022-10-05",
          "2022-10-05",
          "2022-10-05",
          "2022-10-05",
          "2022-10-05",
          "2022-10-05",
          "2022-10-05",
          "2022-10-05",
          "2022-10-06",
          "2022-10-06",
          "2022-10-06",
          "2022-10-06",
          "2022-10-06",
          "2022-10-07",
          "2022-10-08",
          "2022-10-08",
          "2022-10-08",
          "2022-10-08",
          "2022-10-08",
          "2022-10-08",
          "2022-10-09",
          "2022-10-09",
          "2022-10-09",
          "2022-10-11",
          "2022-10-11",
          "2022-10-11",
          "2022-10-11",
          "2022-10-11",
          "2022-10-11",
          "2022-10-12",
          "2022-10-12",
          "2022-10-12",
          "2022-10-13",
          "2022-10-13",
          "2022-10-13",
          "2022-10-15",
          "2022-10-15",
          "2022-10-16",
          "2022-10-16",
          "2022-10-16",
          "2022-10-17",
          "2022-10-17",
          "2022-10-17",
          "2022-10-18",
          "2022-10-18",
          "2022-10-18",
          "2022-10-19",
          "2022-10-19",
          "2022-10-19",
          "2022-10-19",
          "2022-10-20",
          "2022-10-20",
          "2022-10-20",
          "2022-10-20",
          "2022-10-20",
          "2022-10-21",
          "2022-10-22",
          "2022-10-22",
          "2022-10-22",
          "2022-10-23",
          "2022-10-23",
          "2022-10-23",
          "2022-10-23",
          "2022-10-24",
          "2022-10-24",
          "2022-10-24",
          "2022-10-24",
          "2022-10-25",
          "2022-10-25",
          "2022-10-25",
          "2022-10-25",
          "2022-10-25",
          "2022-10-26",
          "2022-10-26",
          "2022-10-26",
          "2022-10-26",
          "2022-10-26",
          "2022-10-27",
          "2022-10-27",
          "2022-10-27",
          "2022-10-27",
          "2022-10-27",
          "2022-10-28",
          "2022-10-28",
          "2022-10-28",
          "2022-10-29",
          "2022-10-29",
          "2022-10-29",
          "2022-10-29",
          "2022-10-29",
          "2022-10-29",
          "2022-10-29",
          "2022-10-29",
          "2022-10-30",
          "2022-10-30",
          "2022-10-30",
          "2022-10-30",
          "2022-10-30",
          "2022-10-30",
          "2022-10-30",
          "2022-10-31",
          "2022-10-31",
          "2022-10-31",
          "2022-10-31",
          "2022-10-31",
          "2022-10-31",
          "2022-11-01",
          "2022-11-01",
          "2022-11-01",
          "2022-11-01",
          "2022-11-01",
          "2022-11-02",
          "2022-11-02",
          "2022-11-02",
          "2022-11-03",
          "2022-11-03",
          "2022-11-04",
          "2022-11-04",
          "2022-11-04",
          "2022-11-05",
          "2022-11-05",
          "2022-11-05",
          "2022-11-05",
          "2022-11-05",
          "2022-11-05",
          "2022-11-05",
          "2022-11-06",
          "2022-11-06",
          "2022-11-06",
          "2022-11-06",
          "2022-11-06",
          "2022-11-06",
          "2022-11-07",
          "2022-11-07",
          "2022-11-07",
          "2022-11-07",
          "2022-11-08",
          "2022-11-08",
          "2022-11-09",
          "2022-11-09",
          "2022-11-09",
          "2022-11-09",
          "2022-11-10",
          "2022-11-10",
          "2022-11-10",
          "2022-11-10",
          "2022-11-11",
          "2022-11-11",
          "2022-11-11",
          "2022-11-11",
          "2022-11-11",
          "2022-11-11",
          "2022-11-12",
          "2022-11-12",
          "2022-11-12",
          "2022-11-12",
          "2022-11-12",
          "2022-11-12",
          "2022-11-13",
          "2022-11-13",
          "2022-11-13",
          "2022-11-14",
          "2022-11-14",
          "2022-11-16",
          "2022-11-16",
          "2022-11-16",
          "2022-11-17",
          "2022-11-17",
          "2022-11-17",
          "2022-11-17",
          "2022-11-18",
          "2022-11-18",
          "2022-11-18",
          "2022-11-18",
          "2022-11-18",
          "2022-11-19",
          "2022-11-19",
          "2022-11-19",
          "2022-11-19",
          "2022-11-19",
          "2022-11-19",
          "2022-11-20",
          "2022-11-20",
          "2022-11-20",
          "2022-11-20",
          "2022-11-20",
          "2022-11-21",
          "2022-11-21",
          "2022-11-22",
          "2022-11-22",
          "2022-11-22",
          "2022-11-23",
          "2022-11-23",
          "2022-11-23",
          "2022-11-23",
          "2022-11-23",
          "2022-11-24",
          "2022-11-24",
          "2022-11-24",
          "2022-11-24",
          "2022-11-24",
          "2022-11-24",
          "2022-11-24",
          "2022-11-24",
          "2022-11-24",
          "2022-11-25",
          "2022-11-25",
          "2022-11-25",
          "2022-11-25",
          "2022-11-25",
          "2022-11-25",
          "2022-11-25",
          "2022-11-26",
          "2022-11-26",
          "2022-11-26",
          "2022-11-26",
          "2022-11-26",
          "2022-11-27",
          "2022-11-27",
          "2022-11-27",
          "2022-11-27",
          "2022-11-28",
          "2022-11-28",
          "2022-11-28",
          "2022-11-28",
          "2022-11-29",
          "2022-11-29",
          "2022-11-29",
          "2022-11-29",
          "2022-11-29",
          "2022-11-30",
          "2022-11-30",
          "2022-12-01",
          "2022-12-01",
          "2022-12-02",
          "2022-12-02",
          "2022-12-03",
          "2022-12-03",
          "2022-12-03",
          "2022-12-03",
          "2022-12-04",
          "2022-12-04",
          "2022-12-04",
          "2022-12-04",
          "2022-12-05",
          "2022-12-05",
          "2022-12-05",
          "2022-12-05",
          "2022-12-06",
          "2022-12-06",
          "2022-12-06",
          "2022-12-06",
          "2022-12-06",
          "2022-12-07",
          "2022-12-07",
          "2022-12-08",
          "2022-12-08",
          "2022-12-08",
          "2022-12-09",
          "2022-12-10",
          "2022-12-10",
          "2022-12-11",
          "2022-12-13",
          "2022-12-13",
          "2022-12-13",
          "2022-12-13",
          "2022-12-13",
          "2022-12-14",
          "2022-12-14",
          "2022-12-15",
          "2022-12-15",
          "2022-12-15",
          "2022-12-15",
          "2022-12-15",
          "2022-12-17",
          "2022-12-17",
          "2022-12-17",
          "2022-12-17",
          "2022-12-17",
          "2022-12-18",
          "2022-12-18",
          "2022-12-18",
          "2022-12-18",
          "2022-12-18",
          "2022-12-19",
          "2022-12-19",
          "2022-12-19",
          "2022-12-19",
          "2022-12-19",
          "2022-12-19",
          "2022-12-19",
          "2022-12-19",
          "2022-12-19",
          "2022-12-20",
          "2022-12-20",
          "2022-12-20",
          "2022-12-20",
          "2022-12-20",
          "2022-12-20",
          "2022-12-20",
          "2022-12-21",
          "2022-12-21",
          "2022-12-21",
          "2022-12-21",
          "2022-12-22",
          "2022-12-22",
          "2022-12-22",
          "2022-12-22",
          "2022-12-22",
          "2022-12-22",
          "2022-12-23",
          "2022-12-24",
          "2022-12-24",
          "2022-12-24",
          "2022-12-24",
          "2022-12-25",
          "2022-12-25",
          "2022-12-26",
          "2022-12-26",
          "2022-12-26",
          "2022-12-26",
          "2022-12-27",
          "2022-12-27",
          "2022-12-27",
          "2022-12-27",
          "2022-12-27",
          "2022-12-27",
          "2022-12-28",
          "2022-12-28",
          "2022-12-29",
          "2022-12-29",
          "2022-12-29",
          "2022-12-29",
          "2022-12-29",
          "2022-12-29",
          "2022-12-30",
          "2022-12-30",
          "2022-12-30",
          "2022-12-31",
          "2022-12-31",
          "2022-12-31",
          "2022-12-31",
          "2022-12-31",
          "2022-12-31",
          "2022-12-31",
          "2022-12-31",
          "2023-01-01",
          "2023-01-01",
          "2023-01-01",
          "2023-01-01",
          "2023-01-01",
          "2023-01-01",
          "2023-01-01",
          "2023-01-01",
          "2023-01-02",
          "2023-01-02",
          "2023-01-03",
          "2023-01-03",
          "2023-01-03",
          "2023-01-03",
          "2023-01-03",
          "2023-01-04",
          "2023-01-04",
          "2023-01-05",
          "2023-01-05",
          "2023-01-05",
          "2023-01-05",
          "2023-01-05",
          "2023-01-06",
          "2023-01-06",
          "2023-01-06",
          "2023-01-06",
          "2023-01-06",
          "2023-01-07",
          "2023-01-07",
          "2023-01-07",
          "2023-01-08",
          "2023-01-08",
          "2023-01-09",
          "2023-01-10",
          "2023-01-10",
          "2023-01-10",
          "2023-01-10",
          "2023-01-11",
          "2023-01-11",
          "2023-01-11",
          "2023-01-11",
          "2023-01-11",
          "2023-01-12",
          "2023-01-12",
          "2023-01-12",
          "2023-01-12",
          "2023-01-13",
          "2023-01-13",
          "2023-01-13",
          "2023-01-13",
          "2023-01-13",
          "2023-01-14",
          "2023-01-14",
          "2023-01-14",
          "2023-01-14",
          "2023-01-14",
          "2023-01-14",
          "2023-01-14",
          "2023-01-14",
          "2023-01-14",
          "2023-01-14",
          "2023-01-15",
          "2023-01-16",
          "2023-01-16",
          "2023-01-16",
          "2023-01-17",
          "2023-01-17",
          "2023-01-17",
          "2023-01-17",
          "2023-01-17",
          "2023-01-18",
          "2023-01-18",
          "2023-01-18",
          "2023-01-18",
          "2023-01-18",
          "2023-01-18",
          "2023-01-18",
          "2023-01-19",
          "2023-01-19",
          "2023-01-19",
          "2023-01-19",
          "2023-01-19",
          "2023-01-19",
          "2023-01-19",
          "2023-01-19",
          "2023-01-20",
          "2023-01-20",
          "2023-01-20",
          "2023-01-20",
          "2023-01-20",
          "2023-01-21",
          "2023-01-21",
          "2023-01-21",
          "2023-01-21",
          "2023-01-21",
          "2023-01-21",
          "2023-01-21",
          "2023-01-22",
          "2023-01-22",
          "2023-01-22",
          "2023-01-22",
          "2023-01-23",
          "2023-01-23",
          "2023-01-23",
          "2023-01-23",
          "2023-01-23",
          "2023-01-24",
          "2023-01-24",
          "2023-01-24",
          "2023-01-24",
          "2023-01-24",
          "2023-01-24",
          "2023-01-25",
          "2023-01-25",
          "2023-01-25",
          "2023-01-25",
          "2023-01-26",
          "2023-01-26",
          "2023-01-26",
          "2023-01-26",
          "2023-01-27",
          "2023-01-27",
          "2023-01-27",
          "2023-01-27",
          "2023-01-27",
          "2023-01-27",
          "2023-01-28",
          "2023-01-28",
          "2023-01-28",
          "2023-01-28",
          "2023-01-28",
          "2023-01-28",
          "2023-01-28",
          "2023-01-28",
          "2023-01-29",
          "2023-01-29",
          "2023-01-29",
          "2023-01-30",
          "2023-01-30",
          "2023-01-30",
          "2023-01-31",
          "2023-01-31",
          "2023-01-31",
          "2023-01-31",
          "2023-01-31",
          "2023-02-01",
          "2023-02-01",
          "2023-02-02",
          "2023-02-02",
          "2023-02-03",
          "2023-02-03",
          "2023-02-03",
          "2023-02-04",
          "2023-02-04",
          "2023-02-04",
          "2023-02-04",
          "2023-02-04",
          "2023-02-04",
          "2023-02-04",
          "2023-02-04",
          "2023-02-04",
          "2023-02-05",
          "2023-02-05",
          "2023-02-05",
          "2023-02-05",
          "2023-02-05",
          "2023-02-05",
          "2023-02-06",
          "2023-02-06",
          "2023-02-06",
          "2023-02-06",
          "2023-02-07",
          "2023-02-07",
          "2023-02-07",
          "2023-02-07",
          "2023-02-07",
          "2023-02-07",
          "2023-02-07",
          "2023-02-08",
          "2023-02-08",
          "2023-02-08",
          "2023-02-08",
          "2023-02-09",
          "2023-02-09",
          "2023-02-09",
          "2023-02-09",
          "2023-02-09",
          "2023-02-10",
          "2023-02-10",
          "2023-02-10",
          "2023-02-10",
          "2023-02-10",
          "2023-02-10",
          "2023-02-10",
          "2023-02-11",
          "2023-02-11",
          "2023-02-11",
          "2023-02-12",
          "2023-02-12",
          "2023-02-12",
          "2023-02-13",
          "2023-02-13",
          "2023-02-14",
          "2023-02-15",
          "2023-02-16",
          "2023-02-16",
          "2023-02-16",
          "2023-02-16",
          "2023-02-18",
          "2023-02-18",
          "2023-02-21",
          "2023-02-22",
          "2023-02-23",
          "2023-02-23",
          "2023-02-24",
          "2023-02-25",
          "2023-02-25",
          "2023-02-25",
          "2023-02-25",
          "2023-02-26",
          "2023-02-26",
          "2023-02-28",
          "2023-02-28",
          "2023-03-02",
          "2023-03-03",
          "2023-03-04",
          "2023-03-04",
          "2023-03-06",
          "2023-03-06",
          "2023-03-06",
          "2023-03-08",
          "2023-03-08",
          "2023-03-10",
          "2023-03-10",
          "2023-03-11",
          "2023-03-11",
          "2023-03-12",
          "2023-03-12",
          "2023-03-13",
          "2023-03-16",
          "2023-03-16",
          "2023-03-17",
          "2023-03-18",
          "2023-03-18",
          "2023-03-19",
          "2023-03-19",
          "2023-03-20",
          "2023-03-20",
          "2023-03-22",
          "2023-03-22",
          "2023-03-23",
          "2023-03-24",
          "2023-03-24",
          "2023-03-24",
          "2023-03-25",
          "2023-03-25",
          "2023-03-25",
          "2023-03-25",
          "2023-03-27",
          "2023-03-28",
          "2023-03-28",
          "2023-03-30",
          "2023-03-31",
          "2023-03-31",
          "2023-03-31",
          "2023-03-31",
          "2023-04-01",
          "2023-04-01",
          "2023-04-01",
          "2023-04-03",
          "2023-04-04",
          "2023-04-04",
          "2023-04-04",
          "2023-04-05",
          "2023-04-05",
          "2023-04-06",
          "2023-04-07",
          "2023-04-08",
          "2023-04-09",
          "2023-04-09",
          "2023-04-09",
          "2023-04-09",
          "2023-04-11",
          "2023-04-11",
          "2023-04-11",
          "2023-04-11",
          "2023-04-12",
          "2023-04-13",
          "2023-04-13",
          "2023-04-13",
          "2023-04-14",
          "2023-04-15",
          "2023-04-15",
          "2023-04-15",
          "2023-04-15",
          "2023-04-17",
          "2023-04-18",
          "2023-04-18",
          "2023-04-20",
          "2023-04-21",
          "2023-04-22",
          "2023-04-22",
          "2023-04-22",
          "2023-04-24",
          "2023-04-24",
          "2023-04-25",
          "2023-04-25",
          "2023-04-26",
          "2023-04-26"
         ],
         "y": [
          5.75,
          2,
          10,
          70,
          150,
          50,
          2,
          2,
          10,
          10,
          52.14,
          6,
          10,
          10,
          10,
          10,
          10,
          10,
          10,
          150,
          2,
          5.45,
          10,
          10,
          1.52,
          1,
          200,
          10,
          200,
          2,
          1446,
          6.05,
          50,
          6.05,
          2,
          10,
          50,
          14,
          14,
          13.55,
          10.3,
          2,
          2,
          100,
          210,
          2,
          7.3,
          2,
          10,
          20,
          6.05,
          1.58,
          20,
          50,
          200,
          2,
          50,
          280,
          50,
          6.05,
          2,
          1,
          200,
          42.8,
          430,
          20,
          100,
          6.7,
          5.1,
          17,
          6,
          20,
          50,
          450,
          20,
          20,
          50,
          2,
          20,
          1,
          150,
          11.86,
          19.5,
          6,
          20,
          22.21,
          10,
          20,
          20,
          50,
          100,
          2,
          100,
          2,
          100.1,
          80,
          12,
          23.15,
          20,
          50,
          2,
          11.8,
          20,
          100,
          100,
          2,
          28.31,
          21.8,
          2,
          70,
          38.1,
          20,
          50,
          1.58,
          17,
          20,
          18,
          17,
          20,
          100,
          2,
          45.57,
          13,
          1321,
          7.7,
          5.93,
          20,
          1,
          150,
          9,
          53.37,
          70,
          20,
          14,
          20,
          100,
          30,
          2,
          15,
          5.57,
          10,
          20,
          100,
          3,
          2,
          8.7,
          19,
          20,
          20,
          20,
          100,
          2,
          3.5,
          17.5,
          10,
          100,
          30,
          7,
          2,
          10,
          50,
          11.9,
          24,
          8,
          1,
          200,
          8,
          20,
          100,
          2,
          10,
          20,
          20,
          5.2,
          34.1,
          13,
          6.7,
          10,
          10,
          6.7,
          10,
          1.58,
          1.58,
          9.03,
          50,
          100,
          2,
          6.7,
          16.37,
          270,
          450,
          20,
          5.75,
          100,
          7,
          2,
          100,
          1.58,
          7.5,
          2.5,
          2,
          70,
          17,
          5.89,
          50,
          100,
          2,
          11,
          20,
          100,
          2,
          15.76,
          20,
          20,
          20,
          20,
          100,
          56,
          2,
          67.1,
          4.2,
          161.59,
          5.6,
          10,
          10,
          15,
          16.61,
          6.7,
          10,
          100,
          15,
          4,
          2,
          6.7,
          2.5,
          30,
          20,
          20,
          50,
          50,
          15,
          2,
          20,
          20,
          20,
          150,
          2,
          62.2,
          250,
          59.62,
          29.99,
          131.46,
          100,
          100,
          2,
          318,
          5.75,
          30,
          15,
          1344,
          20,
          20,
          20,
          2,
          60,
          130,
          20,
          20,
          20,
          50,
          30,
          15,
          2,
          25,
          3.5,
          20,
          2,
          60,
          8.4,
          30.24,
          12,
          6.2,
          20,
          30,
          2,
          70,
          16.68,
          20,
          100,
          88.8,
          6.7,
          55.9,
          20,
          10,
          100,
          2,
          4.65,
          20,
          20,
          2,
          4.85,
          60,
          6.2,
          20,
          20,
          10,
          50,
          2,
          12,
          18.27,
          20,
          2,
          6.05,
          80,
          20,
          50,
          100,
          30,
          2,
          4,
          25,
          14.5,
          37.2,
          20,
          30,
          450,
          20,
          290,
          21.6,
          20,
          20,
          6.8,
          14,
          20,
          20,
          30,
          6.17,
          14,
          100,
          30,
          20,
          100,
          150,
          50.4,
          2,
          25,
          120,
          36.33,
          10,
          100,
          35,
          2,
          19.8,
          30.3,
          20,
          20,
          20,
          20,
          10,
          30,
          30,
          40,
          20,
          20,
          30,
          5,
          14,
          40,
          150,
          2,
          14,
          100,
          40,
          2,
          2,
          16,
          5.75,
          150,
          70,
          2,
          4,
          180,
          14,
          20,
          14,
          3,
          20,
          20,
          20,
          20,
          1436,
          50,
          150,
          2,
          2,
          20,
          6.7,
          8.3,
          1,
          30,
          150,
          18.06,
          150,
          70,
          2,
          2.7,
          20,
          20,
          6.6,
          7,
          20,
          44.18,
          6.6,
          20,
          5.5,
          20,
          14,
          20,
          20,
          20,
          100,
          2,
          7.53,
          20.23,
          20,
          100,
          2,
          12.1,
          20,
          2,
          6.2,
          2.7,
          20,
          20,
          20,
          17.76,
          6.6,
          50,
          2,
          6.6,
          3.97,
          270,
          12,
          20,
          20,
          10,
          10,
          100,
          2,
          2,
          450,
          20,
          100,
          40,
          2,
          6.05,
          22,
          10.89,
          45.07,
          20,
          10,
          100,
          48.15,
          20,
          10,
          100,
          2,
          6.8,
          6.6,
          20,
          100,
          11,
          1.2,
          20,
          20,
          40,
          2,
          6.6,
          20,
          40,
          2,
          6.05,
          1.8,
          20,
          40,
          2,
          50,
          40,
          40,
          2,
          2,
          10,
          20,
          2.5,
          21.32,
          84,
          20,
          20,
          40,
          2,
          6.6,
          30,
          2,
          96,
          6.2,
          10,
          20,
          20,
          10,
          10,
          20,
          6.2,
          1415,
          8.4,
          20,
          50,
          100,
          40,
          60,
          2,
          2,
          28.9,
          35.65,
          20.44,
          17.1,
          100,
          2,
          20,
          20,
          20,
          12,
          50,
          35,
          2,
          20,
          50,
          2,
          20,
          20,
          20,
          12,
          70,
          100,
          2,
          2,
          79,
          23.88,
          50,
          100,
          25,
          2,
          2,
          29.78,
          20,
          5.61,
          6.6,
          20,
          20,
          50,
          3,
          7,
          12,
          10,
          20,
          15.09,
          1.2,
          6.6,
          20,
          20,
          20,
          50,
          12,
          20,
          93,
          20,
          20,
          50,
          100,
          100,
          2,
          5.75,
          22,
          40.94,
          13,
          20,
          50,
          2,
          15,
          250,
          450,
          20,
          20,
          50,
          2,
          12,
          20,
          6.05,
          12,
          50,
          2,
          6.6,
          20,
          20,
          20,
          100,
          2,
          2,
          60,
          10,
          20,
          100,
          30,
          4,
          20,
          30,
          44.28,
          5,
          70,
          5.06,
          10,
          12,
          6.6,
          20,
          20,
          50,
          15,
          2,
          2,
          17.4,
          12,
          6.2,
          20,
          20,
          20,
          40,
          29.1,
          100,
          20,
          1363,
          23.2,
          20,
          50,
          2,
          5.18,
          6.2,
          20,
          100,
          123,
          20,
          20,
          20,
          15.6,
          20,
          20,
          12,
          20,
          20,
          100,
          100,
          2,
          2,
          43.78,
          1199.1,
          12,
          5.68,
          6.2,
          10.5,
          5.83,
          20,
          50,
          12,
          2,
          20,
          20,
          50,
          15,
          2,
          20,
          50,
          20,
          50,
          100,
          30,
          2,
          2,
          13.39,
          45.95,
          5.75,
          120,
          7,
          2,
          18.24,
          64.99,
          2,
          60,
          3.5,
          6.6,
          20,
          20,
          20,
          20,
          15,
          6.05,
          4.5,
          450,
          20,
          50,
          15,
          2,
          8.3,
          6.2,
          250,
          6.2,
          20,
          20,
          2,
          70,
          5.78,
          20,
          20,
          100,
          9,
          2,
          70,
          62,
          50,
          7.8,
          2,
          4.93,
          12,
          6.2,
          20,
          20,
          20,
          20,
          20,
          40,
          2,
          20,
          20,
          20,
          20,
          2,
          4.21,
          20,
          50,
          50,
          2,
          188,
          30.59,
          20,
          20,
          40,
          2,
          20,
          2,
          50,
          100,
          100,
          2,
          24,
          1246,
          20,
          10,
          20,
          50,
          100,
          100,
          2,
          2,
          2.85,
          50.9,
          68.6,
          7.7,
          10,
          55,
          22,
          10,
          6.7,
          6.4,
          10,
          10,
          6.05,
          100,
          2,
          6.6,
          17.5,
          10,
          50,
          26.06,
          200,
          2,
          14,
          25.11,
          10,
          50,
          100,
          2,
          40.99,
          9.5,
          50,
          100,
          30,
          2,
          2,
          3.8,
          10,
          20,
          2,
          20,
          100,
          14,
          60,
          50,
          2,
          6.05,
          275,
          50,
          2,
          60,
          5.83,
          90,
          2,
          55.38,
          60,
          28.96,
          50,
          2,
          40.66,
          37.92,
          450,
          1.6,
          14,
          20,
          20,
          40,
          14,
          60.19,
          25.6,
          9.3,
          25.2,
          18,
          20,
          15,
          18,
          20,
          20,
          2,
          20,
          20,
          6.2,
          20,
          20,
          22.57,
          3.58,
          20,
          20,
          30,
          25,
          3.5,
          1.79,
          20,
          20,
          4,
          20,
          16,
          157.2,
          10,
          20,
          20,
          20,
          20,
          20,
          50,
          2,
          1472,
          20,
          20,
          20,
          92,
          0.11,
          20,
          20,
          50,
          50,
          2,
          100,
          2,
          14,
          0.05,
          50.86,
          100,
          150,
          2,
          2,
          20.84,
          30,
          150,
          2,
          28,
          90,
          80,
          19.95,
          20,
          17.5,
          9,
          10,
          10,
          20,
          6.7,
          10,
          100,
          14,
          1107,
          6.7,
          20,
          20,
          200,
          14,
          200,
          2,
          38.8,
          31.42,
          100,
          2,
          100,
          200,
          2,
          40.03,
          14,
          50,
          2,
          250,
          17.5,
          450,
          50,
          14,
          6.07,
          20,
          8.05,
          10,
          50,
          100,
          100,
          29.8,
          2,
          2,
          37.11,
          42.9,
          10,
          20,
          20,
          2,
          10,
          40,
          7.6,
          10,
          18,
          10,
          10,
          10,
          50,
          2,
          6.05,
          2,
          100,
          150,
          2,
          2,
          100,
          100,
          150,
          10,
          20,
          2,
          100,
          14.16,
          4.1,
          20.8,
          8.2,
          2,
          6.6,
          10,
          20,
          6.5,
          1521,
          18,
          50,
          2,
          19.3,
          6.2,
          6.5,
          11.15,
          6.6,
          23.5,
          18,
          20,
          20,
          100,
          6.5,
          10.9,
          18,
          10,
          20,
          2,
          100,
          38.78,
          10,
          10,
          50,
          2,
          100,
          4.74,
          6.6,
          23.5,
          10,
          20,
          2,
          2,
          100,
          100,
          35,
          12,
          10,
          15,
          7,
          10.13,
          2,
          6.2,
          10,
          10,
          2,
          2,
          100,
          100,
          90.8,
          10,
          10,
          15,
          10.66,
          18,
          20,
          4.91,
          6.6,
          20,
          10,
          10,
          10,
          3.79,
          50,
          2,
          6.2,
          1.6,
          450,
          18,
          10,
          20,
          20,
          10.9,
          10,
          2,
          2,
          100,
          150,
          10,
          25.55,
          250,
          20,
          2,
          100,
          4.18,
          6.6,
          20,
          11.29,
          22.9,
          10.2,
          20,
          20,
          10,
          50,
          6.2,
          10,
          100,
          100,
          150,
          2,
          2,
          74.92,
          14.95,
          18,
          48.16,
          18,
          90.1,
          140.05,
          19,
          50,
          100,
          35.7,
          2,
          74,
          830,
          1373,
          18,
          100,
          100,
          100,
          2,
          2,
          2,
          359.6,
          150,
          2,
          72,
          64.5,
          263.6,
          24.5,
          31.41,
          100,
          2,
          127.6,
          20,
          120,
          120,
          60,
          5.5,
          100,
          2,
          18.5,
          125,
          38.04,
          60,
          100,
          8,
          2,
          2,
          10,
          16,
          20,
          50,
          100,
          4,
          7.45,
          4,
          16.48,
          56.5,
          100,
          2,
          2,
          22.8,
          36.5,
          11.6,
          6,
          3,
          3,
          50,
          50,
          4,
          2,
          2,
          2,
          5.1,
          23,
          39,
          6.2,
          1.6,
          18,
          2,
          5.2,
          1.58,
          6.2,
          20,
          1.5,
          1.58,
          19,
          5.06,
          6.6,
          1.6,
          450,
          50,
          2,
          6.9,
          20,
          50,
          1.2,
          10,
          10,
          10,
          100,
          2,
          47.53,
          4.7,
          26,
          2,
          1.8,
          2.5,
          6.58,
          6.2,
          10,
          12,
          8.8,
          3.38,
          6.6,
          10,
          6.45,
          3.5,
          3.5,
          9.99,
          10,
          19.97,
          6.2,
          50,
          2,
          0.1,
          38.5,
          1264,
          6.7,
          100,
          100,
          30,
          2,
          2,
          0.1,
          36.06,
          10,
          24.64,
          9.5,
          6.4,
          15.1,
          7.8,
          10,
          3.38,
          6.2,
          18,
          10,
          50,
          2,
          8.91,
          6.2,
          50,
          13.7,
          3.38,
          18,
          10,
          100,
          24.5,
          6.2,
          30.33,
          0.1,
          8.25,
          388.8,
          100,
          2,
          2,
          14.32,
          0.1,
          6.2,
          18,
          150,
          8.33,
          50,
          2,
          18,
          100,
          27.5,
          18,
          10,
          0.25,
          27.88,
          10,
          50,
          2,
          7.24,
          10,
          6.7,
          250,
          450,
          10,
          14,
          6.2,
          50,
          2,
          50,
          2,
          50,
          12,
          2,
          6.7,
          9.68,
          10,
          10,
          20,
          20,
          112.6,
          2,
          70,
          50,
          40,
          2,
          2,
          10,
          6.2,
          6.2,
          20,
          20,
          4.2,
          6.2,
          10,
          22.73,
          2,
          110,
          20,
          2,
          14,
          6.2,
          20,
          50,
          1537,
          2,
          8.25,
          6.7,
          70,
          10,
          6.2,
          20,
          20,
          5.31,
          13.2,
          50,
          50,
          30,
          2,
          2,
          10,
          1,
          150,
          31.7,
          10,
          10,
          100,
          2,
          50,
          118,
          21,
          20,
          46,
          10,
          10,
          10,
          50,
          2,
          6.7,
          50,
          34,
          6.2,
          20,
          50,
          10,
          10,
          100,
          2,
          15.33,
          10,
          19.94,
          10,
          16,
          2,
          17.9,
          15.79,
          10,
          450,
          14,
          6.7,
          250,
          20,
          50,
          6.2,
          17.6,
          19.5,
          39,
          9,
          10,
          20,
          6.7,
          10,
          10,
          2,
          60,
          10,
          30,
          6.75,
          10,
          10,
          50,
          2,
          1.6,
          40,
          6.2,
          7,
          20,
          6.7,
          100,
          14,
          13.24,
          6.2,
          30,
          10.5,
          10,
          3.38,
          10,
          10,
          20,
          50,
          2,
          2,
          6.2,
          10,
          50,
          6.23,
          1376,
          2.8,
          10,
          22,
          0.1,
          12.1,
          6.7,
          7,
          10,
          20,
          50,
          2,
          6.2,
          10,
          50,
          100,
          15,
          2,
          2,
          47.3,
          30.1,
          10,
          10,
          19.01,
          20,
          50,
          2,
          13,
          10,
          30,
          17,
          6.7,
          50,
          6.3,
          50,
          2,
          196.8,
          50,
          2,
          34,
          189,
          12.24,
          8.3,
          10,
          50,
          2,
          7,
          10,
          20,
          16,
          47.17,
          6.7,
          50,
          6.2,
          10,
          7.95,
          6.7,
          10,
          10,
          6.1,
          20.5,
          10,
          1.58,
          450,
          80,
          6.7,
          10,
          100,
          1,
          5,
          12.9,
          14,
          10,
          18.62,
          10,
          40,
          2,
          14,
          250,
          22.5,
          50,
          163,
          18,
          7,
          2,
          60,
          100,
          2,
          105,
          10,
          20,
          120,
          2,
          60,
          50,
          10,
          3.7,
          18,
          3.38,
          16.93,
          6.2,
          220,
          10,
          4.09,
          6.2,
          3.8,
          10,
          12,
          22.56,
          20,
          5.5,
          4.5,
          4.5,
          10.47,
          2.2,
          10,
          5.5,
          1533,
          6.7,
          28,
          10,
          50,
          15,
          19.02,
          6.2,
          18,
          100,
          0.1,
          4.2,
          6.7,
          10,
          3.5,
          6.2,
          4,
          10,
          100,
          12.9,
          8.86,
          10,
          10,
          5.5,
          61.58,
          12.5,
          3.8,
          7,
          9,
          10,
          10,
          100,
          100,
          8.5,
          2,
          2,
          10,
          2.5,
          6.7,
          3.2,
          18,
          10,
          10,
          10,
          10,
          50,
          5,
          2,
          100,
          8.81,
          0.27,
          7.4,
          10,
          6.69,
          6.7,
          10,
          20,
          100,
          2,
          6,
          6.2,
          3,
          3.2,
          16,
          0.26,
          3.6,
          6.7,
          3.2,
          10,
          100,
          5,
          2,
          22,
          5.5,
          4.5,
          19.62,
          10,
          10,
          250,
          450,
          10,
          1.58,
          6.2,
          28.65,
          3.2,
          10,
          50,
          2,
          3.2,
          25.52,
          14,
          10,
          50,
          50,
          2,
          3.2,
          6.2,
          11.5,
          10,
          100,
          150,
          2,
          2,
          14.2,
          7.5,
          2.4,
          21.5,
          16.18,
          7.7,
          10,
          10,
          6.7,
          2,
          60,
          6.2,
          50,
          2,
          5.5,
          10,
          50,
          5.5,
          3.38,
          10,
          8.36,
          3.38,
          7.7,
          6.2,
          10,
          10,
          40.09,
          10,
          10,
          5.28,
          12.5,
          5.2,
          6.2,
          3.7,
          10,
          10,
          100,
          1515,
          6.7,
          1.6,
          6.19,
          6.2,
          10,
          10,
          10,
          50,
          2,
          23.83,
          9.65,
          4.59,
          3.88,
          0.1,
          2.2,
          50,
          2,
          9.48,
          6.7,
          10,
          10,
          100,
          2,
          24,
          0.25,
          0.85,
          37.73,
          0.1,
          29.9,
          10,
          14.2,
          10,
          10,
          50,
          2,
          10.05,
          7.12,
          10,
          10,
          9.46,
          10,
          10,
          50,
          10.05,
          0.28,
          4,
          10,
          3,
          9.41,
          6.7,
          6.2,
          10,
          100,
          2,
          3.07,
          9.48,
          6.2,
          10,
          21.82,
          21.11,
          0.3,
          10,
          50,
          2,
          12.6,
          7.4,
          10,
          50,
          2,
          2,
          3.57,
          6.2,
          10,
          2,
          8.17,
          0.28,
          0.28,
          3.38,
          8.4,
          0.3,
          10,
          10,
          50,
          2,
          15.67,
          250,
          100,
          2,
          3,
          34,
          100,
          2,
          0.28,
          75.2,
          50,
          20,
          50,
          2,
          6.1,
          4,
          13,
          20,
          20,
          50,
          2,
          9.37,
          20,
          20,
          26,
          5.18,
          103,
          0.25,
          0.1,
          39.5,
          20,
          50,
          32.5,
          4.34,
          36,
          20,
          100,
          1,
          10,
          50,
          2,
          3,
          10,
          10,
          6.2,
          18,
          50,
          5.24,
          1.6,
          3,
          6.7,
          10,
          50,
          50,
          2,
          2,
          5.31,
          6.2,
          3,
          1602,
          10,
          6.7,
          1,
          150,
          3,
          32.8,
          4.9,
          10,
          100,
          2,
          10,
          10,
          10,
          100,
          2,
          1.6,
          4.1,
          10,
          3.2,
          50,
          100,
          1,
          2,
          6.2,
          10,
          50,
          15,
          2,
          7.91,
          6.5,
          10,
          3.19,
          10,
          50,
          2,
          3,
          2.7,
          50,
          2,
          211.31,
          10,
          3.3,
          6.7,
          11.5,
          2.7,
          50,
          1.58,
          2,
          4.12,
          7.2,
          2.2,
          10,
          100,
          1,
          150,
          6.84,
          18.81,
          10,
          200,
          6.11,
          50,
          2,
          6.2,
          2.99,
          7.97,
          2.5,
          1.58,
          17,
          6.2,
          16,
          2.2,
          10,
          50,
          1.58,
          2,
          2.2,
          10,
          50,
          2,
          7.01,
          2.2,
          10,
          10,
          50,
          8.1,
          1.6,
          10,
          30,
          11.94,
          100,
          2,
          3.2,
          5.2,
          10,
          50,
          2,
          4.46,
          8,
          10,
          50,
          2,
          4,
          100,
          2,
          1.86,
          20,
          100,
          2,
          2,
          1466,
          100,
          31,
          50,
          2,
          150,
          2,
          34.74,
          50,
          2,
          60,
          40,
          2,
          0.99,
          40,
          20.97,
          17.2,
          100,
          2,
          24.67,
          830,
          270,
          50,
          2,
          75,
          10,
          10,
          7.2,
          18,
          10,
          10,
          50,
          15.22,
          3.3,
          10,
          10,
          6.7,
          50,
          9.95,
          10.2,
          50,
          2,
          15.45,
          10.05,
          10,
          10,
          100,
          2,
          10.52,
          14.9,
          51.5,
          10,
          10,
          16.33,
          9,
          10,
          300,
          11.5,
          14,
          10,
          2,
          60,
          10,
          10,
          10,
          50,
          2,
          5.38,
          18.53,
          0.3,
          0.3,
          10,
          20,
          50,
          2,
          49.12,
          10,
          50,
          50,
          100,
          2,
          2,
          0.16,
          50,
          150,
          2,
          50,
          3.3,
          1445,
          10.64,
          18,
          6.2,
          10,
          13.3,
          18,
          50,
          166.5,
          14,
          100,
          2,
          2,
          60,
          27.6,
          10,
          6.7,
          2.2,
          10,
          3.3,
          6.2,
          10,
          50,
          2,
          7.7,
          10,
          10,
          20,
          12.5,
          2.4,
          50,
          100,
          2,
          30.92,
          10,
          10,
          10,
          9.68,
          10,
          1.75,
          3.9,
          2.2,
          5.8,
          13.2,
          3.16,
          18,
          6.2,
          10,
          10.85,
          3.98,
          7,
          2.2,
          10,
          100,
          2,
          11.15,
          6.2,
          10,
          2.2,
          6.2,
          10,
          100,
          1,
          0.12,
          0.33,
          21.38,
          250,
          27.16,
          10,
          12,
          5.47,
          10.8,
          18,
          18,
          18,
          50,
          2,
          2,
          5.2,
          3.9,
          2.2,
          10,
          10,
          100,
          2,
          4.44,
          10,
          3.5,
          9.3,
          10,
          18,
          8.2,
          2.9,
          17,
          50,
          100,
          2,
          2,
          22.27,
          20.13,
          6.7,
          10,
          10,
          100,
          100,
          2,
          2,
          3.3,
          6.2,
          18,
          2.2,
          6.2,
          10,
          10,
          100,
          2,
          10.23,
          10,
          10,
          1498,
          3.3,
          10,
          20,
          100,
          2,
          36,
          5.5,
          10,
          100,
          100,
          1,
          2,
          10.99,
          100,
          2,
          11.1,
          6.2,
          18,
          50,
          2,
          4.58,
          10,
          10,
          14.67,
          18,
          50,
          2,
          3.2,
          7.7,
          18,
          10,
          10,
          100,
          1,
          24.94,
          12.88,
          10,
          100,
          2,
          4.6,
          6.2,
          10,
          6.2,
          10,
          10,
          6.2,
          10,
          50,
          2,
          14.27,
          162.5,
          10,
          50,
          14,
          3,
          1.75,
          6.2,
          15.8,
          18,
          2.2,
          10,
          13.5,
          3.2,
          3.3,
          6.2,
          250,
          18,
          10,
          100,
          2,
          17.49,
          10.7,
          10,
          50,
          2,
          13.72,
          10,
          14,
          3.3,
          2.2,
          10,
          50,
          2,
          8.71,
          6.2,
          79.57,
          4.54,
          100,
          2,
          3.3,
          2.2,
          10,
          50,
          1,
          7.95,
          10,
          7.84,
          4.54,
          10,
          10,
          50,
          2,
          2.3,
          100,
          2,
          6.2,
          10,
          2.2,
          10,
          3.17,
          10,
          2,
          80,
          10,
          10,
          4.88,
          10,
          50,
          100,
          1,
          2,
          1488,
          100,
          2,
          20,
          50,
          73.2,
          18.43,
          4,
          5,
          25.84,
          1.6,
          5.2,
          2.2,
          10,
          100,
          2,
          9.2,
          17.5,
          100,
          2,
          193.98,
          10.65,
          7.8,
          7.6,
          9.1,
          28.99,
          2.2,
          10,
          5,
          6.2,
          1186,
          30.2,
          10,
          2.2,
          100,
          30,
          2,
          8.3,
          50,
          5,
          2.93,
          2.7,
          4.2,
          2.2,
          50,
          97.88,
          10.38,
          16.4,
          17.5,
          25,
          16,
          50,
          2,
          16,
          3.6,
          10,
          5,
          29.99,
          2.8,
          250,
          1.5,
          10,
          10,
          20,
          20,
          100,
          5,
          2,
          16.46,
          10,
          10.61,
          18,
          50,
          100,
          1,
          2,
          40.23,
          13,
          10,
          9.5,
          10,
          100,
          100,
          2,
          2,
          2,
          15,
          122.4,
          10,
          5.09,
          10,
          5,
          11.5,
          2.2,
          18,
          50,
          10.49,
          1,
          172.5,
          2.2,
          6.2,
          1.5,
          20,
          100,
          100,
          2,
          2,
          100,
          1,
          13.7,
          50,
          2,
          18,
          20,
          1476,
          0.31,
          18,
          100,
          2,
          5,
          5.13,
          9.1,
          20,
          7.32,
          2.2,
          18,
          2.2,
          6.2,
          18,
          4.2,
          1.5,
          10,
          20,
          20,
          100,
          2,
          1,
          15,
          150,
          43.26,
          8.3,
          20,
          6,
          5.07,
          2.2,
          5,
          2.2,
          18,
          2.7,
          3.9,
          10,
          10,
          100,
          2,
          2.2,
          10.53,
          3.5,
          50,
          100,
          2,
          2,
          5,
          200,
          6.91,
          4.7,
          5,
          6,
          8.15,
          9.43,
          12.5,
          10,
          5,
          150,
          150,
          0.1,
          6.5,
          0.32,
          10,
          10,
          7.06,
          2.2,
          5,
          1.75,
          6.7,
          2.2,
          4.2,
          10,
          25.8,
          11.5,
          6.2,
          18,
          4.1,
          6,
          1.75,
          2.2,
          4.2,
          10,
          100,
          3.6,
          2.7,
          6,
          4.77,
          2.2,
          9,
          18,
          14.2,
          10,
          100,
          100,
          2,
          1,
          5,
          29.4,
          20.54,
          10,
          10,
          8,
          18,
          250,
          6.5,
          10,
          10,
          74,
          2.2,
          18,
          6.71,
          11.2,
          100,
          2,
          15,
          142,
          7.24,
          10,
          20,
          100,
          1,
          20.23,
          0.2,
          31.5,
          6.6,
          7,
          100,
          2,
          2.3,
          5.25,
          15.1,
          9,
          10,
          2.2,
          2.1,
          6.5,
          10,
          50,
          2,
          4.5,
          4.5,
          14.87,
          6.5,
          10,
          100,
          1.3,
          8.75,
          10,
          2.2,
          8,
          7.8,
          18,
          10,
          100,
          30,
          5,
          1488,
          3.7,
          18,
          10,
          3.2,
          6.6,
          10,
          2.7,
          16.5,
          100,
          18,
          18,
          18,
          10,
          100,
          2,
          34,
          100,
          2,
          20,
          11.26,
          20,
          100,
          24,
          100,
          1,
          0.34,
          27.62,
          100,
          2,
          100,
          16,
          20,
          20,
          100,
          2,
          20,
          100,
          2,
          100,
          2,
          1274,
          20,
          100,
          1,
          100,
          2,
          14,
          100,
          18,
          18,
          150,
          2,
          50,
          2,
          50,
          2,
          50,
          2,
          18,
          50,
          2,
          18,
          100,
          1,
          1775.45,
          28.72,
          18,
          100,
          18,
          18,
          50,
          2,
          18,
          10.5,
          100,
          1,
          15,
          14,
          50,
          2,
          15.5,
          100,
          7.48,
          18,
          18,
          0.22,
          100,
          100,
          2,
          2,
          50,
          2,
          1589,
          18,
          3.98,
          50,
          2,
          18,
          18,
          100,
          1,
          0.12,
          35.3,
          18,
          20,
          100,
          18,
          14,
          1,
          150,
          30.64,
          50,
          2,
          50,
          2,
          100,
          507.02
         ]
        }
       ],
       "layout": {
        "showlegend": true,
        "template": {
         "data": {
          "bar": [
           {
            "error_x": {
             "color": "#2a3f5f"
            },
            "error_y": {
             "color": "#2a3f5f"
            },
            "marker": {
             "line": {
              "color": "white",
              "width": 0.5
             },
             "pattern": {
              "fillmode": "overlay",
              "size": 10,
              "solidity": 0.2
             }
            },
            "type": "bar"
           }
          ],
          "barpolar": [
           {
            "marker": {
             "line": {
              "color": "white",
              "width": 0.5
             },
             "pattern": {
              "fillmode": "overlay",
              "size": 10,
              "solidity": 0.2
             }
            },
            "type": "barpolar"
           }
          ],
          "carpet": [
           {
            "aaxis": {
             "endlinecolor": "#2a3f5f",
             "gridcolor": "#C8D4E3",
             "linecolor": "#C8D4E3",
             "minorgridcolor": "#C8D4E3",
             "startlinecolor": "#2a3f5f"
            },
            "baxis": {
             "endlinecolor": "#2a3f5f",
             "gridcolor": "#C8D4E3",
             "linecolor": "#C8D4E3",
             "minorgridcolor": "#C8D4E3",
             "startlinecolor": "#2a3f5f"
            },
            "type": "carpet"
           }
          ],
          "choropleth": [
           {
            "colorbar": {
             "outlinewidth": 0,
             "ticks": ""
            },
            "type": "choropleth"
           }
          ],
          "contour": [
           {
            "colorbar": {
             "outlinewidth": 0,
             "ticks": ""
            },
            "colorscale": [
             [
              0,
              "#0d0887"
             ],
             [
              0.1111111111111111,
              "#46039f"
             ],
             [
              0.2222222222222222,
              "#7201a8"
             ],
             [
              0.3333333333333333,
              "#9c179e"
             ],
             [
              0.4444444444444444,
              "#bd3786"
             ],
             [
              0.5555555555555556,
              "#d8576b"
             ],
             [
              0.6666666666666666,
              "#ed7953"
             ],
             [
              0.7777777777777778,
              "#fb9f3a"
             ],
             [
              0.8888888888888888,
              "#fdca26"
             ],
             [
              1,
              "#f0f921"
             ]
            ],
            "type": "contour"
           }
          ],
          "contourcarpet": [
           {
            "colorbar": {
             "outlinewidth": 0,
             "ticks": ""
            },
            "type": "contourcarpet"
           }
          ],
          "heatmap": [
           {
            "colorbar": {
             "outlinewidth": 0,
             "ticks": ""
            },
            "colorscale": [
             [
              0,
              "#0d0887"
             ],
             [
              0.1111111111111111,
              "#46039f"
             ],
             [
              0.2222222222222222,
              "#7201a8"
             ],
             [
              0.3333333333333333,
              "#9c179e"
             ],
             [
              0.4444444444444444,
              "#bd3786"
             ],
             [
              0.5555555555555556,
              "#d8576b"
             ],
             [
              0.6666666666666666,
              "#ed7953"
             ],
             [
              0.7777777777777778,
              "#fb9f3a"
             ],
             [
              0.8888888888888888,
              "#fdca26"
             ],
             [
              1,
              "#f0f921"
             ]
            ],
            "type": "heatmap"
           }
          ],
          "heatmapgl": [
           {
            "colorbar": {
             "outlinewidth": 0,
             "ticks": ""
            },
            "colorscale": [
             [
              0,
              "#0d0887"
             ],
             [
              0.1111111111111111,
              "#46039f"
             ],
             [
              0.2222222222222222,
              "#7201a8"
             ],
             [
              0.3333333333333333,
              "#9c179e"
             ],
             [
              0.4444444444444444,
              "#bd3786"
             ],
             [
              0.5555555555555556,
              "#d8576b"
             ],
             [
              0.6666666666666666,
              "#ed7953"
             ],
             [
              0.7777777777777778,
              "#fb9f3a"
             ],
             [
              0.8888888888888888,
              "#fdca26"
             ],
             [
              1,
              "#f0f921"
             ]
            ],
            "type": "heatmapgl"
           }
          ],
          "histogram": [
           {
            "marker": {
             "pattern": {
              "fillmode": "overlay",
              "size": 10,
              "solidity": 0.2
             }
            },
            "type": "histogram"
           }
          ],
          "histogram2d": [
           {
            "colorbar": {
             "outlinewidth": 0,
             "ticks": ""
            },
            "colorscale": [
             [
              0,
              "#0d0887"
             ],
             [
              0.1111111111111111,
              "#46039f"
             ],
             [
              0.2222222222222222,
              "#7201a8"
             ],
             [
              0.3333333333333333,
              "#9c179e"
             ],
             [
              0.4444444444444444,
              "#bd3786"
             ],
             [
              0.5555555555555556,
              "#d8576b"
             ],
             [
              0.6666666666666666,
              "#ed7953"
             ],
             [
              0.7777777777777778,
              "#fb9f3a"
             ],
             [
              0.8888888888888888,
              "#fdca26"
             ],
             [
              1,
              "#f0f921"
             ]
            ],
            "type": "histogram2d"
           }
          ],
          "histogram2dcontour": [
           {
            "colorbar": {
             "outlinewidth": 0,
             "ticks": ""
            },
            "colorscale": [
             [
              0,
              "#0d0887"
             ],
             [
              0.1111111111111111,
              "#46039f"
             ],
             [
              0.2222222222222222,
              "#7201a8"
             ],
             [
              0.3333333333333333,
              "#9c179e"
             ],
             [
              0.4444444444444444,
              "#bd3786"
             ],
             [
              0.5555555555555556,
              "#d8576b"
             ],
             [
              0.6666666666666666,
              "#ed7953"
             ],
             [
              0.7777777777777778,
              "#fb9f3a"
             ],
             [
              0.8888888888888888,
              "#fdca26"
             ],
             [
              1,
              "#f0f921"
             ]
            ],
            "type": "histogram2dcontour"
           }
          ],
          "mesh3d": [
           {
            "colorbar": {
             "outlinewidth": 0,
             "ticks": ""
            },
            "type": "mesh3d"
           }
          ],
          "parcoords": [
           {
            "line": {
             "colorbar": {
              "outlinewidth": 0,
              "ticks": ""
             }
            },
            "type": "parcoords"
           }
          ],
          "pie": [
           {
            "automargin": true,
            "type": "pie"
           }
          ],
          "scatter": [
           {
            "fillpattern": {
             "fillmode": "overlay",
             "size": 10,
             "solidity": 0.2
            },
            "type": "scatter"
           }
          ],
          "scatter3d": [
           {
            "line": {
             "colorbar": {
              "outlinewidth": 0,
              "ticks": ""
             }
            },
            "marker": {
             "colorbar": {
              "outlinewidth": 0,
              "ticks": ""
             }
            },
            "type": "scatter3d"
           }
          ],
          "scattercarpet": [
           {
            "marker": {
             "colorbar": {
              "outlinewidth": 0,
              "ticks": ""
             }
            },
            "type": "scattercarpet"
           }
          ],
          "scattergeo": [
           {
            "marker": {
             "colorbar": {
              "outlinewidth": 0,
              "ticks": ""
             }
            },
            "type": "scattergeo"
           }
          ],
          "scattergl": [
           {
            "marker": {
             "colorbar": {
              "outlinewidth": 0,
              "ticks": ""
             }
            },
            "type": "scattergl"
           }
          ],
          "scattermapbox": [
           {
            "marker": {
             "colorbar": {
              "outlinewidth": 0,
              "ticks": ""
             }
            },
            "type": "scattermapbox"
           }
          ],
          "scatterpolar": [
           {
            "marker": {
             "colorbar": {
              "outlinewidth": 0,
              "ticks": ""
             }
            },
            "type": "scatterpolar"
           }
          ],
          "scatterpolargl": [
           {
            "marker": {
             "colorbar": {
              "outlinewidth": 0,
              "ticks": ""
             }
            },
            "type": "scatterpolargl"
           }
          ],
          "scatterternary": [
           {
            "marker": {
             "colorbar": {
              "outlinewidth": 0,
              "ticks": ""
             }
            },
            "type": "scatterternary"
           }
          ],
          "surface": [
           {
            "colorbar": {
             "outlinewidth": 0,
             "ticks": ""
            },
            "colorscale": [
             [
              0,
              "#0d0887"
             ],
             [
              0.1111111111111111,
              "#46039f"
             ],
             [
              0.2222222222222222,
              "#7201a8"
             ],
             [
              0.3333333333333333,
              "#9c179e"
             ],
             [
              0.4444444444444444,
              "#bd3786"
             ],
             [
              0.5555555555555556,
              "#d8576b"
             ],
             [
              0.6666666666666666,
              "#ed7953"
             ],
             [
              0.7777777777777778,
              "#fb9f3a"
             ],
             [
              0.8888888888888888,
              "#fdca26"
             ],
             [
              1,
              "#f0f921"
             ]
            ],
            "type": "surface"
           }
          ],
          "table": [
           {
            "cells": {
             "fill": {
              "color": "#EBF0F8"
             },
             "line": {
              "color": "white"
             }
            },
            "header": {
             "fill": {
              "color": "#C8D4E3"
             },
             "line": {
              "color": "white"
             }
            },
            "type": "table"
           }
          ]
         },
         "layout": {
          "annotationdefaults": {
           "arrowcolor": "#2a3f5f",
           "arrowhead": 0,
           "arrowwidth": 1
          },
          "autotypenumbers": "strict",
          "coloraxis": {
           "colorbar": {
            "outlinewidth": 0,
            "ticks": ""
           }
          },
          "colorscale": {
           "diverging": [
            [
             0,
             "#8e0152"
            ],
            [
             0.1,
             "#c51b7d"
            ],
            [
             0.2,
             "#de77ae"
            ],
            [
             0.3,
             "#f1b6da"
            ],
            [
             0.4,
             "#fde0ef"
            ],
            [
             0.5,
             "#f7f7f7"
            ],
            [
             0.6,
             "#e6f5d0"
            ],
            [
             0.7,
             "#b8e186"
            ],
            [
             0.8,
             "#7fbc41"
            ],
            [
             0.9,
             "#4d9221"
            ],
            [
             1,
             "#276419"
            ]
           ],
           "sequential": [
            [
             0,
             "#0d0887"
            ],
            [
             0.1111111111111111,
             "#46039f"
            ],
            [
             0.2222222222222222,
             "#7201a8"
            ],
            [
             0.3333333333333333,
             "#9c179e"
            ],
            [
             0.4444444444444444,
             "#bd3786"
            ],
            [
             0.5555555555555556,
             "#d8576b"
            ],
            [
             0.6666666666666666,
             "#ed7953"
            ],
            [
             0.7777777777777778,
             "#fb9f3a"
            ],
            [
             0.8888888888888888,
             "#fdca26"
            ],
            [
             1,
             "#f0f921"
            ]
           ],
           "sequentialminus": [
            [
             0,
             "#0d0887"
            ],
            [
             0.1111111111111111,
             "#46039f"
            ],
            [
             0.2222222222222222,
             "#7201a8"
            ],
            [
             0.3333333333333333,
             "#9c179e"
            ],
            [
             0.4444444444444444,
             "#bd3786"
            ],
            [
             0.5555555555555556,
             "#d8576b"
            ],
            [
             0.6666666666666666,
             "#ed7953"
            ],
            [
             0.7777777777777778,
             "#fb9f3a"
            ],
            [
             0.8888888888888888,
             "#fdca26"
            ],
            [
             1,
             "#f0f921"
            ]
           ]
          },
          "colorway": [
           "#636efa",
           "#EF553B",
           "#00cc96",
           "#ab63fa",
           "#FFA15A",
           "#19d3f3",
           "#FF6692",
           "#B6E880",
           "#FF97FF",
           "#FECB52"
          ],
          "font": {
           "color": "#2a3f5f"
          },
          "geo": {
           "bgcolor": "white",
           "lakecolor": "white",
           "landcolor": "white",
           "showlakes": true,
           "showland": true,
           "subunitcolor": "#C8D4E3"
          },
          "hoverlabel": {
           "align": "left"
          },
          "hovermode": "closest",
          "mapbox": {
           "style": "light"
          },
          "paper_bgcolor": "white",
          "plot_bgcolor": "white",
          "polar": {
           "angularaxis": {
            "gridcolor": "#EBF0F8",
            "linecolor": "#EBF0F8",
            "ticks": ""
           },
           "bgcolor": "white",
           "radialaxis": {
            "gridcolor": "#EBF0F8",
            "linecolor": "#EBF0F8",
            "ticks": ""
           }
          },
          "scene": {
           "xaxis": {
            "backgroundcolor": "white",
            "gridcolor": "#DFE8F3",
            "gridwidth": 2,
            "linecolor": "#EBF0F8",
            "showbackground": true,
            "ticks": "",
            "zerolinecolor": "#EBF0F8"
           },
           "yaxis": {
            "backgroundcolor": "white",
            "gridcolor": "#DFE8F3",
            "gridwidth": 2,
            "linecolor": "#EBF0F8",
            "showbackground": true,
            "ticks": "",
            "zerolinecolor": "#EBF0F8"
           },
           "zaxis": {
            "backgroundcolor": "white",
            "gridcolor": "#DFE8F3",
            "gridwidth": 2,
            "linecolor": "#EBF0F8",
            "showbackground": true,
            "ticks": "",
            "zerolinecolor": "#EBF0F8"
           }
          },
          "shapedefaults": {
           "line": {
            "color": "#2a3f5f"
           }
          },
          "ternary": {
           "aaxis": {
            "gridcolor": "#DFE8F3",
            "linecolor": "#A2B1C6",
            "ticks": ""
           },
           "baxis": {
            "gridcolor": "#DFE8F3",
            "linecolor": "#A2B1C6",
            "ticks": ""
           },
           "bgcolor": "white",
           "caxis": {
            "gridcolor": "#DFE8F3",
            "linecolor": "#A2B1C6",
            "ticks": ""
           }
          },
          "title": {
           "x": 0.05
          },
          "xaxis": {
           "automargin": true,
           "gridcolor": "#EBF0F8",
           "linecolor": "#EBF0F8",
           "ticks": "",
           "title": {
            "standoff": 15
           },
           "zerolinecolor": "#EBF0F8",
           "zerolinewidth": 2
          },
          "yaxis": {
           "automargin": true,
           "gridcolor": "#EBF0F8",
           "linecolor": "#EBF0F8",
           "ticks": "",
           "title": {
            "standoff": 15
           },
           "zerolinecolor": "#EBF0F8",
           "zerolinewidth": 2
          }
         }
        },
        "title": {
         "text": "Time Series of Importo"
        },
        "xaxis": {
         "title": {
          "text": "Date"
         }
        },
        "yaxis": {
         "title": {
          "text": "Importo"
         }
        }
       }
      }
     },
     "metadata": {},
     "output_type": "display_data"
    }
   ],
   "source": [
    "# Extract the 'DATA_CONTABILE' and 'IMPORTO' columns and collect them as lists\n",
    "x_values = get_values(original_df, DATA_COLUMN_NAME)\n",
    "y_values = get_values(original_df, \"IMPORTO\")\n",
    "\n",
    "# Call the plot function with the extracted x_values and y_values\n",
    "plot(x_values, y_values, x_name='Date', y_name='Importo', title='Time Series of Importo')"
   ]
  },
  {
   "cell_type": "markdown",
   "metadata": {
    "slideshow": {
     "slide_type": "slide"
    }
   },
   "source": [
    "Gli importi plottati della timeseries sono irregolare ed è molto difficile fare un qualsiasi tipo di analisi su questi dati.  \n",
    "Facciamo uno zoom-in per capirne i motivi"
   ]
  },
  {
   "cell_type": "code",
   "execution_count": 7,
   "metadata": {
    "slideshow": {
     "slide_type": "slide"
    }
   },
   "outputs": [
    {
     "data": {
      "application/vnd.plotly.v1+json": {
       "config": {
        "linkText": "Export to plot.ly",
        "plotlyServerURL": "https://plot.ly",
        "showLink": false
       },
       "data": [
        {
         "mode": "lines",
         "name": "ZoomIN Timeseries importi",
         "type": "scatter",
         "x": [
          "2023-02-15",
          "2023-02-16",
          "2023-02-16",
          "2023-02-16",
          "2023-02-16",
          "2023-02-18",
          "2023-02-18",
          "2023-02-21",
          "2023-02-22",
          "2023-02-23",
          "2023-02-23",
          "2023-02-24",
          "2023-02-25",
          "2023-02-25",
          "2023-02-25",
          "2023-02-25",
          "2023-02-26",
          "2023-02-26",
          "2023-02-28",
          "2023-02-28",
          "2023-03-02",
          "2023-03-03",
          "2023-03-04",
          "2023-03-04",
          "2023-03-06",
          "2023-03-06",
          "2023-03-06",
          "2023-03-08",
          "2023-03-08",
          "2023-03-10",
          "2023-03-10",
          "2023-03-11",
          "2023-03-11",
          "2023-03-12",
          "2023-03-12",
          "2023-03-13",
          "2023-03-16",
          "2023-03-16",
          "2023-03-17",
          "2023-03-18",
          "2023-03-18",
          "2023-03-19",
          "2023-03-19",
          "2023-03-20",
          "2023-03-20",
          "2023-03-22",
          "2023-03-22",
          "2023-03-23",
          "2023-03-24",
          "2023-03-24",
          "2023-03-24",
          "2023-03-25",
          "2023-03-25",
          "2023-03-25",
          "2023-03-25",
          "2023-03-27",
          "2023-03-28",
          "2023-03-28",
          "2023-03-30",
          "2023-03-31",
          "2023-03-31",
          "2023-03-31",
          "2023-03-31",
          "2023-04-01",
          "2023-04-01",
          "2023-04-01",
          "2023-04-03",
          "2023-04-04",
          "2023-04-04",
          "2023-04-04",
          "2023-04-05",
          "2023-04-05",
          "2023-04-06",
          "2023-04-07",
          "2023-04-08",
          "2023-04-09",
          "2023-04-09",
          "2023-04-09",
          "2023-04-09",
          "2023-04-11",
          "2023-04-11",
          "2023-04-11",
          "2023-04-11",
          "2023-04-12",
          "2023-04-13",
          "2023-04-13",
          "2023-04-13",
          "2023-04-14",
          "2023-04-15",
          "2023-04-15",
          "2023-04-15",
          "2023-04-15",
          "2023-04-17",
          "2023-04-18",
          "2023-04-18",
          "2023-04-20",
          "2023-04-21",
          "2023-04-22",
          "2023-04-22",
          "2023-04-22",
          "2023-04-24",
          "2023-04-24",
          "2023-04-25",
          "2023-04-25"
         ],
         "y": [
          18,
          10,
          100,
          2,
          34,
          100,
          2,
          20,
          11.26,
          20,
          100,
          24,
          100,
          1,
          0.34,
          27.62,
          100,
          2,
          100,
          16,
          20,
          20,
          100,
          2,
          20,
          100,
          2,
          100,
          2,
          1274,
          20,
          100,
          1,
          100,
          2,
          14,
          100,
          18,
          18,
          150,
          2,
          50,
          2,
          50,
          2,
          50,
          2,
          18,
          50,
          2,
          18,
          100,
          1,
          1775.45,
          28.72,
          18,
          100,
          18,
          18,
          50,
          2,
          18,
          10.5,
          100,
          1,
          15,
          14,
          50,
          2,
          15.5,
          100,
          7.48,
          18,
          18,
          0.22,
          100,
          100,
          2,
          2,
          50,
          2,
          1589,
          18,
          3.98,
          50,
          2,
          18,
          18,
          100,
          1,
          0.12,
          35.3,
          18,
          20,
          100,
          18,
          14,
          1,
          150,
          30.64,
          50,
          2,
          50,
          2
         ]
        }
       ],
       "layout": {
        "showlegend": true,
        "template": {
         "data": {
          "bar": [
           {
            "error_x": {
             "color": "#2a3f5f"
            },
            "error_y": {
             "color": "#2a3f5f"
            },
            "marker": {
             "line": {
              "color": "white",
              "width": 0.5
             },
             "pattern": {
              "fillmode": "overlay",
              "size": 10,
              "solidity": 0.2
             }
            },
            "type": "bar"
           }
          ],
          "barpolar": [
           {
            "marker": {
             "line": {
              "color": "white",
              "width": 0.5
             },
             "pattern": {
              "fillmode": "overlay",
              "size": 10,
              "solidity": 0.2
             }
            },
            "type": "barpolar"
           }
          ],
          "carpet": [
           {
            "aaxis": {
             "endlinecolor": "#2a3f5f",
             "gridcolor": "#C8D4E3",
             "linecolor": "#C8D4E3",
             "minorgridcolor": "#C8D4E3",
             "startlinecolor": "#2a3f5f"
            },
            "baxis": {
             "endlinecolor": "#2a3f5f",
             "gridcolor": "#C8D4E3",
             "linecolor": "#C8D4E3",
             "minorgridcolor": "#C8D4E3",
             "startlinecolor": "#2a3f5f"
            },
            "type": "carpet"
           }
          ],
          "choropleth": [
           {
            "colorbar": {
             "outlinewidth": 0,
             "ticks": ""
            },
            "type": "choropleth"
           }
          ],
          "contour": [
           {
            "colorbar": {
             "outlinewidth": 0,
             "ticks": ""
            },
            "colorscale": [
             [
              0,
              "#0d0887"
             ],
             [
              0.1111111111111111,
              "#46039f"
             ],
             [
              0.2222222222222222,
              "#7201a8"
             ],
             [
              0.3333333333333333,
              "#9c179e"
             ],
             [
              0.4444444444444444,
              "#bd3786"
             ],
             [
              0.5555555555555556,
              "#d8576b"
             ],
             [
              0.6666666666666666,
              "#ed7953"
             ],
             [
              0.7777777777777778,
              "#fb9f3a"
             ],
             [
              0.8888888888888888,
              "#fdca26"
             ],
             [
              1,
              "#f0f921"
             ]
            ],
            "type": "contour"
           }
          ],
          "contourcarpet": [
           {
            "colorbar": {
             "outlinewidth": 0,
             "ticks": ""
            },
            "type": "contourcarpet"
           }
          ],
          "heatmap": [
           {
            "colorbar": {
             "outlinewidth": 0,
             "ticks": ""
            },
            "colorscale": [
             [
              0,
              "#0d0887"
             ],
             [
              0.1111111111111111,
              "#46039f"
             ],
             [
              0.2222222222222222,
              "#7201a8"
             ],
             [
              0.3333333333333333,
              "#9c179e"
             ],
             [
              0.4444444444444444,
              "#bd3786"
             ],
             [
              0.5555555555555556,
              "#d8576b"
             ],
             [
              0.6666666666666666,
              "#ed7953"
             ],
             [
              0.7777777777777778,
              "#fb9f3a"
             ],
             [
              0.8888888888888888,
              "#fdca26"
             ],
             [
              1,
              "#f0f921"
             ]
            ],
            "type": "heatmap"
           }
          ],
          "heatmapgl": [
           {
            "colorbar": {
             "outlinewidth": 0,
             "ticks": ""
            },
            "colorscale": [
             [
              0,
              "#0d0887"
             ],
             [
              0.1111111111111111,
              "#46039f"
             ],
             [
              0.2222222222222222,
              "#7201a8"
             ],
             [
              0.3333333333333333,
              "#9c179e"
             ],
             [
              0.4444444444444444,
              "#bd3786"
             ],
             [
              0.5555555555555556,
              "#d8576b"
             ],
             [
              0.6666666666666666,
              "#ed7953"
             ],
             [
              0.7777777777777778,
              "#fb9f3a"
             ],
             [
              0.8888888888888888,
              "#fdca26"
             ],
             [
              1,
              "#f0f921"
             ]
            ],
            "type": "heatmapgl"
           }
          ],
          "histogram": [
           {
            "marker": {
             "pattern": {
              "fillmode": "overlay",
              "size": 10,
              "solidity": 0.2
             }
            },
            "type": "histogram"
           }
          ],
          "histogram2d": [
           {
            "colorbar": {
             "outlinewidth": 0,
             "ticks": ""
            },
            "colorscale": [
             [
              0,
              "#0d0887"
             ],
             [
              0.1111111111111111,
              "#46039f"
             ],
             [
              0.2222222222222222,
              "#7201a8"
             ],
             [
              0.3333333333333333,
              "#9c179e"
             ],
             [
              0.4444444444444444,
              "#bd3786"
             ],
             [
              0.5555555555555556,
              "#d8576b"
             ],
             [
              0.6666666666666666,
              "#ed7953"
             ],
             [
              0.7777777777777778,
              "#fb9f3a"
             ],
             [
              0.8888888888888888,
              "#fdca26"
             ],
             [
              1,
              "#f0f921"
             ]
            ],
            "type": "histogram2d"
           }
          ],
          "histogram2dcontour": [
           {
            "colorbar": {
             "outlinewidth": 0,
             "ticks": ""
            },
            "colorscale": [
             [
              0,
              "#0d0887"
             ],
             [
              0.1111111111111111,
              "#46039f"
             ],
             [
              0.2222222222222222,
              "#7201a8"
             ],
             [
              0.3333333333333333,
              "#9c179e"
             ],
             [
              0.4444444444444444,
              "#bd3786"
             ],
             [
              0.5555555555555556,
              "#d8576b"
             ],
             [
              0.6666666666666666,
              "#ed7953"
             ],
             [
              0.7777777777777778,
              "#fb9f3a"
             ],
             [
              0.8888888888888888,
              "#fdca26"
             ],
             [
              1,
              "#f0f921"
             ]
            ],
            "type": "histogram2dcontour"
           }
          ],
          "mesh3d": [
           {
            "colorbar": {
             "outlinewidth": 0,
             "ticks": ""
            },
            "type": "mesh3d"
           }
          ],
          "parcoords": [
           {
            "line": {
             "colorbar": {
              "outlinewidth": 0,
              "ticks": ""
             }
            },
            "type": "parcoords"
           }
          ],
          "pie": [
           {
            "automargin": true,
            "type": "pie"
           }
          ],
          "scatter": [
           {
            "fillpattern": {
             "fillmode": "overlay",
             "size": 10,
             "solidity": 0.2
            },
            "type": "scatter"
           }
          ],
          "scatter3d": [
           {
            "line": {
             "colorbar": {
              "outlinewidth": 0,
              "ticks": ""
             }
            },
            "marker": {
             "colorbar": {
              "outlinewidth": 0,
              "ticks": ""
             }
            },
            "type": "scatter3d"
           }
          ],
          "scattercarpet": [
           {
            "marker": {
             "colorbar": {
              "outlinewidth": 0,
              "ticks": ""
             }
            },
            "type": "scattercarpet"
           }
          ],
          "scattergeo": [
           {
            "marker": {
             "colorbar": {
              "outlinewidth": 0,
              "ticks": ""
             }
            },
            "type": "scattergeo"
           }
          ],
          "scattergl": [
           {
            "marker": {
             "colorbar": {
              "outlinewidth": 0,
              "ticks": ""
             }
            },
            "type": "scattergl"
           }
          ],
          "scattermapbox": [
           {
            "marker": {
             "colorbar": {
              "outlinewidth": 0,
              "ticks": ""
             }
            },
            "type": "scattermapbox"
           }
          ],
          "scatterpolar": [
           {
            "marker": {
             "colorbar": {
              "outlinewidth": 0,
              "ticks": ""
             }
            },
            "type": "scatterpolar"
           }
          ],
          "scatterpolargl": [
           {
            "marker": {
             "colorbar": {
              "outlinewidth": 0,
              "ticks": ""
             }
            },
            "type": "scatterpolargl"
           }
          ],
          "scatterternary": [
           {
            "marker": {
             "colorbar": {
              "outlinewidth": 0,
              "ticks": ""
             }
            },
            "type": "scatterternary"
           }
          ],
          "surface": [
           {
            "colorbar": {
             "outlinewidth": 0,
             "ticks": ""
            },
            "colorscale": [
             [
              0,
              "#0d0887"
             ],
             [
              0.1111111111111111,
              "#46039f"
             ],
             [
              0.2222222222222222,
              "#7201a8"
             ],
             [
              0.3333333333333333,
              "#9c179e"
             ],
             [
              0.4444444444444444,
              "#bd3786"
             ],
             [
              0.5555555555555556,
              "#d8576b"
             ],
             [
              0.6666666666666666,
              "#ed7953"
             ],
             [
              0.7777777777777778,
              "#fb9f3a"
             ],
             [
              0.8888888888888888,
              "#fdca26"
             ],
             [
              1,
              "#f0f921"
             ]
            ],
            "type": "surface"
           }
          ],
          "table": [
           {
            "cells": {
             "fill": {
              "color": "#EBF0F8"
             },
             "line": {
              "color": "white"
             }
            },
            "header": {
             "fill": {
              "color": "#C8D4E3"
             },
             "line": {
              "color": "white"
             }
            },
            "type": "table"
           }
          ]
         },
         "layout": {
          "annotationdefaults": {
           "arrowcolor": "#2a3f5f",
           "arrowhead": 0,
           "arrowwidth": 1
          },
          "autotypenumbers": "strict",
          "coloraxis": {
           "colorbar": {
            "outlinewidth": 0,
            "ticks": ""
           }
          },
          "colorscale": {
           "diverging": [
            [
             0,
             "#8e0152"
            ],
            [
             0.1,
             "#c51b7d"
            ],
            [
             0.2,
             "#de77ae"
            ],
            [
             0.3,
             "#f1b6da"
            ],
            [
             0.4,
             "#fde0ef"
            ],
            [
             0.5,
             "#f7f7f7"
            ],
            [
             0.6,
             "#e6f5d0"
            ],
            [
             0.7,
             "#b8e186"
            ],
            [
             0.8,
             "#7fbc41"
            ],
            [
             0.9,
             "#4d9221"
            ],
            [
             1,
             "#276419"
            ]
           ],
           "sequential": [
            [
             0,
             "#0d0887"
            ],
            [
             0.1111111111111111,
             "#46039f"
            ],
            [
             0.2222222222222222,
             "#7201a8"
            ],
            [
             0.3333333333333333,
             "#9c179e"
            ],
            [
             0.4444444444444444,
             "#bd3786"
            ],
            [
             0.5555555555555556,
             "#d8576b"
            ],
            [
             0.6666666666666666,
             "#ed7953"
            ],
            [
             0.7777777777777778,
             "#fb9f3a"
            ],
            [
             0.8888888888888888,
             "#fdca26"
            ],
            [
             1,
             "#f0f921"
            ]
           ],
           "sequentialminus": [
            [
             0,
             "#0d0887"
            ],
            [
             0.1111111111111111,
             "#46039f"
            ],
            [
             0.2222222222222222,
             "#7201a8"
            ],
            [
             0.3333333333333333,
             "#9c179e"
            ],
            [
             0.4444444444444444,
             "#bd3786"
            ],
            [
             0.5555555555555556,
             "#d8576b"
            ],
            [
             0.6666666666666666,
             "#ed7953"
            ],
            [
             0.7777777777777778,
             "#fb9f3a"
            ],
            [
             0.8888888888888888,
             "#fdca26"
            ],
            [
             1,
             "#f0f921"
            ]
           ]
          },
          "colorway": [
           "#636efa",
           "#EF553B",
           "#00cc96",
           "#ab63fa",
           "#FFA15A",
           "#19d3f3",
           "#FF6692",
           "#B6E880",
           "#FF97FF",
           "#FECB52"
          ],
          "font": {
           "color": "#2a3f5f"
          },
          "geo": {
           "bgcolor": "white",
           "lakecolor": "white",
           "landcolor": "white",
           "showlakes": true,
           "showland": true,
           "subunitcolor": "#C8D4E3"
          },
          "hoverlabel": {
           "align": "left"
          },
          "hovermode": "closest",
          "mapbox": {
           "style": "light"
          },
          "paper_bgcolor": "white",
          "plot_bgcolor": "white",
          "polar": {
           "angularaxis": {
            "gridcolor": "#EBF0F8",
            "linecolor": "#EBF0F8",
            "ticks": ""
           },
           "bgcolor": "white",
           "radialaxis": {
            "gridcolor": "#EBF0F8",
            "linecolor": "#EBF0F8",
            "ticks": ""
           }
          },
          "scene": {
           "xaxis": {
            "backgroundcolor": "white",
            "gridcolor": "#DFE8F3",
            "gridwidth": 2,
            "linecolor": "#EBF0F8",
            "showbackground": true,
            "ticks": "",
            "zerolinecolor": "#EBF0F8"
           },
           "yaxis": {
            "backgroundcolor": "white",
            "gridcolor": "#DFE8F3",
            "gridwidth": 2,
            "linecolor": "#EBF0F8",
            "showbackground": true,
            "ticks": "",
            "zerolinecolor": "#EBF0F8"
           },
           "zaxis": {
            "backgroundcolor": "white",
            "gridcolor": "#DFE8F3",
            "gridwidth": 2,
            "linecolor": "#EBF0F8",
            "showbackground": true,
            "ticks": "",
            "zerolinecolor": "#EBF0F8"
           }
          },
          "shapedefaults": {
           "line": {
            "color": "#2a3f5f"
           }
          },
          "ternary": {
           "aaxis": {
            "gridcolor": "#DFE8F3",
            "linecolor": "#A2B1C6",
            "ticks": ""
           },
           "baxis": {
            "gridcolor": "#DFE8F3",
            "linecolor": "#A2B1C6",
            "ticks": ""
           },
           "bgcolor": "white",
           "caxis": {
            "gridcolor": "#DFE8F3",
            "linecolor": "#A2B1C6",
            "ticks": ""
           }
          },
          "title": {
           "x": 0.05
          },
          "xaxis": {
           "automargin": true,
           "gridcolor": "#EBF0F8",
           "linecolor": "#EBF0F8",
           "ticks": "",
           "title": {
            "standoff": 15
           },
           "zerolinecolor": "#EBF0F8",
           "zerolinewidth": 2
          },
          "yaxis": {
           "automargin": true,
           "gridcolor": "#EBF0F8",
           "linecolor": "#EBF0F8",
           "ticks": "",
           "title": {
            "standoff": 15
           },
           "zerolinecolor": "#EBF0F8",
           "zerolinewidth": 2
          }
         }
        },
        "title": {
         "text": "ZoomIN Timeseries importi"
        },
        "xaxis": {
         "title": {
          "text": "Date"
         }
        },
        "yaxis": {
         "title": {
          "text": "IMPORTO"
         }
        }
       }
      }
     },
     "metadata": {},
     "output_type": "display_data"
    }
   ],
   "source": [
    "plot_in_timerange(original_df,DATA_COLUMN_NAME,\"IMPORTO\",\"ZoomIN Timeseries importi\",mode=\"lines\")"
   ]
  },
  {
   "cell_type": "markdown",
   "metadata": {
    "slideshow": {
     "slide_type": "slide"
    }
   },
   "source": [
    "### Presenza di eventi coincidenti, ovvero che si verificano nello stesso momento \n"
   ]
  },
  {
   "cell_type": "code",
   "execution_count": 8,
   "metadata": {
    "slideshow": {
     "slide_type": "fragment"
    }
   },
   "outputs": [
    {
     "data": {
      "application/vnd.plotly.v1+json": {
       "config": {
        "linkText": "Export to plot.ly",
        "plotlyServerURL": "https://plot.ly",
        "showLink": false
       },
       "data": [
        {
         "mode": "markers",
         "name": "ZoomIN Timeseries importi",
         "type": "scatter",
         "x": [
          "2023-02-15",
          "2023-02-16",
          "2023-02-16",
          "2023-02-16",
          "2023-02-16",
          "2023-02-18",
          "2023-02-18",
          "2023-02-21",
          "2023-02-22",
          "2023-02-23",
          "2023-02-23",
          "2023-02-24",
          "2023-02-25",
          "2023-02-25",
          "2023-02-25",
          "2023-02-25",
          "2023-02-26",
          "2023-02-26",
          "2023-02-28",
          "2023-02-28",
          "2023-03-02",
          "2023-03-03",
          "2023-03-04",
          "2023-03-04",
          "2023-03-06",
          "2023-03-06",
          "2023-03-06",
          "2023-03-08",
          "2023-03-08",
          "2023-03-10",
          "2023-03-10",
          "2023-03-11",
          "2023-03-11",
          "2023-03-12",
          "2023-03-12",
          "2023-03-13",
          "2023-03-16",
          "2023-03-16",
          "2023-03-17",
          "2023-03-18",
          "2023-03-18",
          "2023-03-19",
          "2023-03-19",
          "2023-03-20",
          "2023-03-20",
          "2023-03-22",
          "2023-03-22",
          "2023-03-23",
          "2023-03-24",
          "2023-03-24",
          "2023-03-24",
          "2023-03-25",
          "2023-03-25",
          "2023-03-25",
          "2023-03-25",
          "2023-03-27",
          "2023-03-28",
          "2023-03-28",
          "2023-03-30",
          "2023-03-31",
          "2023-03-31",
          "2023-03-31",
          "2023-03-31",
          "2023-04-01",
          "2023-04-01",
          "2023-04-01",
          "2023-04-03",
          "2023-04-04",
          "2023-04-04",
          "2023-04-04",
          "2023-04-05",
          "2023-04-05",
          "2023-04-06",
          "2023-04-07",
          "2023-04-08",
          "2023-04-09",
          "2023-04-09",
          "2023-04-09",
          "2023-04-09",
          "2023-04-11",
          "2023-04-11",
          "2023-04-11",
          "2023-04-11",
          "2023-04-12",
          "2023-04-13",
          "2023-04-13",
          "2023-04-13",
          "2023-04-14",
          "2023-04-15",
          "2023-04-15",
          "2023-04-15",
          "2023-04-15",
          "2023-04-17",
          "2023-04-18",
          "2023-04-18",
          "2023-04-20",
          "2023-04-21",
          "2023-04-22",
          "2023-04-22",
          "2023-04-22",
          "2023-04-24",
          "2023-04-24",
          "2023-04-25",
          "2023-04-25"
         ],
         "y": [
          18,
          10,
          100,
          2,
          34,
          100,
          2,
          20,
          11.26,
          20,
          100,
          24,
          100,
          1,
          0.34,
          27.62,
          100,
          2,
          100,
          16,
          20,
          20,
          100,
          2,
          20,
          100,
          2,
          100,
          2,
          1274,
          20,
          100,
          1,
          100,
          2,
          14,
          100,
          18,
          18,
          150,
          2,
          50,
          2,
          50,
          2,
          50,
          2,
          18,
          50,
          2,
          18,
          100,
          1,
          1775.45,
          28.72,
          18,
          100,
          18,
          18,
          50,
          2,
          18,
          10.5,
          100,
          1,
          15,
          14,
          50,
          2,
          15.5,
          100,
          7.48,
          18,
          18,
          0.22,
          100,
          100,
          2,
          2,
          50,
          2,
          1589,
          18,
          3.98,
          50,
          2,
          18,
          18,
          100,
          1,
          0.12,
          35.3,
          18,
          20,
          100,
          18,
          14,
          1,
          150,
          30.64,
          50,
          2,
          50,
          2
         ]
        }
       ],
       "layout": {
        "showlegend": true,
        "template": {
         "data": {
          "bar": [
           {
            "error_x": {
             "color": "#2a3f5f"
            },
            "error_y": {
             "color": "#2a3f5f"
            },
            "marker": {
             "line": {
              "color": "white",
              "width": 0.5
             },
             "pattern": {
              "fillmode": "overlay",
              "size": 10,
              "solidity": 0.2
             }
            },
            "type": "bar"
           }
          ],
          "barpolar": [
           {
            "marker": {
             "line": {
              "color": "white",
              "width": 0.5
             },
             "pattern": {
              "fillmode": "overlay",
              "size": 10,
              "solidity": 0.2
             }
            },
            "type": "barpolar"
           }
          ],
          "carpet": [
           {
            "aaxis": {
             "endlinecolor": "#2a3f5f",
             "gridcolor": "#C8D4E3",
             "linecolor": "#C8D4E3",
             "minorgridcolor": "#C8D4E3",
             "startlinecolor": "#2a3f5f"
            },
            "baxis": {
             "endlinecolor": "#2a3f5f",
             "gridcolor": "#C8D4E3",
             "linecolor": "#C8D4E3",
             "minorgridcolor": "#C8D4E3",
             "startlinecolor": "#2a3f5f"
            },
            "type": "carpet"
           }
          ],
          "choropleth": [
           {
            "colorbar": {
             "outlinewidth": 0,
             "ticks": ""
            },
            "type": "choropleth"
           }
          ],
          "contour": [
           {
            "colorbar": {
             "outlinewidth": 0,
             "ticks": ""
            },
            "colorscale": [
             [
              0,
              "#0d0887"
             ],
             [
              0.1111111111111111,
              "#46039f"
             ],
             [
              0.2222222222222222,
              "#7201a8"
             ],
             [
              0.3333333333333333,
              "#9c179e"
             ],
             [
              0.4444444444444444,
              "#bd3786"
             ],
             [
              0.5555555555555556,
              "#d8576b"
             ],
             [
              0.6666666666666666,
              "#ed7953"
             ],
             [
              0.7777777777777778,
              "#fb9f3a"
             ],
             [
              0.8888888888888888,
              "#fdca26"
             ],
             [
              1,
              "#f0f921"
             ]
            ],
            "type": "contour"
           }
          ],
          "contourcarpet": [
           {
            "colorbar": {
             "outlinewidth": 0,
             "ticks": ""
            },
            "type": "contourcarpet"
           }
          ],
          "heatmap": [
           {
            "colorbar": {
             "outlinewidth": 0,
             "ticks": ""
            },
            "colorscale": [
             [
              0,
              "#0d0887"
             ],
             [
              0.1111111111111111,
              "#46039f"
             ],
             [
              0.2222222222222222,
              "#7201a8"
             ],
             [
              0.3333333333333333,
              "#9c179e"
             ],
             [
              0.4444444444444444,
              "#bd3786"
             ],
             [
              0.5555555555555556,
              "#d8576b"
             ],
             [
              0.6666666666666666,
              "#ed7953"
             ],
             [
              0.7777777777777778,
              "#fb9f3a"
             ],
             [
              0.8888888888888888,
              "#fdca26"
             ],
             [
              1,
              "#f0f921"
             ]
            ],
            "type": "heatmap"
           }
          ],
          "heatmapgl": [
           {
            "colorbar": {
             "outlinewidth": 0,
             "ticks": ""
            },
            "colorscale": [
             [
              0,
              "#0d0887"
             ],
             [
              0.1111111111111111,
              "#46039f"
             ],
             [
              0.2222222222222222,
              "#7201a8"
             ],
             [
              0.3333333333333333,
              "#9c179e"
             ],
             [
              0.4444444444444444,
              "#bd3786"
             ],
             [
              0.5555555555555556,
              "#d8576b"
             ],
             [
              0.6666666666666666,
              "#ed7953"
             ],
             [
              0.7777777777777778,
              "#fb9f3a"
             ],
             [
              0.8888888888888888,
              "#fdca26"
             ],
             [
              1,
              "#f0f921"
             ]
            ],
            "type": "heatmapgl"
           }
          ],
          "histogram": [
           {
            "marker": {
             "pattern": {
              "fillmode": "overlay",
              "size": 10,
              "solidity": 0.2
             }
            },
            "type": "histogram"
           }
          ],
          "histogram2d": [
           {
            "colorbar": {
             "outlinewidth": 0,
             "ticks": ""
            },
            "colorscale": [
             [
              0,
              "#0d0887"
             ],
             [
              0.1111111111111111,
              "#46039f"
             ],
             [
              0.2222222222222222,
              "#7201a8"
             ],
             [
              0.3333333333333333,
              "#9c179e"
             ],
             [
              0.4444444444444444,
              "#bd3786"
             ],
             [
              0.5555555555555556,
              "#d8576b"
             ],
             [
              0.6666666666666666,
              "#ed7953"
             ],
             [
              0.7777777777777778,
              "#fb9f3a"
             ],
             [
              0.8888888888888888,
              "#fdca26"
             ],
             [
              1,
              "#f0f921"
             ]
            ],
            "type": "histogram2d"
           }
          ],
          "histogram2dcontour": [
           {
            "colorbar": {
             "outlinewidth": 0,
             "ticks": ""
            },
            "colorscale": [
             [
              0,
              "#0d0887"
             ],
             [
              0.1111111111111111,
              "#46039f"
             ],
             [
              0.2222222222222222,
              "#7201a8"
             ],
             [
              0.3333333333333333,
              "#9c179e"
             ],
             [
              0.4444444444444444,
              "#bd3786"
             ],
             [
              0.5555555555555556,
              "#d8576b"
             ],
             [
              0.6666666666666666,
              "#ed7953"
             ],
             [
              0.7777777777777778,
              "#fb9f3a"
             ],
             [
              0.8888888888888888,
              "#fdca26"
             ],
             [
              1,
              "#f0f921"
             ]
            ],
            "type": "histogram2dcontour"
           }
          ],
          "mesh3d": [
           {
            "colorbar": {
             "outlinewidth": 0,
             "ticks": ""
            },
            "type": "mesh3d"
           }
          ],
          "parcoords": [
           {
            "line": {
             "colorbar": {
              "outlinewidth": 0,
              "ticks": ""
             }
            },
            "type": "parcoords"
           }
          ],
          "pie": [
           {
            "automargin": true,
            "type": "pie"
           }
          ],
          "scatter": [
           {
            "fillpattern": {
             "fillmode": "overlay",
             "size": 10,
             "solidity": 0.2
            },
            "type": "scatter"
           }
          ],
          "scatter3d": [
           {
            "line": {
             "colorbar": {
              "outlinewidth": 0,
              "ticks": ""
             }
            },
            "marker": {
             "colorbar": {
              "outlinewidth": 0,
              "ticks": ""
             }
            },
            "type": "scatter3d"
           }
          ],
          "scattercarpet": [
           {
            "marker": {
             "colorbar": {
              "outlinewidth": 0,
              "ticks": ""
             }
            },
            "type": "scattercarpet"
           }
          ],
          "scattergeo": [
           {
            "marker": {
             "colorbar": {
              "outlinewidth": 0,
              "ticks": ""
             }
            },
            "type": "scattergeo"
           }
          ],
          "scattergl": [
           {
            "marker": {
             "colorbar": {
              "outlinewidth": 0,
              "ticks": ""
             }
            },
            "type": "scattergl"
           }
          ],
          "scattermapbox": [
           {
            "marker": {
             "colorbar": {
              "outlinewidth": 0,
              "ticks": ""
             }
            },
            "type": "scattermapbox"
           }
          ],
          "scatterpolar": [
           {
            "marker": {
             "colorbar": {
              "outlinewidth": 0,
              "ticks": ""
             }
            },
            "type": "scatterpolar"
           }
          ],
          "scatterpolargl": [
           {
            "marker": {
             "colorbar": {
              "outlinewidth": 0,
              "ticks": ""
             }
            },
            "type": "scatterpolargl"
           }
          ],
          "scatterternary": [
           {
            "marker": {
             "colorbar": {
              "outlinewidth": 0,
              "ticks": ""
             }
            },
            "type": "scatterternary"
           }
          ],
          "surface": [
           {
            "colorbar": {
             "outlinewidth": 0,
             "ticks": ""
            },
            "colorscale": [
             [
              0,
              "#0d0887"
             ],
             [
              0.1111111111111111,
              "#46039f"
             ],
             [
              0.2222222222222222,
              "#7201a8"
             ],
             [
              0.3333333333333333,
              "#9c179e"
             ],
             [
              0.4444444444444444,
              "#bd3786"
             ],
             [
              0.5555555555555556,
              "#d8576b"
             ],
             [
              0.6666666666666666,
              "#ed7953"
             ],
             [
              0.7777777777777778,
              "#fb9f3a"
             ],
             [
              0.8888888888888888,
              "#fdca26"
             ],
             [
              1,
              "#f0f921"
             ]
            ],
            "type": "surface"
           }
          ],
          "table": [
           {
            "cells": {
             "fill": {
              "color": "#EBF0F8"
             },
             "line": {
              "color": "white"
             }
            },
            "header": {
             "fill": {
              "color": "#C8D4E3"
             },
             "line": {
              "color": "white"
             }
            },
            "type": "table"
           }
          ]
         },
         "layout": {
          "annotationdefaults": {
           "arrowcolor": "#2a3f5f",
           "arrowhead": 0,
           "arrowwidth": 1
          },
          "autotypenumbers": "strict",
          "coloraxis": {
           "colorbar": {
            "outlinewidth": 0,
            "ticks": ""
           }
          },
          "colorscale": {
           "diverging": [
            [
             0,
             "#8e0152"
            ],
            [
             0.1,
             "#c51b7d"
            ],
            [
             0.2,
             "#de77ae"
            ],
            [
             0.3,
             "#f1b6da"
            ],
            [
             0.4,
             "#fde0ef"
            ],
            [
             0.5,
             "#f7f7f7"
            ],
            [
             0.6,
             "#e6f5d0"
            ],
            [
             0.7,
             "#b8e186"
            ],
            [
             0.8,
             "#7fbc41"
            ],
            [
             0.9,
             "#4d9221"
            ],
            [
             1,
             "#276419"
            ]
           ],
           "sequential": [
            [
             0,
             "#0d0887"
            ],
            [
             0.1111111111111111,
             "#46039f"
            ],
            [
             0.2222222222222222,
             "#7201a8"
            ],
            [
             0.3333333333333333,
             "#9c179e"
            ],
            [
             0.4444444444444444,
             "#bd3786"
            ],
            [
             0.5555555555555556,
             "#d8576b"
            ],
            [
             0.6666666666666666,
             "#ed7953"
            ],
            [
             0.7777777777777778,
             "#fb9f3a"
            ],
            [
             0.8888888888888888,
             "#fdca26"
            ],
            [
             1,
             "#f0f921"
            ]
           ],
           "sequentialminus": [
            [
             0,
             "#0d0887"
            ],
            [
             0.1111111111111111,
             "#46039f"
            ],
            [
             0.2222222222222222,
             "#7201a8"
            ],
            [
             0.3333333333333333,
             "#9c179e"
            ],
            [
             0.4444444444444444,
             "#bd3786"
            ],
            [
             0.5555555555555556,
             "#d8576b"
            ],
            [
             0.6666666666666666,
             "#ed7953"
            ],
            [
             0.7777777777777778,
             "#fb9f3a"
            ],
            [
             0.8888888888888888,
             "#fdca26"
            ],
            [
             1,
             "#f0f921"
            ]
           ]
          },
          "colorway": [
           "#636efa",
           "#EF553B",
           "#00cc96",
           "#ab63fa",
           "#FFA15A",
           "#19d3f3",
           "#FF6692",
           "#B6E880",
           "#FF97FF",
           "#FECB52"
          ],
          "font": {
           "color": "#2a3f5f"
          },
          "geo": {
           "bgcolor": "white",
           "lakecolor": "white",
           "landcolor": "white",
           "showlakes": true,
           "showland": true,
           "subunitcolor": "#C8D4E3"
          },
          "hoverlabel": {
           "align": "left"
          },
          "hovermode": "closest",
          "mapbox": {
           "style": "light"
          },
          "paper_bgcolor": "white",
          "plot_bgcolor": "white",
          "polar": {
           "angularaxis": {
            "gridcolor": "#EBF0F8",
            "linecolor": "#EBF0F8",
            "ticks": ""
           },
           "bgcolor": "white",
           "radialaxis": {
            "gridcolor": "#EBF0F8",
            "linecolor": "#EBF0F8",
            "ticks": ""
           }
          },
          "scene": {
           "xaxis": {
            "backgroundcolor": "white",
            "gridcolor": "#DFE8F3",
            "gridwidth": 2,
            "linecolor": "#EBF0F8",
            "showbackground": true,
            "ticks": "",
            "zerolinecolor": "#EBF0F8"
           },
           "yaxis": {
            "backgroundcolor": "white",
            "gridcolor": "#DFE8F3",
            "gridwidth": 2,
            "linecolor": "#EBF0F8",
            "showbackground": true,
            "ticks": "",
            "zerolinecolor": "#EBF0F8"
           },
           "zaxis": {
            "backgroundcolor": "white",
            "gridcolor": "#DFE8F3",
            "gridwidth": 2,
            "linecolor": "#EBF0F8",
            "showbackground": true,
            "ticks": "",
            "zerolinecolor": "#EBF0F8"
           }
          },
          "shapedefaults": {
           "line": {
            "color": "#2a3f5f"
           }
          },
          "ternary": {
           "aaxis": {
            "gridcolor": "#DFE8F3",
            "linecolor": "#A2B1C6",
            "ticks": ""
           },
           "baxis": {
            "gridcolor": "#DFE8F3",
            "linecolor": "#A2B1C6",
            "ticks": ""
           },
           "bgcolor": "white",
           "caxis": {
            "gridcolor": "#DFE8F3",
            "linecolor": "#A2B1C6",
            "ticks": ""
           }
          },
          "title": {
           "x": 0.05
          },
          "xaxis": {
           "automargin": true,
           "gridcolor": "#EBF0F8",
           "linecolor": "#EBF0F8",
           "ticks": "",
           "title": {
            "standoff": 15
           },
           "zerolinecolor": "#EBF0F8",
           "zerolinewidth": 2
          },
          "yaxis": {
           "automargin": true,
           "gridcolor": "#EBF0F8",
           "linecolor": "#EBF0F8",
           "ticks": "",
           "title": {
            "standoff": 15
           },
           "zerolinecolor": "#EBF0F8",
           "zerolinewidth": 2
          }
         }
        },
        "title": {
         "text": "ZoomIN Timeseries importi"
        },
        "xaxis": {
         "title": {
          "text": "Date"
         }
        },
        "yaxis": {
         "title": {
          "text": "IMPORTO"
         }
        }
       }
      }
     },
     "metadata": {},
     "output_type": "display_data"
    }
   ],
   "source": [
    "plot_in_timerange(original_df,DATA_COLUMN_NAME,\"IMPORTO\",\"ZoomIN Timeseries importi\", mode='markers')"
   ]
  },
  {
   "cell_type": "markdown",
   "metadata": {},
   "source": [
    "### Gli importi da soli sono poco significativi\n"
   ]
  },
  {
   "cell_type": "code",
   "execution_count": 9,
   "metadata": {
    "slideshow": {
     "slide_type": "fragment"
    }
   },
   "outputs": [
    {
     "data": {
      "application/vnd.plotly.v1+json": {
       "config": {
        "linkText": "Export to plot.ly",
        "plotlyServerURL": "https://plot.ly",
        "showLink": false
       },
       "data": [
        {
         "mode": "markers",
         "name": "ZoomIN Timeseries importi",
         "type": "scatter",
         "x": [
          "2023-02-15",
          "2023-02-16",
          "2023-02-16",
          "2023-02-16",
          "2023-02-16",
          "2023-02-18",
          "2023-02-18",
          "2023-02-21",
          "2023-02-22",
          "2023-02-23",
          "2023-02-23",
          "2023-02-24",
          "2023-02-25",
          "2023-02-25",
          "2023-02-25",
          "2023-02-25",
          "2023-02-26",
          "2023-02-26",
          "2023-02-28",
          "2023-02-28",
          "2023-03-02",
          "2023-03-03",
          "2023-03-04",
          "2023-03-04",
          "2023-03-06",
          "2023-03-06",
          "2023-03-06",
          "2023-03-08",
          "2023-03-08",
          "2023-03-10",
          "2023-03-10",
          "2023-03-11",
          "2023-03-11",
          "2023-03-12",
          "2023-03-12",
          "2023-03-13",
          "2023-03-16",
          "2023-03-16",
          "2023-03-17",
          "2023-03-18",
          "2023-03-18",
          "2023-03-19",
          "2023-03-19",
          "2023-03-20",
          "2023-03-20",
          "2023-03-22",
          "2023-03-22",
          "2023-03-23",
          "2023-03-24",
          "2023-03-24",
          "2023-03-24",
          "2023-03-25",
          "2023-03-25",
          "2023-03-25",
          "2023-03-25",
          "2023-03-27",
          "2023-03-28",
          "2023-03-28",
          "2023-03-30",
          "2023-03-31",
          "2023-03-31",
          "2023-03-31",
          "2023-03-31",
          "2023-04-01",
          "2023-04-01",
          "2023-04-01",
          "2023-04-03",
          "2023-04-04",
          "2023-04-04",
          "2023-04-04",
          "2023-04-05",
          "2023-04-05",
          "2023-04-06",
          "2023-04-07",
          "2023-04-08",
          "2023-04-09",
          "2023-04-09",
          "2023-04-09",
          "2023-04-09",
          "2023-04-11",
          "2023-04-11",
          "2023-04-11",
          "2023-04-11",
          "2023-04-12",
          "2023-04-13",
          "2023-04-13",
          "2023-04-13",
          "2023-04-14",
          "2023-04-15",
          "2023-04-15",
          "2023-04-15",
          "2023-04-15",
          "2023-04-17",
          "2023-04-18",
          "2023-04-18",
          "2023-04-20",
          "2023-04-21",
          "2023-04-22",
          "2023-04-22",
          "2023-04-22",
          "2023-04-24",
          "2023-04-24",
          "2023-04-25",
          "2023-04-25"
         ],
         "y": [
          18,
          10,
          100,
          2,
          34,
          100,
          2,
          20,
          11.26,
          20,
          100,
          24,
          100,
          1,
          0.34,
          27.62,
          100,
          2,
          100,
          16,
          20,
          20,
          100,
          2,
          20,
          100,
          2,
          100,
          2,
          1274,
          20,
          100,
          1,
          100,
          2,
          14,
          100,
          18,
          18,
          150,
          2,
          50,
          2,
          50,
          2,
          50,
          2,
          18,
          50,
          2,
          18,
          100,
          1,
          1775.45,
          28.72,
          18,
          100,
          18,
          18,
          50,
          2,
          18,
          10.5,
          100,
          1,
          15,
          14,
          50,
          2,
          15.5,
          100,
          7.48,
          18,
          18,
          0.22,
          100,
          100,
          2,
          2,
          50,
          2,
          1589,
          18,
          3.98,
          50,
          2,
          18,
          18,
          100,
          1,
          0.12,
          35.3,
          18,
          20,
          100,
          18,
          14,
          1,
          150,
          30.64,
          50,
          2,
          50,
          2
         ]
        }
       ],
       "layout": {
        "showlegend": true,
        "template": {
         "data": {
          "bar": [
           {
            "error_x": {
             "color": "#2a3f5f"
            },
            "error_y": {
             "color": "#2a3f5f"
            },
            "marker": {
             "line": {
              "color": "white",
              "width": 0.5
             },
             "pattern": {
              "fillmode": "overlay",
              "size": 10,
              "solidity": 0.2
             }
            },
            "type": "bar"
           }
          ],
          "barpolar": [
           {
            "marker": {
             "line": {
              "color": "white",
              "width": 0.5
             },
             "pattern": {
              "fillmode": "overlay",
              "size": 10,
              "solidity": 0.2
             }
            },
            "type": "barpolar"
           }
          ],
          "carpet": [
           {
            "aaxis": {
             "endlinecolor": "#2a3f5f",
             "gridcolor": "#C8D4E3",
             "linecolor": "#C8D4E3",
             "minorgridcolor": "#C8D4E3",
             "startlinecolor": "#2a3f5f"
            },
            "baxis": {
             "endlinecolor": "#2a3f5f",
             "gridcolor": "#C8D4E3",
             "linecolor": "#C8D4E3",
             "minorgridcolor": "#C8D4E3",
             "startlinecolor": "#2a3f5f"
            },
            "type": "carpet"
           }
          ],
          "choropleth": [
           {
            "colorbar": {
             "outlinewidth": 0,
             "ticks": ""
            },
            "type": "choropleth"
           }
          ],
          "contour": [
           {
            "colorbar": {
             "outlinewidth": 0,
             "ticks": ""
            },
            "colorscale": [
             [
              0,
              "#0d0887"
             ],
             [
              0.1111111111111111,
              "#46039f"
             ],
             [
              0.2222222222222222,
              "#7201a8"
             ],
             [
              0.3333333333333333,
              "#9c179e"
             ],
             [
              0.4444444444444444,
              "#bd3786"
             ],
             [
              0.5555555555555556,
              "#d8576b"
             ],
             [
              0.6666666666666666,
              "#ed7953"
             ],
             [
              0.7777777777777778,
              "#fb9f3a"
             ],
             [
              0.8888888888888888,
              "#fdca26"
             ],
             [
              1,
              "#f0f921"
             ]
            ],
            "type": "contour"
           }
          ],
          "contourcarpet": [
           {
            "colorbar": {
             "outlinewidth": 0,
             "ticks": ""
            },
            "type": "contourcarpet"
           }
          ],
          "heatmap": [
           {
            "colorbar": {
             "outlinewidth": 0,
             "ticks": ""
            },
            "colorscale": [
             [
              0,
              "#0d0887"
             ],
             [
              0.1111111111111111,
              "#46039f"
             ],
             [
              0.2222222222222222,
              "#7201a8"
             ],
             [
              0.3333333333333333,
              "#9c179e"
             ],
             [
              0.4444444444444444,
              "#bd3786"
             ],
             [
              0.5555555555555556,
              "#d8576b"
             ],
             [
              0.6666666666666666,
              "#ed7953"
             ],
             [
              0.7777777777777778,
              "#fb9f3a"
             ],
             [
              0.8888888888888888,
              "#fdca26"
             ],
             [
              1,
              "#f0f921"
             ]
            ],
            "type": "heatmap"
           }
          ],
          "heatmapgl": [
           {
            "colorbar": {
             "outlinewidth": 0,
             "ticks": ""
            },
            "colorscale": [
             [
              0,
              "#0d0887"
             ],
             [
              0.1111111111111111,
              "#46039f"
             ],
             [
              0.2222222222222222,
              "#7201a8"
             ],
             [
              0.3333333333333333,
              "#9c179e"
             ],
             [
              0.4444444444444444,
              "#bd3786"
             ],
             [
              0.5555555555555556,
              "#d8576b"
             ],
             [
              0.6666666666666666,
              "#ed7953"
             ],
             [
              0.7777777777777778,
              "#fb9f3a"
             ],
             [
              0.8888888888888888,
              "#fdca26"
             ],
             [
              1,
              "#f0f921"
             ]
            ],
            "type": "heatmapgl"
           }
          ],
          "histogram": [
           {
            "marker": {
             "pattern": {
              "fillmode": "overlay",
              "size": 10,
              "solidity": 0.2
             }
            },
            "type": "histogram"
           }
          ],
          "histogram2d": [
           {
            "colorbar": {
             "outlinewidth": 0,
             "ticks": ""
            },
            "colorscale": [
             [
              0,
              "#0d0887"
             ],
             [
              0.1111111111111111,
              "#46039f"
             ],
             [
              0.2222222222222222,
              "#7201a8"
             ],
             [
              0.3333333333333333,
              "#9c179e"
             ],
             [
              0.4444444444444444,
              "#bd3786"
             ],
             [
              0.5555555555555556,
              "#d8576b"
             ],
             [
              0.6666666666666666,
              "#ed7953"
             ],
             [
              0.7777777777777778,
              "#fb9f3a"
             ],
             [
              0.8888888888888888,
              "#fdca26"
             ],
             [
              1,
              "#f0f921"
             ]
            ],
            "type": "histogram2d"
           }
          ],
          "histogram2dcontour": [
           {
            "colorbar": {
             "outlinewidth": 0,
             "ticks": ""
            },
            "colorscale": [
             [
              0,
              "#0d0887"
             ],
             [
              0.1111111111111111,
              "#46039f"
             ],
             [
              0.2222222222222222,
              "#7201a8"
             ],
             [
              0.3333333333333333,
              "#9c179e"
             ],
             [
              0.4444444444444444,
              "#bd3786"
             ],
             [
              0.5555555555555556,
              "#d8576b"
             ],
             [
              0.6666666666666666,
              "#ed7953"
             ],
             [
              0.7777777777777778,
              "#fb9f3a"
             ],
             [
              0.8888888888888888,
              "#fdca26"
             ],
             [
              1,
              "#f0f921"
             ]
            ],
            "type": "histogram2dcontour"
           }
          ],
          "mesh3d": [
           {
            "colorbar": {
             "outlinewidth": 0,
             "ticks": ""
            },
            "type": "mesh3d"
           }
          ],
          "parcoords": [
           {
            "line": {
             "colorbar": {
              "outlinewidth": 0,
              "ticks": ""
             }
            },
            "type": "parcoords"
           }
          ],
          "pie": [
           {
            "automargin": true,
            "type": "pie"
           }
          ],
          "scatter": [
           {
            "fillpattern": {
             "fillmode": "overlay",
             "size": 10,
             "solidity": 0.2
            },
            "type": "scatter"
           }
          ],
          "scatter3d": [
           {
            "line": {
             "colorbar": {
              "outlinewidth": 0,
              "ticks": ""
             }
            },
            "marker": {
             "colorbar": {
              "outlinewidth": 0,
              "ticks": ""
             }
            },
            "type": "scatter3d"
           }
          ],
          "scattercarpet": [
           {
            "marker": {
             "colorbar": {
              "outlinewidth": 0,
              "ticks": ""
             }
            },
            "type": "scattercarpet"
           }
          ],
          "scattergeo": [
           {
            "marker": {
             "colorbar": {
              "outlinewidth": 0,
              "ticks": ""
             }
            },
            "type": "scattergeo"
           }
          ],
          "scattergl": [
           {
            "marker": {
             "colorbar": {
              "outlinewidth": 0,
              "ticks": ""
             }
            },
            "type": "scattergl"
           }
          ],
          "scattermapbox": [
           {
            "marker": {
             "colorbar": {
              "outlinewidth": 0,
              "ticks": ""
             }
            },
            "type": "scattermapbox"
           }
          ],
          "scatterpolar": [
           {
            "marker": {
             "colorbar": {
              "outlinewidth": 0,
              "ticks": ""
             }
            },
            "type": "scatterpolar"
           }
          ],
          "scatterpolargl": [
           {
            "marker": {
             "colorbar": {
              "outlinewidth": 0,
              "ticks": ""
             }
            },
            "type": "scatterpolargl"
           }
          ],
          "scatterternary": [
           {
            "marker": {
             "colorbar": {
              "outlinewidth": 0,
              "ticks": ""
             }
            },
            "type": "scatterternary"
           }
          ],
          "surface": [
           {
            "colorbar": {
             "outlinewidth": 0,
             "ticks": ""
            },
            "colorscale": [
             [
              0,
              "#0d0887"
             ],
             [
              0.1111111111111111,
              "#46039f"
             ],
             [
              0.2222222222222222,
              "#7201a8"
             ],
             [
              0.3333333333333333,
              "#9c179e"
             ],
             [
              0.4444444444444444,
              "#bd3786"
             ],
             [
              0.5555555555555556,
              "#d8576b"
             ],
             [
              0.6666666666666666,
              "#ed7953"
             ],
             [
              0.7777777777777778,
              "#fb9f3a"
             ],
             [
              0.8888888888888888,
              "#fdca26"
             ],
             [
              1,
              "#f0f921"
             ]
            ],
            "type": "surface"
           }
          ],
          "table": [
           {
            "cells": {
             "fill": {
              "color": "#EBF0F8"
             },
             "line": {
              "color": "white"
             }
            },
            "header": {
             "fill": {
              "color": "#C8D4E3"
             },
             "line": {
              "color": "white"
             }
            },
            "type": "table"
           }
          ]
         },
         "layout": {
          "annotationdefaults": {
           "arrowcolor": "#2a3f5f",
           "arrowhead": 0,
           "arrowwidth": 1
          },
          "autotypenumbers": "strict",
          "coloraxis": {
           "colorbar": {
            "outlinewidth": 0,
            "ticks": ""
           }
          },
          "colorscale": {
           "diverging": [
            [
             0,
             "#8e0152"
            ],
            [
             0.1,
             "#c51b7d"
            ],
            [
             0.2,
             "#de77ae"
            ],
            [
             0.3,
             "#f1b6da"
            ],
            [
             0.4,
             "#fde0ef"
            ],
            [
             0.5,
             "#f7f7f7"
            ],
            [
             0.6,
             "#e6f5d0"
            ],
            [
             0.7,
             "#b8e186"
            ],
            [
             0.8,
             "#7fbc41"
            ],
            [
             0.9,
             "#4d9221"
            ],
            [
             1,
             "#276419"
            ]
           ],
           "sequential": [
            [
             0,
             "#0d0887"
            ],
            [
             0.1111111111111111,
             "#46039f"
            ],
            [
             0.2222222222222222,
             "#7201a8"
            ],
            [
             0.3333333333333333,
             "#9c179e"
            ],
            [
             0.4444444444444444,
             "#bd3786"
            ],
            [
             0.5555555555555556,
             "#d8576b"
            ],
            [
             0.6666666666666666,
             "#ed7953"
            ],
            [
             0.7777777777777778,
             "#fb9f3a"
            ],
            [
             0.8888888888888888,
             "#fdca26"
            ],
            [
             1,
             "#f0f921"
            ]
           ],
           "sequentialminus": [
            [
             0,
             "#0d0887"
            ],
            [
             0.1111111111111111,
             "#46039f"
            ],
            [
             0.2222222222222222,
             "#7201a8"
            ],
            [
             0.3333333333333333,
             "#9c179e"
            ],
            [
             0.4444444444444444,
             "#bd3786"
            ],
            [
             0.5555555555555556,
             "#d8576b"
            ],
            [
             0.6666666666666666,
             "#ed7953"
            ],
            [
             0.7777777777777778,
             "#fb9f3a"
            ],
            [
             0.8888888888888888,
             "#fdca26"
            ],
            [
             1,
             "#f0f921"
            ]
           ]
          },
          "colorway": [
           "#636efa",
           "#EF553B",
           "#00cc96",
           "#ab63fa",
           "#FFA15A",
           "#19d3f3",
           "#FF6692",
           "#B6E880",
           "#FF97FF",
           "#FECB52"
          ],
          "font": {
           "color": "#2a3f5f"
          },
          "geo": {
           "bgcolor": "white",
           "lakecolor": "white",
           "landcolor": "white",
           "showlakes": true,
           "showland": true,
           "subunitcolor": "#C8D4E3"
          },
          "hoverlabel": {
           "align": "left"
          },
          "hovermode": "closest",
          "mapbox": {
           "style": "light"
          },
          "paper_bgcolor": "white",
          "plot_bgcolor": "white",
          "polar": {
           "angularaxis": {
            "gridcolor": "#EBF0F8",
            "linecolor": "#EBF0F8",
            "ticks": ""
           },
           "bgcolor": "white",
           "radialaxis": {
            "gridcolor": "#EBF0F8",
            "linecolor": "#EBF0F8",
            "ticks": ""
           }
          },
          "scene": {
           "xaxis": {
            "backgroundcolor": "white",
            "gridcolor": "#DFE8F3",
            "gridwidth": 2,
            "linecolor": "#EBF0F8",
            "showbackground": true,
            "ticks": "",
            "zerolinecolor": "#EBF0F8"
           },
           "yaxis": {
            "backgroundcolor": "white",
            "gridcolor": "#DFE8F3",
            "gridwidth": 2,
            "linecolor": "#EBF0F8",
            "showbackground": true,
            "ticks": "",
            "zerolinecolor": "#EBF0F8"
           },
           "zaxis": {
            "backgroundcolor": "white",
            "gridcolor": "#DFE8F3",
            "gridwidth": 2,
            "linecolor": "#EBF0F8",
            "showbackground": true,
            "ticks": "",
            "zerolinecolor": "#EBF0F8"
           }
          },
          "shapedefaults": {
           "line": {
            "color": "#2a3f5f"
           }
          },
          "ternary": {
           "aaxis": {
            "gridcolor": "#DFE8F3",
            "linecolor": "#A2B1C6",
            "ticks": ""
           },
           "baxis": {
            "gridcolor": "#DFE8F3",
            "linecolor": "#A2B1C6",
            "ticks": ""
           },
           "bgcolor": "white",
           "caxis": {
            "gridcolor": "#DFE8F3",
            "linecolor": "#A2B1C6",
            "ticks": ""
           }
          },
          "title": {
           "x": 0.05
          },
          "xaxis": {
           "automargin": true,
           "gridcolor": "#EBF0F8",
           "linecolor": "#EBF0F8",
           "ticks": "",
           "title": {
            "standoff": 15
           },
           "zerolinecolor": "#EBF0F8",
           "zerolinewidth": 2
          },
          "yaxis": {
           "automargin": true,
           "gridcolor": "#EBF0F8",
           "linecolor": "#EBF0F8",
           "ticks": "",
           "title": {
            "standoff": 15
           },
           "zerolinecolor": "#EBF0F8",
           "zerolinewidth": 2
          }
         }
        },
        "title": {
         "text": "ZoomIN Timeseries importi"
        },
        "xaxis": {
         "title": {
          "text": "Date"
         }
        },
        "yaxis": {
         "title": {
          "text": "IMPORTO"
         }
        }
       }
      }
     },
     "metadata": {},
     "output_type": "display_data"
    }
   ],
   "source": [
    "plot_in_timerange(original_df,DATA_COLUMN_NAME,\"IMPORTO\",\"ZoomIN Timeseries importi\", mode='markers')"
   ]
  },
  {
   "cell_type": "markdown",
   "metadata": {
    "slideshow": {
     "slide_type": "slide"
    }
   },
   "source": [
    "### Assenza di eventi, ovvero vi sono dei \"salti\" nella linea temporale."
   ]
  },
  {
   "cell_type": "code",
   "execution_count": 10,
   "metadata": {
    "slideshow": {
     "slide_type": "fragment"
    }
   },
   "outputs": [
    {
     "name": "stderr",
     "output_type": "stream",
     "text": [
      "23/08/01 16:39:34 WARN GarbageCollectionMetrics: To enable non-built-in garbage collector(s) List(G1 Concurrent GC), users should configure it(them) to spark.eventLog.gcMetrics.youngGenerationGarbageCollectors or spark.eventLog.gcMetrics.oldGenerationGarbageCollectors\n"
     ]
    },
    {
     "data": {
      "application/vnd.plotly.v1+json": {
       "config": {
        "linkText": "Export to plot.ly",
        "plotlyServerURL": "https://plot.ly",
        "showLink": false
       },
       "data": [
        {
         "mode": "markers",
         "name": "ZoomIN Timeseries importi",
         "type": "scatter",
         "x": [
          "2023-02-15",
          "2023-02-16",
          "2023-02-16",
          "2023-02-16",
          "2023-02-16",
          "2023-02-18",
          "2023-02-18",
          "2023-02-21",
          "2023-02-22",
          "2023-02-23",
          "2023-02-23",
          "2023-02-24",
          "2023-02-25",
          "2023-02-25",
          "2023-02-25",
          "2023-02-25",
          "2023-02-26",
          "2023-02-26",
          "2023-02-28",
          "2023-02-28",
          "2023-03-02",
          "2023-03-03",
          "2023-03-04",
          "2023-03-04",
          "2023-03-06",
          "2023-03-06",
          "2023-03-06",
          "2023-03-08",
          "2023-03-08",
          "2023-03-10",
          "2023-03-10",
          "2023-03-11",
          "2023-03-11",
          "2023-03-12",
          "2023-03-12",
          "2023-03-13",
          "2023-03-16",
          "2023-03-16",
          "2023-03-17",
          "2023-03-18",
          "2023-03-18",
          "2023-03-19",
          "2023-03-19",
          "2023-03-20",
          "2023-03-20",
          "2023-03-22",
          "2023-03-22",
          "2023-03-23",
          "2023-03-24",
          "2023-03-24",
          "2023-03-24",
          "2023-03-25",
          "2023-03-25",
          "2023-03-25",
          "2023-03-25",
          "2023-03-27",
          "2023-03-28",
          "2023-03-28",
          "2023-03-30",
          "2023-03-31",
          "2023-03-31",
          "2023-03-31",
          "2023-03-31",
          "2023-04-01",
          "2023-04-01",
          "2023-04-01",
          "2023-04-03",
          "2023-04-04",
          "2023-04-04",
          "2023-04-04",
          "2023-04-05",
          "2023-04-05",
          "2023-04-06",
          "2023-04-07",
          "2023-04-08",
          "2023-04-09",
          "2023-04-09",
          "2023-04-09",
          "2023-04-09",
          "2023-04-11",
          "2023-04-11",
          "2023-04-11",
          "2023-04-11",
          "2023-04-12",
          "2023-04-13",
          "2023-04-13",
          "2023-04-13",
          "2023-04-14",
          "2023-04-15",
          "2023-04-15",
          "2023-04-15",
          "2023-04-15",
          "2023-04-17",
          "2023-04-18",
          "2023-04-18",
          "2023-04-20",
          "2023-04-21",
          "2023-04-22",
          "2023-04-22",
          "2023-04-22",
          "2023-04-24",
          "2023-04-24",
          "2023-04-25",
          "2023-04-25"
         ],
         "y": [
          18,
          10,
          100,
          2,
          34,
          100,
          2,
          20,
          11.26,
          20,
          100,
          24,
          100,
          1,
          0.34,
          27.62,
          100,
          2,
          100,
          16,
          20,
          20,
          100,
          2,
          20,
          100,
          2,
          100,
          2,
          1274,
          20,
          100,
          1,
          100,
          2,
          14,
          100,
          18,
          18,
          150,
          2,
          50,
          2,
          50,
          2,
          50,
          2,
          18,
          50,
          2,
          18,
          100,
          1,
          1775.45,
          28.72,
          18,
          100,
          18,
          18,
          50,
          2,
          18,
          10.5,
          100,
          1,
          15,
          14,
          50,
          2,
          15.5,
          100,
          7.48,
          18,
          18,
          0.22,
          100,
          100,
          2,
          2,
          50,
          2,
          1589,
          18,
          3.98,
          50,
          2,
          18,
          18,
          100,
          1,
          0.12,
          35.3,
          18,
          20,
          100,
          18,
          14,
          1,
          150,
          30.64,
          50,
          2,
          50,
          2
         ]
        }
       ],
       "layout": {
        "showlegend": true,
        "template": {
         "data": {
          "bar": [
           {
            "error_x": {
             "color": "#2a3f5f"
            },
            "error_y": {
             "color": "#2a3f5f"
            },
            "marker": {
             "line": {
              "color": "white",
              "width": 0.5
             },
             "pattern": {
              "fillmode": "overlay",
              "size": 10,
              "solidity": 0.2
             }
            },
            "type": "bar"
           }
          ],
          "barpolar": [
           {
            "marker": {
             "line": {
              "color": "white",
              "width": 0.5
             },
             "pattern": {
              "fillmode": "overlay",
              "size": 10,
              "solidity": 0.2
             }
            },
            "type": "barpolar"
           }
          ],
          "carpet": [
           {
            "aaxis": {
             "endlinecolor": "#2a3f5f",
             "gridcolor": "#C8D4E3",
             "linecolor": "#C8D4E3",
             "minorgridcolor": "#C8D4E3",
             "startlinecolor": "#2a3f5f"
            },
            "baxis": {
             "endlinecolor": "#2a3f5f",
             "gridcolor": "#C8D4E3",
             "linecolor": "#C8D4E3",
             "minorgridcolor": "#C8D4E3",
             "startlinecolor": "#2a3f5f"
            },
            "type": "carpet"
           }
          ],
          "choropleth": [
           {
            "colorbar": {
             "outlinewidth": 0,
             "ticks": ""
            },
            "type": "choropleth"
           }
          ],
          "contour": [
           {
            "colorbar": {
             "outlinewidth": 0,
             "ticks": ""
            },
            "colorscale": [
             [
              0,
              "#0d0887"
             ],
             [
              0.1111111111111111,
              "#46039f"
             ],
             [
              0.2222222222222222,
              "#7201a8"
             ],
             [
              0.3333333333333333,
              "#9c179e"
             ],
             [
              0.4444444444444444,
              "#bd3786"
             ],
             [
              0.5555555555555556,
              "#d8576b"
             ],
             [
              0.6666666666666666,
              "#ed7953"
             ],
             [
              0.7777777777777778,
              "#fb9f3a"
             ],
             [
              0.8888888888888888,
              "#fdca26"
             ],
             [
              1,
              "#f0f921"
             ]
            ],
            "type": "contour"
           }
          ],
          "contourcarpet": [
           {
            "colorbar": {
             "outlinewidth": 0,
             "ticks": ""
            },
            "type": "contourcarpet"
           }
          ],
          "heatmap": [
           {
            "colorbar": {
             "outlinewidth": 0,
             "ticks": ""
            },
            "colorscale": [
             [
              0,
              "#0d0887"
             ],
             [
              0.1111111111111111,
              "#46039f"
             ],
             [
              0.2222222222222222,
              "#7201a8"
             ],
             [
              0.3333333333333333,
              "#9c179e"
             ],
             [
              0.4444444444444444,
              "#bd3786"
             ],
             [
              0.5555555555555556,
              "#d8576b"
             ],
             [
              0.6666666666666666,
              "#ed7953"
             ],
             [
              0.7777777777777778,
              "#fb9f3a"
             ],
             [
              0.8888888888888888,
              "#fdca26"
             ],
             [
              1,
              "#f0f921"
             ]
            ],
            "type": "heatmap"
           }
          ],
          "heatmapgl": [
           {
            "colorbar": {
             "outlinewidth": 0,
             "ticks": ""
            },
            "colorscale": [
             [
              0,
              "#0d0887"
             ],
             [
              0.1111111111111111,
              "#46039f"
             ],
             [
              0.2222222222222222,
              "#7201a8"
             ],
             [
              0.3333333333333333,
              "#9c179e"
             ],
             [
              0.4444444444444444,
              "#bd3786"
             ],
             [
              0.5555555555555556,
              "#d8576b"
             ],
             [
              0.6666666666666666,
              "#ed7953"
             ],
             [
              0.7777777777777778,
              "#fb9f3a"
             ],
             [
              0.8888888888888888,
              "#fdca26"
             ],
             [
              1,
              "#f0f921"
             ]
            ],
            "type": "heatmapgl"
           }
          ],
          "histogram": [
           {
            "marker": {
             "pattern": {
              "fillmode": "overlay",
              "size": 10,
              "solidity": 0.2
             }
            },
            "type": "histogram"
           }
          ],
          "histogram2d": [
           {
            "colorbar": {
             "outlinewidth": 0,
             "ticks": ""
            },
            "colorscale": [
             [
              0,
              "#0d0887"
             ],
             [
              0.1111111111111111,
              "#46039f"
             ],
             [
              0.2222222222222222,
              "#7201a8"
             ],
             [
              0.3333333333333333,
              "#9c179e"
             ],
             [
              0.4444444444444444,
              "#bd3786"
             ],
             [
              0.5555555555555556,
              "#d8576b"
             ],
             [
              0.6666666666666666,
              "#ed7953"
             ],
             [
              0.7777777777777778,
              "#fb9f3a"
             ],
             [
              0.8888888888888888,
              "#fdca26"
             ],
             [
              1,
              "#f0f921"
             ]
            ],
            "type": "histogram2d"
           }
          ],
          "histogram2dcontour": [
           {
            "colorbar": {
             "outlinewidth": 0,
             "ticks": ""
            },
            "colorscale": [
             [
              0,
              "#0d0887"
             ],
             [
              0.1111111111111111,
              "#46039f"
             ],
             [
              0.2222222222222222,
              "#7201a8"
             ],
             [
              0.3333333333333333,
              "#9c179e"
             ],
             [
              0.4444444444444444,
              "#bd3786"
             ],
             [
              0.5555555555555556,
              "#d8576b"
             ],
             [
              0.6666666666666666,
              "#ed7953"
             ],
             [
              0.7777777777777778,
              "#fb9f3a"
             ],
             [
              0.8888888888888888,
              "#fdca26"
             ],
             [
              1,
              "#f0f921"
             ]
            ],
            "type": "histogram2dcontour"
           }
          ],
          "mesh3d": [
           {
            "colorbar": {
             "outlinewidth": 0,
             "ticks": ""
            },
            "type": "mesh3d"
           }
          ],
          "parcoords": [
           {
            "line": {
             "colorbar": {
              "outlinewidth": 0,
              "ticks": ""
             }
            },
            "type": "parcoords"
           }
          ],
          "pie": [
           {
            "automargin": true,
            "type": "pie"
           }
          ],
          "scatter": [
           {
            "fillpattern": {
             "fillmode": "overlay",
             "size": 10,
             "solidity": 0.2
            },
            "type": "scatter"
           }
          ],
          "scatter3d": [
           {
            "line": {
             "colorbar": {
              "outlinewidth": 0,
              "ticks": ""
             }
            },
            "marker": {
             "colorbar": {
              "outlinewidth": 0,
              "ticks": ""
             }
            },
            "type": "scatter3d"
           }
          ],
          "scattercarpet": [
           {
            "marker": {
             "colorbar": {
              "outlinewidth": 0,
              "ticks": ""
             }
            },
            "type": "scattercarpet"
           }
          ],
          "scattergeo": [
           {
            "marker": {
             "colorbar": {
              "outlinewidth": 0,
              "ticks": ""
             }
            },
            "type": "scattergeo"
           }
          ],
          "scattergl": [
           {
            "marker": {
             "colorbar": {
              "outlinewidth": 0,
              "ticks": ""
             }
            },
            "type": "scattergl"
           }
          ],
          "scattermapbox": [
           {
            "marker": {
             "colorbar": {
              "outlinewidth": 0,
              "ticks": ""
             }
            },
            "type": "scattermapbox"
           }
          ],
          "scatterpolar": [
           {
            "marker": {
             "colorbar": {
              "outlinewidth": 0,
              "ticks": ""
             }
            },
            "type": "scatterpolar"
           }
          ],
          "scatterpolargl": [
           {
            "marker": {
             "colorbar": {
              "outlinewidth": 0,
              "ticks": ""
             }
            },
            "type": "scatterpolargl"
           }
          ],
          "scatterternary": [
           {
            "marker": {
             "colorbar": {
              "outlinewidth": 0,
              "ticks": ""
             }
            },
            "type": "scatterternary"
           }
          ],
          "surface": [
           {
            "colorbar": {
             "outlinewidth": 0,
             "ticks": ""
            },
            "colorscale": [
             [
              0,
              "#0d0887"
             ],
             [
              0.1111111111111111,
              "#46039f"
             ],
             [
              0.2222222222222222,
              "#7201a8"
             ],
             [
              0.3333333333333333,
              "#9c179e"
             ],
             [
              0.4444444444444444,
              "#bd3786"
             ],
             [
              0.5555555555555556,
              "#d8576b"
             ],
             [
              0.6666666666666666,
              "#ed7953"
             ],
             [
              0.7777777777777778,
              "#fb9f3a"
             ],
             [
              0.8888888888888888,
              "#fdca26"
             ],
             [
              1,
              "#f0f921"
             ]
            ],
            "type": "surface"
           }
          ],
          "table": [
           {
            "cells": {
             "fill": {
              "color": "#EBF0F8"
             },
             "line": {
              "color": "white"
             }
            },
            "header": {
             "fill": {
              "color": "#C8D4E3"
             },
             "line": {
              "color": "white"
             }
            },
            "type": "table"
           }
          ]
         },
         "layout": {
          "annotationdefaults": {
           "arrowcolor": "#2a3f5f",
           "arrowhead": 0,
           "arrowwidth": 1
          },
          "autotypenumbers": "strict",
          "coloraxis": {
           "colorbar": {
            "outlinewidth": 0,
            "ticks": ""
           }
          },
          "colorscale": {
           "diverging": [
            [
             0,
             "#8e0152"
            ],
            [
             0.1,
             "#c51b7d"
            ],
            [
             0.2,
             "#de77ae"
            ],
            [
             0.3,
             "#f1b6da"
            ],
            [
             0.4,
             "#fde0ef"
            ],
            [
             0.5,
             "#f7f7f7"
            ],
            [
             0.6,
             "#e6f5d0"
            ],
            [
             0.7,
             "#b8e186"
            ],
            [
             0.8,
             "#7fbc41"
            ],
            [
             0.9,
             "#4d9221"
            ],
            [
             1,
             "#276419"
            ]
           ],
           "sequential": [
            [
             0,
             "#0d0887"
            ],
            [
             0.1111111111111111,
             "#46039f"
            ],
            [
             0.2222222222222222,
             "#7201a8"
            ],
            [
             0.3333333333333333,
             "#9c179e"
            ],
            [
             0.4444444444444444,
             "#bd3786"
            ],
            [
             0.5555555555555556,
             "#d8576b"
            ],
            [
             0.6666666666666666,
             "#ed7953"
            ],
            [
             0.7777777777777778,
             "#fb9f3a"
            ],
            [
             0.8888888888888888,
             "#fdca26"
            ],
            [
             1,
             "#f0f921"
            ]
           ],
           "sequentialminus": [
            [
             0,
             "#0d0887"
            ],
            [
             0.1111111111111111,
             "#46039f"
            ],
            [
             0.2222222222222222,
             "#7201a8"
            ],
            [
             0.3333333333333333,
             "#9c179e"
            ],
            [
             0.4444444444444444,
             "#bd3786"
            ],
            [
             0.5555555555555556,
             "#d8576b"
            ],
            [
             0.6666666666666666,
             "#ed7953"
            ],
            [
             0.7777777777777778,
             "#fb9f3a"
            ],
            [
             0.8888888888888888,
             "#fdca26"
            ],
            [
             1,
             "#f0f921"
            ]
           ]
          },
          "colorway": [
           "#636efa",
           "#EF553B",
           "#00cc96",
           "#ab63fa",
           "#FFA15A",
           "#19d3f3",
           "#FF6692",
           "#B6E880",
           "#FF97FF",
           "#FECB52"
          ],
          "font": {
           "color": "#2a3f5f"
          },
          "geo": {
           "bgcolor": "white",
           "lakecolor": "white",
           "landcolor": "white",
           "showlakes": true,
           "showland": true,
           "subunitcolor": "#C8D4E3"
          },
          "hoverlabel": {
           "align": "left"
          },
          "hovermode": "closest",
          "mapbox": {
           "style": "light"
          },
          "paper_bgcolor": "white",
          "plot_bgcolor": "white",
          "polar": {
           "angularaxis": {
            "gridcolor": "#EBF0F8",
            "linecolor": "#EBF0F8",
            "ticks": ""
           },
           "bgcolor": "white",
           "radialaxis": {
            "gridcolor": "#EBF0F8",
            "linecolor": "#EBF0F8",
            "ticks": ""
           }
          },
          "scene": {
           "xaxis": {
            "backgroundcolor": "white",
            "gridcolor": "#DFE8F3",
            "gridwidth": 2,
            "linecolor": "#EBF0F8",
            "showbackground": true,
            "ticks": "",
            "zerolinecolor": "#EBF0F8"
           },
           "yaxis": {
            "backgroundcolor": "white",
            "gridcolor": "#DFE8F3",
            "gridwidth": 2,
            "linecolor": "#EBF0F8",
            "showbackground": true,
            "ticks": "",
            "zerolinecolor": "#EBF0F8"
           },
           "zaxis": {
            "backgroundcolor": "white",
            "gridcolor": "#DFE8F3",
            "gridwidth": 2,
            "linecolor": "#EBF0F8",
            "showbackground": true,
            "ticks": "",
            "zerolinecolor": "#EBF0F8"
           }
          },
          "shapedefaults": {
           "line": {
            "color": "#2a3f5f"
           }
          },
          "ternary": {
           "aaxis": {
            "gridcolor": "#DFE8F3",
            "linecolor": "#A2B1C6",
            "ticks": ""
           },
           "baxis": {
            "gridcolor": "#DFE8F3",
            "linecolor": "#A2B1C6",
            "ticks": ""
           },
           "bgcolor": "white",
           "caxis": {
            "gridcolor": "#DFE8F3",
            "linecolor": "#A2B1C6",
            "ticks": ""
           }
          },
          "title": {
           "x": 0.05
          },
          "xaxis": {
           "automargin": true,
           "gridcolor": "#EBF0F8",
           "linecolor": "#EBF0F8",
           "ticks": "",
           "title": {
            "standoff": 15
           },
           "zerolinecolor": "#EBF0F8",
           "zerolinewidth": 2
          },
          "yaxis": {
           "automargin": true,
           "gridcolor": "#EBF0F8",
           "linecolor": "#EBF0F8",
           "ticks": "",
           "title": {
            "standoff": 15
           },
           "zerolinecolor": "#EBF0F8",
           "zerolinewidth": 2
          }
         }
        },
        "title": {
         "text": "ZoomIN Timeseries importi"
        },
        "xaxis": {
         "title": {
          "text": "Date"
         }
        },
        "yaxis": {
         "title": {
          "text": "IMPORTO"
         }
        }
       }
      }
     },
     "metadata": {},
     "output_type": "display_data"
    }
   ],
   "source": [
    "plot_in_timerange(original_df,DATA_COLUMN_NAME,\"IMPORTO\",\"ZoomIN Timeseries importi\", mode='markers')"
   ]
  },
  {
   "cell_type": "markdown",
   "metadata": {
    "slideshow": {
     "slide_type": "slide"
    }
   },
   "source": [
    "# Soluzione problema 1: \n",
    "Individuazione degli eventi coincidenza e raccolta degli stessi in time-buckets comuni\n"
   ]
  },
  {
   "cell_type": "code",
   "execution_count": 11,
   "metadata": {
    "slideshow": {
     "slide_type": "fragment"
    }
   },
   "outputs": [],
   "source": [
    "#### APPLICO IL TIME BUCKETING\n",
    "time_bucket_step =  TimeBucketing(\n",
    "        time_zone=\"Europe/Rome\",\n",
    "        time_column_name=DATA_COLUMN_NAME,\n",
    "        time_bucket_size=1,\n",
    "        time_bucket_granularity=\"day\",\n",
    "        time_bucket_col_name=\"bucket\",\n",
    "    )\n",
    "\n",
    "time_bucket_df = time_bucket_step(original_df, spark)\n"
   ]
  },
  {
   "cell_type": "code",
   "execution_count": 12,
   "metadata": {
    "slideshow": {
     "slide_type": "skip"
    }
   },
   "outputs": [],
   "source": [
    "timerange_bucket_df = timerange_df(time_bucket_df,DATA_COLUMN_NAME)\n",
    "\n",
    "timerange_bucket_counter_df = timerange_bucket_df.groupBy(\"ID_CLIENTE_BIC\", \"bucket\").agg(count(\"*\").alias(\"count\"))\n",
    "timerange_bucket_counter_df = timerange_bucket_counter_df.withColumn(\"bucket_start\", col(\"bucket\").getItem(\"end\"))\n",
    "timerange_bucket_counter_df = timerange_bucket_counter_df.orderBy(col(\"bucket_start\"))"
   ]
  },
  {
   "cell_type": "code",
   "execution_count": 13,
   "metadata": {
    "slideshow": {
     "slide_type": "slide"
    }
   },
   "outputs": [
    {
     "data": {
      "application/vnd.plotly.v1+json": {
       "config": {
        "linkText": "Export to plot.ly",
        "plotlyServerURL": "https://plot.ly",
        "showLink": false
       },
       "data": [
        {
         "mode": "markers",
         "name": "ZoomIN Timeseries importi",
         "type": "scatter",
         "x": [
          "2023-02-15",
          "2023-02-16",
          "2023-02-16",
          "2023-02-16",
          "2023-02-16",
          "2023-02-18",
          "2023-02-18",
          "2023-02-21",
          "2023-02-22",
          "2023-02-23",
          "2023-02-23",
          "2023-02-24",
          "2023-02-25",
          "2023-02-25",
          "2023-02-25",
          "2023-02-25",
          "2023-02-26",
          "2023-02-26",
          "2023-02-28",
          "2023-02-28",
          "2023-03-02",
          "2023-03-03",
          "2023-03-04",
          "2023-03-04",
          "2023-03-06",
          "2023-03-06",
          "2023-03-06",
          "2023-03-08",
          "2023-03-08",
          "2023-03-10",
          "2023-03-10",
          "2023-03-11",
          "2023-03-11",
          "2023-03-12",
          "2023-03-12",
          "2023-03-13",
          "2023-03-16",
          "2023-03-16",
          "2023-03-17",
          "2023-03-18",
          "2023-03-18",
          "2023-03-19",
          "2023-03-19",
          "2023-03-20",
          "2023-03-20",
          "2023-03-22",
          "2023-03-22",
          "2023-03-23",
          "2023-03-24",
          "2023-03-24",
          "2023-03-24",
          "2023-03-25",
          "2023-03-25",
          "2023-03-25",
          "2023-03-25",
          "2023-03-27",
          "2023-03-28",
          "2023-03-28",
          "2023-03-30",
          "2023-03-31",
          "2023-03-31",
          "2023-03-31",
          "2023-03-31",
          "2023-04-01",
          "2023-04-01",
          "2023-04-01",
          "2023-04-03",
          "2023-04-04",
          "2023-04-04",
          "2023-04-04",
          "2023-04-05",
          "2023-04-05",
          "2023-04-06",
          "2023-04-07",
          "2023-04-08",
          "2023-04-09",
          "2023-04-09",
          "2023-04-09",
          "2023-04-09",
          "2023-04-11",
          "2023-04-11",
          "2023-04-11",
          "2023-04-11",
          "2023-04-12",
          "2023-04-13",
          "2023-04-13",
          "2023-04-13",
          "2023-04-14",
          "2023-04-15",
          "2023-04-15",
          "2023-04-15",
          "2023-04-15",
          "2023-04-17",
          "2023-04-18",
          "2023-04-18",
          "2023-04-20",
          "2023-04-21",
          "2023-04-22",
          "2023-04-22",
          "2023-04-22",
          "2023-04-24",
          "2023-04-24",
          "2023-04-25",
          "2023-04-25"
         ],
         "y": [
          18,
          10,
          100,
          2,
          34,
          100,
          2,
          20,
          11.26,
          20,
          100,
          24,
          100,
          1,
          0.34,
          27.62,
          100,
          2,
          100,
          16,
          20,
          20,
          100,
          2,
          20,
          100,
          2,
          100,
          2,
          1274,
          20,
          100,
          1,
          100,
          2,
          14,
          100,
          18,
          18,
          150,
          2,
          50,
          2,
          50,
          2,
          50,
          2,
          18,
          50,
          2,
          18,
          100,
          1,
          1775.45,
          28.72,
          18,
          100,
          18,
          18,
          50,
          2,
          18,
          10.5,
          100,
          1,
          15,
          14,
          50,
          2,
          15.5,
          100,
          7.48,
          18,
          18,
          0.22,
          100,
          100,
          2,
          2,
          50,
          2,
          1589,
          18,
          3.98,
          50,
          2,
          18,
          18,
          100,
          1,
          0.12,
          35.3,
          18,
          20,
          100,
          18,
          14,
          1,
          150,
          30.64,
          50,
          2,
          50,
          2
         ]
        }
       ],
       "layout": {
        "showlegend": true,
        "template": {
         "data": {
          "bar": [
           {
            "error_x": {
             "color": "#2a3f5f"
            },
            "error_y": {
             "color": "#2a3f5f"
            },
            "marker": {
             "line": {
              "color": "white",
              "width": 0.5
             },
             "pattern": {
              "fillmode": "overlay",
              "size": 10,
              "solidity": 0.2
             }
            },
            "type": "bar"
           }
          ],
          "barpolar": [
           {
            "marker": {
             "line": {
              "color": "white",
              "width": 0.5
             },
             "pattern": {
              "fillmode": "overlay",
              "size": 10,
              "solidity": 0.2
             }
            },
            "type": "barpolar"
           }
          ],
          "carpet": [
           {
            "aaxis": {
             "endlinecolor": "#2a3f5f",
             "gridcolor": "#C8D4E3",
             "linecolor": "#C8D4E3",
             "minorgridcolor": "#C8D4E3",
             "startlinecolor": "#2a3f5f"
            },
            "baxis": {
             "endlinecolor": "#2a3f5f",
             "gridcolor": "#C8D4E3",
             "linecolor": "#C8D4E3",
             "minorgridcolor": "#C8D4E3",
             "startlinecolor": "#2a3f5f"
            },
            "type": "carpet"
           }
          ],
          "choropleth": [
           {
            "colorbar": {
             "outlinewidth": 0,
             "ticks": ""
            },
            "type": "choropleth"
           }
          ],
          "contour": [
           {
            "colorbar": {
             "outlinewidth": 0,
             "ticks": ""
            },
            "colorscale": [
             [
              0,
              "#0d0887"
             ],
             [
              0.1111111111111111,
              "#46039f"
             ],
             [
              0.2222222222222222,
              "#7201a8"
             ],
             [
              0.3333333333333333,
              "#9c179e"
             ],
             [
              0.4444444444444444,
              "#bd3786"
             ],
             [
              0.5555555555555556,
              "#d8576b"
             ],
             [
              0.6666666666666666,
              "#ed7953"
             ],
             [
              0.7777777777777778,
              "#fb9f3a"
             ],
             [
              0.8888888888888888,
              "#fdca26"
             ],
             [
              1,
              "#f0f921"
             ]
            ],
            "type": "contour"
           }
          ],
          "contourcarpet": [
           {
            "colorbar": {
             "outlinewidth": 0,
             "ticks": ""
            },
            "type": "contourcarpet"
           }
          ],
          "heatmap": [
           {
            "colorbar": {
             "outlinewidth": 0,
             "ticks": ""
            },
            "colorscale": [
             [
              0,
              "#0d0887"
             ],
             [
              0.1111111111111111,
              "#46039f"
             ],
             [
              0.2222222222222222,
              "#7201a8"
             ],
             [
              0.3333333333333333,
              "#9c179e"
             ],
             [
              0.4444444444444444,
              "#bd3786"
             ],
             [
              0.5555555555555556,
              "#d8576b"
             ],
             [
              0.6666666666666666,
              "#ed7953"
             ],
             [
              0.7777777777777778,
              "#fb9f3a"
             ],
             [
              0.8888888888888888,
              "#fdca26"
             ],
             [
              1,
              "#f0f921"
             ]
            ],
            "type": "heatmap"
           }
          ],
          "heatmapgl": [
           {
            "colorbar": {
             "outlinewidth": 0,
             "ticks": ""
            },
            "colorscale": [
             [
              0,
              "#0d0887"
             ],
             [
              0.1111111111111111,
              "#46039f"
             ],
             [
              0.2222222222222222,
              "#7201a8"
             ],
             [
              0.3333333333333333,
              "#9c179e"
             ],
             [
              0.4444444444444444,
              "#bd3786"
             ],
             [
              0.5555555555555556,
              "#d8576b"
             ],
             [
              0.6666666666666666,
              "#ed7953"
             ],
             [
              0.7777777777777778,
              "#fb9f3a"
             ],
             [
              0.8888888888888888,
              "#fdca26"
             ],
             [
              1,
              "#f0f921"
             ]
            ],
            "type": "heatmapgl"
           }
          ],
          "histogram": [
           {
            "marker": {
             "pattern": {
              "fillmode": "overlay",
              "size": 10,
              "solidity": 0.2
             }
            },
            "type": "histogram"
           }
          ],
          "histogram2d": [
           {
            "colorbar": {
             "outlinewidth": 0,
             "ticks": ""
            },
            "colorscale": [
             [
              0,
              "#0d0887"
             ],
             [
              0.1111111111111111,
              "#46039f"
             ],
             [
              0.2222222222222222,
              "#7201a8"
             ],
             [
              0.3333333333333333,
              "#9c179e"
             ],
             [
              0.4444444444444444,
              "#bd3786"
             ],
             [
              0.5555555555555556,
              "#d8576b"
             ],
             [
              0.6666666666666666,
              "#ed7953"
             ],
             [
              0.7777777777777778,
              "#fb9f3a"
             ],
             [
              0.8888888888888888,
              "#fdca26"
             ],
             [
              1,
              "#f0f921"
             ]
            ],
            "type": "histogram2d"
           }
          ],
          "histogram2dcontour": [
           {
            "colorbar": {
             "outlinewidth": 0,
             "ticks": ""
            },
            "colorscale": [
             [
              0,
              "#0d0887"
             ],
             [
              0.1111111111111111,
              "#46039f"
             ],
             [
              0.2222222222222222,
              "#7201a8"
             ],
             [
              0.3333333333333333,
              "#9c179e"
             ],
             [
              0.4444444444444444,
              "#bd3786"
             ],
             [
              0.5555555555555556,
              "#d8576b"
             ],
             [
              0.6666666666666666,
              "#ed7953"
             ],
             [
              0.7777777777777778,
              "#fb9f3a"
             ],
             [
              0.8888888888888888,
              "#fdca26"
             ],
             [
              1,
              "#f0f921"
             ]
            ],
            "type": "histogram2dcontour"
           }
          ],
          "mesh3d": [
           {
            "colorbar": {
             "outlinewidth": 0,
             "ticks": ""
            },
            "type": "mesh3d"
           }
          ],
          "parcoords": [
           {
            "line": {
             "colorbar": {
              "outlinewidth": 0,
              "ticks": ""
             }
            },
            "type": "parcoords"
           }
          ],
          "pie": [
           {
            "automargin": true,
            "type": "pie"
           }
          ],
          "scatter": [
           {
            "fillpattern": {
             "fillmode": "overlay",
             "size": 10,
             "solidity": 0.2
            },
            "type": "scatter"
           }
          ],
          "scatter3d": [
           {
            "line": {
             "colorbar": {
              "outlinewidth": 0,
              "ticks": ""
             }
            },
            "marker": {
             "colorbar": {
              "outlinewidth": 0,
              "ticks": ""
             }
            },
            "type": "scatter3d"
           }
          ],
          "scattercarpet": [
           {
            "marker": {
             "colorbar": {
              "outlinewidth": 0,
              "ticks": ""
             }
            },
            "type": "scattercarpet"
           }
          ],
          "scattergeo": [
           {
            "marker": {
             "colorbar": {
              "outlinewidth": 0,
              "ticks": ""
             }
            },
            "type": "scattergeo"
           }
          ],
          "scattergl": [
           {
            "marker": {
             "colorbar": {
              "outlinewidth": 0,
              "ticks": ""
             }
            },
            "type": "scattergl"
           }
          ],
          "scattermapbox": [
           {
            "marker": {
             "colorbar": {
              "outlinewidth": 0,
              "ticks": ""
             }
            },
            "type": "scattermapbox"
           }
          ],
          "scatterpolar": [
           {
            "marker": {
             "colorbar": {
              "outlinewidth": 0,
              "ticks": ""
             }
            },
            "type": "scatterpolar"
           }
          ],
          "scatterpolargl": [
           {
            "marker": {
             "colorbar": {
              "outlinewidth": 0,
              "ticks": ""
             }
            },
            "type": "scatterpolargl"
           }
          ],
          "scatterternary": [
           {
            "marker": {
             "colorbar": {
              "outlinewidth": 0,
              "ticks": ""
             }
            },
            "type": "scatterternary"
           }
          ],
          "surface": [
           {
            "colorbar": {
             "outlinewidth": 0,
             "ticks": ""
            },
            "colorscale": [
             [
              0,
              "#0d0887"
             ],
             [
              0.1111111111111111,
              "#46039f"
             ],
             [
              0.2222222222222222,
              "#7201a8"
             ],
             [
              0.3333333333333333,
              "#9c179e"
             ],
             [
              0.4444444444444444,
              "#bd3786"
             ],
             [
              0.5555555555555556,
              "#d8576b"
             ],
             [
              0.6666666666666666,
              "#ed7953"
             ],
             [
              0.7777777777777778,
              "#fb9f3a"
             ],
             [
              0.8888888888888888,
              "#fdca26"
             ],
             [
              1,
              "#f0f921"
             ]
            ],
            "type": "surface"
           }
          ],
          "table": [
           {
            "cells": {
             "fill": {
              "color": "#EBF0F8"
             },
             "line": {
              "color": "white"
             }
            },
            "header": {
             "fill": {
              "color": "#C8D4E3"
             },
             "line": {
              "color": "white"
             }
            },
            "type": "table"
           }
          ]
         },
         "layout": {
          "annotationdefaults": {
           "arrowcolor": "#2a3f5f",
           "arrowhead": 0,
           "arrowwidth": 1
          },
          "autotypenumbers": "strict",
          "coloraxis": {
           "colorbar": {
            "outlinewidth": 0,
            "ticks": ""
           }
          },
          "colorscale": {
           "diverging": [
            [
             0,
             "#8e0152"
            ],
            [
             0.1,
             "#c51b7d"
            ],
            [
             0.2,
             "#de77ae"
            ],
            [
             0.3,
             "#f1b6da"
            ],
            [
             0.4,
             "#fde0ef"
            ],
            [
             0.5,
             "#f7f7f7"
            ],
            [
             0.6,
             "#e6f5d0"
            ],
            [
             0.7,
             "#b8e186"
            ],
            [
             0.8,
             "#7fbc41"
            ],
            [
             0.9,
             "#4d9221"
            ],
            [
             1,
             "#276419"
            ]
           ],
           "sequential": [
            [
             0,
             "#0d0887"
            ],
            [
             0.1111111111111111,
             "#46039f"
            ],
            [
             0.2222222222222222,
             "#7201a8"
            ],
            [
             0.3333333333333333,
             "#9c179e"
            ],
            [
             0.4444444444444444,
             "#bd3786"
            ],
            [
             0.5555555555555556,
             "#d8576b"
            ],
            [
             0.6666666666666666,
             "#ed7953"
            ],
            [
             0.7777777777777778,
             "#fb9f3a"
            ],
            [
             0.8888888888888888,
             "#fdca26"
            ],
            [
             1,
             "#f0f921"
            ]
           ],
           "sequentialminus": [
            [
             0,
             "#0d0887"
            ],
            [
             0.1111111111111111,
             "#46039f"
            ],
            [
             0.2222222222222222,
             "#7201a8"
            ],
            [
             0.3333333333333333,
             "#9c179e"
            ],
            [
             0.4444444444444444,
             "#bd3786"
            ],
            [
             0.5555555555555556,
             "#d8576b"
            ],
            [
             0.6666666666666666,
             "#ed7953"
            ],
            [
             0.7777777777777778,
             "#fb9f3a"
            ],
            [
             0.8888888888888888,
             "#fdca26"
            ],
            [
             1,
             "#f0f921"
            ]
           ]
          },
          "colorway": [
           "#636efa",
           "#EF553B",
           "#00cc96",
           "#ab63fa",
           "#FFA15A",
           "#19d3f3",
           "#FF6692",
           "#B6E880",
           "#FF97FF",
           "#FECB52"
          ],
          "font": {
           "color": "#2a3f5f"
          },
          "geo": {
           "bgcolor": "white",
           "lakecolor": "white",
           "landcolor": "white",
           "showlakes": true,
           "showland": true,
           "subunitcolor": "#C8D4E3"
          },
          "hoverlabel": {
           "align": "left"
          },
          "hovermode": "closest",
          "mapbox": {
           "style": "light"
          },
          "paper_bgcolor": "white",
          "plot_bgcolor": "white",
          "polar": {
           "angularaxis": {
            "gridcolor": "#EBF0F8",
            "linecolor": "#EBF0F8",
            "ticks": ""
           },
           "bgcolor": "white",
           "radialaxis": {
            "gridcolor": "#EBF0F8",
            "linecolor": "#EBF0F8",
            "ticks": ""
           }
          },
          "scene": {
           "xaxis": {
            "backgroundcolor": "white",
            "gridcolor": "#DFE8F3",
            "gridwidth": 2,
            "linecolor": "#EBF0F8",
            "showbackground": true,
            "ticks": "",
            "zerolinecolor": "#EBF0F8"
           },
           "yaxis": {
            "backgroundcolor": "white",
            "gridcolor": "#DFE8F3",
            "gridwidth": 2,
            "linecolor": "#EBF0F8",
            "showbackground": true,
            "ticks": "",
            "zerolinecolor": "#EBF0F8"
           },
           "zaxis": {
            "backgroundcolor": "white",
            "gridcolor": "#DFE8F3",
            "gridwidth": 2,
            "linecolor": "#EBF0F8",
            "showbackground": true,
            "ticks": "",
            "zerolinecolor": "#EBF0F8"
           }
          },
          "shapedefaults": {
           "line": {
            "color": "#2a3f5f"
           }
          },
          "ternary": {
           "aaxis": {
            "gridcolor": "#DFE8F3",
            "linecolor": "#A2B1C6",
            "ticks": ""
           },
           "baxis": {
            "gridcolor": "#DFE8F3",
            "linecolor": "#A2B1C6",
            "ticks": ""
           },
           "bgcolor": "white",
           "caxis": {
            "gridcolor": "#DFE8F3",
            "linecolor": "#A2B1C6",
            "ticks": ""
           }
          },
          "title": {
           "x": 0.05
          },
          "xaxis": {
           "automargin": true,
           "gridcolor": "#EBF0F8",
           "linecolor": "#EBF0F8",
           "ticks": "",
           "title": {
            "standoff": 15
           },
           "zerolinecolor": "#EBF0F8",
           "zerolinewidth": 2
          },
          "yaxis": {
           "automargin": true,
           "gridcolor": "#EBF0F8",
           "linecolor": "#EBF0F8",
           "ticks": "",
           "title": {
            "standoff": 15
           },
           "zerolinecolor": "#EBF0F8",
           "zerolinewidth": 2
          }
         }
        },
        "title": {
         "text": "ZoomIN Timeseries importi"
        },
        "xaxis": {
         "title": {
          "text": "Date"
         }
        },
        "yaxis": {
         "title": {
          "text": "IMPORTO"
         }
        }
       }
      }
     },
     "metadata": {},
     "output_type": "display_data"
    }
   ],
   "source": [
    "#### PRINT ORIGINALE\n",
    "plot_in_timerange(original_df,DATA_COLUMN_NAME,\"IMPORTO\",\"ZoomIN Timeseries importi\", mode='markers')\n",
    "ranged_original_df = timerange_df(original_df,DATA_COLUMN_NAME)\n",
    "#ranged_original_df.show(truncate=False)"
   ]
  },
  {
   "cell_type": "code",
   "execution_count": 14,
   "metadata": {
    "slideshow": {
     "slide_type": "slide"
    }
   },
   "outputs": [
    {
     "data": {
      "application/vnd.plotly.v1+json": {
       "config": {
        "plotlyServerURL": "https://plot.ly"
       },
       "data": [
        {
         "type": "bar",
         "x": [
          "2023-02-15T01:00:00",
          "2023-02-16T01:00:00",
          "2023-02-18T01:00:00",
          "2023-02-21T01:00:00",
          "2023-02-22T01:00:00",
          "2023-02-23T01:00:00",
          "2023-02-24T01:00:00",
          "2023-02-25T01:00:00",
          "2023-02-26T01:00:00",
          "2023-02-28T01:00:00",
          "2023-03-02T01:00:00",
          "2023-03-03T01:00:00",
          "2023-03-04T01:00:00",
          "2023-03-06T01:00:00",
          "2023-03-08T01:00:00",
          "2023-03-10T01:00:00",
          "2023-03-11T01:00:00",
          "2023-03-12T01:00:00",
          "2023-03-13T01:00:00",
          "2023-03-16T01:00:00",
          "2023-03-17T01:00:00",
          "2023-03-18T01:00:00",
          "2023-03-19T01:00:00",
          "2023-03-20T01:00:00",
          "2023-03-22T01:00:00",
          "2023-03-23T01:00:00",
          "2023-03-24T01:00:00",
          "2023-03-25T01:00:00",
          "2023-03-27T02:00:00",
          "2023-03-28T02:00:00",
          "2023-03-30T02:00:00",
          "2023-03-31T02:00:00",
          "2023-04-01T02:00:00",
          "2023-04-03T02:00:00",
          "2023-04-04T02:00:00",
          "2023-04-05T02:00:00",
          "2023-04-06T02:00:00",
          "2023-04-07T02:00:00",
          "2023-04-08T02:00:00",
          "2023-04-09T02:00:00",
          "2023-04-11T02:00:00",
          "2023-04-12T02:00:00",
          "2023-04-13T02:00:00",
          "2023-04-14T02:00:00",
          "2023-04-15T02:00:00",
          "2023-04-17T02:00:00",
          "2023-04-18T02:00:00",
          "2023-04-20T02:00:00",
          "2023-04-21T02:00:00",
          "2023-04-22T02:00:00",
          "2023-04-24T02:00:00",
          "2023-04-25T02:00:00"
         ],
         "y": [
          1,
          4,
          2,
          1,
          1,
          2,
          1,
          4,
          2,
          2,
          1,
          1,
          2,
          3,
          2,
          2,
          2,
          2,
          1,
          2,
          1,
          2,
          2,
          2,
          2,
          1,
          3,
          4,
          1,
          2,
          1,
          4,
          3,
          1,
          3,
          2,
          1,
          1,
          1,
          4,
          4,
          1,
          3,
          1,
          4,
          1,
          2,
          1,
          1,
          3,
          2,
          2
         ]
        }
       ],
       "layout": {
        "template": {
         "data": {
          "bar": [
           {
            "error_x": {
             "color": "#2a3f5f"
            },
            "error_y": {
             "color": "#2a3f5f"
            },
            "marker": {
             "line": {
              "color": "white",
              "width": 0.5
             },
             "pattern": {
              "fillmode": "overlay",
              "size": 10,
              "solidity": 0.2
             }
            },
            "type": "bar"
           }
          ],
          "barpolar": [
           {
            "marker": {
             "line": {
              "color": "white",
              "width": 0.5
             },
             "pattern": {
              "fillmode": "overlay",
              "size": 10,
              "solidity": 0.2
             }
            },
            "type": "barpolar"
           }
          ],
          "carpet": [
           {
            "aaxis": {
             "endlinecolor": "#2a3f5f",
             "gridcolor": "#C8D4E3",
             "linecolor": "#C8D4E3",
             "minorgridcolor": "#C8D4E3",
             "startlinecolor": "#2a3f5f"
            },
            "baxis": {
             "endlinecolor": "#2a3f5f",
             "gridcolor": "#C8D4E3",
             "linecolor": "#C8D4E3",
             "minorgridcolor": "#C8D4E3",
             "startlinecolor": "#2a3f5f"
            },
            "type": "carpet"
           }
          ],
          "choropleth": [
           {
            "colorbar": {
             "outlinewidth": 0,
             "ticks": ""
            },
            "type": "choropleth"
           }
          ],
          "contour": [
           {
            "colorbar": {
             "outlinewidth": 0,
             "ticks": ""
            },
            "colorscale": [
             [
              0,
              "#0d0887"
             ],
             [
              0.1111111111111111,
              "#46039f"
             ],
             [
              0.2222222222222222,
              "#7201a8"
             ],
             [
              0.3333333333333333,
              "#9c179e"
             ],
             [
              0.4444444444444444,
              "#bd3786"
             ],
             [
              0.5555555555555556,
              "#d8576b"
             ],
             [
              0.6666666666666666,
              "#ed7953"
             ],
             [
              0.7777777777777778,
              "#fb9f3a"
             ],
             [
              0.8888888888888888,
              "#fdca26"
             ],
             [
              1,
              "#f0f921"
             ]
            ],
            "type": "contour"
           }
          ],
          "contourcarpet": [
           {
            "colorbar": {
             "outlinewidth": 0,
             "ticks": ""
            },
            "type": "contourcarpet"
           }
          ],
          "heatmap": [
           {
            "colorbar": {
             "outlinewidth": 0,
             "ticks": ""
            },
            "colorscale": [
             [
              0,
              "#0d0887"
             ],
             [
              0.1111111111111111,
              "#46039f"
             ],
             [
              0.2222222222222222,
              "#7201a8"
             ],
             [
              0.3333333333333333,
              "#9c179e"
             ],
             [
              0.4444444444444444,
              "#bd3786"
             ],
             [
              0.5555555555555556,
              "#d8576b"
             ],
             [
              0.6666666666666666,
              "#ed7953"
             ],
             [
              0.7777777777777778,
              "#fb9f3a"
             ],
             [
              0.8888888888888888,
              "#fdca26"
             ],
             [
              1,
              "#f0f921"
             ]
            ],
            "type": "heatmap"
           }
          ],
          "heatmapgl": [
           {
            "colorbar": {
             "outlinewidth": 0,
             "ticks": ""
            },
            "colorscale": [
             [
              0,
              "#0d0887"
             ],
             [
              0.1111111111111111,
              "#46039f"
             ],
             [
              0.2222222222222222,
              "#7201a8"
             ],
             [
              0.3333333333333333,
              "#9c179e"
             ],
             [
              0.4444444444444444,
              "#bd3786"
             ],
             [
              0.5555555555555556,
              "#d8576b"
             ],
             [
              0.6666666666666666,
              "#ed7953"
             ],
             [
              0.7777777777777778,
              "#fb9f3a"
             ],
             [
              0.8888888888888888,
              "#fdca26"
             ],
             [
              1,
              "#f0f921"
             ]
            ],
            "type": "heatmapgl"
           }
          ],
          "histogram": [
           {
            "marker": {
             "pattern": {
              "fillmode": "overlay",
              "size": 10,
              "solidity": 0.2
             }
            },
            "type": "histogram"
           }
          ],
          "histogram2d": [
           {
            "colorbar": {
             "outlinewidth": 0,
             "ticks": ""
            },
            "colorscale": [
             [
              0,
              "#0d0887"
             ],
             [
              0.1111111111111111,
              "#46039f"
             ],
             [
              0.2222222222222222,
              "#7201a8"
             ],
             [
              0.3333333333333333,
              "#9c179e"
             ],
             [
              0.4444444444444444,
              "#bd3786"
             ],
             [
              0.5555555555555556,
              "#d8576b"
             ],
             [
              0.6666666666666666,
              "#ed7953"
             ],
             [
              0.7777777777777778,
              "#fb9f3a"
             ],
             [
              0.8888888888888888,
              "#fdca26"
             ],
             [
              1,
              "#f0f921"
             ]
            ],
            "type": "histogram2d"
           }
          ],
          "histogram2dcontour": [
           {
            "colorbar": {
             "outlinewidth": 0,
             "ticks": ""
            },
            "colorscale": [
             [
              0,
              "#0d0887"
             ],
             [
              0.1111111111111111,
              "#46039f"
             ],
             [
              0.2222222222222222,
              "#7201a8"
             ],
             [
              0.3333333333333333,
              "#9c179e"
             ],
             [
              0.4444444444444444,
              "#bd3786"
             ],
             [
              0.5555555555555556,
              "#d8576b"
             ],
             [
              0.6666666666666666,
              "#ed7953"
             ],
             [
              0.7777777777777778,
              "#fb9f3a"
             ],
             [
              0.8888888888888888,
              "#fdca26"
             ],
             [
              1,
              "#f0f921"
             ]
            ],
            "type": "histogram2dcontour"
           }
          ],
          "mesh3d": [
           {
            "colorbar": {
             "outlinewidth": 0,
             "ticks": ""
            },
            "type": "mesh3d"
           }
          ],
          "parcoords": [
           {
            "line": {
             "colorbar": {
              "outlinewidth": 0,
              "ticks": ""
             }
            },
            "type": "parcoords"
           }
          ],
          "pie": [
           {
            "automargin": true,
            "type": "pie"
           }
          ],
          "scatter": [
           {
            "fillpattern": {
             "fillmode": "overlay",
             "size": 10,
             "solidity": 0.2
            },
            "type": "scatter"
           }
          ],
          "scatter3d": [
           {
            "line": {
             "colorbar": {
              "outlinewidth": 0,
              "ticks": ""
             }
            },
            "marker": {
             "colorbar": {
              "outlinewidth": 0,
              "ticks": ""
             }
            },
            "type": "scatter3d"
           }
          ],
          "scattercarpet": [
           {
            "marker": {
             "colorbar": {
              "outlinewidth": 0,
              "ticks": ""
             }
            },
            "type": "scattercarpet"
           }
          ],
          "scattergeo": [
           {
            "marker": {
             "colorbar": {
              "outlinewidth": 0,
              "ticks": ""
             }
            },
            "type": "scattergeo"
           }
          ],
          "scattergl": [
           {
            "marker": {
             "colorbar": {
              "outlinewidth": 0,
              "ticks": ""
             }
            },
            "type": "scattergl"
           }
          ],
          "scattermapbox": [
           {
            "marker": {
             "colorbar": {
              "outlinewidth": 0,
              "ticks": ""
             }
            },
            "type": "scattermapbox"
           }
          ],
          "scatterpolar": [
           {
            "marker": {
             "colorbar": {
              "outlinewidth": 0,
              "ticks": ""
             }
            },
            "type": "scatterpolar"
           }
          ],
          "scatterpolargl": [
           {
            "marker": {
             "colorbar": {
              "outlinewidth": 0,
              "ticks": ""
             }
            },
            "type": "scatterpolargl"
           }
          ],
          "scatterternary": [
           {
            "marker": {
             "colorbar": {
              "outlinewidth": 0,
              "ticks": ""
             }
            },
            "type": "scatterternary"
           }
          ],
          "surface": [
           {
            "colorbar": {
             "outlinewidth": 0,
             "ticks": ""
            },
            "colorscale": [
             [
              0,
              "#0d0887"
             ],
             [
              0.1111111111111111,
              "#46039f"
             ],
             [
              0.2222222222222222,
              "#7201a8"
             ],
             [
              0.3333333333333333,
              "#9c179e"
             ],
             [
              0.4444444444444444,
              "#bd3786"
             ],
             [
              0.5555555555555556,
              "#d8576b"
             ],
             [
              0.6666666666666666,
              "#ed7953"
             ],
             [
              0.7777777777777778,
              "#fb9f3a"
             ],
             [
              0.8888888888888888,
              "#fdca26"
             ],
             [
              1,
              "#f0f921"
             ]
            ],
            "type": "surface"
           }
          ],
          "table": [
           {
            "cells": {
             "fill": {
              "color": "#EBF0F8"
             },
             "line": {
              "color": "white"
             }
            },
            "header": {
             "fill": {
              "color": "#C8D4E3"
             },
             "line": {
              "color": "white"
             }
            },
            "type": "table"
           }
          ]
         },
         "layout": {
          "annotationdefaults": {
           "arrowcolor": "#2a3f5f",
           "arrowhead": 0,
           "arrowwidth": 1
          },
          "autotypenumbers": "strict",
          "coloraxis": {
           "colorbar": {
            "outlinewidth": 0,
            "ticks": ""
           }
          },
          "colorscale": {
           "diverging": [
            [
             0,
             "#8e0152"
            ],
            [
             0.1,
             "#c51b7d"
            ],
            [
             0.2,
             "#de77ae"
            ],
            [
             0.3,
             "#f1b6da"
            ],
            [
             0.4,
             "#fde0ef"
            ],
            [
             0.5,
             "#f7f7f7"
            ],
            [
             0.6,
             "#e6f5d0"
            ],
            [
             0.7,
             "#b8e186"
            ],
            [
             0.8,
             "#7fbc41"
            ],
            [
             0.9,
             "#4d9221"
            ],
            [
             1,
             "#276419"
            ]
           ],
           "sequential": [
            [
             0,
             "#0d0887"
            ],
            [
             0.1111111111111111,
             "#46039f"
            ],
            [
             0.2222222222222222,
             "#7201a8"
            ],
            [
             0.3333333333333333,
             "#9c179e"
            ],
            [
             0.4444444444444444,
             "#bd3786"
            ],
            [
             0.5555555555555556,
             "#d8576b"
            ],
            [
             0.6666666666666666,
             "#ed7953"
            ],
            [
             0.7777777777777778,
             "#fb9f3a"
            ],
            [
             0.8888888888888888,
             "#fdca26"
            ],
            [
             1,
             "#f0f921"
            ]
           ],
           "sequentialminus": [
            [
             0,
             "#0d0887"
            ],
            [
             0.1111111111111111,
             "#46039f"
            ],
            [
             0.2222222222222222,
             "#7201a8"
            ],
            [
             0.3333333333333333,
             "#9c179e"
            ],
            [
             0.4444444444444444,
             "#bd3786"
            ],
            [
             0.5555555555555556,
             "#d8576b"
            ],
            [
             0.6666666666666666,
             "#ed7953"
            ],
            [
             0.7777777777777778,
             "#fb9f3a"
            ],
            [
             0.8888888888888888,
             "#fdca26"
            ],
            [
             1,
             "#f0f921"
            ]
           ]
          },
          "colorway": [
           "#636efa",
           "#EF553B",
           "#00cc96",
           "#ab63fa",
           "#FFA15A",
           "#19d3f3",
           "#FF6692",
           "#B6E880",
           "#FF97FF",
           "#FECB52"
          ],
          "font": {
           "color": "#2a3f5f"
          },
          "geo": {
           "bgcolor": "white",
           "lakecolor": "white",
           "landcolor": "white",
           "showlakes": true,
           "showland": true,
           "subunitcolor": "#C8D4E3"
          },
          "hoverlabel": {
           "align": "left"
          },
          "hovermode": "closest",
          "mapbox": {
           "style": "light"
          },
          "paper_bgcolor": "white",
          "plot_bgcolor": "white",
          "polar": {
           "angularaxis": {
            "gridcolor": "#EBF0F8",
            "linecolor": "#EBF0F8",
            "ticks": ""
           },
           "bgcolor": "white",
           "radialaxis": {
            "gridcolor": "#EBF0F8",
            "linecolor": "#EBF0F8",
            "ticks": ""
           }
          },
          "scene": {
           "xaxis": {
            "backgroundcolor": "white",
            "gridcolor": "#DFE8F3",
            "gridwidth": 2,
            "linecolor": "#EBF0F8",
            "showbackground": true,
            "ticks": "",
            "zerolinecolor": "#EBF0F8"
           },
           "yaxis": {
            "backgroundcolor": "white",
            "gridcolor": "#DFE8F3",
            "gridwidth": 2,
            "linecolor": "#EBF0F8",
            "showbackground": true,
            "ticks": "",
            "zerolinecolor": "#EBF0F8"
           },
           "zaxis": {
            "backgroundcolor": "white",
            "gridcolor": "#DFE8F3",
            "gridwidth": 2,
            "linecolor": "#EBF0F8",
            "showbackground": true,
            "ticks": "",
            "zerolinecolor": "#EBF0F8"
           }
          },
          "shapedefaults": {
           "line": {
            "color": "#2a3f5f"
           }
          },
          "ternary": {
           "aaxis": {
            "gridcolor": "#DFE8F3",
            "linecolor": "#A2B1C6",
            "ticks": ""
           },
           "baxis": {
            "gridcolor": "#DFE8F3",
            "linecolor": "#A2B1C6",
            "ticks": ""
           },
           "bgcolor": "white",
           "caxis": {
            "gridcolor": "#DFE8F3",
            "linecolor": "#A2B1C6",
            "ticks": ""
           }
          },
          "title": {
           "x": 0.05
          },
          "xaxis": {
           "automargin": true,
           "gridcolor": "#EBF0F8",
           "linecolor": "#EBF0F8",
           "ticks": "",
           "title": {
            "standoff": 15
           },
           "zerolinecolor": "#EBF0F8",
           "zerolinewidth": 2
          },
          "yaxis": {
           "automargin": true,
           "gridcolor": "#EBF0F8",
           "linecolor": "#EBF0F8",
           "ticks": "",
           "title": {
            "standoff": 15
           },
           "zerolinecolor": "#EBF0F8",
           "zerolinewidth": 2
          }
         }
        },
        "title": {
         "text": "Usefulness of Time Buckets"
        },
        "xaxis": {
         "title": {
          "text": "Timestamps in Bucket"
         }
        },
        "yaxis": {
         "title": {
          "text": "Counter in Bucket"
         }
        }
       }
      }
     },
     "metadata": {},
     "output_type": "display_data"
    }
   ],
   "source": [
    "### PRINT TIMEBUCKET\n",
    "plot_timerange_buckets(timerange_bucket_counter_df,\"bucket_start\")"
   ]
  },
  {
   "cell_type": "markdown",
   "metadata": {
    "slideshow": {
     "slide_type": "slide"
    }
   },
   "source": [
    "# 3 Problemi principali:\n",
    "\n",
    "- Presenza di eventi coincidenti, ovvero che si verificano nello stesso momento -> Time-Bucketing Step\n",
    "- Gli importi da soli sono poco significativi --> XXX\n",
    "- Assenza di eventi, ovvero vi sono dei \"salti\" nella linea temporale."
   ]
  },
  {
   "cell_type": "markdown",
   "metadata": {
    "slideshow": {
     "slide_type": "slide"
    }
   },
   "source": [
    "Soluzione problema 2: \n",
    "Aggregiazione di variabili categoriche/numeriche per la creazione di valori significativi"
   ]
  },
  {
   "cell_type": "markdown",
   "metadata": {
    "slideshow": {
     "slide_type": "slide"
    }
   },
   "source": [
    "**Aggregazione 1**: \n",
    "Il totale dei soldi ritirati allo sportello: \n",
    "\n",
    "**SUM** di **IMPORTO** con\n",
    "* **CATEGORY_LIV0** = prelievo_contante\n",
    "* **SEGNO** = \"+\""
   ]
  },
  {
   "cell_type": "code",
   "execution_count": 15,
   "metadata": {
    "slideshow": {
     "slide_type": "slide"
    }
   },
   "outputs": [
    {
     "name": "stdout",
     "output_type": "stream",
     "text": [
      "[('CATEGORY_LIV0', ['prelievo_contante']), ('SEGNO', ['-'])]\n"
     ]
    }
   ],
   "source": [
    "#### AGGREGATION_1: evoluzione dei prelievi nel tempo\n",
    "\n",
    "prelievo_contanti = [(\"CATEGORY_LIV0\", [\"prelievo_contante\"]), (\"SEGNO\", [\"-\"])]\n",
    "\n",
    "\n",
    "aggregation_step =  Aggregation(\n",
    "    numerical_col_name=[\"IMPORTO\"],\n",
    "    identifier_cols_name=[\"ID_CLIENTE_BIC\"],\n",
    "    all_aggregation_filters=[prelievo_contanti],\n",
    "    agg_funcs=[\"sum\"],\n",
    ")\n",
    "\n",
    "prelievi_aggregated_df = aggregation_step(time_bucket_df, spark)\n",
    "prelievi_aggregated_df = prelievi_aggregated_df.withColumnRenamed('sum_of_IMPORTO_by_CATEGORY_LIV0_(prelievo_contante)_and_by_SEGNO_(-)', 'prelievo_contante')\n",
    "prelievi_aggregated_df = prelievi_aggregated_df.withColumn(\"bucket_start\", col(\"bucket\").getItem(\"start\"))\n"
   ]
  },
  {
   "cell_type": "code",
   "execution_count": 16,
   "metadata": {
    "slideshow": {
     "slide_type": "slide"
    }
   },
   "outputs": [
    {
     "name": "stderr",
     "output_type": "stream",
     "text": [
      "                                                                                \r"
     ]
    },
    {
     "data": {
      "application/vnd.plotly.v1+json": {
       "config": {
        "linkText": "Export to plot.ly",
        "plotlyServerURL": "https://plot.ly",
        "showLink": false
       },
       "data": [
        {
         "mode": "lines",
         "name": "ZoomIN Totale soldi prelevati",
         "type": "scatter",
         "x": [
          "2023-02-15T01:00:00",
          "2023-02-17T01:00:00",
          "2023-02-20T01:00:00",
          "2023-02-21T01:00:00",
          "2023-02-22T01:00:00",
          "2023-02-23T01:00:00",
          "2023-02-24T01:00:00",
          "2023-02-25T01:00:00",
          "2023-02-27T01:00:00",
          "2023-03-01T01:00:00",
          "2023-03-02T01:00:00",
          "2023-03-03T01:00:00",
          "2023-03-05T01:00:00",
          "2023-03-07T01:00:00",
          "2023-03-09T01:00:00",
          "2023-03-10T01:00:00",
          "2023-03-11T01:00:00",
          "2023-03-12T01:00:00",
          "2023-03-15T01:00:00",
          "2023-03-16T01:00:00",
          "2023-03-17T01:00:00",
          "2023-03-18T01:00:00",
          "2023-03-19T01:00:00",
          "2023-03-21T01:00:00",
          "2023-03-22T01:00:00",
          "2023-03-23T01:00:00",
          "2023-03-24T01:00:00",
          "2023-03-26T01:00:00",
          "2023-03-27T02:00:00",
          "2023-03-29T02:00:00",
          "2023-03-30T02:00:00",
          "2023-03-31T02:00:00",
          "2023-04-02T02:00:00",
          "2023-04-03T02:00:00",
          "2023-04-04T02:00:00",
          "2023-04-05T02:00:00",
          "2023-04-06T02:00:00",
          "2023-04-07T02:00:00",
          "2023-04-08T02:00:00",
          "2023-04-10T02:00:00",
          "2023-04-11T02:00:00",
          "2023-04-12T02:00:00",
          "2023-04-13T02:00:00",
          "2023-04-14T02:00:00",
          "2023-04-16T02:00:00",
          "2023-04-17T02:00:00",
          "2023-04-19T02:00:00",
          "2023-04-20T02:00:00",
          "2023-04-21T02:00:00",
          "2023-04-23T02:00:00",
          "2023-04-24T02:00:00"
         ],
         "y": [
          102,
          102,
          null,
          null,
          100,
          null,
          1,
          102,
          100,
          null,
          null,
          102,
          102,
          102,
          null,
          1,
          102,
          null,
          100,
          null,
          152,
          52,
          52,
          52,
          null,
          52,
          1,
          null,
          100,
          null,
          52,
          1,
          null,
          52,
          100,
          null,
          null,
          null,
          204,
          52,
          null,
          52,
          null,
          1,
          null,
          100,
          null,
          null,
          1,
          52,
          52
         ]
        }
       ],
       "layout": {
        "showlegend": true,
        "template": {
         "data": {
          "bar": [
           {
            "error_x": {
             "color": "#2a3f5f"
            },
            "error_y": {
             "color": "#2a3f5f"
            },
            "marker": {
             "line": {
              "color": "white",
              "width": 0.5
             },
             "pattern": {
              "fillmode": "overlay",
              "size": 10,
              "solidity": 0.2
             }
            },
            "type": "bar"
           }
          ],
          "barpolar": [
           {
            "marker": {
             "line": {
              "color": "white",
              "width": 0.5
             },
             "pattern": {
              "fillmode": "overlay",
              "size": 10,
              "solidity": 0.2
             }
            },
            "type": "barpolar"
           }
          ],
          "carpet": [
           {
            "aaxis": {
             "endlinecolor": "#2a3f5f",
             "gridcolor": "#C8D4E3",
             "linecolor": "#C8D4E3",
             "minorgridcolor": "#C8D4E3",
             "startlinecolor": "#2a3f5f"
            },
            "baxis": {
             "endlinecolor": "#2a3f5f",
             "gridcolor": "#C8D4E3",
             "linecolor": "#C8D4E3",
             "minorgridcolor": "#C8D4E3",
             "startlinecolor": "#2a3f5f"
            },
            "type": "carpet"
           }
          ],
          "choropleth": [
           {
            "colorbar": {
             "outlinewidth": 0,
             "ticks": ""
            },
            "type": "choropleth"
           }
          ],
          "contour": [
           {
            "colorbar": {
             "outlinewidth": 0,
             "ticks": ""
            },
            "colorscale": [
             [
              0,
              "#0d0887"
             ],
             [
              0.1111111111111111,
              "#46039f"
             ],
             [
              0.2222222222222222,
              "#7201a8"
             ],
             [
              0.3333333333333333,
              "#9c179e"
             ],
             [
              0.4444444444444444,
              "#bd3786"
             ],
             [
              0.5555555555555556,
              "#d8576b"
             ],
             [
              0.6666666666666666,
              "#ed7953"
             ],
             [
              0.7777777777777778,
              "#fb9f3a"
             ],
             [
              0.8888888888888888,
              "#fdca26"
             ],
             [
              1,
              "#f0f921"
             ]
            ],
            "type": "contour"
           }
          ],
          "contourcarpet": [
           {
            "colorbar": {
             "outlinewidth": 0,
             "ticks": ""
            },
            "type": "contourcarpet"
           }
          ],
          "heatmap": [
           {
            "colorbar": {
             "outlinewidth": 0,
             "ticks": ""
            },
            "colorscale": [
             [
              0,
              "#0d0887"
             ],
             [
              0.1111111111111111,
              "#46039f"
             ],
             [
              0.2222222222222222,
              "#7201a8"
             ],
             [
              0.3333333333333333,
              "#9c179e"
             ],
             [
              0.4444444444444444,
              "#bd3786"
             ],
             [
              0.5555555555555556,
              "#d8576b"
             ],
             [
              0.6666666666666666,
              "#ed7953"
             ],
             [
              0.7777777777777778,
              "#fb9f3a"
             ],
             [
              0.8888888888888888,
              "#fdca26"
             ],
             [
              1,
              "#f0f921"
             ]
            ],
            "type": "heatmap"
           }
          ],
          "heatmapgl": [
           {
            "colorbar": {
             "outlinewidth": 0,
             "ticks": ""
            },
            "colorscale": [
             [
              0,
              "#0d0887"
             ],
             [
              0.1111111111111111,
              "#46039f"
             ],
             [
              0.2222222222222222,
              "#7201a8"
             ],
             [
              0.3333333333333333,
              "#9c179e"
             ],
             [
              0.4444444444444444,
              "#bd3786"
             ],
             [
              0.5555555555555556,
              "#d8576b"
             ],
             [
              0.6666666666666666,
              "#ed7953"
             ],
             [
              0.7777777777777778,
              "#fb9f3a"
             ],
             [
              0.8888888888888888,
              "#fdca26"
             ],
             [
              1,
              "#f0f921"
             ]
            ],
            "type": "heatmapgl"
           }
          ],
          "histogram": [
           {
            "marker": {
             "pattern": {
              "fillmode": "overlay",
              "size": 10,
              "solidity": 0.2
             }
            },
            "type": "histogram"
           }
          ],
          "histogram2d": [
           {
            "colorbar": {
             "outlinewidth": 0,
             "ticks": ""
            },
            "colorscale": [
             [
              0,
              "#0d0887"
             ],
             [
              0.1111111111111111,
              "#46039f"
             ],
             [
              0.2222222222222222,
              "#7201a8"
             ],
             [
              0.3333333333333333,
              "#9c179e"
             ],
             [
              0.4444444444444444,
              "#bd3786"
             ],
             [
              0.5555555555555556,
              "#d8576b"
             ],
             [
              0.6666666666666666,
              "#ed7953"
             ],
             [
              0.7777777777777778,
              "#fb9f3a"
             ],
             [
              0.8888888888888888,
              "#fdca26"
             ],
             [
              1,
              "#f0f921"
             ]
            ],
            "type": "histogram2d"
           }
          ],
          "histogram2dcontour": [
           {
            "colorbar": {
             "outlinewidth": 0,
             "ticks": ""
            },
            "colorscale": [
             [
              0,
              "#0d0887"
             ],
             [
              0.1111111111111111,
              "#46039f"
             ],
             [
              0.2222222222222222,
              "#7201a8"
             ],
             [
              0.3333333333333333,
              "#9c179e"
             ],
             [
              0.4444444444444444,
              "#bd3786"
             ],
             [
              0.5555555555555556,
              "#d8576b"
             ],
             [
              0.6666666666666666,
              "#ed7953"
             ],
             [
              0.7777777777777778,
              "#fb9f3a"
             ],
             [
              0.8888888888888888,
              "#fdca26"
             ],
             [
              1,
              "#f0f921"
             ]
            ],
            "type": "histogram2dcontour"
           }
          ],
          "mesh3d": [
           {
            "colorbar": {
             "outlinewidth": 0,
             "ticks": ""
            },
            "type": "mesh3d"
           }
          ],
          "parcoords": [
           {
            "line": {
             "colorbar": {
              "outlinewidth": 0,
              "ticks": ""
             }
            },
            "type": "parcoords"
           }
          ],
          "pie": [
           {
            "automargin": true,
            "type": "pie"
           }
          ],
          "scatter": [
           {
            "fillpattern": {
             "fillmode": "overlay",
             "size": 10,
             "solidity": 0.2
            },
            "type": "scatter"
           }
          ],
          "scatter3d": [
           {
            "line": {
             "colorbar": {
              "outlinewidth": 0,
              "ticks": ""
             }
            },
            "marker": {
             "colorbar": {
              "outlinewidth": 0,
              "ticks": ""
             }
            },
            "type": "scatter3d"
           }
          ],
          "scattercarpet": [
           {
            "marker": {
             "colorbar": {
              "outlinewidth": 0,
              "ticks": ""
             }
            },
            "type": "scattercarpet"
           }
          ],
          "scattergeo": [
           {
            "marker": {
             "colorbar": {
              "outlinewidth": 0,
              "ticks": ""
             }
            },
            "type": "scattergeo"
           }
          ],
          "scattergl": [
           {
            "marker": {
             "colorbar": {
              "outlinewidth": 0,
              "ticks": ""
             }
            },
            "type": "scattergl"
           }
          ],
          "scattermapbox": [
           {
            "marker": {
             "colorbar": {
              "outlinewidth": 0,
              "ticks": ""
             }
            },
            "type": "scattermapbox"
           }
          ],
          "scatterpolar": [
           {
            "marker": {
             "colorbar": {
              "outlinewidth": 0,
              "ticks": ""
             }
            },
            "type": "scatterpolar"
           }
          ],
          "scatterpolargl": [
           {
            "marker": {
             "colorbar": {
              "outlinewidth": 0,
              "ticks": ""
             }
            },
            "type": "scatterpolargl"
           }
          ],
          "scatterternary": [
           {
            "marker": {
             "colorbar": {
              "outlinewidth": 0,
              "ticks": ""
             }
            },
            "type": "scatterternary"
           }
          ],
          "surface": [
           {
            "colorbar": {
             "outlinewidth": 0,
             "ticks": ""
            },
            "colorscale": [
             [
              0,
              "#0d0887"
             ],
             [
              0.1111111111111111,
              "#46039f"
             ],
             [
              0.2222222222222222,
              "#7201a8"
             ],
             [
              0.3333333333333333,
              "#9c179e"
             ],
             [
              0.4444444444444444,
              "#bd3786"
             ],
             [
              0.5555555555555556,
              "#d8576b"
             ],
             [
              0.6666666666666666,
              "#ed7953"
             ],
             [
              0.7777777777777778,
              "#fb9f3a"
             ],
             [
              0.8888888888888888,
              "#fdca26"
             ],
             [
              1,
              "#f0f921"
             ]
            ],
            "type": "surface"
           }
          ],
          "table": [
           {
            "cells": {
             "fill": {
              "color": "#EBF0F8"
             },
             "line": {
              "color": "white"
             }
            },
            "header": {
             "fill": {
              "color": "#C8D4E3"
             },
             "line": {
              "color": "white"
             }
            },
            "type": "table"
           }
          ]
         },
         "layout": {
          "annotationdefaults": {
           "arrowcolor": "#2a3f5f",
           "arrowhead": 0,
           "arrowwidth": 1
          },
          "autotypenumbers": "strict",
          "coloraxis": {
           "colorbar": {
            "outlinewidth": 0,
            "ticks": ""
           }
          },
          "colorscale": {
           "diverging": [
            [
             0,
             "#8e0152"
            ],
            [
             0.1,
             "#c51b7d"
            ],
            [
             0.2,
             "#de77ae"
            ],
            [
             0.3,
             "#f1b6da"
            ],
            [
             0.4,
             "#fde0ef"
            ],
            [
             0.5,
             "#f7f7f7"
            ],
            [
             0.6,
             "#e6f5d0"
            ],
            [
             0.7,
             "#b8e186"
            ],
            [
             0.8,
             "#7fbc41"
            ],
            [
             0.9,
             "#4d9221"
            ],
            [
             1,
             "#276419"
            ]
           ],
           "sequential": [
            [
             0,
             "#0d0887"
            ],
            [
             0.1111111111111111,
             "#46039f"
            ],
            [
             0.2222222222222222,
             "#7201a8"
            ],
            [
             0.3333333333333333,
             "#9c179e"
            ],
            [
             0.4444444444444444,
             "#bd3786"
            ],
            [
             0.5555555555555556,
             "#d8576b"
            ],
            [
             0.6666666666666666,
             "#ed7953"
            ],
            [
             0.7777777777777778,
             "#fb9f3a"
            ],
            [
             0.8888888888888888,
             "#fdca26"
            ],
            [
             1,
             "#f0f921"
            ]
           ],
           "sequentialminus": [
            [
             0,
             "#0d0887"
            ],
            [
             0.1111111111111111,
             "#46039f"
            ],
            [
             0.2222222222222222,
             "#7201a8"
            ],
            [
             0.3333333333333333,
             "#9c179e"
            ],
            [
             0.4444444444444444,
             "#bd3786"
            ],
            [
             0.5555555555555556,
             "#d8576b"
            ],
            [
             0.6666666666666666,
             "#ed7953"
            ],
            [
             0.7777777777777778,
             "#fb9f3a"
            ],
            [
             0.8888888888888888,
             "#fdca26"
            ],
            [
             1,
             "#f0f921"
            ]
           ]
          },
          "colorway": [
           "#636efa",
           "#EF553B",
           "#00cc96",
           "#ab63fa",
           "#FFA15A",
           "#19d3f3",
           "#FF6692",
           "#B6E880",
           "#FF97FF",
           "#FECB52"
          ],
          "font": {
           "color": "#2a3f5f"
          },
          "geo": {
           "bgcolor": "white",
           "lakecolor": "white",
           "landcolor": "white",
           "showlakes": true,
           "showland": true,
           "subunitcolor": "#C8D4E3"
          },
          "hoverlabel": {
           "align": "left"
          },
          "hovermode": "closest",
          "mapbox": {
           "style": "light"
          },
          "paper_bgcolor": "white",
          "plot_bgcolor": "white",
          "polar": {
           "angularaxis": {
            "gridcolor": "#EBF0F8",
            "linecolor": "#EBF0F8",
            "ticks": ""
           },
           "bgcolor": "white",
           "radialaxis": {
            "gridcolor": "#EBF0F8",
            "linecolor": "#EBF0F8",
            "ticks": ""
           }
          },
          "scene": {
           "xaxis": {
            "backgroundcolor": "white",
            "gridcolor": "#DFE8F3",
            "gridwidth": 2,
            "linecolor": "#EBF0F8",
            "showbackground": true,
            "ticks": "",
            "zerolinecolor": "#EBF0F8"
           },
           "yaxis": {
            "backgroundcolor": "white",
            "gridcolor": "#DFE8F3",
            "gridwidth": 2,
            "linecolor": "#EBF0F8",
            "showbackground": true,
            "ticks": "",
            "zerolinecolor": "#EBF0F8"
           },
           "zaxis": {
            "backgroundcolor": "white",
            "gridcolor": "#DFE8F3",
            "gridwidth": 2,
            "linecolor": "#EBF0F8",
            "showbackground": true,
            "ticks": "",
            "zerolinecolor": "#EBF0F8"
           }
          },
          "shapedefaults": {
           "line": {
            "color": "#2a3f5f"
           }
          },
          "ternary": {
           "aaxis": {
            "gridcolor": "#DFE8F3",
            "linecolor": "#A2B1C6",
            "ticks": ""
           },
           "baxis": {
            "gridcolor": "#DFE8F3",
            "linecolor": "#A2B1C6",
            "ticks": ""
           },
           "bgcolor": "white",
           "caxis": {
            "gridcolor": "#DFE8F3",
            "linecolor": "#A2B1C6",
            "ticks": ""
           }
          },
          "title": {
           "x": 0.05
          },
          "xaxis": {
           "automargin": true,
           "gridcolor": "#EBF0F8",
           "linecolor": "#EBF0F8",
           "ticks": "",
           "title": {
            "standoff": 15
           },
           "zerolinecolor": "#EBF0F8",
           "zerolinewidth": 2
          },
          "yaxis": {
           "automargin": true,
           "gridcolor": "#EBF0F8",
           "linecolor": "#EBF0F8",
           "ticks": "",
           "title": {
            "standoff": 15
           },
           "zerolinecolor": "#EBF0F8",
           "zerolinewidth": 2
          }
         }
        },
        "title": {
         "text": "ZoomIN Totale soldi prelevati"
        },
        "xaxis": {
         "title": {
          "text": "Date"
         }
        },
        "yaxis": {
         "title": {
          "text": "prelievo_contante"
         }
        }
       }
      }
     },
     "metadata": {},
     "output_type": "display_data"
    }
   ],
   "source": [
    "##### NUOVA \n",
    "plot_in_timerange(prelievi_aggregated_df,\"bucket_start\",\"prelievo_contante\",\"ZoomIN Totale soldi prelevati\", mode=\"lines\")"
   ]
  },
  {
   "cell_type": "markdown",
   "metadata": {
    "slideshow": {
     "slide_type": "slide"
    }
   },
   "source": [
    "**Aggregazione 2**: \n",
    "Conteggio del numero delle spese fatte con carta:\n",
    "\n",
    "**COUNT** di **IMPORTO** con\n",
    "* **IS_CARTA** = True"
   ]
  },
  {
   "cell_type": "code",
   "execution_count": 19,
   "metadata": {
    "slideshow": {
     "slide_type": "slide"
    }
   },
   "outputs": [
    {
     "name": "stdout",
     "output_type": "stream",
     "text": [
      "[('IS_CARTA', [True])]\n"
     ]
    }
   ],
   "source": [
    "#### AGGREGATION_2: Conteggio del numero delle spese fatte con carta:\n",
    "\n",
    "conteggio_prelievo = [(\"IS_CARTA\", [True])]\n",
    "\n",
    "\n",
    "aggregation_step =  Aggregation(\n",
    "    numerical_col_name=[\"IMPORTO\"],\n",
    "    identifier_cols_name=[\"ID_CLIENTE_BIC\"],\n",
    "    all_aggregation_filters=[conteggio_prelievo],\n",
    "    agg_funcs=[\"count\"],\n",
    ")\n",
    "\n",
    "count_prelievi_aggregated_df = aggregation_step(time_bucket_df, spark)\n",
    "count_prelievi_aggregated_df = count_prelievi_aggregated_df.withColumnRenamed('count_IMPORTO_by_IS_CARTA_(True)', 'conteggio_prelievo')\n",
    "count_prelievi_aggregated_df = count_prelievi_aggregated_df.withColumn(\"bucket_start\", col(\"bucket\").getItem(\"start\"))\n"
   ]
  },
  {
   "cell_type": "code",
   "execution_count": 20,
   "metadata": {
    "slideshow": {
     "slide_type": "slide"
    }
   },
   "outputs": [
    {
     "data": {
      "application/vnd.plotly.v1+json": {
       "config": {
        "linkText": "Export to plot.ly",
        "plotlyServerURL": "https://plot.ly",
        "showLink": false
       },
       "data": [
        {
         "mode": "lines",
         "name": "ZoomIN Totale soldi prelevati",
         "type": "scatter",
         "x": [
          "2023-02-15T01:00:00",
          "2023-02-17T01:00:00",
          "2023-02-20T01:00:00",
          "2023-02-21T01:00:00",
          "2023-02-22T01:00:00",
          "2023-02-23T01:00:00",
          "2023-02-24T01:00:00",
          "2023-02-25T01:00:00",
          "2023-02-27T01:00:00",
          "2023-03-01T01:00:00",
          "2023-03-02T01:00:00",
          "2023-03-03T01:00:00",
          "2023-03-05T01:00:00",
          "2023-03-07T01:00:00",
          "2023-03-09T01:00:00",
          "2023-03-10T01:00:00",
          "2023-03-11T01:00:00",
          "2023-03-12T01:00:00",
          "2023-03-15T01:00:00",
          "2023-03-16T01:00:00",
          "2023-03-17T01:00:00",
          "2023-03-18T01:00:00",
          "2023-03-19T01:00:00",
          "2023-03-21T01:00:00",
          "2023-03-22T01:00:00",
          "2023-03-23T01:00:00",
          "2023-03-24T01:00:00",
          "2023-03-26T01:00:00",
          "2023-03-27T02:00:00",
          "2023-03-29T02:00:00",
          "2023-03-30T02:00:00",
          "2023-03-31T02:00:00",
          "2023-04-02T02:00:00",
          "2023-04-03T02:00:00",
          "2023-04-04T02:00:00",
          "2023-04-05T02:00:00",
          "2023-04-06T02:00:00",
          "2023-04-07T02:00:00",
          "2023-04-08T02:00:00",
          "2023-04-10T02:00:00",
          "2023-04-11T02:00:00",
          "2023-04-12T02:00:00",
          "2023-04-13T02:00:00",
          "2023-04-14T02:00:00",
          "2023-04-16T02:00:00",
          "2023-04-17T02:00:00",
          "2023-04-19T02:00:00",
          "2023-04-20T02:00:00",
          "2023-04-21T02:00:00",
          "2023-04-23T02:00:00",
          "2023-04-24T02:00:00"
         ],
         "y": [
          4,
          2,
          1,
          1,
          2,
          1,
          4,
          2,
          2,
          1,
          1,
          2,
          3,
          2,
          2,
          2,
          2,
          1,
          2,
          1,
          2,
          2,
          2,
          2,
          1,
          3,
          4,
          1,
          2,
          1,
          4,
          3,
          1,
          3,
          2,
          1,
          1,
          1,
          4,
          4,
          1,
          3,
          1,
          4,
          1,
          2,
          1,
          1,
          3,
          2,
          2
         ]
        }
       ],
       "layout": {
        "showlegend": true,
        "template": {
         "data": {
          "bar": [
           {
            "error_x": {
             "color": "#2a3f5f"
            },
            "error_y": {
             "color": "#2a3f5f"
            },
            "marker": {
             "line": {
              "color": "white",
              "width": 0.5
             },
             "pattern": {
              "fillmode": "overlay",
              "size": 10,
              "solidity": 0.2
             }
            },
            "type": "bar"
           }
          ],
          "barpolar": [
           {
            "marker": {
             "line": {
              "color": "white",
              "width": 0.5
             },
             "pattern": {
              "fillmode": "overlay",
              "size": 10,
              "solidity": 0.2
             }
            },
            "type": "barpolar"
           }
          ],
          "carpet": [
           {
            "aaxis": {
             "endlinecolor": "#2a3f5f",
             "gridcolor": "#C8D4E3",
             "linecolor": "#C8D4E3",
             "minorgridcolor": "#C8D4E3",
             "startlinecolor": "#2a3f5f"
            },
            "baxis": {
             "endlinecolor": "#2a3f5f",
             "gridcolor": "#C8D4E3",
             "linecolor": "#C8D4E3",
             "minorgridcolor": "#C8D4E3",
             "startlinecolor": "#2a3f5f"
            },
            "type": "carpet"
           }
          ],
          "choropleth": [
           {
            "colorbar": {
             "outlinewidth": 0,
             "ticks": ""
            },
            "type": "choropleth"
           }
          ],
          "contour": [
           {
            "colorbar": {
             "outlinewidth": 0,
             "ticks": ""
            },
            "colorscale": [
             [
              0,
              "#0d0887"
             ],
             [
              0.1111111111111111,
              "#46039f"
             ],
             [
              0.2222222222222222,
              "#7201a8"
             ],
             [
              0.3333333333333333,
              "#9c179e"
             ],
             [
              0.4444444444444444,
              "#bd3786"
             ],
             [
              0.5555555555555556,
              "#d8576b"
             ],
             [
              0.6666666666666666,
              "#ed7953"
             ],
             [
              0.7777777777777778,
              "#fb9f3a"
             ],
             [
              0.8888888888888888,
              "#fdca26"
             ],
             [
              1,
              "#f0f921"
             ]
            ],
            "type": "contour"
           }
          ],
          "contourcarpet": [
           {
            "colorbar": {
             "outlinewidth": 0,
             "ticks": ""
            },
            "type": "contourcarpet"
           }
          ],
          "heatmap": [
           {
            "colorbar": {
             "outlinewidth": 0,
             "ticks": ""
            },
            "colorscale": [
             [
              0,
              "#0d0887"
             ],
             [
              0.1111111111111111,
              "#46039f"
             ],
             [
              0.2222222222222222,
              "#7201a8"
             ],
             [
              0.3333333333333333,
              "#9c179e"
             ],
             [
              0.4444444444444444,
              "#bd3786"
             ],
             [
              0.5555555555555556,
              "#d8576b"
             ],
             [
              0.6666666666666666,
              "#ed7953"
             ],
             [
              0.7777777777777778,
              "#fb9f3a"
             ],
             [
              0.8888888888888888,
              "#fdca26"
             ],
             [
              1,
              "#f0f921"
             ]
            ],
            "type": "heatmap"
           }
          ],
          "heatmapgl": [
           {
            "colorbar": {
             "outlinewidth": 0,
             "ticks": ""
            },
            "colorscale": [
             [
              0,
              "#0d0887"
             ],
             [
              0.1111111111111111,
              "#46039f"
             ],
             [
              0.2222222222222222,
              "#7201a8"
             ],
             [
              0.3333333333333333,
              "#9c179e"
             ],
             [
              0.4444444444444444,
              "#bd3786"
             ],
             [
              0.5555555555555556,
              "#d8576b"
             ],
             [
              0.6666666666666666,
              "#ed7953"
             ],
             [
              0.7777777777777778,
              "#fb9f3a"
             ],
             [
              0.8888888888888888,
              "#fdca26"
             ],
             [
              1,
              "#f0f921"
             ]
            ],
            "type": "heatmapgl"
           }
          ],
          "histogram": [
           {
            "marker": {
             "pattern": {
              "fillmode": "overlay",
              "size": 10,
              "solidity": 0.2
             }
            },
            "type": "histogram"
           }
          ],
          "histogram2d": [
           {
            "colorbar": {
             "outlinewidth": 0,
             "ticks": ""
            },
            "colorscale": [
             [
              0,
              "#0d0887"
             ],
             [
              0.1111111111111111,
              "#46039f"
             ],
             [
              0.2222222222222222,
              "#7201a8"
             ],
             [
              0.3333333333333333,
              "#9c179e"
             ],
             [
              0.4444444444444444,
              "#bd3786"
             ],
             [
              0.5555555555555556,
              "#d8576b"
             ],
             [
              0.6666666666666666,
              "#ed7953"
             ],
             [
              0.7777777777777778,
              "#fb9f3a"
             ],
             [
              0.8888888888888888,
              "#fdca26"
             ],
             [
              1,
              "#f0f921"
             ]
            ],
            "type": "histogram2d"
           }
          ],
          "histogram2dcontour": [
           {
            "colorbar": {
             "outlinewidth": 0,
             "ticks": ""
            },
            "colorscale": [
             [
              0,
              "#0d0887"
             ],
             [
              0.1111111111111111,
              "#46039f"
             ],
             [
              0.2222222222222222,
              "#7201a8"
             ],
             [
              0.3333333333333333,
              "#9c179e"
             ],
             [
              0.4444444444444444,
              "#bd3786"
             ],
             [
              0.5555555555555556,
              "#d8576b"
             ],
             [
              0.6666666666666666,
              "#ed7953"
             ],
             [
              0.7777777777777778,
              "#fb9f3a"
             ],
             [
              0.8888888888888888,
              "#fdca26"
             ],
             [
              1,
              "#f0f921"
             ]
            ],
            "type": "histogram2dcontour"
           }
          ],
          "mesh3d": [
           {
            "colorbar": {
             "outlinewidth": 0,
             "ticks": ""
            },
            "type": "mesh3d"
           }
          ],
          "parcoords": [
           {
            "line": {
             "colorbar": {
              "outlinewidth": 0,
              "ticks": ""
             }
            },
            "type": "parcoords"
           }
          ],
          "pie": [
           {
            "automargin": true,
            "type": "pie"
           }
          ],
          "scatter": [
           {
            "fillpattern": {
             "fillmode": "overlay",
             "size": 10,
             "solidity": 0.2
            },
            "type": "scatter"
           }
          ],
          "scatter3d": [
           {
            "line": {
             "colorbar": {
              "outlinewidth": 0,
              "ticks": ""
             }
            },
            "marker": {
             "colorbar": {
              "outlinewidth": 0,
              "ticks": ""
             }
            },
            "type": "scatter3d"
           }
          ],
          "scattercarpet": [
           {
            "marker": {
             "colorbar": {
              "outlinewidth": 0,
              "ticks": ""
             }
            },
            "type": "scattercarpet"
           }
          ],
          "scattergeo": [
           {
            "marker": {
             "colorbar": {
              "outlinewidth": 0,
              "ticks": ""
             }
            },
            "type": "scattergeo"
           }
          ],
          "scattergl": [
           {
            "marker": {
             "colorbar": {
              "outlinewidth": 0,
              "ticks": ""
             }
            },
            "type": "scattergl"
           }
          ],
          "scattermapbox": [
           {
            "marker": {
             "colorbar": {
              "outlinewidth": 0,
              "ticks": ""
             }
            },
            "type": "scattermapbox"
           }
          ],
          "scatterpolar": [
           {
            "marker": {
             "colorbar": {
              "outlinewidth": 0,
              "ticks": ""
             }
            },
            "type": "scatterpolar"
           }
          ],
          "scatterpolargl": [
           {
            "marker": {
             "colorbar": {
              "outlinewidth": 0,
              "ticks": ""
             }
            },
            "type": "scatterpolargl"
           }
          ],
          "scatterternary": [
           {
            "marker": {
             "colorbar": {
              "outlinewidth": 0,
              "ticks": ""
             }
            },
            "type": "scatterternary"
           }
          ],
          "surface": [
           {
            "colorbar": {
             "outlinewidth": 0,
             "ticks": ""
            },
            "colorscale": [
             [
              0,
              "#0d0887"
             ],
             [
              0.1111111111111111,
              "#46039f"
             ],
             [
              0.2222222222222222,
              "#7201a8"
             ],
             [
              0.3333333333333333,
              "#9c179e"
             ],
             [
              0.4444444444444444,
              "#bd3786"
             ],
             [
              0.5555555555555556,
              "#d8576b"
             ],
             [
              0.6666666666666666,
              "#ed7953"
             ],
             [
              0.7777777777777778,
              "#fb9f3a"
             ],
             [
              0.8888888888888888,
              "#fdca26"
             ],
             [
              1,
              "#f0f921"
             ]
            ],
            "type": "surface"
           }
          ],
          "table": [
           {
            "cells": {
             "fill": {
              "color": "#EBF0F8"
             },
             "line": {
              "color": "white"
             }
            },
            "header": {
             "fill": {
              "color": "#C8D4E3"
             },
             "line": {
              "color": "white"
             }
            },
            "type": "table"
           }
          ]
         },
         "layout": {
          "annotationdefaults": {
           "arrowcolor": "#2a3f5f",
           "arrowhead": 0,
           "arrowwidth": 1
          },
          "autotypenumbers": "strict",
          "coloraxis": {
           "colorbar": {
            "outlinewidth": 0,
            "ticks": ""
           }
          },
          "colorscale": {
           "diverging": [
            [
             0,
             "#8e0152"
            ],
            [
             0.1,
             "#c51b7d"
            ],
            [
             0.2,
             "#de77ae"
            ],
            [
             0.3,
             "#f1b6da"
            ],
            [
             0.4,
             "#fde0ef"
            ],
            [
             0.5,
             "#f7f7f7"
            ],
            [
             0.6,
             "#e6f5d0"
            ],
            [
             0.7,
             "#b8e186"
            ],
            [
             0.8,
             "#7fbc41"
            ],
            [
             0.9,
             "#4d9221"
            ],
            [
             1,
             "#276419"
            ]
           ],
           "sequential": [
            [
             0,
             "#0d0887"
            ],
            [
             0.1111111111111111,
             "#46039f"
            ],
            [
             0.2222222222222222,
             "#7201a8"
            ],
            [
             0.3333333333333333,
             "#9c179e"
            ],
            [
             0.4444444444444444,
             "#bd3786"
            ],
            [
             0.5555555555555556,
             "#d8576b"
            ],
            [
             0.6666666666666666,
             "#ed7953"
            ],
            [
             0.7777777777777778,
             "#fb9f3a"
            ],
            [
             0.8888888888888888,
             "#fdca26"
            ],
            [
             1,
             "#f0f921"
            ]
           ],
           "sequentialminus": [
            [
             0,
             "#0d0887"
            ],
            [
             0.1111111111111111,
             "#46039f"
            ],
            [
             0.2222222222222222,
             "#7201a8"
            ],
            [
             0.3333333333333333,
             "#9c179e"
            ],
            [
             0.4444444444444444,
             "#bd3786"
            ],
            [
             0.5555555555555556,
             "#d8576b"
            ],
            [
             0.6666666666666666,
             "#ed7953"
            ],
            [
             0.7777777777777778,
             "#fb9f3a"
            ],
            [
             0.8888888888888888,
             "#fdca26"
            ],
            [
             1,
             "#f0f921"
            ]
           ]
          },
          "colorway": [
           "#636efa",
           "#EF553B",
           "#00cc96",
           "#ab63fa",
           "#FFA15A",
           "#19d3f3",
           "#FF6692",
           "#B6E880",
           "#FF97FF",
           "#FECB52"
          ],
          "font": {
           "color": "#2a3f5f"
          },
          "geo": {
           "bgcolor": "white",
           "lakecolor": "white",
           "landcolor": "white",
           "showlakes": true,
           "showland": true,
           "subunitcolor": "#C8D4E3"
          },
          "hoverlabel": {
           "align": "left"
          },
          "hovermode": "closest",
          "mapbox": {
           "style": "light"
          },
          "paper_bgcolor": "white",
          "plot_bgcolor": "white",
          "polar": {
           "angularaxis": {
            "gridcolor": "#EBF0F8",
            "linecolor": "#EBF0F8",
            "ticks": ""
           },
           "bgcolor": "white",
           "radialaxis": {
            "gridcolor": "#EBF0F8",
            "linecolor": "#EBF0F8",
            "ticks": ""
           }
          },
          "scene": {
           "xaxis": {
            "backgroundcolor": "white",
            "gridcolor": "#DFE8F3",
            "gridwidth": 2,
            "linecolor": "#EBF0F8",
            "showbackground": true,
            "ticks": "",
            "zerolinecolor": "#EBF0F8"
           },
           "yaxis": {
            "backgroundcolor": "white",
            "gridcolor": "#DFE8F3",
            "gridwidth": 2,
            "linecolor": "#EBF0F8",
            "showbackground": true,
            "ticks": "",
            "zerolinecolor": "#EBF0F8"
           },
           "zaxis": {
            "backgroundcolor": "white",
            "gridcolor": "#DFE8F3",
            "gridwidth": 2,
            "linecolor": "#EBF0F8",
            "showbackground": true,
            "ticks": "",
            "zerolinecolor": "#EBF0F8"
           }
          },
          "shapedefaults": {
           "line": {
            "color": "#2a3f5f"
           }
          },
          "ternary": {
           "aaxis": {
            "gridcolor": "#DFE8F3",
            "linecolor": "#A2B1C6",
            "ticks": ""
           },
           "baxis": {
            "gridcolor": "#DFE8F3",
            "linecolor": "#A2B1C6",
            "ticks": ""
           },
           "bgcolor": "white",
           "caxis": {
            "gridcolor": "#DFE8F3",
            "linecolor": "#A2B1C6",
            "ticks": ""
           }
          },
          "title": {
           "x": 0.05
          },
          "xaxis": {
           "automargin": true,
           "gridcolor": "#EBF0F8",
           "linecolor": "#EBF0F8",
           "ticks": "",
           "title": {
            "standoff": 15
           },
           "zerolinecolor": "#EBF0F8",
           "zerolinewidth": 2
          },
          "yaxis": {
           "automargin": true,
           "gridcolor": "#EBF0F8",
           "linecolor": "#EBF0F8",
           "ticks": "",
           "title": {
            "standoff": 15
           },
           "zerolinecolor": "#EBF0F8",
           "zerolinewidth": 2
          }
         }
        },
        "title": {
         "text": "ZoomIN Totale soldi prelevati"
        },
        "xaxis": {
         "title": {
          "text": "Date"
         }
        },
        "yaxis": {
         "title": {
          "text": "conteggio_prelievo"
         }
        }
       }
      }
     },
     "metadata": {},
     "output_type": "display_data"
    }
   ],
   "source": [
    "##### NUOVA \n",
    "plot_in_timerange(count_prelievi_aggregated_df,\"bucket_start\",\"conteggio_prelievo\",\"ZoomIN Totale soldi prelevati\", mode=\"lines\")"
   ]
  },
  {
   "cell_type": "markdown",
   "metadata": {
    "slideshow": {
     "slide_type": "slide"
    }
   },
   "source": [
    "**Aggregazione 3**: Totale di tutti i soldi spesi con carte in determinate categorie:\n",
    "\n",
    "**SUM** di **IMPORTO** con:\n",
    "* **CATEGORY_LIV0** = shopping, salute, servizi_professionali, casa, utenze, viaggi, tempo_libero, spese_legali, tasse, trasporti, assicurazioni, scuola_formazione, altre_spese, alimentari_spesa, spese_postali\n",
    "* **IS_CARTA** = True\n",
    "* **SEGNO** = \"-\""
   ]
  },
  {
   "cell_type": "code",
   "execution_count": 21,
   "metadata": {
    "slideshow": {
     "slide_type": "slide"
    }
   },
   "outputs": [
    {
     "name": "stdout",
     "output_type": "stream",
     "text": [
      "[('CATEGORY_LIV0', ['shopping', 'salute', 'servizi_professionali', 'casa', 'utenze', 'viaggi', 'tempo_libero', 'spese_legali', 'tasse', 'trasporti', 'assicurazioni', 'scuola_formazione', 'altre_spese', 'alimentari_spesa', 'spese_postali']), ('IS_CARTA', [True]), ('SEGNO', ['-'])]\n"
     ]
    }
   ],
   "source": [
    "#### AGGREGATION_3: Conteggio del numero delle spese fatte con carta:\n",
    "\n",
    "conteggio_prelievo = [\n",
    "    (\"CATEGORY_LIV0\", [\"shopping\",\"salute\",\"servizi_professionali\",\"casa\",\"utenze\",\"viaggi\",\"tempo_libero\",\"spese_legali\",\"tasse\",\"trasporti\",\"assicurazioni\",\"scuola_formazione\",\"altre_spese\",\"alimentari_spesa\",\"spese_postali\"]),\n",
    "    (\"IS_CARTA\", [True]),\n",
    "    (\"SEGNO\",[\"-\"]),                     \n",
    "]\n",
    "\n",
    "\n",
    "aggregation_step =  Aggregation(\n",
    "    numerical_col_name=[\"IMPORTO\"],\n",
    "    identifier_cols_name=[\"ID_CLIENTE_BIC\"],\n",
    "    all_aggregation_filters=[conteggio_prelievo],\n",
    "    agg_funcs=[\"sum\"],\n",
    ")\n",
    "\n",
    "count_spese_carta_df = aggregation_step(time_bucket_df, spark)\n",
    "count_spese_carta_df = count_spese_carta_df.withColumnRenamed('sum_of_IMPORTO_by_CATEGORY_LIV0_(shopping_salute_servizi_professionali_casa_utenze_viaggi_tempo_libero_spese_legali_tasse_trasporti_assicurazioni_scuola_formazione_altre_spese_alimentari_spesa_spese_postali)_and_by_IS_CARTA_(True)_and_by_SEGNO_(-)', 'count_spese_carta_df')\n",
    "count_spese_carta_df = count_spese_carta_df.withColumn(\"bucket_start\", col(\"bucket\").getItem(\"start\"))"
   ]
  },
  {
   "cell_type": "code",
   "execution_count": 22,
   "metadata": {
    "slideshow": {
     "slide_type": "slide"
    }
   },
   "outputs": [
    {
     "name": "stderr",
     "output_type": "stream",
     "text": [
      "                                                                                \r"
     ]
    },
    {
     "data": {
      "application/vnd.plotly.v1+json": {
       "config": {
        "linkText": "Export to plot.ly",
        "plotlyServerURL": "https://plot.ly",
        "showLink": false
       },
       "data": [
        {
         "mode": "lines",
         "name": "ZoomIN Totale transizioni con carta",
         "type": "scatter",
         "x": [
          "2023-02-15T01:00:00",
          "2023-02-17T01:00:00",
          "2023-02-20T01:00:00",
          "2023-02-21T01:00:00",
          "2023-02-22T01:00:00",
          "2023-02-23T01:00:00",
          "2023-02-24T01:00:00",
          "2023-02-25T01:00:00",
          "2023-02-27T01:00:00",
          "2023-03-01T01:00:00",
          "2023-03-02T01:00:00",
          "2023-03-03T01:00:00",
          "2023-03-05T01:00:00",
          "2023-03-07T01:00:00",
          "2023-03-09T01:00:00",
          "2023-03-10T01:00:00",
          "2023-03-11T01:00:00",
          "2023-03-12T01:00:00",
          "2023-03-15T01:00:00",
          "2023-03-16T01:00:00",
          "2023-03-17T01:00:00",
          "2023-03-18T01:00:00",
          "2023-03-19T01:00:00",
          "2023-03-21T01:00:00",
          "2023-03-22T01:00:00",
          "2023-03-23T01:00:00",
          "2023-03-24T01:00:00",
          "2023-03-26T01:00:00",
          "2023-03-27T02:00:00",
          "2023-03-29T02:00:00",
          "2023-03-30T02:00:00",
          "2023-03-31T02:00:00",
          "2023-04-02T02:00:00",
          "2023-04-03T02:00:00",
          "2023-04-04T02:00:00",
          "2023-04-05T02:00:00",
          "2023-04-06T02:00:00",
          "2023-04-07T02:00:00",
          "2023-04-08T02:00:00",
          "2023-04-10T02:00:00",
          "2023-04-11T02:00:00",
          "2023-04-12T02:00:00",
          "2023-04-13T02:00:00",
          "2023-04-14T02:00:00",
          "2023-04-16T02:00:00",
          "2023-04-17T02:00:00",
          "2023-04-19T02:00:00",
          "2023-04-20T02:00:00",
          "2023-04-21T02:00:00",
          "2023-04-23T02:00:00",
          "2023-04-24T02:00:00"
         ],
         "y": [
          44,
          null,
          20,
          11.26,
          20,
          24,
          127.62,
          null,
          16,
          20,
          20,
          null,
          20,
          null,
          20,
          100,
          null,
          14,
          18,
          18,
          null,
          null,
          null,
          null,
          18,
          18,
          1904.17,
          18,
          18,
          18,
          28.5,
          115,
          14,
          15.5,
          7.48,
          18,
          18,
          null,
          null,
          18,
          3.98,
          18,
          18,
          135.3,
          18,
          20,
          18,
          14,
          180.64,
          null,
          null
         ]
        }
       ],
       "layout": {
        "showlegend": true,
        "template": {
         "data": {
          "bar": [
           {
            "error_x": {
             "color": "#2a3f5f"
            },
            "error_y": {
             "color": "#2a3f5f"
            },
            "marker": {
             "line": {
              "color": "white",
              "width": 0.5
             },
             "pattern": {
              "fillmode": "overlay",
              "size": 10,
              "solidity": 0.2
             }
            },
            "type": "bar"
           }
          ],
          "barpolar": [
           {
            "marker": {
             "line": {
              "color": "white",
              "width": 0.5
             },
             "pattern": {
              "fillmode": "overlay",
              "size": 10,
              "solidity": 0.2
             }
            },
            "type": "barpolar"
           }
          ],
          "carpet": [
           {
            "aaxis": {
             "endlinecolor": "#2a3f5f",
             "gridcolor": "#C8D4E3",
             "linecolor": "#C8D4E3",
             "minorgridcolor": "#C8D4E3",
             "startlinecolor": "#2a3f5f"
            },
            "baxis": {
             "endlinecolor": "#2a3f5f",
             "gridcolor": "#C8D4E3",
             "linecolor": "#C8D4E3",
             "minorgridcolor": "#C8D4E3",
             "startlinecolor": "#2a3f5f"
            },
            "type": "carpet"
           }
          ],
          "choropleth": [
           {
            "colorbar": {
             "outlinewidth": 0,
             "ticks": ""
            },
            "type": "choropleth"
           }
          ],
          "contour": [
           {
            "colorbar": {
             "outlinewidth": 0,
             "ticks": ""
            },
            "colorscale": [
             [
              0,
              "#0d0887"
             ],
             [
              0.1111111111111111,
              "#46039f"
             ],
             [
              0.2222222222222222,
              "#7201a8"
             ],
             [
              0.3333333333333333,
              "#9c179e"
             ],
             [
              0.4444444444444444,
              "#bd3786"
             ],
             [
              0.5555555555555556,
              "#d8576b"
             ],
             [
              0.6666666666666666,
              "#ed7953"
             ],
             [
              0.7777777777777778,
              "#fb9f3a"
             ],
             [
              0.8888888888888888,
              "#fdca26"
             ],
             [
              1,
              "#f0f921"
             ]
            ],
            "type": "contour"
           }
          ],
          "contourcarpet": [
           {
            "colorbar": {
             "outlinewidth": 0,
             "ticks": ""
            },
            "type": "contourcarpet"
           }
          ],
          "heatmap": [
           {
            "colorbar": {
             "outlinewidth": 0,
             "ticks": ""
            },
            "colorscale": [
             [
              0,
              "#0d0887"
             ],
             [
              0.1111111111111111,
              "#46039f"
             ],
             [
              0.2222222222222222,
              "#7201a8"
             ],
             [
              0.3333333333333333,
              "#9c179e"
             ],
             [
              0.4444444444444444,
              "#bd3786"
             ],
             [
              0.5555555555555556,
              "#d8576b"
             ],
             [
              0.6666666666666666,
              "#ed7953"
             ],
             [
              0.7777777777777778,
              "#fb9f3a"
             ],
             [
              0.8888888888888888,
              "#fdca26"
             ],
             [
              1,
              "#f0f921"
             ]
            ],
            "type": "heatmap"
           }
          ],
          "heatmapgl": [
           {
            "colorbar": {
             "outlinewidth": 0,
             "ticks": ""
            },
            "colorscale": [
             [
              0,
              "#0d0887"
             ],
             [
              0.1111111111111111,
              "#46039f"
             ],
             [
              0.2222222222222222,
              "#7201a8"
             ],
             [
              0.3333333333333333,
              "#9c179e"
             ],
             [
              0.4444444444444444,
              "#bd3786"
             ],
             [
              0.5555555555555556,
              "#d8576b"
             ],
             [
              0.6666666666666666,
              "#ed7953"
             ],
             [
              0.7777777777777778,
              "#fb9f3a"
             ],
             [
              0.8888888888888888,
              "#fdca26"
             ],
             [
              1,
              "#f0f921"
             ]
            ],
            "type": "heatmapgl"
           }
          ],
          "histogram": [
           {
            "marker": {
             "pattern": {
              "fillmode": "overlay",
              "size": 10,
              "solidity": 0.2
             }
            },
            "type": "histogram"
           }
          ],
          "histogram2d": [
           {
            "colorbar": {
             "outlinewidth": 0,
             "ticks": ""
            },
            "colorscale": [
             [
              0,
              "#0d0887"
             ],
             [
              0.1111111111111111,
              "#46039f"
             ],
             [
              0.2222222222222222,
              "#7201a8"
             ],
             [
              0.3333333333333333,
              "#9c179e"
             ],
             [
              0.4444444444444444,
              "#bd3786"
             ],
             [
              0.5555555555555556,
              "#d8576b"
             ],
             [
              0.6666666666666666,
              "#ed7953"
             ],
             [
              0.7777777777777778,
              "#fb9f3a"
             ],
             [
              0.8888888888888888,
              "#fdca26"
             ],
             [
              1,
              "#f0f921"
             ]
            ],
            "type": "histogram2d"
           }
          ],
          "histogram2dcontour": [
           {
            "colorbar": {
             "outlinewidth": 0,
             "ticks": ""
            },
            "colorscale": [
             [
              0,
              "#0d0887"
             ],
             [
              0.1111111111111111,
              "#46039f"
             ],
             [
              0.2222222222222222,
              "#7201a8"
             ],
             [
              0.3333333333333333,
              "#9c179e"
             ],
             [
              0.4444444444444444,
              "#bd3786"
             ],
             [
              0.5555555555555556,
              "#d8576b"
             ],
             [
              0.6666666666666666,
              "#ed7953"
             ],
             [
              0.7777777777777778,
              "#fb9f3a"
             ],
             [
              0.8888888888888888,
              "#fdca26"
             ],
             [
              1,
              "#f0f921"
             ]
            ],
            "type": "histogram2dcontour"
           }
          ],
          "mesh3d": [
           {
            "colorbar": {
             "outlinewidth": 0,
             "ticks": ""
            },
            "type": "mesh3d"
           }
          ],
          "parcoords": [
           {
            "line": {
             "colorbar": {
              "outlinewidth": 0,
              "ticks": ""
             }
            },
            "type": "parcoords"
           }
          ],
          "pie": [
           {
            "automargin": true,
            "type": "pie"
           }
          ],
          "scatter": [
           {
            "fillpattern": {
             "fillmode": "overlay",
             "size": 10,
             "solidity": 0.2
            },
            "type": "scatter"
           }
          ],
          "scatter3d": [
           {
            "line": {
             "colorbar": {
              "outlinewidth": 0,
              "ticks": ""
             }
            },
            "marker": {
             "colorbar": {
              "outlinewidth": 0,
              "ticks": ""
             }
            },
            "type": "scatter3d"
           }
          ],
          "scattercarpet": [
           {
            "marker": {
             "colorbar": {
              "outlinewidth": 0,
              "ticks": ""
             }
            },
            "type": "scattercarpet"
           }
          ],
          "scattergeo": [
           {
            "marker": {
             "colorbar": {
              "outlinewidth": 0,
              "ticks": ""
             }
            },
            "type": "scattergeo"
           }
          ],
          "scattergl": [
           {
            "marker": {
             "colorbar": {
              "outlinewidth": 0,
              "ticks": ""
             }
            },
            "type": "scattergl"
           }
          ],
          "scattermapbox": [
           {
            "marker": {
             "colorbar": {
              "outlinewidth": 0,
              "ticks": ""
             }
            },
            "type": "scattermapbox"
           }
          ],
          "scatterpolar": [
           {
            "marker": {
             "colorbar": {
              "outlinewidth": 0,
              "ticks": ""
             }
            },
            "type": "scatterpolar"
           }
          ],
          "scatterpolargl": [
           {
            "marker": {
             "colorbar": {
              "outlinewidth": 0,
              "ticks": ""
             }
            },
            "type": "scatterpolargl"
           }
          ],
          "scatterternary": [
           {
            "marker": {
             "colorbar": {
              "outlinewidth": 0,
              "ticks": ""
             }
            },
            "type": "scatterternary"
           }
          ],
          "surface": [
           {
            "colorbar": {
             "outlinewidth": 0,
             "ticks": ""
            },
            "colorscale": [
             [
              0,
              "#0d0887"
             ],
             [
              0.1111111111111111,
              "#46039f"
             ],
             [
              0.2222222222222222,
              "#7201a8"
             ],
             [
              0.3333333333333333,
              "#9c179e"
             ],
             [
              0.4444444444444444,
              "#bd3786"
             ],
             [
              0.5555555555555556,
              "#d8576b"
             ],
             [
              0.6666666666666666,
              "#ed7953"
             ],
             [
              0.7777777777777778,
              "#fb9f3a"
             ],
             [
              0.8888888888888888,
              "#fdca26"
             ],
             [
              1,
              "#f0f921"
             ]
            ],
            "type": "surface"
           }
          ],
          "table": [
           {
            "cells": {
             "fill": {
              "color": "#EBF0F8"
             },
             "line": {
              "color": "white"
             }
            },
            "header": {
             "fill": {
              "color": "#C8D4E3"
             },
             "line": {
              "color": "white"
             }
            },
            "type": "table"
           }
          ]
         },
         "layout": {
          "annotationdefaults": {
           "arrowcolor": "#2a3f5f",
           "arrowhead": 0,
           "arrowwidth": 1
          },
          "autotypenumbers": "strict",
          "coloraxis": {
           "colorbar": {
            "outlinewidth": 0,
            "ticks": ""
           }
          },
          "colorscale": {
           "diverging": [
            [
             0,
             "#8e0152"
            ],
            [
             0.1,
             "#c51b7d"
            ],
            [
             0.2,
             "#de77ae"
            ],
            [
             0.3,
             "#f1b6da"
            ],
            [
             0.4,
             "#fde0ef"
            ],
            [
             0.5,
             "#f7f7f7"
            ],
            [
             0.6,
             "#e6f5d0"
            ],
            [
             0.7,
             "#b8e186"
            ],
            [
             0.8,
             "#7fbc41"
            ],
            [
             0.9,
             "#4d9221"
            ],
            [
             1,
             "#276419"
            ]
           ],
           "sequential": [
            [
             0,
             "#0d0887"
            ],
            [
             0.1111111111111111,
             "#46039f"
            ],
            [
             0.2222222222222222,
             "#7201a8"
            ],
            [
             0.3333333333333333,
             "#9c179e"
            ],
            [
             0.4444444444444444,
             "#bd3786"
            ],
            [
             0.5555555555555556,
             "#d8576b"
            ],
            [
             0.6666666666666666,
             "#ed7953"
            ],
            [
             0.7777777777777778,
             "#fb9f3a"
            ],
            [
             0.8888888888888888,
             "#fdca26"
            ],
            [
             1,
             "#f0f921"
            ]
           ],
           "sequentialminus": [
            [
             0,
             "#0d0887"
            ],
            [
             0.1111111111111111,
             "#46039f"
            ],
            [
             0.2222222222222222,
             "#7201a8"
            ],
            [
             0.3333333333333333,
             "#9c179e"
            ],
            [
             0.4444444444444444,
             "#bd3786"
            ],
            [
             0.5555555555555556,
             "#d8576b"
            ],
            [
             0.6666666666666666,
             "#ed7953"
            ],
            [
             0.7777777777777778,
             "#fb9f3a"
            ],
            [
             0.8888888888888888,
             "#fdca26"
            ],
            [
             1,
             "#f0f921"
            ]
           ]
          },
          "colorway": [
           "#636efa",
           "#EF553B",
           "#00cc96",
           "#ab63fa",
           "#FFA15A",
           "#19d3f3",
           "#FF6692",
           "#B6E880",
           "#FF97FF",
           "#FECB52"
          ],
          "font": {
           "color": "#2a3f5f"
          },
          "geo": {
           "bgcolor": "white",
           "lakecolor": "white",
           "landcolor": "white",
           "showlakes": true,
           "showland": true,
           "subunitcolor": "#C8D4E3"
          },
          "hoverlabel": {
           "align": "left"
          },
          "hovermode": "closest",
          "mapbox": {
           "style": "light"
          },
          "paper_bgcolor": "white",
          "plot_bgcolor": "white",
          "polar": {
           "angularaxis": {
            "gridcolor": "#EBF0F8",
            "linecolor": "#EBF0F8",
            "ticks": ""
           },
           "bgcolor": "white",
           "radialaxis": {
            "gridcolor": "#EBF0F8",
            "linecolor": "#EBF0F8",
            "ticks": ""
           }
          },
          "scene": {
           "xaxis": {
            "backgroundcolor": "white",
            "gridcolor": "#DFE8F3",
            "gridwidth": 2,
            "linecolor": "#EBF0F8",
            "showbackground": true,
            "ticks": "",
            "zerolinecolor": "#EBF0F8"
           },
           "yaxis": {
            "backgroundcolor": "white",
            "gridcolor": "#DFE8F3",
            "gridwidth": 2,
            "linecolor": "#EBF0F8",
            "showbackground": true,
            "ticks": "",
            "zerolinecolor": "#EBF0F8"
           },
           "zaxis": {
            "backgroundcolor": "white",
            "gridcolor": "#DFE8F3",
            "gridwidth": 2,
            "linecolor": "#EBF0F8",
            "showbackground": true,
            "ticks": "",
            "zerolinecolor": "#EBF0F8"
           }
          },
          "shapedefaults": {
           "line": {
            "color": "#2a3f5f"
           }
          },
          "ternary": {
           "aaxis": {
            "gridcolor": "#DFE8F3",
            "linecolor": "#A2B1C6",
            "ticks": ""
           },
           "baxis": {
            "gridcolor": "#DFE8F3",
            "linecolor": "#A2B1C6",
            "ticks": ""
           },
           "bgcolor": "white",
           "caxis": {
            "gridcolor": "#DFE8F3",
            "linecolor": "#A2B1C6",
            "ticks": ""
           }
          },
          "title": {
           "x": 0.05
          },
          "xaxis": {
           "automargin": true,
           "gridcolor": "#EBF0F8",
           "linecolor": "#EBF0F8",
           "ticks": "",
           "title": {
            "standoff": 15
           },
           "zerolinecolor": "#EBF0F8",
           "zerolinewidth": 2
          },
          "yaxis": {
           "automargin": true,
           "gridcolor": "#EBF0F8",
           "linecolor": "#EBF0F8",
           "ticks": "",
           "title": {
            "standoff": 15
           },
           "zerolinecolor": "#EBF0F8",
           "zerolinewidth": 2
          }
         }
        },
        "title": {
         "text": "ZoomIN Totale transizioni con carta"
        },
        "xaxis": {
         "title": {
          "text": "Date"
         }
        },
        "yaxis": {
         "title": {
          "text": "count_spese_carta_df"
         }
        }
       }
      }
     },
     "metadata": {},
     "output_type": "display_data"
    }
   ],
   "source": [
    "##### NUOVA \n",
    "plot_in_timerange(count_spese_carta_df,\"bucket_start\",\"count_spese_carta_df\",\"ZoomIN Totale transizioni con carta\", mode=\"lines\")"
   ]
  },
  {
   "cell_type": "markdown",
   "metadata": {
    "slideshow": {
     "slide_type": "slide"
    }
   },
   "source": [
    "# Soluzione problema 3: \n",
    "PROBLEMA: Assenza di eventi, ovvero vi sono dei \"salti\" nella linea temporale.\n",
    "FILLING STEP: permette di aggiugnere tutte le transazioni mancanti"
   ]
  },
  {
   "cell_type": "code",
   "execution_count": 23,
   "metadata": {
    "slideshow": {
     "slide_type": "slide"
    }
   },
   "outputs": [],
   "source": [
    "time_bucket_col_name=\"bucket\"\n",
    "identifier_cols_name=[\"ID_CLIENTE_BIC\"]\n",
    "time_bucket_size=1\n",
    "time_bucket_granularity=\"day\" \n",
    "new_timestamp_col_name=\"new_timestamp\"\n",
    "time_zone=\"Europe/Rome\",\n",
    "\n",
    "filled_ritiro_contanti_df = filled(prelievi_aggregated_df,time_bucket_col_name,identifier_cols_name,time_bucket_size,time_bucket_granularity,new_timestamp_col_name,time_zone)"
   ]
  },
  {
   "cell_type": "code",
   "execution_count": 24,
   "metadata": {
    "slideshow": {
     "slide_type": "slide"
    }
   },
   "outputs": [
    {
     "name": "stderr",
     "output_type": "stream",
     "text": [
      "                                                                                \r"
     ]
    },
    {
     "data": {
      "application/vnd.plotly.v1+json": {
       "config": {
        "linkText": "Export to plot.ly",
        "plotlyServerURL": "https://plot.ly",
        "showLink": false
       },
       "data": [
        {
         "mode": "lines",
         "name": "ZoomIN Totale soldi prelevati",
         "type": "scatter",
         "x": [
          "2023-02-15T01:00:00",
          "2023-02-17T01:00:00",
          "2023-02-20T01:00:00",
          "2023-02-21T01:00:00",
          "2023-02-22T01:00:00",
          "2023-02-23T01:00:00",
          "2023-02-24T01:00:00",
          "2023-02-25T01:00:00",
          "2023-02-27T01:00:00",
          "2023-03-01T01:00:00",
          "2023-03-02T01:00:00",
          "2023-03-03T01:00:00",
          "2023-03-05T01:00:00",
          "2023-03-07T01:00:00",
          "2023-03-09T01:00:00",
          "2023-03-10T01:00:00",
          "2023-03-11T01:00:00",
          "2023-03-12T01:00:00",
          "2023-03-15T01:00:00",
          "2023-03-16T01:00:00",
          "2023-03-17T01:00:00",
          "2023-03-18T01:00:00",
          "2023-03-19T01:00:00",
          "2023-03-21T01:00:00",
          "2023-03-22T01:00:00",
          "2023-03-23T01:00:00",
          "2023-03-24T01:00:00",
          "2023-03-26T01:00:00",
          "2023-03-27T02:00:00",
          "2023-03-29T02:00:00",
          "2023-03-30T02:00:00",
          "2023-03-31T02:00:00",
          "2023-04-02T02:00:00",
          "2023-04-03T02:00:00",
          "2023-04-04T02:00:00",
          "2023-04-05T02:00:00",
          "2023-04-06T02:00:00",
          "2023-04-07T02:00:00",
          "2023-04-08T02:00:00",
          "2023-04-10T02:00:00",
          "2023-04-11T02:00:00",
          "2023-04-12T02:00:00",
          "2023-04-13T02:00:00",
          "2023-04-14T02:00:00",
          "2023-04-16T02:00:00",
          "2023-04-17T02:00:00",
          "2023-04-19T02:00:00",
          "2023-04-20T02:00:00",
          "2023-04-21T02:00:00",
          "2023-04-23T02:00:00",
          "2023-04-24T02:00:00"
         ],
         "y": [
          102,
          102,
          null,
          null,
          100,
          null,
          1,
          102,
          100,
          null,
          null,
          102,
          102,
          102,
          null,
          1,
          102,
          null,
          100,
          null,
          152,
          52,
          52,
          52,
          null,
          52,
          1,
          null,
          100,
          null,
          52,
          1,
          null,
          52,
          100,
          null,
          null,
          null,
          204,
          52,
          null,
          52,
          null,
          1,
          null,
          100,
          null,
          null,
          1,
          52,
          52
         ]
        }
       ],
       "layout": {
        "showlegend": true,
        "template": {
         "data": {
          "bar": [
           {
            "error_x": {
             "color": "#2a3f5f"
            },
            "error_y": {
             "color": "#2a3f5f"
            },
            "marker": {
             "line": {
              "color": "white",
              "width": 0.5
             },
             "pattern": {
              "fillmode": "overlay",
              "size": 10,
              "solidity": 0.2
             }
            },
            "type": "bar"
           }
          ],
          "barpolar": [
           {
            "marker": {
             "line": {
              "color": "white",
              "width": 0.5
             },
             "pattern": {
              "fillmode": "overlay",
              "size": 10,
              "solidity": 0.2
             }
            },
            "type": "barpolar"
           }
          ],
          "carpet": [
           {
            "aaxis": {
             "endlinecolor": "#2a3f5f",
             "gridcolor": "#C8D4E3",
             "linecolor": "#C8D4E3",
             "minorgridcolor": "#C8D4E3",
             "startlinecolor": "#2a3f5f"
            },
            "baxis": {
             "endlinecolor": "#2a3f5f",
             "gridcolor": "#C8D4E3",
             "linecolor": "#C8D4E3",
             "minorgridcolor": "#C8D4E3",
             "startlinecolor": "#2a3f5f"
            },
            "type": "carpet"
           }
          ],
          "choropleth": [
           {
            "colorbar": {
             "outlinewidth": 0,
             "ticks": ""
            },
            "type": "choropleth"
           }
          ],
          "contour": [
           {
            "colorbar": {
             "outlinewidth": 0,
             "ticks": ""
            },
            "colorscale": [
             [
              0,
              "#0d0887"
             ],
             [
              0.1111111111111111,
              "#46039f"
             ],
             [
              0.2222222222222222,
              "#7201a8"
             ],
             [
              0.3333333333333333,
              "#9c179e"
             ],
             [
              0.4444444444444444,
              "#bd3786"
             ],
             [
              0.5555555555555556,
              "#d8576b"
             ],
             [
              0.6666666666666666,
              "#ed7953"
             ],
             [
              0.7777777777777778,
              "#fb9f3a"
             ],
             [
              0.8888888888888888,
              "#fdca26"
             ],
             [
              1,
              "#f0f921"
             ]
            ],
            "type": "contour"
           }
          ],
          "contourcarpet": [
           {
            "colorbar": {
             "outlinewidth": 0,
             "ticks": ""
            },
            "type": "contourcarpet"
           }
          ],
          "heatmap": [
           {
            "colorbar": {
             "outlinewidth": 0,
             "ticks": ""
            },
            "colorscale": [
             [
              0,
              "#0d0887"
             ],
             [
              0.1111111111111111,
              "#46039f"
             ],
             [
              0.2222222222222222,
              "#7201a8"
             ],
             [
              0.3333333333333333,
              "#9c179e"
             ],
             [
              0.4444444444444444,
              "#bd3786"
             ],
             [
              0.5555555555555556,
              "#d8576b"
             ],
             [
              0.6666666666666666,
              "#ed7953"
             ],
             [
              0.7777777777777778,
              "#fb9f3a"
             ],
             [
              0.8888888888888888,
              "#fdca26"
             ],
             [
              1,
              "#f0f921"
             ]
            ],
            "type": "heatmap"
           }
          ],
          "heatmapgl": [
           {
            "colorbar": {
             "outlinewidth": 0,
             "ticks": ""
            },
            "colorscale": [
             [
              0,
              "#0d0887"
             ],
             [
              0.1111111111111111,
              "#46039f"
             ],
             [
              0.2222222222222222,
              "#7201a8"
             ],
             [
              0.3333333333333333,
              "#9c179e"
             ],
             [
              0.4444444444444444,
              "#bd3786"
             ],
             [
              0.5555555555555556,
              "#d8576b"
             ],
             [
              0.6666666666666666,
              "#ed7953"
             ],
             [
              0.7777777777777778,
              "#fb9f3a"
             ],
             [
              0.8888888888888888,
              "#fdca26"
             ],
             [
              1,
              "#f0f921"
             ]
            ],
            "type": "heatmapgl"
           }
          ],
          "histogram": [
           {
            "marker": {
             "pattern": {
              "fillmode": "overlay",
              "size": 10,
              "solidity": 0.2
             }
            },
            "type": "histogram"
           }
          ],
          "histogram2d": [
           {
            "colorbar": {
             "outlinewidth": 0,
             "ticks": ""
            },
            "colorscale": [
             [
              0,
              "#0d0887"
             ],
             [
              0.1111111111111111,
              "#46039f"
             ],
             [
              0.2222222222222222,
              "#7201a8"
             ],
             [
              0.3333333333333333,
              "#9c179e"
             ],
             [
              0.4444444444444444,
              "#bd3786"
             ],
             [
              0.5555555555555556,
              "#d8576b"
             ],
             [
              0.6666666666666666,
              "#ed7953"
             ],
             [
              0.7777777777777778,
              "#fb9f3a"
             ],
             [
              0.8888888888888888,
              "#fdca26"
             ],
             [
              1,
              "#f0f921"
             ]
            ],
            "type": "histogram2d"
           }
          ],
          "histogram2dcontour": [
           {
            "colorbar": {
             "outlinewidth": 0,
             "ticks": ""
            },
            "colorscale": [
             [
              0,
              "#0d0887"
             ],
             [
              0.1111111111111111,
              "#46039f"
             ],
             [
              0.2222222222222222,
              "#7201a8"
             ],
             [
              0.3333333333333333,
              "#9c179e"
             ],
             [
              0.4444444444444444,
              "#bd3786"
             ],
             [
              0.5555555555555556,
              "#d8576b"
             ],
             [
              0.6666666666666666,
              "#ed7953"
             ],
             [
              0.7777777777777778,
              "#fb9f3a"
             ],
             [
              0.8888888888888888,
              "#fdca26"
             ],
             [
              1,
              "#f0f921"
             ]
            ],
            "type": "histogram2dcontour"
           }
          ],
          "mesh3d": [
           {
            "colorbar": {
             "outlinewidth": 0,
             "ticks": ""
            },
            "type": "mesh3d"
           }
          ],
          "parcoords": [
           {
            "line": {
             "colorbar": {
              "outlinewidth": 0,
              "ticks": ""
             }
            },
            "type": "parcoords"
           }
          ],
          "pie": [
           {
            "automargin": true,
            "type": "pie"
           }
          ],
          "scatter": [
           {
            "fillpattern": {
             "fillmode": "overlay",
             "size": 10,
             "solidity": 0.2
            },
            "type": "scatter"
           }
          ],
          "scatter3d": [
           {
            "line": {
             "colorbar": {
              "outlinewidth": 0,
              "ticks": ""
             }
            },
            "marker": {
             "colorbar": {
              "outlinewidth": 0,
              "ticks": ""
             }
            },
            "type": "scatter3d"
           }
          ],
          "scattercarpet": [
           {
            "marker": {
             "colorbar": {
              "outlinewidth": 0,
              "ticks": ""
             }
            },
            "type": "scattercarpet"
           }
          ],
          "scattergeo": [
           {
            "marker": {
             "colorbar": {
              "outlinewidth": 0,
              "ticks": ""
             }
            },
            "type": "scattergeo"
           }
          ],
          "scattergl": [
           {
            "marker": {
             "colorbar": {
              "outlinewidth": 0,
              "ticks": ""
             }
            },
            "type": "scattergl"
           }
          ],
          "scattermapbox": [
           {
            "marker": {
             "colorbar": {
              "outlinewidth": 0,
              "ticks": ""
             }
            },
            "type": "scattermapbox"
           }
          ],
          "scatterpolar": [
           {
            "marker": {
             "colorbar": {
              "outlinewidth": 0,
              "ticks": ""
             }
            },
            "type": "scatterpolar"
           }
          ],
          "scatterpolargl": [
           {
            "marker": {
             "colorbar": {
              "outlinewidth": 0,
              "ticks": ""
             }
            },
            "type": "scatterpolargl"
           }
          ],
          "scatterternary": [
           {
            "marker": {
             "colorbar": {
              "outlinewidth": 0,
              "ticks": ""
             }
            },
            "type": "scatterternary"
           }
          ],
          "surface": [
           {
            "colorbar": {
             "outlinewidth": 0,
             "ticks": ""
            },
            "colorscale": [
             [
              0,
              "#0d0887"
             ],
             [
              0.1111111111111111,
              "#46039f"
             ],
             [
              0.2222222222222222,
              "#7201a8"
             ],
             [
              0.3333333333333333,
              "#9c179e"
             ],
             [
              0.4444444444444444,
              "#bd3786"
             ],
             [
              0.5555555555555556,
              "#d8576b"
             ],
             [
              0.6666666666666666,
              "#ed7953"
             ],
             [
              0.7777777777777778,
              "#fb9f3a"
             ],
             [
              0.8888888888888888,
              "#fdca26"
             ],
             [
              1,
              "#f0f921"
             ]
            ],
            "type": "surface"
           }
          ],
          "table": [
           {
            "cells": {
             "fill": {
              "color": "#EBF0F8"
             },
             "line": {
              "color": "white"
             }
            },
            "header": {
             "fill": {
              "color": "#C8D4E3"
             },
             "line": {
              "color": "white"
             }
            },
            "type": "table"
           }
          ]
         },
         "layout": {
          "annotationdefaults": {
           "arrowcolor": "#2a3f5f",
           "arrowhead": 0,
           "arrowwidth": 1
          },
          "autotypenumbers": "strict",
          "coloraxis": {
           "colorbar": {
            "outlinewidth": 0,
            "ticks": ""
           }
          },
          "colorscale": {
           "diverging": [
            [
             0,
             "#8e0152"
            ],
            [
             0.1,
             "#c51b7d"
            ],
            [
             0.2,
             "#de77ae"
            ],
            [
             0.3,
             "#f1b6da"
            ],
            [
             0.4,
             "#fde0ef"
            ],
            [
             0.5,
             "#f7f7f7"
            ],
            [
             0.6,
             "#e6f5d0"
            ],
            [
             0.7,
             "#b8e186"
            ],
            [
             0.8,
             "#7fbc41"
            ],
            [
             0.9,
             "#4d9221"
            ],
            [
             1,
             "#276419"
            ]
           ],
           "sequential": [
            [
             0,
             "#0d0887"
            ],
            [
             0.1111111111111111,
             "#46039f"
            ],
            [
             0.2222222222222222,
             "#7201a8"
            ],
            [
             0.3333333333333333,
             "#9c179e"
            ],
            [
             0.4444444444444444,
             "#bd3786"
            ],
            [
             0.5555555555555556,
             "#d8576b"
            ],
            [
             0.6666666666666666,
             "#ed7953"
            ],
            [
             0.7777777777777778,
             "#fb9f3a"
            ],
            [
             0.8888888888888888,
             "#fdca26"
            ],
            [
             1,
             "#f0f921"
            ]
           ],
           "sequentialminus": [
            [
             0,
             "#0d0887"
            ],
            [
             0.1111111111111111,
             "#46039f"
            ],
            [
             0.2222222222222222,
             "#7201a8"
            ],
            [
             0.3333333333333333,
             "#9c179e"
            ],
            [
             0.4444444444444444,
             "#bd3786"
            ],
            [
             0.5555555555555556,
             "#d8576b"
            ],
            [
             0.6666666666666666,
             "#ed7953"
            ],
            [
             0.7777777777777778,
             "#fb9f3a"
            ],
            [
             0.8888888888888888,
             "#fdca26"
            ],
            [
             1,
             "#f0f921"
            ]
           ]
          },
          "colorway": [
           "#636efa",
           "#EF553B",
           "#00cc96",
           "#ab63fa",
           "#FFA15A",
           "#19d3f3",
           "#FF6692",
           "#B6E880",
           "#FF97FF",
           "#FECB52"
          ],
          "font": {
           "color": "#2a3f5f"
          },
          "geo": {
           "bgcolor": "white",
           "lakecolor": "white",
           "landcolor": "white",
           "showlakes": true,
           "showland": true,
           "subunitcolor": "#C8D4E3"
          },
          "hoverlabel": {
           "align": "left"
          },
          "hovermode": "closest",
          "mapbox": {
           "style": "light"
          },
          "paper_bgcolor": "white",
          "plot_bgcolor": "white",
          "polar": {
           "angularaxis": {
            "gridcolor": "#EBF0F8",
            "linecolor": "#EBF0F8",
            "ticks": ""
           },
           "bgcolor": "white",
           "radialaxis": {
            "gridcolor": "#EBF0F8",
            "linecolor": "#EBF0F8",
            "ticks": ""
           }
          },
          "scene": {
           "xaxis": {
            "backgroundcolor": "white",
            "gridcolor": "#DFE8F3",
            "gridwidth": 2,
            "linecolor": "#EBF0F8",
            "showbackground": true,
            "ticks": "",
            "zerolinecolor": "#EBF0F8"
           },
           "yaxis": {
            "backgroundcolor": "white",
            "gridcolor": "#DFE8F3",
            "gridwidth": 2,
            "linecolor": "#EBF0F8",
            "showbackground": true,
            "ticks": "",
            "zerolinecolor": "#EBF0F8"
           },
           "zaxis": {
            "backgroundcolor": "white",
            "gridcolor": "#DFE8F3",
            "gridwidth": 2,
            "linecolor": "#EBF0F8",
            "showbackground": true,
            "ticks": "",
            "zerolinecolor": "#EBF0F8"
           }
          },
          "shapedefaults": {
           "line": {
            "color": "#2a3f5f"
           }
          },
          "ternary": {
           "aaxis": {
            "gridcolor": "#DFE8F3",
            "linecolor": "#A2B1C6",
            "ticks": ""
           },
           "baxis": {
            "gridcolor": "#DFE8F3",
            "linecolor": "#A2B1C6",
            "ticks": ""
           },
           "bgcolor": "white",
           "caxis": {
            "gridcolor": "#DFE8F3",
            "linecolor": "#A2B1C6",
            "ticks": ""
           }
          },
          "title": {
           "x": 0.05
          },
          "xaxis": {
           "automargin": true,
           "gridcolor": "#EBF0F8",
           "linecolor": "#EBF0F8",
           "ticks": "",
           "title": {
            "standoff": 15
           },
           "zerolinecolor": "#EBF0F8",
           "zerolinewidth": 2
          },
          "yaxis": {
           "automargin": true,
           "gridcolor": "#EBF0F8",
           "linecolor": "#EBF0F8",
           "ticks": "",
           "title": {
            "standoff": 15
           },
           "zerolinecolor": "#EBF0F8",
           "zerolinewidth": 2
          }
         }
        },
        "title": {
         "text": "ZoomIN Totale soldi prelevati"
        },
        "xaxis": {
         "title": {
          "text": "Date"
         }
        },
        "yaxis": {
         "title": {
          "text": "prelievo_contante"
         }
        }
       }
      }
     },
     "metadata": {},
     "output_type": "display_data"
    }
   ],
   "source": [
    "##### PLOT AGGREGATION \n",
    "plot_in_timerange(prelievi_aggregated_df,\"bucket_start\",\"prelievo_contante\",\"ZoomIN Totale soldi prelevati\", mode=\"lines\")"
   ]
  },
  {
   "cell_type": "code",
   "execution_count": 25,
   "metadata": {
    "slideshow": {
     "slide_type": "slide"
    }
   },
   "outputs": [
    {
     "name": "stderr",
     "output_type": "stream",
     "text": [
      "                                                                                \r"
     ]
    },
    {
     "data": {
      "application/vnd.plotly.v1+json": {
       "config": {
        "linkText": "Export to plot.ly",
        "plotlyServerURL": "https://plot.ly",
        "showLink": false
       },
       "data": [
        {
         "mode": "lines",
         "name": "Timeseries degli importi prelevati",
         "type": "scatter",
         "x": [
          "2023-02-15T00:00:00",
          "2023-02-16T00:00:00",
          "2023-02-17T00:00:00",
          "2023-02-18T00:00:00",
          "2023-02-19T00:00:00",
          "2023-02-20T00:00:00",
          "2023-02-21T00:00:00",
          "2023-02-22T00:00:00",
          "2023-02-23T00:00:00",
          "2023-02-24T00:00:00",
          "2023-02-25T00:00:00",
          "2023-02-26T00:00:00",
          "2023-02-27T00:00:00",
          "2023-02-28T00:00:00",
          "2023-03-01T00:00:00",
          "2023-03-02T00:00:00",
          "2023-03-03T00:00:00",
          "2023-03-04T00:00:00",
          "2023-03-05T00:00:00",
          "2023-03-06T00:00:00",
          "2023-03-07T00:00:00",
          "2023-03-08T00:00:00",
          "2023-03-09T00:00:00",
          "2023-03-10T00:00:00",
          "2023-03-11T00:00:00",
          "2023-03-12T00:00:00",
          "2023-03-13T00:00:00",
          "2023-03-14T00:00:00",
          "2023-03-15T00:00:00",
          "2023-03-16T00:00:00",
          "2023-03-17T00:00:00",
          "2023-03-18T00:00:00",
          "2023-03-19T00:00:00",
          "2023-03-20T00:00:00",
          "2023-03-21T00:00:00",
          "2023-03-22T00:00:00",
          "2023-03-23T00:00:00",
          "2023-03-24T00:00:00",
          "2023-03-25T00:00:00",
          "2023-03-26T00:00:00",
          "2023-03-27T00:00:00",
          "2023-03-28T00:00:00",
          "2023-03-29T00:00:00",
          "2023-03-30T00:00:00",
          "2023-03-31T00:00:00",
          "2023-04-01T00:00:00",
          "2023-04-02T00:00:00",
          "2023-04-03T00:00:00",
          "2023-04-04T00:00:00",
          "2023-04-05T00:00:00",
          "2023-04-06T00:00:00",
          "2023-04-07T00:00:00",
          "2023-04-08T00:00:00",
          "2023-04-09T00:00:00",
          "2023-04-10T00:00:00",
          "2023-04-11T00:00:00",
          "2023-04-12T00:00:00",
          "2023-04-13T00:00:00",
          "2023-04-14T00:00:00",
          "2023-04-15T00:00:00",
          "2023-04-16T00:00:00",
          "2023-04-17T00:00:00",
          "2023-04-18T00:00:00",
          "2023-04-19T00:00:00",
          "2023-04-20T00:00:00",
          "2023-04-21T00:00:00",
          "2023-04-22T00:00:00",
          "2023-04-23T00:00:00",
          "2023-04-24T00:00:00",
          "2023-04-25T00:00:00"
         ],
         "y": [
          102,
          0,
          102,
          0,
          0,
          0,
          0,
          100,
          0,
          1,
          102,
          0,
          100,
          0,
          0,
          0,
          102,
          0,
          102,
          0,
          102,
          0,
          0,
          1,
          102,
          0,
          0,
          0,
          100,
          0,
          152,
          52,
          52,
          0,
          52,
          0,
          52,
          1,
          0,
          0,
          100,
          0,
          0,
          52,
          1,
          0,
          0,
          52,
          100,
          0,
          0,
          0,
          204,
          0,
          52,
          0,
          52,
          0,
          1,
          0,
          0,
          100,
          0,
          0,
          0,
          1,
          0,
          52,
          52,
          100
         ]
        }
       ],
       "layout": {
        "showlegend": true,
        "template": {
         "data": {
          "bar": [
           {
            "error_x": {
             "color": "#2a3f5f"
            },
            "error_y": {
             "color": "#2a3f5f"
            },
            "marker": {
             "line": {
              "color": "white",
              "width": 0.5
             },
             "pattern": {
              "fillmode": "overlay",
              "size": 10,
              "solidity": 0.2
             }
            },
            "type": "bar"
           }
          ],
          "barpolar": [
           {
            "marker": {
             "line": {
              "color": "white",
              "width": 0.5
             },
             "pattern": {
              "fillmode": "overlay",
              "size": 10,
              "solidity": 0.2
             }
            },
            "type": "barpolar"
           }
          ],
          "carpet": [
           {
            "aaxis": {
             "endlinecolor": "#2a3f5f",
             "gridcolor": "#C8D4E3",
             "linecolor": "#C8D4E3",
             "minorgridcolor": "#C8D4E3",
             "startlinecolor": "#2a3f5f"
            },
            "baxis": {
             "endlinecolor": "#2a3f5f",
             "gridcolor": "#C8D4E3",
             "linecolor": "#C8D4E3",
             "minorgridcolor": "#C8D4E3",
             "startlinecolor": "#2a3f5f"
            },
            "type": "carpet"
           }
          ],
          "choropleth": [
           {
            "colorbar": {
             "outlinewidth": 0,
             "ticks": ""
            },
            "type": "choropleth"
           }
          ],
          "contour": [
           {
            "colorbar": {
             "outlinewidth": 0,
             "ticks": ""
            },
            "colorscale": [
             [
              0,
              "#0d0887"
             ],
             [
              0.1111111111111111,
              "#46039f"
             ],
             [
              0.2222222222222222,
              "#7201a8"
             ],
             [
              0.3333333333333333,
              "#9c179e"
             ],
             [
              0.4444444444444444,
              "#bd3786"
             ],
             [
              0.5555555555555556,
              "#d8576b"
             ],
             [
              0.6666666666666666,
              "#ed7953"
             ],
             [
              0.7777777777777778,
              "#fb9f3a"
             ],
             [
              0.8888888888888888,
              "#fdca26"
             ],
             [
              1,
              "#f0f921"
             ]
            ],
            "type": "contour"
           }
          ],
          "contourcarpet": [
           {
            "colorbar": {
             "outlinewidth": 0,
             "ticks": ""
            },
            "type": "contourcarpet"
           }
          ],
          "heatmap": [
           {
            "colorbar": {
             "outlinewidth": 0,
             "ticks": ""
            },
            "colorscale": [
             [
              0,
              "#0d0887"
             ],
             [
              0.1111111111111111,
              "#46039f"
             ],
             [
              0.2222222222222222,
              "#7201a8"
             ],
             [
              0.3333333333333333,
              "#9c179e"
             ],
             [
              0.4444444444444444,
              "#bd3786"
             ],
             [
              0.5555555555555556,
              "#d8576b"
             ],
             [
              0.6666666666666666,
              "#ed7953"
             ],
             [
              0.7777777777777778,
              "#fb9f3a"
             ],
             [
              0.8888888888888888,
              "#fdca26"
             ],
             [
              1,
              "#f0f921"
             ]
            ],
            "type": "heatmap"
           }
          ],
          "heatmapgl": [
           {
            "colorbar": {
             "outlinewidth": 0,
             "ticks": ""
            },
            "colorscale": [
             [
              0,
              "#0d0887"
             ],
             [
              0.1111111111111111,
              "#46039f"
             ],
             [
              0.2222222222222222,
              "#7201a8"
             ],
             [
              0.3333333333333333,
              "#9c179e"
             ],
             [
              0.4444444444444444,
              "#bd3786"
             ],
             [
              0.5555555555555556,
              "#d8576b"
             ],
             [
              0.6666666666666666,
              "#ed7953"
             ],
             [
              0.7777777777777778,
              "#fb9f3a"
             ],
             [
              0.8888888888888888,
              "#fdca26"
             ],
             [
              1,
              "#f0f921"
             ]
            ],
            "type": "heatmapgl"
           }
          ],
          "histogram": [
           {
            "marker": {
             "pattern": {
              "fillmode": "overlay",
              "size": 10,
              "solidity": 0.2
             }
            },
            "type": "histogram"
           }
          ],
          "histogram2d": [
           {
            "colorbar": {
             "outlinewidth": 0,
             "ticks": ""
            },
            "colorscale": [
             [
              0,
              "#0d0887"
             ],
             [
              0.1111111111111111,
              "#46039f"
             ],
             [
              0.2222222222222222,
              "#7201a8"
             ],
             [
              0.3333333333333333,
              "#9c179e"
             ],
             [
              0.4444444444444444,
              "#bd3786"
             ],
             [
              0.5555555555555556,
              "#d8576b"
             ],
             [
              0.6666666666666666,
              "#ed7953"
             ],
             [
              0.7777777777777778,
              "#fb9f3a"
             ],
             [
              0.8888888888888888,
              "#fdca26"
             ],
             [
              1,
              "#f0f921"
             ]
            ],
            "type": "histogram2d"
           }
          ],
          "histogram2dcontour": [
           {
            "colorbar": {
             "outlinewidth": 0,
             "ticks": ""
            },
            "colorscale": [
             [
              0,
              "#0d0887"
             ],
             [
              0.1111111111111111,
              "#46039f"
             ],
             [
              0.2222222222222222,
              "#7201a8"
             ],
             [
              0.3333333333333333,
              "#9c179e"
             ],
             [
              0.4444444444444444,
              "#bd3786"
             ],
             [
              0.5555555555555556,
              "#d8576b"
             ],
             [
              0.6666666666666666,
              "#ed7953"
             ],
             [
              0.7777777777777778,
              "#fb9f3a"
             ],
             [
              0.8888888888888888,
              "#fdca26"
             ],
             [
              1,
              "#f0f921"
             ]
            ],
            "type": "histogram2dcontour"
           }
          ],
          "mesh3d": [
           {
            "colorbar": {
             "outlinewidth": 0,
             "ticks": ""
            },
            "type": "mesh3d"
           }
          ],
          "parcoords": [
           {
            "line": {
             "colorbar": {
              "outlinewidth": 0,
              "ticks": ""
             }
            },
            "type": "parcoords"
           }
          ],
          "pie": [
           {
            "automargin": true,
            "type": "pie"
           }
          ],
          "scatter": [
           {
            "fillpattern": {
             "fillmode": "overlay",
             "size": 10,
             "solidity": 0.2
            },
            "type": "scatter"
           }
          ],
          "scatter3d": [
           {
            "line": {
             "colorbar": {
              "outlinewidth": 0,
              "ticks": ""
             }
            },
            "marker": {
             "colorbar": {
              "outlinewidth": 0,
              "ticks": ""
             }
            },
            "type": "scatter3d"
           }
          ],
          "scattercarpet": [
           {
            "marker": {
             "colorbar": {
              "outlinewidth": 0,
              "ticks": ""
             }
            },
            "type": "scattercarpet"
           }
          ],
          "scattergeo": [
           {
            "marker": {
             "colorbar": {
              "outlinewidth": 0,
              "ticks": ""
             }
            },
            "type": "scattergeo"
           }
          ],
          "scattergl": [
           {
            "marker": {
             "colorbar": {
              "outlinewidth": 0,
              "ticks": ""
             }
            },
            "type": "scattergl"
           }
          ],
          "scattermapbox": [
           {
            "marker": {
             "colorbar": {
              "outlinewidth": 0,
              "ticks": ""
             }
            },
            "type": "scattermapbox"
           }
          ],
          "scatterpolar": [
           {
            "marker": {
             "colorbar": {
              "outlinewidth": 0,
              "ticks": ""
             }
            },
            "type": "scatterpolar"
           }
          ],
          "scatterpolargl": [
           {
            "marker": {
             "colorbar": {
              "outlinewidth": 0,
              "ticks": ""
             }
            },
            "type": "scatterpolargl"
           }
          ],
          "scatterternary": [
           {
            "marker": {
             "colorbar": {
              "outlinewidth": 0,
              "ticks": ""
             }
            },
            "type": "scatterternary"
           }
          ],
          "surface": [
           {
            "colorbar": {
             "outlinewidth": 0,
             "ticks": ""
            },
            "colorscale": [
             [
              0,
              "#0d0887"
             ],
             [
              0.1111111111111111,
              "#46039f"
             ],
             [
              0.2222222222222222,
              "#7201a8"
             ],
             [
              0.3333333333333333,
              "#9c179e"
             ],
             [
              0.4444444444444444,
              "#bd3786"
             ],
             [
              0.5555555555555556,
              "#d8576b"
             ],
             [
              0.6666666666666666,
              "#ed7953"
             ],
             [
              0.7777777777777778,
              "#fb9f3a"
             ],
             [
              0.8888888888888888,
              "#fdca26"
             ],
             [
              1,
              "#f0f921"
             ]
            ],
            "type": "surface"
           }
          ],
          "table": [
           {
            "cells": {
             "fill": {
              "color": "#EBF0F8"
             },
             "line": {
              "color": "white"
             }
            },
            "header": {
             "fill": {
              "color": "#C8D4E3"
             },
             "line": {
              "color": "white"
             }
            },
            "type": "table"
           }
          ]
         },
         "layout": {
          "annotationdefaults": {
           "arrowcolor": "#2a3f5f",
           "arrowhead": 0,
           "arrowwidth": 1
          },
          "autotypenumbers": "strict",
          "coloraxis": {
           "colorbar": {
            "outlinewidth": 0,
            "ticks": ""
           }
          },
          "colorscale": {
           "diverging": [
            [
             0,
             "#8e0152"
            ],
            [
             0.1,
             "#c51b7d"
            ],
            [
             0.2,
             "#de77ae"
            ],
            [
             0.3,
             "#f1b6da"
            ],
            [
             0.4,
             "#fde0ef"
            ],
            [
             0.5,
             "#f7f7f7"
            ],
            [
             0.6,
             "#e6f5d0"
            ],
            [
             0.7,
             "#b8e186"
            ],
            [
             0.8,
             "#7fbc41"
            ],
            [
             0.9,
             "#4d9221"
            ],
            [
             1,
             "#276419"
            ]
           ],
           "sequential": [
            [
             0,
             "#0d0887"
            ],
            [
             0.1111111111111111,
             "#46039f"
            ],
            [
             0.2222222222222222,
             "#7201a8"
            ],
            [
             0.3333333333333333,
             "#9c179e"
            ],
            [
             0.4444444444444444,
             "#bd3786"
            ],
            [
             0.5555555555555556,
             "#d8576b"
            ],
            [
             0.6666666666666666,
             "#ed7953"
            ],
            [
             0.7777777777777778,
             "#fb9f3a"
            ],
            [
             0.8888888888888888,
             "#fdca26"
            ],
            [
             1,
             "#f0f921"
            ]
           ],
           "sequentialminus": [
            [
             0,
             "#0d0887"
            ],
            [
             0.1111111111111111,
             "#46039f"
            ],
            [
             0.2222222222222222,
             "#7201a8"
            ],
            [
             0.3333333333333333,
             "#9c179e"
            ],
            [
             0.4444444444444444,
             "#bd3786"
            ],
            [
             0.5555555555555556,
             "#d8576b"
            ],
            [
             0.6666666666666666,
             "#ed7953"
            ],
            [
             0.7777777777777778,
             "#fb9f3a"
            ],
            [
             0.8888888888888888,
             "#fdca26"
            ],
            [
             1,
             "#f0f921"
            ]
           ]
          },
          "colorway": [
           "#636efa",
           "#EF553B",
           "#00cc96",
           "#ab63fa",
           "#FFA15A",
           "#19d3f3",
           "#FF6692",
           "#B6E880",
           "#FF97FF",
           "#FECB52"
          ],
          "font": {
           "color": "#2a3f5f"
          },
          "geo": {
           "bgcolor": "white",
           "lakecolor": "white",
           "landcolor": "white",
           "showlakes": true,
           "showland": true,
           "subunitcolor": "#C8D4E3"
          },
          "hoverlabel": {
           "align": "left"
          },
          "hovermode": "closest",
          "mapbox": {
           "style": "light"
          },
          "paper_bgcolor": "white",
          "plot_bgcolor": "white",
          "polar": {
           "angularaxis": {
            "gridcolor": "#EBF0F8",
            "linecolor": "#EBF0F8",
            "ticks": ""
           },
           "bgcolor": "white",
           "radialaxis": {
            "gridcolor": "#EBF0F8",
            "linecolor": "#EBF0F8",
            "ticks": ""
           }
          },
          "scene": {
           "xaxis": {
            "backgroundcolor": "white",
            "gridcolor": "#DFE8F3",
            "gridwidth": 2,
            "linecolor": "#EBF0F8",
            "showbackground": true,
            "ticks": "",
            "zerolinecolor": "#EBF0F8"
           },
           "yaxis": {
            "backgroundcolor": "white",
            "gridcolor": "#DFE8F3",
            "gridwidth": 2,
            "linecolor": "#EBF0F8",
            "showbackground": true,
            "ticks": "",
            "zerolinecolor": "#EBF0F8"
           },
           "zaxis": {
            "backgroundcolor": "white",
            "gridcolor": "#DFE8F3",
            "gridwidth": 2,
            "linecolor": "#EBF0F8",
            "showbackground": true,
            "ticks": "",
            "zerolinecolor": "#EBF0F8"
           }
          },
          "shapedefaults": {
           "line": {
            "color": "#2a3f5f"
           }
          },
          "ternary": {
           "aaxis": {
            "gridcolor": "#DFE8F3",
            "linecolor": "#A2B1C6",
            "ticks": ""
           },
           "baxis": {
            "gridcolor": "#DFE8F3",
            "linecolor": "#A2B1C6",
            "ticks": ""
           },
           "bgcolor": "white",
           "caxis": {
            "gridcolor": "#DFE8F3",
            "linecolor": "#A2B1C6",
            "ticks": ""
           }
          },
          "title": {
           "x": 0.05
          },
          "xaxis": {
           "automargin": true,
           "gridcolor": "#EBF0F8",
           "linecolor": "#EBF0F8",
           "ticks": "",
           "title": {
            "standoff": 15
           },
           "zerolinecolor": "#EBF0F8",
           "zerolinewidth": 2
          },
          "yaxis": {
           "automargin": true,
           "gridcolor": "#EBF0F8",
           "linecolor": "#EBF0F8",
           "ticks": "",
           "title": {
            "standoff": 15
           },
           "zerolinecolor": "#EBF0F8",
           "zerolinewidth": 2
          }
         }
        },
        "title": {
         "text": "Timeseries degli importi prelevati"
        },
        "xaxis": {
         "title": {
          "text": "Date"
         }
        },
        "yaxis": {
         "title": {
          "text": "prelievo_contante"
         }
        }
       }
      }
     },
     "metadata": {},
     "output_type": "display_data"
    }
   ],
   "source": [
    "### PLOT FILLING\n",
    "plot_in_timerange(filled_ritiro_contanti_df,new_timestamp_col_name,\"prelievo_contante\",\"Timeseries degli importi prelevati\",mode=\"lines\")"
   ]
  },
  {
   "cell_type": "markdown",
   "metadata": {
    "slideshow": {
     "slide_type": "slide"
    }
   },
   "source": [
    "## Facciamo uno zoomout\n"
   ]
  },
  {
   "cell_type": "code",
   "execution_count": 26,
   "metadata": {
    "slideshow": {
     "slide_type": "slide"
    }
   },
   "outputs": [
    {
     "name": "stderr",
     "output_type": "stream",
     "text": [
      "                                                                                \r"
     ]
    },
    {
     "data": {
      "application/vnd.plotly.v1+json": {
       "config": {
        "linkText": "Export to plot.ly",
        "plotlyServerURL": "https://plot.ly",
        "showLink": false
       },
       "data": [
        {
         "mode": "lines",
         "name": "Time Series",
         "type": "scatter",
         "x": [
          "2021-04-28T02:00:00",
          "2021-04-29T02:00:00",
          "2021-04-30T02:00:00",
          "2021-05-01T02:00:00",
          "2021-05-02T02:00:00",
          "2021-05-03T02:00:00",
          "2021-05-04T02:00:00",
          "2021-05-05T02:00:00",
          "2021-05-07T02:00:00",
          "2021-05-09T02:00:00",
          "2021-05-10T02:00:00",
          "2021-05-11T02:00:00",
          "2021-05-12T02:00:00",
          "2021-05-13T02:00:00",
          "2021-05-14T02:00:00",
          "2021-05-16T02:00:00",
          "2021-05-17T02:00:00",
          "2021-05-18T02:00:00",
          "2021-05-19T02:00:00",
          "2021-05-20T02:00:00",
          "2021-05-21T02:00:00",
          "2021-05-22T02:00:00",
          "2021-05-23T02:00:00",
          "2021-05-24T02:00:00",
          "2021-05-25T02:00:00",
          "2021-05-26T02:00:00",
          "2021-05-27T02:00:00",
          "2021-05-28T02:00:00",
          "2021-05-29T02:00:00",
          "2021-05-30T02:00:00",
          "2021-05-31T02:00:00",
          "2021-06-01T02:00:00",
          "2021-06-02T02:00:00",
          "2021-06-03T02:00:00",
          "2021-06-04T02:00:00",
          "2021-06-05T02:00:00",
          "2021-06-07T02:00:00",
          "2021-06-08T02:00:00",
          "2021-06-09T02:00:00",
          "2021-06-10T02:00:00",
          "2021-06-11T02:00:00",
          "2021-06-12T02:00:00",
          "2021-06-13T02:00:00",
          "2021-06-14T02:00:00",
          "2021-06-15T02:00:00",
          "2021-06-16T02:00:00",
          "2021-06-17T02:00:00",
          "2021-06-18T02:00:00",
          "2021-06-19T02:00:00",
          "2021-06-20T02:00:00",
          "2021-06-21T02:00:00",
          "2021-06-22T02:00:00",
          "2021-06-23T02:00:00",
          "2021-06-24T02:00:00",
          "2021-06-25T02:00:00",
          "2021-06-26T02:00:00",
          "2021-06-27T02:00:00",
          "2021-06-28T02:00:00",
          "2021-06-29T02:00:00",
          "2021-06-30T02:00:00",
          "2021-07-01T02:00:00",
          "2021-07-02T02:00:00",
          "2021-07-03T02:00:00",
          "2021-07-04T02:00:00",
          "2021-07-05T02:00:00",
          "2021-07-06T02:00:00",
          "2021-07-07T02:00:00",
          "2021-07-08T02:00:00",
          "2021-07-09T02:00:00",
          "2021-07-10T02:00:00",
          "2021-07-11T02:00:00",
          "2021-07-12T02:00:00",
          "2021-07-13T02:00:00",
          "2021-07-14T02:00:00",
          "2021-07-15T02:00:00",
          "2021-07-16T02:00:00",
          "2021-07-17T02:00:00",
          "2021-07-18T02:00:00",
          "2021-07-19T02:00:00",
          "2021-07-20T02:00:00",
          "2021-07-21T02:00:00",
          "2021-07-22T02:00:00",
          "2021-07-23T02:00:00",
          "2021-07-24T02:00:00",
          "2021-07-25T02:00:00",
          "2021-07-26T02:00:00",
          "2021-07-27T02:00:00",
          "2021-07-28T02:00:00",
          "2021-07-29T02:00:00",
          "2021-07-30T02:00:00",
          "2021-07-31T02:00:00",
          "2021-08-01T02:00:00",
          "2021-08-02T02:00:00",
          "2021-08-03T02:00:00",
          "2021-08-04T02:00:00",
          "2021-08-05T02:00:00",
          "2021-08-06T02:00:00",
          "2021-08-07T02:00:00",
          "2021-08-08T02:00:00",
          "2021-08-09T02:00:00",
          "2021-08-10T02:00:00",
          "2021-08-11T02:00:00",
          "2021-08-12T02:00:00",
          "2021-08-13T02:00:00",
          "2021-08-14T02:00:00",
          "2021-08-15T02:00:00",
          "2021-08-16T02:00:00",
          "2021-08-17T02:00:00",
          "2021-08-18T02:00:00",
          "2021-08-19T02:00:00",
          "2021-08-20T02:00:00",
          "2021-08-21T02:00:00",
          "2021-08-22T02:00:00",
          "2021-08-23T02:00:00",
          "2021-08-24T02:00:00",
          "2021-08-25T02:00:00",
          "2021-08-26T02:00:00",
          "2021-08-27T02:00:00",
          "2021-08-28T02:00:00",
          "2021-08-29T02:00:00",
          "2021-08-30T02:00:00",
          "2021-08-31T02:00:00",
          "2021-09-01T02:00:00",
          "2021-09-02T02:00:00",
          "2021-09-03T02:00:00",
          "2021-09-04T02:00:00",
          "2021-09-05T02:00:00",
          "2021-09-06T02:00:00",
          "2021-09-07T02:00:00",
          "2021-09-08T02:00:00",
          "2021-09-09T02:00:00",
          "2021-09-10T02:00:00",
          "2021-09-11T02:00:00",
          "2021-09-12T02:00:00",
          "2021-09-13T02:00:00",
          "2021-09-14T02:00:00",
          "2021-09-15T02:00:00",
          "2021-09-16T02:00:00",
          "2021-09-17T02:00:00",
          "2021-09-18T02:00:00",
          "2021-09-19T02:00:00",
          "2021-09-20T02:00:00",
          "2021-09-21T02:00:00",
          "2021-09-22T02:00:00",
          "2021-09-23T02:00:00",
          "2021-09-24T02:00:00",
          "2021-09-25T02:00:00",
          "2021-09-26T02:00:00",
          "2021-09-27T02:00:00",
          "2021-09-28T02:00:00",
          "2021-09-29T02:00:00",
          "2021-09-30T02:00:00",
          "2021-10-01T02:00:00",
          "2021-10-02T02:00:00",
          "2021-10-03T02:00:00",
          "2021-10-04T02:00:00",
          "2021-10-05T02:00:00",
          "2021-10-06T02:00:00",
          "2021-10-07T02:00:00",
          "2021-10-08T02:00:00",
          "2021-10-09T02:00:00",
          "2021-10-10T02:00:00",
          "2021-10-11T02:00:00",
          "2021-10-12T02:00:00",
          "2021-10-13T02:00:00",
          "2021-10-14T02:00:00",
          "2021-10-15T02:00:00",
          "2021-10-16T02:00:00",
          "2021-10-17T02:00:00",
          "2021-10-18T02:00:00",
          "2021-10-19T02:00:00",
          "2021-10-20T02:00:00",
          "2021-10-21T02:00:00",
          "2021-10-22T02:00:00",
          "2021-10-23T02:00:00",
          "2021-10-24T02:00:00",
          "2021-10-25T02:00:00",
          "2021-10-26T02:00:00",
          "2021-10-27T02:00:00",
          "2021-10-28T02:00:00",
          "2021-10-29T02:00:00",
          "2021-10-30T02:00:00",
          "2021-11-01T01:00:00",
          "2021-11-02T01:00:00",
          "2021-11-03T01:00:00",
          "2021-11-04T01:00:00",
          "2021-11-05T01:00:00",
          "2021-11-07T01:00:00",
          "2021-11-09T01:00:00",
          "2021-11-10T01:00:00",
          "2021-11-11T01:00:00",
          "2021-11-12T01:00:00",
          "2021-11-13T01:00:00",
          "2021-11-14T01:00:00",
          "2021-11-15T01:00:00",
          "2021-11-16T01:00:00",
          "2021-11-17T01:00:00",
          "2021-11-18T01:00:00",
          "2021-11-19T01:00:00",
          "2021-11-20T01:00:00",
          "2021-11-21T01:00:00",
          "2021-11-22T01:00:00",
          "2021-11-23T01:00:00",
          "2021-11-24T01:00:00",
          "2021-11-25T01:00:00",
          "2021-11-26T01:00:00",
          "2021-11-27T01:00:00",
          "2021-11-28T01:00:00",
          "2021-11-29T01:00:00",
          "2021-11-30T01:00:00",
          "2021-12-01T01:00:00",
          "2021-12-02T01:00:00",
          "2021-12-04T01:00:00",
          "2021-12-05T01:00:00",
          "2021-12-06T01:00:00",
          "2021-12-08T01:00:00",
          "2021-12-09T01:00:00",
          "2021-12-10T01:00:00",
          "2021-12-11T01:00:00",
          "2021-12-12T01:00:00",
          "2021-12-13T01:00:00",
          "2021-12-14T01:00:00",
          "2021-12-15T01:00:00",
          "2021-12-17T01:00:00",
          "2021-12-18T01:00:00",
          "2021-12-19T01:00:00",
          "2021-12-20T01:00:00",
          "2021-12-21T01:00:00",
          "2021-12-22T01:00:00",
          "2021-12-23T01:00:00",
          "2021-12-24T01:00:00",
          "2021-12-25T01:00:00",
          "2021-12-26T01:00:00",
          "2021-12-27T01:00:00",
          "2021-12-28T01:00:00",
          "2021-12-29T01:00:00",
          "2021-12-30T01:00:00",
          "2022-01-01T01:00:00",
          "2022-01-02T01:00:00",
          "2022-01-03T01:00:00",
          "2022-01-04T01:00:00",
          "2022-01-05T01:00:00",
          "2022-01-06T01:00:00",
          "2022-01-08T01:00:00",
          "2022-01-09T01:00:00",
          "2022-01-10T01:00:00",
          "2022-01-11T01:00:00",
          "2022-01-12T01:00:00",
          "2022-01-13T01:00:00",
          "2022-01-14T01:00:00",
          "2022-01-15T01:00:00",
          "2022-01-17T01:00:00",
          "2022-01-18T01:00:00",
          "2022-01-19T01:00:00",
          "2022-01-20T01:00:00",
          "2022-01-21T01:00:00",
          "2022-01-22T01:00:00",
          "2022-01-23T01:00:00",
          "2022-01-24T01:00:00",
          "2022-01-25T01:00:00",
          "2022-01-26T01:00:00",
          "2022-01-27T01:00:00",
          "2022-01-28T01:00:00",
          "2022-01-29T01:00:00",
          "2022-01-30T01:00:00",
          "2022-01-31T01:00:00",
          "2022-02-01T01:00:00",
          "2022-02-02T01:00:00",
          "2022-02-03T01:00:00",
          "2022-02-04T01:00:00",
          "2022-02-05T01:00:00",
          "2022-02-06T01:00:00",
          "2022-02-07T01:00:00",
          "2022-02-08T01:00:00",
          "2022-02-09T01:00:00",
          "2022-02-10T01:00:00",
          "2022-02-11T01:00:00",
          "2022-02-12T01:00:00",
          "2022-02-13T01:00:00",
          "2022-02-14T01:00:00",
          "2022-02-15T01:00:00",
          "2022-02-16T01:00:00",
          "2022-02-17T01:00:00",
          "2022-02-18T01:00:00",
          "2022-02-19T01:00:00",
          "2022-02-20T01:00:00",
          "2022-02-21T01:00:00",
          "2022-02-22T01:00:00",
          "2022-02-23T01:00:00",
          "2022-02-25T01:00:00",
          "2022-02-26T01:00:00",
          "2022-02-27T01:00:00",
          "2022-02-28T01:00:00",
          "2022-03-01T01:00:00",
          "2022-03-02T01:00:00",
          "2022-03-03T01:00:00",
          "2022-03-04T01:00:00",
          "2022-03-05T01:00:00",
          "2022-03-06T01:00:00",
          "2022-03-07T01:00:00",
          "2022-03-08T01:00:00",
          "2022-03-09T01:00:00",
          "2022-03-10T01:00:00",
          "2022-03-11T01:00:00",
          "2022-03-12T01:00:00",
          "2022-03-13T01:00:00",
          "2022-03-14T01:00:00",
          "2022-03-15T01:00:00",
          "2022-03-16T01:00:00",
          "2022-03-17T01:00:00",
          "2022-03-18T01:00:00",
          "2022-03-19T01:00:00",
          "2022-03-21T01:00:00",
          "2022-03-22T01:00:00",
          "2022-03-23T01:00:00",
          "2022-03-24T01:00:00",
          "2022-03-25T01:00:00",
          "2022-03-26T01:00:00",
          "2022-03-27T01:00:00",
          "2022-03-28T02:00:00",
          "2022-03-29T02:00:00",
          "2022-03-30T02:00:00",
          "2022-03-31T02:00:00",
          "2022-04-01T02:00:00",
          "2022-04-02T02:00:00",
          "2022-04-04T02:00:00",
          "2022-04-05T02:00:00",
          "2022-04-06T02:00:00",
          "2022-04-07T02:00:00",
          "2022-04-08T02:00:00",
          "2022-04-09T02:00:00",
          "2022-04-10T02:00:00",
          "2022-04-11T02:00:00",
          "2022-04-12T02:00:00",
          "2022-04-13T02:00:00",
          "2022-04-14T02:00:00",
          "2022-04-15T02:00:00",
          "2022-04-16T02:00:00",
          "2022-04-17T02:00:00",
          "2022-04-18T02:00:00",
          "2022-04-19T02:00:00",
          "2022-04-20T02:00:00",
          "2022-04-21T02:00:00",
          "2022-04-22T02:00:00",
          "2022-04-23T02:00:00",
          "2022-04-24T02:00:00",
          "2022-04-25T02:00:00",
          "2022-04-26T02:00:00",
          "2022-04-27T02:00:00",
          "2022-04-28T02:00:00",
          "2022-04-30T02:00:00",
          "2022-05-01T02:00:00",
          "2022-05-02T02:00:00",
          "2022-05-03T02:00:00",
          "2022-05-04T02:00:00",
          "2022-05-05T02:00:00",
          "2022-05-06T02:00:00",
          "2022-05-07T02:00:00",
          "2022-05-08T02:00:00",
          "2022-05-09T02:00:00",
          "2022-05-10T02:00:00",
          "2022-05-11T02:00:00",
          "2022-05-12T02:00:00",
          "2022-05-13T02:00:00",
          "2022-05-14T02:00:00",
          "2022-05-15T02:00:00",
          "2022-05-16T02:00:00",
          "2022-05-17T02:00:00",
          "2022-05-18T02:00:00",
          "2022-05-19T02:00:00",
          "2022-05-20T02:00:00",
          "2022-05-21T02:00:00",
          "2022-05-22T02:00:00",
          "2022-05-23T02:00:00",
          "2022-05-24T02:00:00",
          "2022-05-25T02:00:00",
          "2022-05-26T02:00:00",
          "2022-05-27T02:00:00",
          "2022-05-28T02:00:00",
          "2022-05-29T02:00:00",
          "2022-05-30T02:00:00",
          "2022-05-31T02:00:00",
          "2022-06-01T02:00:00",
          "2022-06-02T02:00:00",
          "2022-06-04T02:00:00",
          "2022-06-05T02:00:00",
          "2022-06-06T02:00:00",
          "2022-06-07T02:00:00",
          "2022-06-08T02:00:00",
          "2022-06-09T02:00:00",
          "2022-06-10T02:00:00",
          "2022-06-11T02:00:00",
          "2022-06-12T02:00:00",
          "2022-06-13T02:00:00",
          "2022-06-14T02:00:00",
          "2022-06-15T02:00:00",
          "2022-06-16T02:00:00",
          "2022-06-17T02:00:00",
          "2022-06-18T02:00:00",
          "2022-06-19T02:00:00",
          "2022-06-20T02:00:00",
          "2022-06-21T02:00:00",
          "2022-06-22T02:00:00",
          "2022-06-23T02:00:00",
          "2022-06-24T02:00:00",
          "2022-06-25T02:00:00",
          "2022-06-26T02:00:00",
          "2022-06-27T02:00:00",
          "2022-06-28T02:00:00",
          "2022-06-29T02:00:00",
          "2022-06-30T02:00:00",
          "2022-07-01T02:00:00",
          "2022-07-02T02:00:00",
          "2022-07-03T02:00:00",
          "2022-07-04T02:00:00",
          "2022-07-05T02:00:00",
          "2022-07-06T02:00:00",
          "2022-07-07T02:00:00",
          "2022-07-08T02:00:00",
          "2022-07-09T02:00:00",
          "2022-07-10T02:00:00",
          "2022-07-11T02:00:00",
          "2022-07-12T02:00:00",
          "2022-07-13T02:00:00",
          "2022-07-14T02:00:00",
          "2022-07-15T02:00:00",
          "2022-07-16T02:00:00",
          "2022-07-17T02:00:00",
          "2022-07-18T02:00:00",
          "2022-07-19T02:00:00",
          "2022-07-20T02:00:00",
          "2022-07-21T02:00:00",
          "2022-07-22T02:00:00",
          "2022-07-23T02:00:00",
          "2022-07-24T02:00:00",
          "2022-07-25T02:00:00",
          "2022-07-26T02:00:00",
          "2022-07-27T02:00:00",
          "2022-07-28T02:00:00",
          "2022-07-29T02:00:00",
          "2022-07-30T02:00:00",
          "2022-07-31T02:00:00",
          "2022-08-01T02:00:00",
          "2022-08-02T02:00:00",
          "2022-08-03T02:00:00",
          "2022-08-04T02:00:00",
          "2022-08-05T02:00:00",
          "2022-08-06T02:00:00",
          "2022-08-07T02:00:00",
          "2022-08-08T02:00:00",
          "2022-08-09T02:00:00",
          "2022-08-10T02:00:00",
          "2022-08-11T02:00:00",
          "2022-08-12T02:00:00",
          "2022-08-13T02:00:00",
          "2022-08-14T02:00:00",
          "2022-08-15T02:00:00",
          "2022-08-16T02:00:00",
          "2022-08-17T02:00:00",
          "2022-08-18T02:00:00",
          "2022-08-19T02:00:00",
          "2022-08-20T02:00:00",
          "2022-08-21T02:00:00",
          "2022-08-22T02:00:00",
          "2022-08-23T02:00:00",
          "2022-08-24T02:00:00",
          "2022-08-25T02:00:00",
          "2022-08-26T02:00:00",
          "2022-08-27T02:00:00",
          "2022-08-28T02:00:00",
          "2022-08-29T02:00:00",
          "2022-08-30T02:00:00",
          "2022-08-31T02:00:00",
          "2022-09-01T02:00:00",
          "2022-09-02T02:00:00",
          "2022-09-03T02:00:00",
          "2022-09-05T02:00:00",
          "2022-09-06T02:00:00",
          "2022-09-09T02:00:00",
          "2022-09-11T02:00:00",
          "2022-09-12T02:00:00",
          "2022-09-15T02:00:00",
          "2022-09-16T02:00:00",
          "2022-09-18T02:00:00",
          "2022-09-20T02:00:00",
          "2022-09-21T02:00:00",
          "2022-09-22T02:00:00",
          "2022-09-23T02:00:00",
          "2022-09-24T02:00:00",
          "2022-09-25T02:00:00",
          "2022-09-26T02:00:00",
          "2022-09-27T02:00:00",
          "2022-09-28T02:00:00",
          "2022-09-29T02:00:00",
          "2022-09-30T02:00:00",
          "2022-10-01T02:00:00",
          "2022-10-02T02:00:00",
          "2022-10-03T02:00:00",
          "2022-10-04T02:00:00",
          "2022-10-05T02:00:00",
          "2022-10-06T02:00:00",
          "2022-10-07T02:00:00",
          "2022-10-08T02:00:00",
          "2022-10-10T02:00:00",
          "2022-10-11T02:00:00",
          "2022-10-12T02:00:00",
          "2022-10-14T02:00:00",
          "2022-10-15T02:00:00",
          "2022-10-16T02:00:00",
          "2022-10-17T02:00:00",
          "2022-10-18T02:00:00",
          "2022-10-19T02:00:00",
          "2022-10-20T02:00:00",
          "2022-10-21T02:00:00",
          "2022-10-22T02:00:00",
          "2022-10-23T02:00:00",
          "2022-10-24T02:00:00",
          "2022-10-25T02:00:00",
          "2022-10-26T02:00:00",
          "2022-10-27T02:00:00",
          "2022-10-28T02:00:00",
          "2022-10-29T02:00:00",
          "2022-10-30T02:00:00",
          "2022-10-31T01:00:00",
          "2022-11-01T01:00:00",
          "2022-11-02T01:00:00",
          "2022-11-03T01:00:00",
          "2022-11-04T01:00:00",
          "2022-11-05T01:00:00",
          "2022-11-06T01:00:00",
          "2022-11-07T01:00:00",
          "2022-11-08T01:00:00",
          "2022-11-09T01:00:00",
          "2022-11-10T01:00:00",
          "2022-11-11T01:00:00",
          "2022-11-12T01:00:00",
          "2022-11-13T01:00:00",
          "2022-11-15T01:00:00",
          "2022-11-16T01:00:00",
          "2022-11-17T01:00:00",
          "2022-11-18T01:00:00",
          "2022-11-19T01:00:00",
          "2022-11-20T01:00:00",
          "2022-11-21T01:00:00",
          "2022-11-22T01:00:00",
          "2022-11-23T01:00:00",
          "2022-11-24T01:00:00",
          "2022-11-25T01:00:00",
          "2022-11-26T01:00:00",
          "2022-11-27T01:00:00",
          "2022-11-28T01:00:00",
          "2022-11-29T01:00:00",
          "2022-11-30T01:00:00",
          "2022-12-01T01:00:00",
          "2022-12-02T01:00:00",
          "2022-12-03T01:00:00",
          "2022-12-04T01:00:00",
          "2022-12-05T01:00:00",
          "2022-12-06T01:00:00",
          "2022-12-07T01:00:00",
          "2022-12-08T01:00:00",
          "2022-12-09T01:00:00",
          "2022-12-10T01:00:00",
          "2022-12-12T01:00:00",
          "2022-12-13T01:00:00",
          "2022-12-14T01:00:00",
          "2022-12-16T01:00:00",
          "2022-12-17T01:00:00",
          "2022-12-18T01:00:00",
          "2022-12-19T01:00:00",
          "2022-12-20T01:00:00",
          "2022-12-21T01:00:00",
          "2022-12-22T01:00:00",
          "2022-12-23T01:00:00",
          "2022-12-24T01:00:00",
          "2022-12-25T01:00:00",
          "2022-12-26T01:00:00",
          "2022-12-27T01:00:00",
          "2022-12-28T01:00:00",
          "2022-12-29T01:00:00",
          "2022-12-30T01:00:00",
          "2022-12-31T01:00:00",
          "2023-01-01T01:00:00",
          "2023-01-02T01:00:00",
          "2023-01-03T01:00:00",
          "2023-01-04T01:00:00",
          "2023-01-05T01:00:00",
          "2023-01-06T01:00:00",
          "2023-01-07T01:00:00",
          "2023-01-08T01:00:00",
          "2023-01-09T01:00:00",
          "2023-01-10T01:00:00",
          "2023-01-11T01:00:00",
          "2023-01-12T01:00:00",
          "2023-01-13T01:00:00",
          "2023-01-14T01:00:00",
          "2023-01-15T01:00:00",
          "2023-01-16T01:00:00",
          "2023-01-17T01:00:00",
          "2023-01-18T01:00:00",
          "2023-01-19T01:00:00",
          "2023-01-20T01:00:00",
          "2023-01-21T01:00:00",
          "2023-01-22T01:00:00",
          "2023-01-23T01:00:00",
          "2023-01-24T01:00:00",
          "2023-01-25T01:00:00",
          "2023-01-26T01:00:00",
          "2023-01-27T01:00:00",
          "2023-01-28T01:00:00",
          "2023-01-29T01:00:00",
          "2023-01-30T01:00:00",
          "2023-01-31T01:00:00",
          "2023-02-01T01:00:00",
          "2023-02-02T01:00:00",
          "2023-02-03T01:00:00",
          "2023-02-04T01:00:00",
          "2023-02-05T01:00:00",
          "2023-02-06T01:00:00",
          "2023-02-07T01:00:00",
          "2023-02-08T01:00:00",
          "2023-02-09T01:00:00",
          "2023-02-10T01:00:00",
          "2023-02-11T01:00:00",
          "2023-02-12T01:00:00",
          "2023-02-13T01:00:00",
          "2023-02-14T01:00:00",
          "2023-02-15T01:00:00",
          "2023-02-17T01:00:00",
          "2023-02-20T01:00:00",
          "2023-02-21T01:00:00",
          "2023-02-22T01:00:00",
          "2023-02-23T01:00:00",
          "2023-02-24T01:00:00",
          "2023-02-25T01:00:00",
          "2023-02-27T01:00:00",
          "2023-03-01T01:00:00",
          "2023-03-02T01:00:00",
          "2023-03-03T01:00:00",
          "2023-03-05T01:00:00",
          "2023-03-07T01:00:00",
          "2023-03-09T01:00:00",
          "2023-03-10T01:00:00",
          "2023-03-11T01:00:00",
          "2023-03-12T01:00:00",
          "2023-03-15T01:00:00",
          "2023-03-16T01:00:00",
          "2023-03-17T01:00:00",
          "2023-03-18T01:00:00",
          "2023-03-19T01:00:00",
          "2023-03-21T01:00:00",
          "2023-03-22T01:00:00",
          "2023-03-23T01:00:00",
          "2023-03-24T01:00:00",
          "2023-03-26T01:00:00",
          "2023-03-27T02:00:00",
          "2023-03-29T02:00:00",
          "2023-03-30T02:00:00",
          "2023-03-31T02:00:00",
          "2023-04-02T02:00:00",
          "2023-04-03T02:00:00",
          "2023-04-04T02:00:00",
          "2023-04-05T02:00:00",
          "2023-04-06T02:00:00",
          "2023-04-07T02:00:00",
          "2023-04-08T02:00:00",
          "2023-04-10T02:00:00",
          "2023-04-11T02:00:00",
          "2023-04-12T02:00:00",
          "2023-04-13T02:00:00",
          "2023-04-14T02:00:00",
          "2023-04-16T02:00:00",
          "2023-04-17T02:00:00",
          "2023-04-19T02:00:00",
          "2023-04-20T02:00:00",
          "2023-04-21T02:00:00",
          "2023-04-23T02:00:00",
          "2023-04-24T02:00:00",
          "2023-04-25T02:00:00"
         ],
         "y": [
          72,
          214,
          10,
          20,
          10,
          172,
          10,
          10,
          1,
          212,
          null,
          null,
          52,
          62,
          312,
          null,
          30,
          272,
          50,
          52,
          1,
          430,
          20,
          100,
          70,
          null,
          72,
          21,
          20,
          20,
          172,
          102,
          null,
          72,
          222,
          72,
          50,
          20,
          122,
          null,
          1,
          70,
          20,
          152,
          null,
          122,
          122,
          132,
          50,
          1,
          122,
          null,
          null,
          null,
          152,
          270,
          20,
          102,
          null,
          72,
          152,
          122,
          122,
          null,
          null,
          102,
          30,
          122,
          422,
          202,
          null,
          30,
          82,
          122,
          62,
          102,
          100,
          102,
          20,
          62,
          72,
          102,
          182,
          null,
          30,
          290,
          null,
          30,
          130,
          252,
          102,
          null,
          50,
          40,
          50,
          192,
          144,
          222,
          null,
          20,
          20,
          204,
          null,
          31,
          222,
          20,
          null,
          20,
          20,
          20,
          102,
          102,
          20,
          20,
          322,
          null,
          102,
          142,
          100,
          102,
          100,
          42,
          62,
          62,
          134,
          null,
          42,
          null,
          30,
          30,
          20,
          254,
          102,
          null,
          null,
          52,
          52,
          90,
          102,
          154,
          null,
          70,
          null,
          50,
          null,
          152,
          52,
          250,
          72,
          20,
          52,
          184,
          30,
          30,
          70,
          null,
          null,
          92,
          null,
          60,
          100,
          null,
          52,
          100,
          20,
          null,
          224,
          null,
          null,
          null,
          72,
          72,
          50,
          184,
          122,
          62,
          40,
          302,
          null,
          92,
          122,
          70,
          52,
          20,
          62,
          42,
          102,
          62,
          22,
          152,
          null,
          264,
          10,
          10,
          20,
          102,
          50,
          null,
          162,
          184,
          10,
          100,
          null,
          52,
          112,
          62,
          52,
          null,
          40,
          null,
          null,
          42,
          20,
          null,
          20,
          20,
          40,
          null,
          10,
          52,
          20,
          122,
          102,
          254,
          152,
          null,
          null,
          100,
          220,
          202,
          102,
          302,
          null,
          302,
          50,
          20,
          264,
          10,
          50,
          10,
          82,
          252,
          354,
          132,
          null,
          20,
          52,
          null,
          120,
          112,
          172,
          null,
          234,
          10,
          null,
          224,
          20,
          20,
          null,
          20,
          62,
          30,
          264,
          260,
          122,
          20,
          null,
          20,
          60,
          364,
          null,
          null,
          null,
          152,
          null,
          null,
          306,
          152,
          null,
          null,
          null,
          102,
          60,
          162,
          102,
          null,
          10,
          170,
          null,
          102,
          104,
          null,
          20,
          52,
          70,
          20,
          112,
          null,
          null,
          10,
          10,
          10,
          52,
          234,
          10,
          null,
          10,
          62,
          50,
          110,
          null,
          102,
          null,
          150,
          52,
          100,
          10,
          52,
          260,
          10,
          52,
          52,
          52,
          112,
          92,
          10,
          null,
          20,
          null,
          10,
          110,
          null,
          122,
          10,
          20,
          134,
          11,
          122,
          50,
          null,
          72,
          50,
          70,
          122,
          10,
          10,
          260,
          70,
          null,
          30,
          82,
          10,
          72,
          40,
          20,
          100,
          30,
          null,
          10,
          94,
          60,
          10,
          82,
          164,
          20,
          72,
          40,
          50,
          52,
          52,
          null,
          62,
          30,
          50,
          10,
          20,
          90,
          11,
          10,
          300,
          50,
          62,
          102,
          150,
          62,
          50,
          10,
          220,
          10,
          null,
          10,
          20,
          10,
          60,
          100,
          10,
          110,
          20,
          224,
          null,
          82,
          100,
          10,
          132,
          null,
          112,
          260,
          10,
          62,
          null,
          112,
          264,
          null,
          20,
          62,
          52,
          60,
          10,
          10,
          20,
          null,
          120,
          null,
          72,
          52,
          122,
          10,
          72,
          20,
          60,
          null,
          112,
          10,
          62,
          62,
          10,
          322,
          102,
          null,
          102,
          null,
          50,
          52,
          72,
          20,
          70,
          21,
          62,
          20,
          50,
          114,
          10,
          11,
          102,
          10,
          112,
          null,
          10,
          53,
          10,
          52,
          10,
          62,
          52,
          10,
          52,
          161,
          210,
          52,
          null,
          62,
          62,
          70,
          10,
          102,
          62,
          62,
          102,
          124,
          null,
          100,
          52,
          152,
          50,
          62,
          42,
          40,
          372,
          62,
          10,
          70,
          10,
          60,
          62,
          112,
          20,
          310,
          72,
          72,
          82,
          10,
          204,
          202,
          50,
          10,
          50,
          102,
          62,
          10,
          10,
          62,
          10,
          50,
          102,
          20,
          10,
          null,
          10,
          112,
          10,
          261,
          10,
          52,
          122,
          10,
          10,
          null,
          154,
          224,
          null,
          10,
          112,
          10,
          132,
          113,
          102,
          null,
          52,
          20,
          52,
          21,
          102,
          10,
          10,
          62,
          60,
          260,
          112,
          62,
          10,
          62,
          null,
          102,
          null,
          11,
          20,
          62,
          112,
          10,
          92,
          10,
          10,
          10,
          53,
          102,
          70,
          null,
          102,
          102,
          10,
          132,
          50,
          50,
          null,
          null,
          52,
          260,
          20,
          122,
          10,
          63,
          204,
          10,
          10,
          50,
          null,
          204,
          1,
          52,
          null,
          20,
          102,
          20,
          null,
          193,
          20,
          null,
          null,
          122,
          354,
          null,
          150,
          null,
          null,
          10,
          null,
          110,
          null,
          113,
          20,
          250,
          10,
          null,
          102,
          null,
          31,
          102,
          10,
          62,
          110,
          10,
          110,
          10,
          10,
          100,
          null,
          null,
          102,
          102,
          null,
          null,
          100,
          null,
          1,
          102,
          100,
          null,
          null,
          102,
          102,
          102,
          null,
          1,
          102,
          null,
          100,
          null,
          152,
          52,
          52,
          52,
          null,
          52,
          1,
          null,
          100,
          null,
          52,
          1,
          null,
          52,
          100,
          null,
          null,
          null,
          204,
          52,
          null,
          52,
          null,
          1,
          null,
          100,
          null,
          null,
          1,
          52,
          52,
          100
         ]
        }
       ],
       "layout": {
        "showlegend": true,
        "template": {
         "data": {
          "bar": [
           {
            "error_x": {
             "color": "#2a3f5f"
            },
            "error_y": {
             "color": "#2a3f5f"
            },
            "marker": {
             "line": {
              "color": "white",
              "width": 0.5
             },
             "pattern": {
              "fillmode": "overlay",
              "size": 10,
              "solidity": 0.2
             }
            },
            "type": "bar"
           }
          ],
          "barpolar": [
           {
            "marker": {
             "line": {
              "color": "white",
              "width": 0.5
             },
             "pattern": {
              "fillmode": "overlay",
              "size": 10,
              "solidity": 0.2
             }
            },
            "type": "barpolar"
           }
          ],
          "carpet": [
           {
            "aaxis": {
             "endlinecolor": "#2a3f5f",
             "gridcolor": "#C8D4E3",
             "linecolor": "#C8D4E3",
             "minorgridcolor": "#C8D4E3",
             "startlinecolor": "#2a3f5f"
            },
            "baxis": {
             "endlinecolor": "#2a3f5f",
             "gridcolor": "#C8D4E3",
             "linecolor": "#C8D4E3",
             "minorgridcolor": "#C8D4E3",
             "startlinecolor": "#2a3f5f"
            },
            "type": "carpet"
           }
          ],
          "choropleth": [
           {
            "colorbar": {
             "outlinewidth": 0,
             "ticks": ""
            },
            "type": "choropleth"
           }
          ],
          "contour": [
           {
            "colorbar": {
             "outlinewidth": 0,
             "ticks": ""
            },
            "colorscale": [
             [
              0,
              "#0d0887"
             ],
             [
              0.1111111111111111,
              "#46039f"
             ],
             [
              0.2222222222222222,
              "#7201a8"
             ],
             [
              0.3333333333333333,
              "#9c179e"
             ],
             [
              0.4444444444444444,
              "#bd3786"
             ],
             [
              0.5555555555555556,
              "#d8576b"
             ],
             [
              0.6666666666666666,
              "#ed7953"
             ],
             [
              0.7777777777777778,
              "#fb9f3a"
             ],
             [
              0.8888888888888888,
              "#fdca26"
             ],
             [
              1,
              "#f0f921"
             ]
            ],
            "type": "contour"
           }
          ],
          "contourcarpet": [
           {
            "colorbar": {
             "outlinewidth": 0,
             "ticks": ""
            },
            "type": "contourcarpet"
           }
          ],
          "heatmap": [
           {
            "colorbar": {
             "outlinewidth": 0,
             "ticks": ""
            },
            "colorscale": [
             [
              0,
              "#0d0887"
             ],
             [
              0.1111111111111111,
              "#46039f"
             ],
             [
              0.2222222222222222,
              "#7201a8"
             ],
             [
              0.3333333333333333,
              "#9c179e"
             ],
             [
              0.4444444444444444,
              "#bd3786"
             ],
             [
              0.5555555555555556,
              "#d8576b"
             ],
             [
              0.6666666666666666,
              "#ed7953"
             ],
             [
              0.7777777777777778,
              "#fb9f3a"
             ],
             [
              0.8888888888888888,
              "#fdca26"
             ],
             [
              1,
              "#f0f921"
             ]
            ],
            "type": "heatmap"
           }
          ],
          "heatmapgl": [
           {
            "colorbar": {
             "outlinewidth": 0,
             "ticks": ""
            },
            "colorscale": [
             [
              0,
              "#0d0887"
             ],
             [
              0.1111111111111111,
              "#46039f"
             ],
             [
              0.2222222222222222,
              "#7201a8"
             ],
             [
              0.3333333333333333,
              "#9c179e"
             ],
             [
              0.4444444444444444,
              "#bd3786"
             ],
             [
              0.5555555555555556,
              "#d8576b"
             ],
             [
              0.6666666666666666,
              "#ed7953"
             ],
             [
              0.7777777777777778,
              "#fb9f3a"
             ],
             [
              0.8888888888888888,
              "#fdca26"
             ],
             [
              1,
              "#f0f921"
             ]
            ],
            "type": "heatmapgl"
           }
          ],
          "histogram": [
           {
            "marker": {
             "pattern": {
              "fillmode": "overlay",
              "size": 10,
              "solidity": 0.2
             }
            },
            "type": "histogram"
           }
          ],
          "histogram2d": [
           {
            "colorbar": {
             "outlinewidth": 0,
             "ticks": ""
            },
            "colorscale": [
             [
              0,
              "#0d0887"
             ],
             [
              0.1111111111111111,
              "#46039f"
             ],
             [
              0.2222222222222222,
              "#7201a8"
             ],
             [
              0.3333333333333333,
              "#9c179e"
             ],
             [
              0.4444444444444444,
              "#bd3786"
             ],
             [
              0.5555555555555556,
              "#d8576b"
             ],
             [
              0.6666666666666666,
              "#ed7953"
             ],
             [
              0.7777777777777778,
              "#fb9f3a"
             ],
             [
              0.8888888888888888,
              "#fdca26"
             ],
             [
              1,
              "#f0f921"
             ]
            ],
            "type": "histogram2d"
           }
          ],
          "histogram2dcontour": [
           {
            "colorbar": {
             "outlinewidth": 0,
             "ticks": ""
            },
            "colorscale": [
             [
              0,
              "#0d0887"
             ],
             [
              0.1111111111111111,
              "#46039f"
             ],
             [
              0.2222222222222222,
              "#7201a8"
             ],
             [
              0.3333333333333333,
              "#9c179e"
             ],
             [
              0.4444444444444444,
              "#bd3786"
             ],
             [
              0.5555555555555556,
              "#d8576b"
             ],
             [
              0.6666666666666666,
              "#ed7953"
             ],
             [
              0.7777777777777778,
              "#fb9f3a"
             ],
             [
              0.8888888888888888,
              "#fdca26"
             ],
             [
              1,
              "#f0f921"
             ]
            ],
            "type": "histogram2dcontour"
           }
          ],
          "mesh3d": [
           {
            "colorbar": {
             "outlinewidth": 0,
             "ticks": ""
            },
            "type": "mesh3d"
           }
          ],
          "parcoords": [
           {
            "line": {
             "colorbar": {
              "outlinewidth": 0,
              "ticks": ""
             }
            },
            "type": "parcoords"
           }
          ],
          "pie": [
           {
            "automargin": true,
            "type": "pie"
           }
          ],
          "scatter": [
           {
            "fillpattern": {
             "fillmode": "overlay",
             "size": 10,
             "solidity": 0.2
            },
            "type": "scatter"
           }
          ],
          "scatter3d": [
           {
            "line": {
             "colorbar": {
              "outlinewidth": 0,
              "ticks": ""
             }
            },
            "marker": {
             "colorbar": {
              "outlinewidth": 0,
              "ticks": ""
             }
            },
            "type": "scatter3d"
           }
          ],
          "scattercarpet": [
           {
            "marker": {
             "colorbar": {
              "outlinewidth": 0,
              "ticks": ""
             }
            },
            "type": "scattercarpet"
           }
          ],
          "scattergeo": [
           {
            "marker": {
             "colorbar": {
              "outlinewidth": 0,
              "ticks": ""
             }
            },
            "type": "scattergeo"
           }
          ],
          "scattergl": [
           {
            "marker": {
             "colorbar": {
              "outlinewidth": 0,
              "ticks": ""
             }
            },
            "type": "scattergl"
           }
          ],
          "scattermapbox": [
           {
            "marker": {
             "colorbar": {
              "outlinewidth": 0,
              "ticks": ""
             }
            },
            "type": "scattermapbox"
           }
          ],
          "scatterpolar": [
           {
            "marker": {
             "colorbar": {
              "outlinewidth": 0,
              "ticks": ""
             }
            },
            "type": "scatterpolar"
           }
          ],
          "scatterpolargl": [
           {
            "marker": {
             "colorbar": {
              "outlinewidth": 0,
              "ticks": ""
             }
            },
            "type": "scatterpolargl"
           }
          ],
          "scatterternary": [
           {
            "marker": {
             "colorbar": {
              "outlinewidth": 0,
              "ticks": ""
             }
            },
            "type": "scatterternary"
           }
          ],
          "surface": [
           {
            "colorbar": {
             "outlinewidth": 0,
             "ticks": ""
            },
            "colorscale": [
             [
              0,
              "#0d0887"
             ],
             [
              0.1111111111111111,
              "#46039f"
             ],
             [
              0.2222222222222222,
              "#7201a8"
             ],
             [
              0.3333333333333333,
              "#9c179e"
             ],
             [
              0.4444444444444444,
              "#bd3786"
             ],
             [
              0.5555555555555556,
              "#d8576b"
             ],
             [
              0.6666666666666666,
              "#ed7953"
             ],
             [
              0.7777777777777778,
              "#fb9f3a"
             ],
             [
              0.8888888888888888,
              "#fdca26"
             ],
             [
              1,
              "#f0f921"
             ]
            ],
            "type": "surface"
           }
          ],
          "table": [
           {
            "cells": {
             "fill": {
              "color": "#EBF0F8"
             },
             "line": {
              "color": "white"
             }
            },
            "header": {
             "fill": {
              "color": "#C8D4E3"
             },
             "line": {
              "color": "white"
             }
            },
            "type": "table"
           }
          ]
         },
         "layout": {
          "annotationdefaults": {
           "arrowcolor": "#2a3f5f",
           "arrowhead": 0,
           "arrowwidth": 1
          },
          "autotypenumbers": "strict",
          "coloraxis": {
           "colorbar": {
            "outlinewidth": 0,
            "ticks": ""
           }
          },
          "colorscale": {
           "diverging": [
            [
             0,
             "#8e0152"
            ],
            [
             0.1,
             "#c51b7d"
            ],
            [
             0.2,
             "#de77ae"
            ],
            [
             0.3,
             "#f1b6da"
            ],
            [
             0.4,
             "#fde0ef"
            ],
            [
             0.5,
             "#f7f7f7"
            ],
            [
             0.6,
             "#e6f5d0"
            ],
            [
             0.7,
             "#b8e186"
            ],
            [
             0.8,
             "#7fbc41"
            ],
            [
             0.9,
             "#4d9221"
            ],
            [
             1,
             "#276419"
            ]
           ],
           "sequential": [
            [
             0,
             "#0d0887"
            ],
            [
             0.1111111111111111,
             "#46039f"
            ],
            [
             0.2222222222222222,
             "#7201a8"
            ],
            [
             0.3333333333333333,
             "#9c179e"
            ],
            [
             0.4444444444444444,
             "#bd3786"
            ],
            [
             0.5555555555555556,
             "#d8576b"
            ],
            [
             0.6666666666666666,
             "#ed7953"
            ],
            [
             0.7777777777777778,
             "#fb9f3a"
            ],
            [
             0.8888888888888888,
             "#fdca26"
            ],
            [
             1,
             "#f0f921"
            ]
           ],
           "sequentialminus": [
            [
             0,
             "#0d0887"
            ],
            [
             0.1111111111111111,
             "#46039f"
            ],
            [
             0.2222222222222222,
             "#7201a8"
            ],
            [
             0.3333333333333333,
             "#9c179e"
            ],
            [
             0.4444444444444444,
             "#bd3786"
            ],
            [
             0.5555555555555556,
             "#d8576b"
            ],
            [
             0.6666666666666666,
             "#ed7953"
            ],
            [
             0.7777777777777778,
             "#fb9f3a"
            ],
            [
             0.8888888888888888,
             "#fdca26"
            ],
            [
             1,
             "#f0f921"
            ]
           ]
          },
          "colorway": [
           "#636efa",
           "#EF553B",
           "#00cc96",
           "#ab63fa",
           "#FFA15A",
           "#19d3f3",
           "#FF6692",
           "#B6E880",
           "#FF97FF",
           "#FECB52"
          ],
          "font": {
           "color": "#2a3f5f"
          },
          "geo": {
           "bgcolor": "white",
           "lakecolor": "white",
           "landcolor": "white",
           "showlakes": true,
           "showland": true,
           "subunitcolor": "#C8D4E3"
          },
          "hoverlabel": {
           "align": "left"
          },
          "hovermode": "closest",
          "mapbox": {
           "style": "light"
          },
          "paper_bgcolor": "white",
          "plot_bgcolor": "white",
          "polar": {
           "angularaxis": {
            "gridcolor": "#EBF0F8",
            "linecolor": "#EBF0F8",
            "ticks": ""
           },
           "bgcolor": "white",
           "radialaxis": {
            "gridcolor": "#EBF0F8",
            "linecolor": "#EBF0F8",
            "ticks": ""
           }
          },
          "scene": {
           "xaxis": {
            "backgroundcolor": "white",
            "gridcolor": "#DFE8F3",
            "gridwidth": 2,
            "linecolor": "#EBF0F8",
            "showbackground": true,
            "ticks": "",
            "zerolinecolor": "#EBF0F8"
           },
           "yaxis": {
            "backgroundcolor": "white",
            "gridcolor": "#DFE8F3",
            "gridwidth": 2,
            "linecolor": "#EBF0F8",
            "showbackground": true,
            "ticks": "",
            "zerolinecolor": "#EBF0F8"
           },
           "zaxis": {
            "backgroundcolor": "white",
            "gridcolor": "#DFE8F3",
            "gridwidth": 2,
            "linecolor": "#EBF0F8",
            "showbackground": true,
            "ticks": "",
            "zerolinecolor": "#EBF0F8"
           }
          },
          "shapedefaults": {
           "line": {
            "color": "#2a3f5f"
           }
          },
          "ternary": {
           "aaxis": {
            "gridcolor": "#DFE8F3",
            "linecolor": "#A2B1C6",
            "ticks": ""
           },
           "baxis": {
            "gridcolor": "#DFE8F3",
            "linecolor": "#A2B1C6",
            "ticks": ""
           },
           "bgcolor": "white",
           "caxis": {
            "gridcolor": "#DFE8F3",
            "linecolor": "#A2B1C6",
            "ticks": ""
           }
          },
          "title": {
           "x": 0.05
          },
          "xaxis": {
           "automargin": true,
           "gridcolor": "#EBF0F8",
           "linecolor": "#EBF0F8",
           "ticks": "",
           "title": {
            "standoff": 15
           },
           "zerolinecolor": "#EBF0F8",
           "zerolinewidth": 2
          },
          "yaxis": {
           "automargin": true,
           "gridcolor": "#EBF0F8",
           "linecolor": "#EBF0F8",
           "ticks": "",
           "title": {
            "standoff": 15
           },
           "zerolinecolor": "#EBF0F8",
           "zerolinewidth": 2
          }
         }
        },
        "title": {
         "text": "Time Series"
        },
        "xaxis": {
         "title": {
          "text": "Date"
         }
        },
        "yaxis": {
         "title": {
          "text": "Soldi Prelevati"
         }
        }
       }
      }
     },
     "metadata": {},
     "output_type": "display_data"
    }
   ],
   "source": [
    "## PLOT PRE FILLED\n",
    "x_values = get_values(prelievi_aggregated_df, \"bucket_start\")\n",
    "y_values = get_values(prelievi_aggregated_df, \"prelievo_contante\")\n",
    "plot(x_values, y_values, x_name='Date', y_name='Soldi Prelevati', title='Time Series')"
   ]
  },
  {
   "cell_type": "code",
   "execution_count": 27,
   "metadata": {
    "slideshow": {
     "slide_type": "slide"
    }
   },
   "outputs": [
    {
     "name": "stderr",
     "output_type": "stream",
     "text": [
      "                                                                                \r"
     ]
    },
    {
     "data": {
      "application/vnd.plotly.v1+json": {
       "config": {
        "linkText": "Export to plot.ly",
        "plotlyServerURL": "https://plot.ly",
        "showLink": false
       },
       "data": [
        {
         "mode": "lines",
         "name": "Time Series",
         "type": "scatter",
         "x": [
          "2021-04-28T00:00:00",
          "2021-04-29T00:00:00",
          "2021-04-30T00:00:00",
          "2021-05-01T00:00:00",
          "2021-05-02T00:00:00",
          "2021-05-03T00:00:00",
          "2021-05-04T00:00:00",
          "2021-05-05T00:00:00",
          "2021-05-06T00:00:00",
          "2021-05-07T00:00:00",
          "2021-05-08T00:00:00",
          "2021-05-09T00:00:00",
          "2021-05-10T00:00:00",
          "2021-05-11T00:00:00",
          "2021-05-12T00:00:00",
          "2021-05-13T00:00:00",
          "2021-05-14T00:00:00",
          "2021-05-15T00:00:00",
          "2021-05-16T00:00:00",
          "2021-05-17T00:00:00",
          "2021-05-18T00:00:00",
          "2021-05-19T00:00:00",
          "2021-05-20T00:00:00",
          "2021-05-21T00:00:00",
          "2021-05-22T00:00:00",
          "2021-05-23T00:00:00",
          "2021-05-24T00:00:00",
          "2021-05-25T00:00:00",
          "2021-05-26T00:00:00",
          "2021-05-27T00:00:00",
          "2021-05-28T00:00:00",
          "2021-05-29T00:00:00",
          "2021-05-30T00:00:00",
          "2021-05-31T00:00:00",
          "2021-06-01T00:00:00",
          "2021-06-02T00:00:00",
          "2021-06-03T00:00:00",
          "2021-06-04T00:00:00",
          "2021-06-05T00:00:00",
          "2021-06-06T00:00:00",
          "2021-06-07T00:00:00",
          "2021-06-08T00:00:00",
          "2021-06-09T00:00:00",
          "2021-06-10T00:00:00",
          "2021-06-11T00:00:00",
          "2021-06-12T00:00:00",
          "2021-06-13T00:00:00",
          "2021-06-14T00:00:00",
          "2021-06-15T00:00:00",
          "2021-06-16T00:00:00",
          "2021-06-17T00:00:00",
          "2021-06-18T00:00:00",
          "2021-06-19T00:00:00",
          "2021-06-20T00:00:00",
          "2021-06-21T00:00:00",
          "2021-06-22T00:00:00",
          "2021-06-23T00:00:00",
          "2021-06-24T00:00:00",
          "2021-06-25T00:00:00",
          "2021-06-26T00:00:00",
          "2021-06-27T00:00:00",
          "2021-06-28T00:00:00",
          "2021-06-29T00:00:00",
          "2021-06-30T00:00:00",
          "2021-07-01T00:00:00",
          "2021-07-02T00:00:00",
          "2021-07-03T00:00:00",
          "2021-07-04T00:00:00",
          "2021-07-05T00:00:00",
          "2021-07-06T00:00:00",
          "2021-07-07T00:00:00",
          "2021-07-08T00:00:00",
          "2021-07-09T00:00:00",
          "2021-07-10T00:00:00",
          "2021-07-11T00:00:00",
          "2021-07-12T00:00:00",
          "2021-07-13T00:00:00",
          "2021-07-14T00:00:00",
          "2021-07-15T00:00:00",
          "2021-07-16T00:00:00",
          "2021-07-17T00:00:00",
          "2021-07-18T00:00:00",
          "2021-07-19T00:00:00",
          "2021-07-20T00:00:00",
          "2021-07-21T00:00:00",
          "2021-07-22T00:00:00",
          "2021-07-23T00:00:00",
          "2021-07-24T00:00:00",
          "2021-07-25T00:00:00",
          "2021-07-26T00:00:00",
          "2021-07-27T00:00:00",
          "2021-07-28T00:00:00",
          "2021-07-29T00:00:00",
          "2021-07-30T00:00:00",
          "2021-07-31T00:00:00",
          "2021-08-01T00:00:00",
          "2021-08-02T00:00:00",
          "2021-08-03T00:00:00",
          "2021-08-04T00:00:00",
          "2021-08-05T00:00:00",
          "2021-08-06T00:00:00",
          "2021-08-07T00:00:00",
          "2021-08-08T00:00:00",
          "2021-08-09T00:00:00",
          "2021-08-10T00:00:00",
          "2021-08-11T00:00:00",
          "2021-08-12T00:00:00",
          "2021-08-13T00:00:00",
          "2021-08-14T00:00:00",
          "2021-08-15T00:00:00",
          "2021-08-16T00:00:00",
          "2021-08-17T00:00:00",
          "2021-08-18T00:00:00",
          "2021-08-19T00:00:00",
          "2021-08-20T00:00:00",
          "2021-08-21T00:00:00",
          "2021-08-22T00:00:00",
          "2021-08-23T00:00:00",
          "2021-08-24T00:00:00",
          "2021-08-25T00:00:00",
          "2021-08-26T00:00:00",
          "2021-08-27T00:00:00",
          "2021-08-28T00:00:00",
          "2021-08-29T00:00:00",
          "2021-08-30T00:00:00",
          "2021-08-31T00:00:00",
          "2021-09-01T00:00:00",
          "2021-09-02T00:00:00",
          "2021-09-03T00:00:00",
          "2021-09-04T00:00:00",
          "2021-09-05T00:00:00",
          "2021-09-06T00:00:00",
          "2021-09-07T00:00:00",
          "2021-09-08T00:00:00",
          "2021-09-09T00:00:00",
          "2021-09-10T00:00:00",
          "2021-09-11T00:00:00",
          "2021-09-12T00:00:00",
          "2021-09-13T00:00:00",
          "2021-09-14T00:00:00",
          "2021-09-15T00:00:00",
          "2021-09-16T00:00:00",
          "2021-09-17T00:00:00",
          "2021-09-18T00:00:00",
          "2021-09-19T00:00:00",
          "2021-09-20T00:00:00",
          "2021-09-21T00:00:00",
          "2021-09-22T00:00:00",
          "2021-09-23T00:00:00",
          "2021-09-24T00:00:00",
          "2021-09-25T00:00:00",
          "2021-09-26T00:00:00",
          "2021-09-27T00:00:00",
          "2021-09-28T00:00:00",
          "2021-09-29T00:00:00",
          "2021-09-30T00:00:00",
          "2021-10-01T00:00:00",
          "2021-10-02T00:00:00",
          "2021-10-03T00:00:00",
          "2021-10-04T00:00:00",
          "2021-10-05T00:00:00",
          "2021-10-06T00:00:00",
          "2021-10-07T00:00:00",
          "2021-10-08T00:00:00",
          "2021-10-09T00:00:00",
          "2021-10-10T00:00:00",
          "2021-10-11T00:00:00",
          "2021-10-12T00:00:00",
          "2021-10-13T00:00:00",
          "2021-10-14T00:00:00",
          "2021-10-15T00:00:00",
          "2021-10-16T00:00:00",
          "2021-10-17T00:00:00",
          "2021-10-18T00:00:00",
          "2021-10-19T00:00:00",
          "2021-10-20T00:00:00",
          "2021-10-21T00:00:00",
          "2021-10-22T00:00:00",
          "2021-10-23T00:00:00",
          "2021-10-24T00:00:00",
          "2021-10-25T00:00:00",
          "2021-10-26T00:00:00",
          "2021-10-27T00:00:00",
          "2021-10-28T00:00:00",
          "2021-10-29T00:00:00",
          "2021-10-30T00:00:00",
          "2021-10-31T00:00:00",
          "2021-11-01T00:00:00",
          "2021-11-02T00:00:00",
          "2021-11-03T00:00:00",
          "2021-11-04T00:00:00",
          "2021-11-05T00:00:00",
          "2021-11-06T00:00:00",
          "2021-11-07T00:00:00",
          "2021-11-08T00:00:00",
          "2021-11-09T00:00:00",
          "2021-11-10T00:00:00",
          "2021-11-11T00:00:00",
          "2021-11-12T00:00:00",
          "2021-11-13T00:00:00",
          "2021-11-14T00:00:00",
          "2021-11-15T00:00:00",
          "2021-11-16T00:00:00",
          "2021-11-17T00:00:00",
          "2021-11-18T00:00:00",
          "2021-11-19T00:00:00",
          "2021-11-20T00:00:00",
          "2021-11-21T00:00:00",
          "2021-11-22T00:00:00",
          "2021-11-23T00:00:00",
          "2021-11-24T00:00:00",
          "2021-11-25T00:00:00",
          "2021-11-26T00:00:00",
          "2021-11-27T00:00:00",
          "2021-11-28T00:00:00",
          "2021-11-29T00:00:00",
          "2021-11-30T00:00:00",
          "2021-12-01T00:00:00",
          "2021-12-02T00:00:00",
          "2021-12-03T00:00:00",
          "2021-12-04T00:00:00",
          "2021-12-05T00:00:00",
          "2021-12-06T00:00:00",
          "2021-12-07T00:00:00",
          "2021-12-08T00:00:00",
          "2021-12-09T00:00:00",
          "2021-12-10T00:00:00",
          "2021-12-11T00:00:00",
          "2021-12-12T00:00:00",
          "2021-12-13T00:00:00",
          "2021-12-14T00:00:00",
          "2021-12-15T00:00:00",
          "2021-12-16T00:00:00",
          "2021-12-17T00:00:00",
          "2021-12-18T00:00:00",
          "2021-12-19T00:00:00",
          "2021-12-20T00:00:00",
          "2021-12-21T00:00:00",
          "2021-12-22T00:00:00",
          "2021-12-23T00:00:00",
          "2021-12-24T00:00:00",
          "2021-12-25T00:00:00",
          "2021-12-26T00:00:00",
          "2021-12-27T00:00:00",
          "2021-12-28T00:00:00",
          "2021-12-29T00:00:00",
          "2021-12-30T00:00:00",
          "2021-12-31T00:00:00",
          "2022-01-01T00:00:00",
          "2022-01-02T00:00:00",
          "2022-01-03T00:00:00",
          "2022-01-04T00:00:00",
          "2022-01-05T00:00:00",
          "2022-01-06T00:00:00",
          "2022-01-07T00:00:00",
          "2022-01-08T00:00:00",
          "2022-01-09T00:00:00",
          "2022-01-10T00:00:00",
          "2022-01-11T00:00:00",
          "2022-01-12T00:00:00",
          "2022-01-13T00:00:00",
          "2022-01-14T00:00:00",
          "2022-01-15T00:00:00",
          "2022-01-16T00:00:00",
          "2022-01-17T00:00:00",
          "2022-01-18T00:00:00",
          "2022-01-19T00:00:00",
          "2022-01-20T00:00:00",
          "2022-01-21T00:00:00",
          "2022-01-22T00:00:00",
          "2022-01-23T00:00:00",
          "2022-01-24T00:00:00",
          "2022-01-25T00:00:00",
          "2022-01-26T00:00:00",
          "2022-01-27T00:00:00",
          "2022-01-28T00:00:00",
          "2022-01-29T00:00:00",
          "2022-01-30T00:00:00",
          "2022-01-31T00:00:00",
          "2022-02-01T00:00:00",
          "2022-02-02T00:00:00",
          "2022-02-03T00:00:00",
          "2022-02-04T00:00:00",
          "2022-02-05T00:00:00",
          "2022-02-06T00:00:00",
          "2022-02-07T00:00:00",
          "2022-02-08T00:00:00",
          "2022-02-09T00:00:00",
          "2022-02-10T00:00:00",
          "2022-02-11T00:00:00",
          "2022-02-12T00:00:00",
          "2022-02-13T00:00:00",
          "2022-02-14T00:00:00",
          "2022-02-15T00:00:00",
          "2022-02-16T00:00:00",
          "2022-02-17T00:00:00",
          "2022-02-18T00:00:00",
          "2022-02-19T00:00:00",
          "2022-02-20T00:00:00",
          "2022-02-21T00:00:00",
          "2022-02-22T00:00:00",
          "2022-02-23T00:00:00",
          "2022-02-24T00:00:00",
          "2022-02-25T00:00:00",
          "2022-02-26T00:00:00",
          "2022-02-27T00:00:00",
          "2022-02-28T00:00:00",
          "2022-03-01T00:00:00",
          "2022-03-02T00:00:00",
          "2022-03-03T00:00:00",
          "2022-03-04T00:00:00",
          "2022-03-05T00:00:00",
          "2022-03-06T00:00:00",
          "2022-03-07T00:00:00",
          "2022-03-08T00:00:00",
          "2022-03-09T00:00:00",
          "2022-03-10T00:00:00",
          "2022-03-11T00:00:00",
          "2022-03-12T00:00:00",
          "2022-03-13T00:00:00",
          "2022-03-14T00:00:00",
          "2022-03-15T00:00:00",
          "2022-03-16T00:00:00",
          "2022-03-17T00:00:00",
          "2022-03-18T00:00:00",
          "2022-03-19T00:00:00",
          "2022-03-20T00:00:00",
          "2022-03-21T00:00:00",
          "2022-03-22T00:00:00",
          "2022-03-23T00:00:00",
          "2022-03-24T00:00:00",
          "2022-03-25T00:00:00",
          "2022-03-26T00:00:00",
          "2022-03-27T00:00:00",
          "2022-03-28T00:00:00",
          "2022-03-29T00:00:00",
          "2022-03-30T00:00:00",
          "2022-03-31T00:00:00",
          "2022-04-01T00:00:00",
          "2022-04-02T00:00:00",
          "2022-04-03T00:00:00",
          "2022-04-04T00:00:00",
          "2022-04-05T00:00:00",
          "2022-04-06T00:00:00",
          "2022-04-07T00:00:00",
          "2022-04-08T00:00:00",
          "2022-04-09T00:00:00",
          "2022-04-10T00:00:00",
          "2022-04-11T00:00:00",
          "2022-04-12T00:00:00",
          "2022-04-13T00:00:00",
          "2022-04-14T00:00:00",
          "2022-04-15T00:00:00",
          "2022-04-16T00:00:00",
          "2022-04-17T00:00:00",
          "2022-04-18T00:00:00",
          "2022-04-19T00:00:00",
          "2022-04-20T00:00:00",
          "2022-04-21T00:00:00",
          "2022-04-22T00:00:00",
          "2022-04-23T00:00:00",
          "2022-04-24T00:00:00",
          "2022-04-25T00:00:00",
          "2022-04-26T00:00:00",
          "2022-04-27T00:00:00",
          "2022-04-28T00:00:00",
          "2022-04-29T00:00:00",
          "2022-04-30T00:00:00",
          "2022-05-01T00:00:00",
          "2022-05-02T00:00:00",
          "2022-05-03T00:00:00",
          "2022-05-04T00:00:00",
          "2022-05-05T00:00:00",
          "2022-05-06T00:00:00",
          "2022-05-07T00:00:00",
          "2022-05-08T00:00:00",
          "2022-05-09T00:00:00",
          "2022-05-10T00:00:00",
          "2022-05-11T00:00:00",
          "2022-05-12T00:00:00",
          "2022-05-13T00:00:00",
          "2022-05-14T00:00:00",
          "2022-05-15T00:00:00",
          "2022-05-16T00:00:00",
          "2022-05-17T00:00:00",
          "2022-05-18T00:00:00",
          "2022-05-19T00:00:00",
          "2022-05-20T00:00:00",
          "2022-05-21T00:00:00",
          "2022-05-22T00:00:00",
          "2022-05-23T00:00:00",
          "2022-05-24T00:00:00",
          "2022-05-25T00:00:00",
          "2022-05-26T00:00:00",
          "2022-05-27T00:00:00",
          "2022-05-28T00:00:00",
          "2022-05-29T00:00:00",
          "2022-05-30T00:00:00",
          "2022-05-31T00:00:00",
          "2022-06-01T00:00:00",
          "2022-06-02T00:00:00",
          "2022-06-03T00:00:00",
          "2022-06-04T00:00:00",
          "2022-06-05T00:00:00",
          "2022-06-06T00:00:00",
          "2022-06-07T00:00:00",
          "2022-06-08T00:00:00",
          "2022-06-09T00:00:00",
          "2022-06-10T00:00:00",
          "2022-06-11T00:00:00",
          "2022-06-12T00:00:00",
          "2022-06-13T00:00:00",
          "2022-06-14T00:00:00",
          "2022-06-15T00:00:00",
          "2022-06-16T00:00:00",
          "2022-06-17T00:00:00",
          "2022-06-18T00:00:00",
          "2022-06-19T00:00:00",
          "2022-06-20T00:00:00",
          "2022-06-21T00:00:00",
          "2022-06-22T00:00:00",
          "2022-06-23T00:00:00",
          "2022-06-24T00:00:00",
          "2022-06-25T00:00:00",
          "2022-06-26T00:00:00",
          "2022-06-27T00:00:00",
          "2022-06-28T00:00:00",
          "2022-06-29T00:00:00",
          "2022-06-30T00:00:00",
          "2022-07-01T00:00:00",
          "2022-07-02T00:00:00",
          "2022-07-03T00:00:00",
          "2022-07-04T00:00:00",
          "2022-07-05T00:00:00",
          "2022-07-06T00:00:00",
          "2022-07-07T00:00:00",
          "2022-07-08T00:00:00",
          "2022-07-09T00:00:00",
          "2022-07-10T00:00:00",
          "2022-07-11T00:00:00",
          "2022-07-12T00:00:00",
          "2022-07-13T00:00:00",
          "2022-07-14T00:00:00",
          "2022-07-15T00:00:00",
          "2022-07-16T00:00:00",
          "2022-07-17T00:00:00",
          "2022-07-18T00:00:00",
          "2022-07-19T00:00:00",
          "2022-07-20T00:00:00",
          "2022-07-21T00:00:00",
          "2022-07-22T00:00:00",
          "2022-07-23T00:00:00",
          "2022-07-24T00:00:00",
          "2022-07-25T00:00:00",
          "2022-07-26T00:00:00",
          "2022-07-27T00:00:00",
          "2022-07-28T00:00:00",
          "2022-07-29T00:00:00",
          "2022-07-30T00:00:00",
          "2022-07-31T00:00:00",
          "2022-08-01T00:00:00",
          "2022-08-02T00:00:00",
          "2022-08-03T00:00:00",
          "2022-08-04T00:00:00",
          "2022-08-05T00:00:00",
          "2022-08-06T00:00:00",
          "2022-08-07T00:00:00",
          "2022-08-08T00:00:00",
          "2022-08-09T00:00:00",
          "2022-08-10T00:00:00",
          "2022-08-11T00:00:00",
          "2022-08-12T00:00:00",
          "2022-08-13T00:00:00",
          "2022-08-14T00:00:00",
          "2022-08-15T00:00:00",
          "2022-08-16T00:00:00",
          "2022-08-17T00:00:00",
          "2022-08-18T00:00:00",
          "2022-08-19T00:00:00",
          "2022-08-20T00:00:00",
          "2022-08-21T00:00:00",
          "2022-08-22T00:00:00",
          "2022-08-23T00:00:00",
          "2022-08-24T00:00:00",
          "2022-08-25T00:00:00",
          "2022-08-26T00:00:00",
          "2022-08-27T00:00:00",
          "2022-08-28T00:00:00",
          "2022-08-29T00:00:00",
          "2022-08-30T00:00:00",
          "2022-08-31T00:00:00",
          "2022-09-01T00:00:00",
          "2022-09-02T00:00:00",
          "2022-09-03T00:00:00",
          "2022-09-04T00:00:00",
          "2022-09-05T00:00:00",
          "2022-09-06T00:00:00",
          "2022-09-07T00:00:00",
          "2022-09-08T00:00:00",
          "2022-09-09T00:00:00",
          "2022-09-10T00:00:00",
          "2022-09-11T00:00:00",
          "2022-09-12T00:00:00",
          "2022-09-13T00:00:00",
          "2022-09-14T00:00:00",
          "2022-09-15T00:00:00",
          "2022-09-16T00:00:00",
          "2022-09-17T00:00:00",
          "2022-09-18T00:00:00",
          "2022-09-19T00:00:00",
          "2022-09-20T00:00:00",
          "2022-09-21T00:00:00",
          "2022-09-22T00:00:00",
          "2022-09-23T00:00:00",
          "2022-09-24T00:00:00",
          "2022-09-25T00:00:00",
          "2022-09-26T00:00:00",
          "2022-09-27T00:00:00",
          "2022-09-28T00:00:00",
          "2022-09-29T00:00:00",
          "2022-09-30T00:00:00",
          "2022-10-01T00:00:00",
          "2022-10-02T00:00:00",
          "2022-10-03T00:00:00",
          "2022-10-04T00:00:00",
          "2022-10-05T00:00:00",
          "2022-10-06T00:00:00",
          "2022-10-07T00:00:00",
          "2022-10-08T00:00:00",
          "2022-10-09T00:00:00",
          "2022-10-10T00:00:00",
          "2022-10-11T00:00:00",
          "2022-10-12T00:00:00",
          "2022-10-13T00:00:00",
          "2022-10-14T00:00:00",
          "2022-10-15T00:00:00",
          "2022-10-16T00:00:00",
          "2022-10-17T00:00:00",
          "2022-10-18T00:00:00",
          "2022-10-19T00:00:00",
          "2022-10-20T00:00:00",
          "2022-10-21T00:00:00",
          "2022-10-22T00:00:00",
          "2022-10-23T00:00:00",
          "2022-10-24T00:00:00",
          "2022-10-25T00:00:00",
          "2022-10-26T00:00:00",
          "2022-10-27T00:00:00",
          "2022-10-28T00:00:00",
          "2022-10-29T00:00:00",
          "2022-10-30T00:00:00",
          "2022-10-31T00:00:00",
          "2022-11-01T00:00:00",
          "2022-11-02T00:00:00",
          "2022-11-03T00:00:00",
          "2022-11-04T00:00:00",
          "2022-11-05T00:00:00",
          "2022-11-06T00:00:00",
          "2022-11-07T00:00:00",
          "2022-11-08T00:00:00",
          "2022-11-09T00:00:00",
          "2022-11-10T00:00:00",
          "2022-11-11T00:00:00",
          "2022-11-12T00:00:00",
          "2022-11-13T00:00:00",
          "2022-11-14T00:00:00",
          "2022-11-15T00:00:00",
          "2022-11-16T00:00:00",
          "2022-11-17T00:00:00",
          "2022-11-18T00:00:00",
          "2022-11-19T00:00:00",
          "2022-11-20T00:00:00",
          "2022-11-21T00:00:00",
          "2022-11-22T00:00:00",
          "2022-11-23T00:00:00",
          "2022-11-24T00:00:00",
          "2022-11-25T00:00:00",
          "2022-11-26T00:00:00",
          "2022-11-27T00:00:00",
          "2022-11-28T00:00:00",
          "2022-11-29T00:00:00",
          "2022-11-30T00:00:00",
          "2022-12-01T00:00:00",
          "2022-12-02T00:00:00",
          "2022-12-03T00:00:00",
          "2022-12-04T00:00:00",
          "2022-12-05T00:00:00",
          "2022-12-06T00:00:00",
          "2022-12-07T00:00:00",
          "2022-12-08T00:00:00",
          "2022-12-09T00:00:00",
          "2022-12-10T00:00:00",
          "2022-12-11T00:00:00",
          "2022-12-12T00:00:00",
          "2022-12-13T00:00:00",
          "2022-12-14T00:00:00",
          "2022-12-15T00:00:00",
          "2022-12-16T00:00:00",
          "2022-12-17T00:00:00",
          "2022-12-18T00:00:00",
          "2022-12-19T00:00:00",
          "2022-12-20T00:00:00",
          "2022-12-21T00:00:00",
          "2022-12-22T00:00:00",
          "2022-12-23T00:00:00",
          "2022-12-24T00:00:00",
          "2022-12-25T00:00:00",
          "2022-12-26T00:00:00",
          "2022-12-27T00:00:00",
          "2022-12-28T00:00:00",
          "2022-12-29T00:00:00",
          "2022-12-30T00:00:00",
          "2022-12-31T00:00:00",
          "2023-01-01T00:00:00",
          "2023-01-02T00:00:00",
          "2023-01-03T00:00:00",
          "2023-01-04T00:00:00",
          "2023-01-05T00:00:00",
          "2023-01-06T00:00:00",
          "2023-01-07T00:00:00",
          "2023-01-08T00:00:00",
          "2023-01-09T00:00:00",
          "2023-01-10T00:00:00",
          "2023-01-11T00:00:00",
          "2023-01-12T00:00:00",
          "2023-01-13T00:00:00",
          "2023-01-14T00:00:00",
          "2023-01-15T00:00:00",
          "2023-01-16T00:00:00",
          "2023-01-17T00:00:00",
          "2023-01-18T00:00:00",
          "2023-01-19T00:00:00",
          "2023-01-20T00:00:00",
          "2023-01-21T00:00:00",
          "2023-01-22T00:00:00",
          "2023-01-23T00:00:00",
          "2023-01-24T00:00:00",
          "2023-01-25T00:00:00",
          "2023-01-26T00:00:00",
          "2023-01-27T00:00:00",
          "2023-01-28T00:00:00",
          "2023-01-29T00:00:00",
          "2023-01-30T00:00:00",
          "2023-01-31T00:00:00",
          "2023-02-01T00:00:00",
          "2023-02-02T00:00:00",
          "2023-02-03T00:00:00",
          "2023-02-04T00:00:00",
          "2023-02-05T00:00:00",
          "2023-02-06T00:00:00",
          "2023-02-07T00:00:00",
          "2023-02-08T00:00:00",
          "2023-02-09T00:00:00",
          "2023-02-10T00:00:00",
          "2023-02-11T00:00:00",
          "2023-02-12T00:00:00",
          "2023-02-13T00:00:00",
          "2023-02-14T00:00:00",
          "2023-02-15T00:00:00",
          "2023-02-16T00:00:00",
          "2023-02-17T00:00:00",
          "2023-02-18T00:00:00",
          "2023-02-19T00:00:00",
          "2023-02-20T00:00:00",
          "2023-02-21T00:00:00",
          "2023-02-22T00:00:00",
          "2023-02-23T00:00:00",
          "2023-02-24T00:00:00",
          "2023-02-25T00:00:00",
          "2023-02-26T00:00:00",
          "2023-02-27T00:00:00",
          "2023-02-28T00:00:00",
          "2023-03-01T00:00:00",
          "2023-03-02T00:00:00",
          "2023-03-03T00:00:00",
          "2023-03-04T00:00:00",
          "2023-03-05T00:00:00",
          "2023-03-06T00:00:00",
          "2023-03-07T00:00:00",
          "2023-03-08T00:00:00",
          "2023-03-09T00:00:00",
          "2023-03-10T00:00:00",
          "2023-03-11T00:00:00",
          "2023-03-12T00:00:00",
          "2023-03-13T00:00:00",
          "2023-03-14T00:00:00",
          "2023-03-15T00:00:00",
          "2023-03-16T00:00:00",
          "2023-03-17T00:00:00",
          "2023-03-18T00:00:00",
          "2023-03-19T00:00:00",
          "2023-03-20T00:00:00",
          "2023-03-21T00:00:00",
          "2023-03-22T00:00:00",
          "2023-03-23T00:00:00",
          "2023-03-24T00:00:00",
          "2023-03-25T00:00:00",
          "2023-03-26T00:00:00",
          "2023-03-27T00:00:00",
          "2023-03-28T00:00:00",
          "2023-03-29T00:00:00",
          "2023-03-30T00:00:00",
          "2023-03-31T00:00:00",
          "2023-04-01T00:00:00",
          "2023-04-02T00:00:00",
          "2023-04-03T00:00:00",
          "2023-04-04T00:00:00",
          "2023-04-05T00:00:00",
          "2023-04-06T00:00:00",
          "2023-04-07T00:00:00",
          "2023-04-08T00:00:00",
          "2023-04-09T00:00:00",
          "2023-04-10T00:00:00",
          "2023-04-11T00:00:00",
          "2023-04-12T00:00:00",
          "2023-04-13T00:00:00",
          "2023-04-14T00:00:00",
          "2023-04-15T00:00:00",
          "2023-04-16T00:00:00",
          "2023-04-17T00:00:00",
          "2023-04-18T00:00:00",
          "2023-04-19T00:00:00",
          "2023-04-20T00:00:00",
          "2023-04-21T00:00:00",
          "2023-04-22T00:00:00",
          "2023-04-23T00:00:00",
          "2023-04-24T00:00:00",
          "2023-04-25T00:00:00",
          "2023-04-26T00:00:00"
         ],
         "y": [
          72,
          214,
          10,
          20,
          10,
          172,
          10,
          10,
          0,
          1,
          0,
          212,
          0,
          0,
          52,
          62,
          312,
          0,
          0,
          30,
          272,
          50,
          52,
          1,
          430,
          20,
          100,
          70,
          0,
          72,
          21,
          20,
          20,
          172,
          102,
          0,
          72,
          222,
          72,
          0,
          50,
          20,
          122,
          0,
          1,
          70,
          20,
          152,
          0,
          122,
          122,
          132,
          50,
          1,
          122,
          0,
          0,
          0,
          152,
          270,
          20,
          102,
          0,
          72,
          152,
          122,
          122,
          0,
          0,
          102,
          30,
          122,
          422,
          202,
          0,
          30,
          82,
          122,
          62,
          102,
          100,
          102,
          20,
          62,
          72,
          102,
          182,
          0,
          30,
          290,
          0,
          30,
          130,
          252,
          102,
          0,
          50,
          40,
          50,
          192,
          144,
          222,
          0,
          20,
          20,
          204,
          0,
          31,
          222,
          20,
          0,
          20,
          20,
          20,
          102,
          102,
          20,
          20,
          322,
          0,
          102,
          142,
          100,
          102,
          100,
          42,
          62,
          62,
          134,
          0,
          42,
          0,
          30,
          30,
          20,
          254,
          102,
          0,
          0,
          52,
          52,
          90,
          102,
          154,
          0,
          70,
          0,
          50,
          0,
          152,
          52,
          250,
          72,
          20,
          52,
          184,
          30,
          30,
          70,
          0,
          0,
          92,
          0,
          60,
          100,
          0,
          52,
          100,
          20,
          0,
          224,
          0,
          0,
          0,
          72,
          72,
          50,
          184,
          122,
          62,
          40,
          302,
          0,
          92,
          122,
          70,
          0,
          52,
          20,
          62,
          42,
          102,
          0,
          62,
          0,
          22,
          152,
          0,
          264,
          10,
          10,
          20,
          102,
          50,
          0,
          162,
          184,
          10,
          100,
          0,
          52,
          112,
          62,
          52,
          0,
          40,
          0,
          0,
          42,
          0,
          20,
          0,
          20,
          0,
          20,
          40,
          0,
          10,
          52,
          20,
          122,
          102,
          0,
          254,
          152,
          0,
          0,
          100,
          220,
          202,
          102,
          302,
          0,
          302,
          50,
          20,
          264,
          0,
          10,
          50,
          10,
          82,
          252,
          354,
          0,
          132,
          0,
          20,
          52,
          0,
          120,
          112,
          172,
          0,
          0,
          234,
          10,
          0,
          224,
          20,
          20,
          0,
          20,
          62,
          30,
          264,
          260,
          122,
          20,
          0,
          20,
          60,
          364,
          0,
          0,
          0,
          152,
          0,
          0,
          306,
          152,
          0,
          0,
          0,
          102,
          60,
          162,
          102,
          0,
          10,
          170,
          0,
          0,
          102,
          104,
          0,
          20,
          52,
          70,
          20,
          112,
          0,
          0,
          10,
          10,
          10,
          52,
          234,
          10,
          0,
          10,
          62,
          50,
          110,
          0,
          102,
          0,
          0,
          150,
          52,
          100,
          10,
          52,
          260,
          10,
          52,
          52,
          52,
          112,
          92,
          0,
          10,
          0,
          20,
          0,
          10,
          110,
          0,
          122,
          10,
          20,
          134,
          11,
          122,
          50,
          0,
          72,
          50,
          70,
          122,
          10,
          10,
          260,
          70,
          0,
          30,
          0,
          82,
          10,
          72,
          40,
          20,
          100,
          30,
          0,
          10,
          94,
          60,
          10,
          82,
          164,
          20,
          72,
          40,
          50,
          52,
          52,
          0,
          62,
          30,
          50,
          10,
          20,
          90,
          11,
          10,
          300,
          50,
          62,
          102,
          150,
          0,
          62,
          50,
          10,
          220,
          10,
          0,
          10,
          20,
          10,
          60,
          100,
          10,
          110,
          20,
          224,
          0,
          82,
          100,
          10,
          132,
          0,
          112,
          260,
          10,
          62,
          0,
          112,
          264,
          0,
          20,
          62,
          52,
          60,
          10,
          10,
          20,
          0,
          120,
          0,
          72,
          52,
          122,
          10,
          72,
          20,
          60,
          0,
          112,
          10,
          62,
          62,
          10,
          322,
          102,
          0,
          102,
          0,
          50,
          52,
          72,
          20,
          70,
          21,
          62,
          20,
          50,
          114,
          10,
          11,
          102,
          10,
          112,
          0,
          10,
          53,
          10,
          52,
          10,
          62,
          52,
          10,
          52,
          161,
          210,
          52,
          0,
          62,
          62,
          70,
          10,
          102,
          62,
          0,
          62,
          102,
          0,
          0,
          124,
          0,
          0,
          100,
          0,
          0,
          52,
          152,
          0,
          50,
          0,
          62,
          42,
          40,
          372,
          62,
          10,
          70,
          10,
          60,
          62,
          112,
          20,
          310,
          72,
          72,
          82,
          10,
          204,
          202,
          0,
          50,
          10,
          50,
          0,
          102,
          62,
          10,
          10,
          62,
          10,
          50,
          102,
          20,
          10,
          0,
          10,
          112,
          10,
          261,
          10,
          52,
          122,
          10,
          10,
          0,
          154,
          224,
          0,
          10,
          112,
          10,
          132,
          113,
          102,
          0,
          0,
          52,
          20,
          52,
          21,
          102,
          10,
          10,
          62,
          60,
          260,
          112,
          62,
          10,
          62,
          0,
          102,
          0,
          11,
          20,
          62,
          112,
          10,
          92,
          10,
          10,
          10,
          0,
          53,
          102,
          70,
          0,
          0,
          102,
          102,
          10,
          132,
          50,
          50,
          0,
          0,
          52,
          260,
          20,
          122,
          10,
          63,
          204,
          10,
          10,
          50,
          0,
          204,
          1,
          52,
          0,
          20,
          102,
          20,
          0,
          193,
          20,
          0,
          0,
          122,
          354,
          0,
          150,
          0,
          0,
          10,
          0,
          110,
          0,
          113,
          20,
          250,
          10,
          0,
          102,
          0,
          31,
          102,
          10,
          62,
          110,
          10,
          110,
          10,
          10,
          100,
          0,
          0,
          102,
          0,
          102,
          0,
          0,
          0,
          0,
          100,
          0,
          1,
          102,
          0,
          100,
          0,
          0,
          0,
          102,
          0,
          102,
          0,
          102,
          0,
          0,
          1,
          102,
          0,
          0,
          0,
          100,
          0,
          152,
          52,
          52,
          0,
          52,
          0,
          52,
          1,
          0,
          0,
          100,
          0,
          0,
          52,
          1,
          0,
          0,
          52,
          100,
          0,
          0,
          0,
          204,
          0,
          52,
          0,
          52,
          0,
          1,
          0,
          0,
          100,
          0,
          0,
          0,
          1,
          0,
          52,
          52,
          100,
          0
         ]
        }
       ],
       "layout": {
        "showlegend": true,
        "template": {
         "data": {
          "bar": [
           {
            "error_x": {
             "color": "#2a3f5f"
            },
            "error_y": {
             "color": "#2a3f5f"
            },
            "marker": {
             "line": {
              "color": "white",
              "width": 0.5
             },
             "pattern": {
              "fillmode": "overlay",
              "size": 10,
              "solidity": 0.2
             }
            },
            "type": "bar"
           }
          ],
          "barpolar": [
           {
            "marker": {
             "line": {
              "color": "white",
              "width": 0.5
             },
             "pattern": {
              "fillmode": "overlay",
              "size": 10,
              "solidity": 0.2
             }
            },
            "type": "barpolar"
           }
          ],
          "carpet": [
           {
            "aaxis": {
             "endlinecolor": "#2a3f5f",
             "gridcolor": "#C8D4E3",
             "linecolor": "#C8D4E3",
             "minorgridcolor": "#C8D4E3",
             "startlinecolor": "#2a3f5f"
            },
            "baxis": {
             "endlinecolor": "#2a3f5f",
             "gridcolor": "#C8D4E3",
             "linecolor": "#C8D4E3",
             "minorgridcolor": "#C8D4E3",
             "startlinecolor": "#2a3f5f"
            },
            "type": "carpet"
           }
          ],
          "choropleth": [
           {
            "colorbar": {
             "outlinewidth": 0,
             "ticks": ""
            },
            "type": "choropleth"
           }
          ],
          "contour": [
           {
            "colorbar": {
             "outlinewidth": 0,
             "ticks": ""
            },
            "colorscale": [
             [
              0,
              "#0d0887"
             ],
             [
              0.1111111111111111,
              "#46039f"
             ],
             [
              0.2222222222222222,
              "#7201a8"
             ],
             [
              0.3333333333333333,
              "#9c179e"
             ],
             [
              0.4444444444444444,
              "#bd3786"
             ],
             [
              0.5555555555555556,
              "#d8576b"
             ],
             [
              0.6666666666666666,
              "#ed7953"
             ],
             [
              0.7777777777777778,
              "#fb9f3a"
             ],
             [
              0.8888888888888888,
              "#fdca26"
             ],
             [
              1,
              "#f0f921"
             ]
            ],
            "type": "contour"
           }
          ],
          "contourcarpet": [
           {
            "colorbar": {
             "outlinewidth": 0,
             "ticks": ""
            },
            "type": "contourcarpet"
           }
          ],
          "heatmap": [
           {
            "colorbar": {
             "outlinewidth": 0,
             "ticks": ""
            },
            "colorscale": [
             [
              0,
              "#0d0887"
             ],
             [
              0.1111111111111111,
              "#46039f"
             ],
             [
              0.2222222222222222,
              "#7201a8"
             ],
             [
              0.3333333333333333,
              "#9c179e"
             ],
             [
              0.4444444444444444,
              "#bd3786"
             ],
             [
              0.5555555555555556,
              "#d8576b"
             ],
             [
              0.6666666666666666,
              "#ed7953"
             ],
             [
              0.7777777777777778,
              "#fb9f3a"
             ],
             [
              0.8888888888888888,
              "#fdca26"
             ],
             [
              1,
              "#f0f921"
             ]
            ],
            "type": "heatmap"
           }
          ],
          "heatmapgl": [
           {
            "colorbar": {
             "outlinewidth": 0,
             "ticks": ""
            },
            "colorscale": [
             [
              0,
              "#0d0887"
             ],
             [
              0.1111111111111111,
              "#46039f"
             ],
             [
              0.2222222222222222,
              "#7201a8"
             ],
             [
              0.3333333333333333,
              "#9c179e"
             ],
             [
              0.4444444444444444,
              "#bd3786"
             ],
             [
              0.5555555555555556,
              "#d8576b"
             ],
             [
              0.6666666666666666,
              "#ed7953"
             ],
             [
              0.7777777777777778,
              "#fb9f3a"
             ],
             [
              0.8888888888888888,
              "#fdca26"
             ],
             [
              1,
              "#f0f921"
             ]
            ],
            "type": "heatmapgl"
           }
          ],
          "histogram": [
           {
            "marker": {
             "pattern": {
              "fillmode": "overlay",
              "size": 10,
              "solidity": 0.2
             }
            },
            "type": "histogram"
           }
          ],
          "histogram2d": [
           {
            "colorbar": {
             "outlinewidth": 0,
             "ticks": ""
            },
            "colorscale": [
             [
              0,
              "#0d0887"
             ],
             [
              0.1111111111111111,
              "#46039f"
             ],
             [
              0.2222222222222222,
              "#7201a8"
             ],
             [
              0.3333333333333333,
              "#9c179e"
             ],
             [
              0.4444444444444444,
              "#bd3786"
             ],
             [
              0.5555555555555556,
              "#d8576b"
             ],
             [
              0.6666666666666666,
              "#ed7953"
             ],
             [
              0.7777777777777778,
              "#fb9f3a"
             ],
             [
              0.8888888888888888,
              "#fdca26"
             ],
             [
              1,
              "#f0f921"
             ]
            ],
            "type": "histogram2d"
           }
          ],
          "histogram2dcontour": [
           {
            "colorbar": {
             "outlinewidth": 0,
             "ticks": ""
            },
            "colorscale": [
             [
              0,
              "#0d0887"
             ],
             [
              0.1111111111111111,
              "#46039f"
             ],
             [
              0.2222222222222222,
              "#7201a8"
             ],
             [
              0.3333333333333333,
              "#9c179e"
             ],
             [
              0.4444444444444444,
              "#bd3786"
             ],
             [
              0.5555555555555556,
              "#d8576b"
             ],
             [
              0.6666666666666666,
              "#ed7953"
             ],
             [
              0.7777777777777778,
              "#fb9f3a"
             ],
             [
              0.8888888888888888,
              "#fdca26"
             ],
             [
              1,
              "#f0f921"
             ]
            ],
            "type": "histogram2dcontour"
           }
          ],
          "mesh3d": [
           {
            "colorbar": {
             "outlinewidth": 0,
             "ticks": ""
            },
            "type": "mesh3d"
           }
          ],
          "parcoords": [
           {
            "line": {
             "colorbar": {
              "outlinewidth": 0,
              "ticks": ""
             }
            },
            "type": "parcoords"
           }
          ],
          "pie": [
           {
            "automargin": true,
            "type": "pie"
           }
          ],
          "scatter": [
           {
            "fillpattern": {
             "fillmode": "overlay",
             "size": 10,
             "solidity": 0.2
            },
            "type": "scatter"
           }
          ],
          "scatter3d": [
           {
            "line": {
             "colorbar": {
              "outlinewidth": 0,
              "ticks": ""
             }
            },
            "marker": {
             "colorbar": {
              "outlinewidth": 0,
              "ticks": ""
             }
            },
            "type": "scatter3d"
           }
          ],
          "scattercarpet": [
           {
            "marker": {
             "colorbar": {
              "outlinewidth": 0,
              "ticks": ""
             }
            },
            "type": "scattercarpet"
           }
          ],
          "scattergeo": [
           {
            "marker": {
             "colorbar": {
              "outlinewidth": 0,
              "ticks": ""
             }
            },
            "type": "scattergeo"
           }
          ],
          "scattergl": [
           {
            "marker": {
             "colorbar": {
              "outlinewidth": 0,
              "ticks": ""
             }
            },
            "type": "scattergl"
           }
          ],
          "scattermapbox": [
           {
            "marker": {
             "colorbar": {
              "outlinewidth": 0,
              "ticks": ""
             }
            },
            "type": "scattermapbox"
           }
          ],
          "scatterpolar": [
           {
            "marker": {
             "colorbar": {
              "outlinewidth": 0,
              "ticks": ""
             }
            },
            "type": "scatterpolar"
           }
          ],
          "scatterpolargl": [
           {
            "marker": {
             "colorbar": {
              "outlinewidth": 0,
              "ticks": ""
             }
            },
            "type": "scatterpolargl"
           }
          ],
          "scatterternary": [
           {
            "marker": {
             "colorbar": {
              "outlinewidth": 0,
              "ticks": ""
             }
            },
            "type": "scatterternary"
           }
          ],
          "surface": [
           {
            "colorbar": {
             "outlinewidth": 0,
             "ticks": ""
            },
            "colorscale": [
             [
              0,
              "#0d0887"
             ],
             [
              0.1111111111111111,
              "#46039f"
             ],
             [
              0.2222222222222222,
              "#7201a8"
             ],
             [
              0.3333333333333333,
              "#9c179e"
             ],
             [
              0.4444444444444444,
              "#bd3786"
             ],
             [
              0.5555555555555556,
              "#d8576b"
             ],
             [
              0.6666666666666666,
              "#ed7953"
             ],
             [
              0.7777777777777778,
              "#fb9f3a"
             ],
             [
              0.8888888888888888,
              "#fdca26"
             ],
             [
              1,
              "#f0f921"
             ]
            ],
            "type": "surface"
           }
          ],
          "table": [
           {
            "cells": {
             "fill": {
              "color": "#EBF0F8"
             },
             "line": {
              "color": "white"
             }
            },
            "header": {
             "fill": {
              "color": "#C8D4E3"
             },
             "line": {
              "color": "white"
             }
            },
            "type": "table"
           }
          ]
         },
         "layout": {
          "annotationdefaults": {
           "arrowcolor": "#2a3f5f",
           "arrowhead": 0,
           "arrowwidth": 1
          },
          "autotypenumbers": "strict",
          "coloraxis": {
           "colorbar": {
            "outlinewidth": 0,
            "ticks": ""
           }
          },
          "colorscale": {
           "diverging": [
            [
             0,
             "#8e0152"
            ],
            [
             0.1,
             "#c51b7d"
            ],
            [
             0.2,
             "#de77ae"
            ],
            [
             0.3,
             "#f1b6da"
            ],
            [
             0.4,
             "#fde0ef"
            ],
            [
             0.5,
             "#f7f7f7"
            ],
            [
             0.6,
             "#e6f5d0"
            ],
            [
             0.7,
             "#b8e186"
            ],
            [
             0.8,
             "#7fbc41"
            ],
            [
             0.9,
             "#4d9221"
            ],
            [
             1,
             "#276419"
            ]
           ],
           "sequential": [
            [
             0,
             "#0d0887"
            ],
            [
             0.1111111111111111,
             "#46039f"
            ],
            [
             0.2222222222222222,
             "#7201a8"
            ],
            [
             0.3333333333333333,
             "#9c179e"
            ],
            [
             0.4444444444444444,
             "#bd3786"
            ],
            [
             0.5555555555555556,
             "#d8576b"
            ],
            [
             0.6666666666666666,
             "#ed7953"
            ],
            [
             0.7777777777777778,
             "#fb9f3a"
            ],
            [
             0.8888888888888888,
             "#fdca26"
            ],
            [
             1,
             "#f0f921"
            ]
           ],
           "sequentialminus": [
            [
             0,
             "#0d0887"
            ],
            [
             0.1111111111111111,
             "#46039f"
            ],
            [
             0.2222222222222222,
             "#7201a8"
            ],
            [
             0.3333333333333333,
             "#9c179e"
            ],
            [
             0.4444444444444444,
             "#bd3786"
            ],
            [
             0.5555555555555556,
             "#d8576b"
            ],
            [
             0.6666666666666666,
             "#ed7953"
            ],
            [
             0.7777777777777778,
             "#fb9f3a"
            ],
            [
             0.8888888888888888,
             "#fdca26"
            ],
            [
             1,
             "#f0f921"
            ]
           ]
          },
          "colorway": [
           "#636efa",
           "#EF553B",
           "#00cc96",
           "#ab63fa",
           "#FFA15A",
           "#19d3f3",
           "#FF6692",
           "#B6E880",
           "#FF97FF",
           "#FECB52"
          ],
          "font": {
           "color": "#2a3f5f"
          },
          "geo": {
           "bgcolor": "white",
           "lakecolor": "white",
           "landcolor": "white",
           "showlakes": true,
           "showland": true,
           "subunitcolor": "#C8D4E3"
          },
          "hoverlabel": {
           "align": "left"
          },
          "hovermode": "closest",
          "mapbox": {
           "style": "light"
          },
          "paper_bgcolor": "white",
          "plot_bgcolor": "white",
          "polar": {
           "angularaxis": {
            "gridcolor": "#EBF0F8",
            "linecolor": "#EBF0F8",
            "ticks": ""
           },
           "bgcolor": "white",
           "radialaxis": {
            "gridcolor": "#EBF0F8",
            "linecolor": "#EBF0F8",
            "ticks": ""
           }
          },
          "scene": {
           "xaxis": {
            "backgroundcolor": "white",
            "gridcolor": "#DFE8F3",
            "gridwidth": 2,
            "linecolor": "#EBF0F8",
            "showbackground": true,
            "ticks": "",
            "zerolinecolor": "#EBF0F8"
           },
           "yaxis": {
            "backgroundcolor": "white",
            "gridcolor": "#DFE8F3",
            "gridwidth": 2,
            "linecolor": "#EBF0F8",
            "showbackground": true,
            "ticks": "",
            "zerolinecolor": "#EBF0F8"
           },
           "zaxis": {
            "backgroundcolor": "white",
            "gridcolor": "#DFE8F3",
            "gridwidth": 2,
            "linecolor": "#EBF0F8",
            "showbackground": true,
            "ticks": "",
            "zerolinecolor": "#EBF0F8"
           }
          },
          "shapedefaults": {
           "line": {
            "color": "#2a3f5f"
           }
          },
          "ternary": {
           "aaxis": {
            "gridcolor": "#DFE8F3",
            "linecolor": "#A2B1C6",
            "ticks": ""
           },
           "baxis": {
            "gridcolor": "#DFE8F3",
            "linecolor": "#A2B1C6",
            "ticks": ""
           },
           "bgcolor": "white",
           "caxis": {
            "gridcolor": "#DFE8F3",
            "linecolor": "#A2B1C6",
            "ticks": ""
           }
          },
          "title": {
           "x": 0.05
          },
          "xaxis": {
           "automargin": true,
           "gridcolor": "#EBF0F8",
           "linecolor": "#EBF0F8",
           "ticks": "",
           "title": {
            "standoff": 15
           },
           "zerolinecolor": "#EBF0F8",
           "zerolinewidth": 2
          },
          "yaxis": {
           "automargin": true,
           "gridcolor": "#EBF0F8",
           "linecolor": "#EBF0F8",
           "ticks": "",
           "title": {
            "standoff": 15
           },
           "zerolinecolor": "#EBF0F8",
           "zerolinewidth": 2
          }
         }
        },
        "title": {
         "text": "Time Series"
        },
        "xaxis": {
         "title": {
          "text": "Date"
         }
        },
        "yaxis": {
         "title": {
          "text": "Soldi Prelevati"
         }
        }
       }
      }
     },
     "metadata": {},
     "output_type": "display_data"
    }
   ],
   "source": [
    "### PLOT PROCESSATO \n",
    "x_values = get_values(filled_ritiro_contanti_df, new_timestamp_col_name)\n",
    "y_values = get_values(filled_ritiro_contanti_df, \"prelievo_contante\")\n",
    "plot(x_values, y_values, x_name='Date', y_name='Soldi Prelevati', title='Time Series')"
   ]
  },
  {
   "cell_type": "markdown",
   "metadata": {
    "slideshow": {
     "slide_type": "slide"
    }
   },
   "source": [
    "Prossime evoluzioni:\n",
    "ESTENDERE IL TIMEBUCKETING\n",
    "Time bucketing:\n",
    "#### APPLICO IL TIME BUCKETING\n",
    "time_bucket_step =  TimeBucketing(\n",
    "        time_zone=\"Europe/Rome\",\n",
    "        time_column_name=DATA_COLUMN_NAME,\n",
    "        time_bucket_size=1,\n",
    "        time_bucket_granularity=\"day\", -> week, day \n",
    "        time_bucket_col_name=\"bucket\",\n",
    "    )\n",
    "\n",
    "Non c'è supporto ad hours, proposta di estendere il supporto a month"
   ]
  },
  {
   "cell_type": "markdown",
   "metadata": {},
   "source": [
    "ESTENDERE L'AGGREGATION:\n",
    "attualmente puoi solo filtrare in base al fatto che la variabile contenga o meno la lista di categoriche\n",
    "non puoi mettere condizioni che il valore deve NON avere\n",
    "non puoi mettere altro a parte isin\n",
    "\n"
   ]
  },
  {
   "cell_type": "markdown",
   "metadata": {},
   "source": [
    "Filter(\n",
    "  col_name: str,\n",
    "  col_options: list[Union[str, bool]],\n",
    "  col_options_negated: bool = False,\n",
    "  col_options_exploded: bool = False,\n",
    ")\n",
    "\n",
    "Aggregation(\n",
    "  agg_function: str,\n",
    "  numerical_col_name: str,\n",
    "  identifier_cols_name: list[str],\n",
    "  filters: list[Filter],\n",
    ")\n",
    "\n",
    "Aggregator(\n",
    "  aggregations: list[Aggregation]\n",
    ")"
   ]
  },
  {
   "cell_type": "markdown",
   "metadata": {},
   "source": [
    "Attuale metodo di configurazione è abbastanza scomodo:"
   ]
  },
  {
   "cell_type": "markdown",
   "metadata": {},
   "source": [
    "\n",
    "filter_1 = Filter(\n",
    "  col_name=\"CATEGORY_LIV0\",\n",
    "  col_options=[\n",
    "    \"shopping\",\n",
    "    \"salute\",\n",
    "    \"servizi_professionali\",\n",
    "    \"casa\",\n",
    "    \"utenze\",\n",
    "    \"viaggi\",\n",
    "    \"tempo_libero\",\n",
    "    \"spese_legali\",\n",
    "    \"tasse\",\n",
    "    \"trasporti\",\n",
    "    \"assicurazioni\",\n",
    "    \"scuola_formazione\",\n",
    "    \"altre_spese\",\n",
    "    \"alimentari_spesa\",\n",
    "    \"spese_postali\",\n",
    "  ],\n",
    ")\n",
    "\n",
    "filter_2 = Filter(\n",
    "  col_name=\"ARCA_TIPO_CARTA\",\n",
    "  col_options=[],\n",
    ")\n",
    "\n",
    "filter_3 = Filter(\n",
    "  col_name=\"IS_CARTA\",\n",
    "  col_options=[True],\n",
    ")\n",
    "\n",
    "filter_4 = Filter(\n",
    "  col_name=\"SEGNO\",\n",
    "  col_options[\"-\"],\n",
    ")\n",
    "\n",
    "agg_1 = Aggregation(\n",
    "  agg_function=\"SUM\",\n",
    "  numerical_col_name=\"IMPORTO\",\n",
    "  identifier_cols_name=[\"ID_CLIENTE_BIC\"],\n",
    "  filters=[filter_1, filter_2, filter_3, filter_4],\n",
    ")\n",
    "\n",
    "aggregator_step = Aggregator(\n",
    "  aggregations=[agg_3]\n",
    ")"
   ]
  },
  {
   "cell_type": "markdown",
   "metadata": {},
   "source": [
    "mettere i nomi alle nuove colonne\n",
    "sum_of_IMPORTO_by_CATEGORY_LIV0_(shopping_salute_spese_postali)_and_by_IS_CARTA_(True)_and_by_SEGNO_(-)\n",
    "\n",
    "\n",
    "creare un configurator manager che parsifica il file yaml"
   ]
  }
 ],
 "metadata": {
  "kernelspec": {
   "display_name": "Python 3 (ipykernel)",
   "language": "python",
   "name": "python3"
  },
  "language_info": {
   "codemirror_mode": {
    "name": "ipython",
    "version": 3
   },
   "file_extension": ".py",
   "mimetype": "text/x-python",
   "name": "python",
   "nbconvert_exporter": "python",
   "pygments_lexer": "ipython3",
   "version": "3.11.4"
  },
  "varInspector": {
   "cols": {
    "lenName": 16,
    "lenType": 16,
    "lenVar": 40
   },
   "kernels_config": {
    "python": {
     "delete_cmd_postfix": "",
     "delete_cmd_prefix": "del ",
     "library": "var_list.py",
     "varRefreshCmd": "print(var_dic_list())"
    },
    "r": {
     "delete_cmd_postfix": ") ",
     "delete_cmd_prefix": "rm(",
     "library": "var_list.r",
     "varRefreshCmd": "cat(var_dic_list()) "
    }
   },
   "types_to_exclude": [
    "module",
    "function",
    "builtin_function_or_method",
    "instance",
    "_Feature"
   ],
   "window_display": false
  }
 },
 "nbformat": 4,
 "nbformat_minor": 4
}

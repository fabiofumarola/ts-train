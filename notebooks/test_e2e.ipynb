{
 "cells": [
  {
   "cell_type": "code",
   "execution_count": 19,
   "metadata": {},
   "outputs": [],
   "source": [
    "from ts_train.step.aggregation import Aggregation\n",
    "from ts_train.step.filling import Filling\n",
    "from ts_train.step.time_bucketing import TimeBucketing\n",
    "from ts_train.common.utils import (  # type: ignore\n",
    "    cast_column_to_timestamp,  # type: ignore\n",
    ")\n",
    "from pyspark.sql import SparkSession\n",
    "from ts_train.common.utils import (  # type: ignore\n",
    "    cast_column_to_timestamp,  # type: ignore\n",
    "    create_timestamps_struct,  # type: ignore\n",
    ")"
   ]
  },
  {
   "cell_type": "code",
   "execution_count": 20,
   "metadata": {},
   "outputs": [
    {
     "name": "stdout",
     "output_type": "stream",
     "text": [
      "+--------------+-------------------+-------+----------------+----------------+--------+\n",
      "|ID_BIC_CLIENTE|   DATA_TRANSAZIONE|IMPORTO|CA_CATEGORY_LIV0|METODO_PAGAMENTO|IS_CARTA|\n",
      "+--------------+-------------------+-------+----------------+----------------+--------+\n",
      "|     348272371|2023-01-01 00:00:00|      5|        shopping|           carta|    true|\n",
      "|     348272371|2023-01-01 00:00:00|      6|          salute|            cash|   false|\n",
      "|     348272371|2023-01-01 00:00:00|      8|       trasporti|            cash|   false|\n",
      "|     348272371|2023-01-01 00:00:00|      1|       trasporti|           carta|    true|\n",
      "|     348272371|2023-01-06 00:00:00|     20|        shopping|         bitcoin|   false|\n",
      "|     348272371|2023-01-06 00:00:00|     43|        shopping|           carta|    true|\n",
      "|     348272371|2023-01-06 00:00:00|     72|        shopping|            cash|   false|\n",
      "|     234984832|2023-01-01 00:00:00|     15|          salute|           carta|    true|\n",
      "|     234984832|2023-01-01 00:00:00|     36|          salute|           carta|    true|\n",
      "|     234984832|2023-01-01 00:00:00|     78|          salute|            cash|   false|\n",
      "|     234984832|2023-01-02 00:00:00|      2|       trasporti|           carta|    true|\n",
      "+--------------+-------------------+-------+----------------+----------------+--------+\n",
      "\n"
     ]
    }
   ],
   "source": [
    "### CREATE INITIAL INPUT\n",
    "spark = SparkSession.builder.getOrCreate()\n",
    "\n",
    "def sample_dataframe_01(spark):\n",
    "    df = spark.createDataFrame(\n",
    "        data=[\n",
    "            (348272371, \"2023-01-01\", 5, \"shopping\", \"carta\", \"true\"),\n",
    "            (348272371, \"2023-01-01\", 6, \"salute\", \"cash\", \"false\"),\n",
    "            (348272371, \"2023-01-01\", 8, \"trasporti\", \"cash\", \"false\"),\n",
    "            (348272371, \"2023-01-01\", 1, \"trasporti\", \"carta\", \"true\"),\n",
    "            (348272371, \"2023-01-06\", 20, \"shopping\", \"bitcoin\", \"false\"),\n",
    "            (348272371, \"2023-01-06\", 43, \"shopping\", \"carta\", \"true\"),\n",
    "            (348272371, \"2023-01-06\", 72, \"shopping\", \"cash\", \"false\"),\n",
    "            (234984832, \"2023-01-01\", 15, \"salute\", \"carta\", \"true\"),\n",
    "            (234984832, \"2023-01-01\", 36, \"salute\", \"carta\", \"true\"),\n",
    "            (234984832, \"2023-01-01\", 78, \"salute\", \"cash\", \"false\"),\n",
    "            (234984832, \"2023-01-02\", 2, \"trasporti\", \"carta\", \"true\"),\n",
    "        ],\n",
    "        schema=[\n",
    "            \"ID_BIC_CLIENTE\",\n",
    "            \"DATA_TRANSAZIONE\",\n",
    "            \"IMPORTO\",\n",
    "            \"CA_CATEGORY_LIV0\",\n",
    "            \"METODO_PAGAMENTO\",\n",
    "            \"IS_CARTA\",\n",
    "        ],\n",
    "    )\n",
    "\n",
    "    return cast_column_to_timestamp(df=df, col_name=\"DATA_TRANSAZIONE\")\n",
    "\n",
    "data_df = sample_dataframe_01(spark)\n",
    "data_df.show()"
   ]
  },
  {
   "cell_type": "code",
   "execution_count": 21,
   "metadata": {},
   "outputs": [],
   "source": [
    "time_zone=\"Europe/Rome\"\n",
    "time_column_name=\"DATA_TRANSAZIONE\"\n",
    "time_bucket_size=1\n",
    "time_bucket_granularity=\"days\"\n",
    "numerical_col_name=[\"IMPORTO\"]\n",
    "all_aggregation_filters=[ \n",
    "                            [(\"METODO_PAGAMENTO\", [])],\n",
    "                            [(\"CA_CATEGORY_LIV0\", [\"shopping\",\"salute\"])], \n",
    "                            [(\"CA_CATEGORY_LIV0\", [\"shopping\"]),(\"CA_CATEGORY_LIV0\", [\"salute\"])],\n",
    "                            [(\"IS_CARTA\", [\"false\"]),(\"METODO_PAGAMENTO\", [\"carta\"])],\n",
    "                            [(\"IS_CARTA\", [\"true\"]),(\"METODO_PAGAMENTO\", [\"chash\", \"bitcoin\"])],\n",
    "                        ]\n",
    "agg_funcs=[\"sum\"]\n",
    "time_bucket_col_name=\"bucket\"\n",
    "identifier_cols_name=[\"ID_BIC_CLIENTE\"]\n",
    "new_timestamp_col_name=\"new_timestamp\""
   ]
  },
  {
   "cell_type": "code",
   "execution_count": 22,
   "metadata": {},
   "outputs": [
    {
     "name": "stdout",
     "output_type": "stream",
     "text": [
      "+--------------+-------------------+-------+----------------+----------------+--------+------------------------------------------+\n",
      "|ID_BIC_CLIENTE|DATA_TRANSAZIONE   |IMPORTO|CA_CATEGORY_LIV0|METODO_PAGAMENTO|IS_CARTA|bucket                                    |\n",
      "+--------------+-------------------+-------+----------------+----------------+--------+------------------------------------------+\n",
      "|348272371     |2023-01-01 00:00:00|5      |shopping        |carta           |true    |{2022-12-31 01:00:00, 2023-01-01 01:00:00}|\n",
      "|348272371     |2023-01-01 00:00:00|6      |salute          |cash            |false   |{2022-12-31 01:00:00, 2023-01-01 01:00:00}|\n",
      "|348272371     |2023-01-01 00:00:00|8      |trasporti       |cash            |false   |{2022-12-31 01:00:00, 2023-01-01 01:00:00}|\n",
      "|348272371     |2023-01-01 00:00:00|1      |trasporti       |carta           |true    |{2022-12-31 01:00:00, 2023-01-01 01:00:00}|\n",
      "|348272371     |2023-01-06 00:00:00|20     |shopping        |bitcoin         |false   |{2023-01-05 01:00:00, 2023-01-06 01:00:00}|\n",
      "|348272371     |2023-01-06 00:00:00|43     |shopping        |carta           |true    |{2023-01-05 01:00:00, 2023-01-06 01:00:00}|\n",
      "|348272371     |2023-01-06 00:00:00|72     |shopping        |cash            |false   |{2023-01-05 01:00:00, 2023-01-06 01:00:00}|\n",
      "|234984832     |2023-01-01 00:00:00|15     |salute          |carta           |true    |{2022-12-31 01:00:00, 2023-01-01 01:00:00}|\n",
      "|234984832     |2023-01-01 00:00:00|36     |salute          |carta           |true    |{2022-12-31 01:00:00, 2023-01-01 01:00:00}|\n",
      "|234984832     |2023-01-01 00:00:00|78     |salute          |cash            |false   |{2022-12-31 01:00:00, 2023-01-01 01:00:00}|\n",
      "|234984832     |2023-01-02 00:00:00|2      |trasporti       |carta           |true    |{2023-01-01 01:00:00, 2023-01-02 01:00:00}|\n",
      "+--------------+-------------------+-------+----------------+----------------+--------+------------------------------------------+\n",
      "\n"
     ]
    }
   ],
   "source": [
    "#### TIME BUCKETING\n",
    "time_bucket_step =  TimeBucketing(\n",
    "        time_zone=time_zone,\n",
    "        time_column_name=time_column_name,\n",
    "        time_bucket_size=time_bucket_size,\n",
    "        time_bucket_granularity=time_bucket_granularity, # type: ignore\n",
    "        time_bucket_col_name=time_bucket_col_name,\n",
    "    )\n",
    "\n",
    "time_bucket_df = time_bucket_step(data_df, spark)\n",
    "time_bucket_df.show(truncate=False)"
   ]
  },
  {
   "cell_type": "code",
   "execution_count": 25,
   "metadata": {},
   "outputs": [
    {
     "name": "stdout",
     "output_type": "stream",
     "text": [
      "+--------------+-------+----------------+----------------+--------+------------+\n",
      "|ID_BIC_CLIENTE|IMPORTO|CA_CATEGORY_LIV0|METODO_PAGAMENTO|IS_CARTA|bucket      |\n",
      "+--------------+-------+----------------+----------------+--------+------------+\n",
      "|348272371     |5      |shopping        |carta           |true    |{null, null}|\n",
      "|348272371     |6      |salute          |cash            |false   |{null, null}|\n",
      "|348272371     |8      |trasporti       |cash            |false   |{null, null}|\n",
      "|348272371     |1      |trasporti       |carta           |true    |{null, null}|\n",
      "|348272371     |20     |shopping        |bitcoin         |false   |{null, null}|\n",
      "|348272371     |43     |shopping        |carta           |true    |{null, null}|\n",
      "|348272371     |72     |shopping        |cash            |false   |{null, null}|\n",
      "|234984832     |15     |salute          |carta           |true    |{null, null}|\n",
      "|234984832     |36     |salute          |carta           |true    |{null, null}|\n",
      "|234984832     |78     |salute          |cash            |false   |{null, null}|\n",
      "|234984832     |2      |trasporti       |carta           |true    |{null, null}|\n",
      "+--------------+-------+----------------+----------------+--------+------------+\n",
      "\n"
     ]
    }
   ],
   "source": [
    "\n",
    "df_before_agg = spark.createDataFrame(\n",
    "    data=[\n",
    "        (348272371, \"2023-01-01\", \"2023-01-02\", 5, \"shopping\", \"carta\", \"true\"),\n",
    "        (348272371, \"2023-01-01\", \"2023-01-02\", 6, \"salute\", \"cash\", \"false\"),\n",
    "        (348272371, \"2023-01-01\", \"2023-01-02\", 8, \"trasporti\", \"cash\", \"false\"),\n",
    "        (348272371, \"2023-01-01\", \"2023-01-02\", 1, \"trasporti\", \"carta\", \"true\"),\n",
    "        (\n",
    "            348272371,\n",
    "            \"2023-01-06\",\n",
    "            \"2023-01-07\",\n",
    "            20,\n",
    "            \"shopping\",\n",
    "            \"bitcoin\",\n",
    "            \"false\",\n",
    "        ),\n",
    "        (348272371, \"2023-01-06\", \"2023-01-07\", 43, \"shopping\", \"carta\", \"true\"),\n",
    "        (348272371, \"2023-01-06\", \"2023-01-07\", 72, \"shopping\", \"cash\", \"false\"),\n",
    "        (234984832, \"2023-01-01\", \"2023-01-01\", 15, \"salute\", \"carta\", \"true\"),\n",
    "        (234984832, \"2023-01-01\", \"2023-01-01\", 36, \"salute\", \"carta\", \"true\"),\n",
    "        (234984832, \"2023-01-01\", \"2023-01-01\", 78, \"salute\", \"cash\", \"false\"),\n",
    "        (234984832, \"2023-01-02\", \"2023-01-02\", 2, \"trasporti\", \"carta\", \"true\"),\n",
    "    ],\n",
    "    schema=[\n",
    "        \"ID_BIC_CLIENTE\",\n",
    "        \"bucket_start\",\n",
    "        \"bucket_end\",\n",
    "        \"IMPORTO\",\n",
    "        \"CA_CATEGORY_LIV0\",\n",
    "        \"METODO_PAGAMENTO\",\n",
    "        \"IS_CARTA\",\n",
    "    ],\n",
    ")\n",
    "\n",
    "df_before_agg = create_timestamps_struct(\n",
    "    df=df_before_agg, cols_name=(\"bucket_start\", \"bucket_end\"), struct_col_name=\"bucket\", format=\"yyyy-MM-dd HH:mm:ss\",\n",
    ")\n",
    "\n",
    "df_before_agg.show(truncate=False)"
   ]
  },
  {
   "cell_type": "code",
   "execution_count": null,
   "metadata": {},
   "outputs": [
    {
     "name": "stdout",
     "output_type": "stream",
     "text": [
      "pivot\n",
      "pivot\n",
      "+--------------+------------------------------------------+---------------------------------------+--------------------------------------+-----------------------------------------+------------------------------------------+----------------------------------------+----------------------------------------------------+------------------------------------------------------------------+-------------------------------------------------------------------------+\n",
      "|ID_BIC_CLIENTE|bucket                                    |sum_IMPORTO_by_METODO_PAGAMENTO_(carta)|sum_IMPORTO_by_METODO_PAGAMENTO_(cash)|sum_IMPORTO_by_METODO_PAGAMENTO_(bitcoin)|sum_IMPORTO_by_CA_CATEGORY_LIV0_(shopping)|sum_IMPORTO_by_CA_CATEGORY_LIV0_(salute)|sum_of_IMPORTO_by_CA_CATEGORY_LIV0_(shopping_salute)|sum_of_IMPORTO_by_IS_CARTA_(false)_and_by_METODO_PAGAMENTO_(carta)|sum_of_IMPORTO_by_IS_CARTA_(true)_and_by_METODO_PAGAMENTO_(chash_bitcoin)|\n",
      "+--------------+------------------------------------------+---------------------------------------+--------------------------------------+-----------------------------------------+------------------------------------------+----------------------------------------+----------------------------------------------------+------------------------------------------------------------------+-------------------------------------------------------------------------+\n",
      "|348272371     |{2023-01-05 01:00:00, 2023-01-06 01:00:00}|43                                     |72                                    |20                                       |135                                       |null                                    |135                                                 |null                                                              |null                                                                     |\n",
      "|234984832     |{2022-12-31 01:00:00, 2023-01-01 01:00:00}|51                                     |78                                    |null                                     |null                                      |129                                     |129                                                 |null                                                              |null                                                                     |\n",
      "|234984832     |{2023-01-01 01:00:00, 2023-01-02 01:00:00}|2                                      |null                                  |null                                     |null                                      |null                                    |null                                                |null                                                              |null                                                                     |\n",
      "|348272371     |{2022-12-31 01:00:00, 2023-01-01 01:00:00}|6                                      |14                                    |null                                     |5                                         |6                                       |11                                                  |null                                                              |null                                                                     |\n",
      "+--------------+------------------------------------------+---------------------------------------+--------------------------------------+-----------------------------------------+------------------------------------------+----------------------------------------+----------------------------------------------------+------------------------------------------------------------------+-------------------------------------------------------------------------+\n",
      "\n"
     ]
    }
   ],
   "source": [
    "#### AGGREGATION\n",
    "aggregation_step =  Aggregation(\n",
    "    numerical_col_name=numerical_col_name,\n",
    "    identifier_cols_name=identifier_cols_name,\n",
    "    all_aggregation_filters=all_aggregation_filters,\n",
    "    agg_funcs=agg_funcs,\n",
    ")\n",
    "\n",
    "\n",
    "aggregated_df = aggregation_step(time_bucket_df, spark)\n",
    "aggregated_df.show(truncate=False)"
   ]
  },
  {
   "cell_type": "code",
   "execution_count": 18,
   "metadata": {},
   "outputs": [
    {
     "name": "stdout",
     "output_type": "stream",
     "text": [
      "+--------------+-------------------+---------------------------------------+--------------------------------------+-----------------------------------------+------------------------------------------+----------------------------------------+----------------------------------------------------+------------------------------------------------------------------+-------------------------------------------------------------------------+\n",
      "|ID_BIC_CLIENTE|new_timestamp      |sum_IMPORTO_by_METODO_PAGAMENTO_(carta)|sum_IMPORTO_by_METODO_PAGAMENTO_(cash)|sum_IMPORTO_by_METODO_PAGAMENTO_(bitcoin)|sum_IMPORTO_by_CA_CATEGORY_LIV0_(shopping)|sum_IMPORTO_by_CA_CATEGORY_LIV0_(salute)|sum_of_IMPORTO_by_CA_CATEGORY_LIV0_(shopping_salute)|sum_of_IMPORTO_by_IS_CARTA_(false)_and_by_METODO_PAGAMENTO_(carta)|sum_of_IMPORTO_by_IS_CARTA_(true)_and_by_METODO_PAGAMENTO_(chash_bitcoin)|\n",
      "+--------------+-------------------+---------------------------------------+--------------------------------------+-----------------------------------------+------------------------------------------+----------------------------------------+----------------------------------------------------+------------------------------------------------------------------+-------------------------------------------------------------------------+\n",
      "|348272371     |2022-12-31 01:00:00|6                                      |14                                    |0                                        |5                                         |6                                       |11                                                  |0                                                                 |0                                                                        |\n",
      "|348272371     |2023-01-01 01:00:00|0                                      |0                                     |0                                        |0                                         |0                                       |0                                                   |0                                                                 |0                                                                        |\n",
      "|348272371     |2023-01-02 01:00:00|0                                      |0                                     |0                                        |0                                         |0                                       |0                                                   |0                                                                 |0                                                                        |\n",
      "|348272371     |2023-01-03 01:00:00|0                                      |0                                     |0                                        |0                                         |0                                       |0                                                   |0                                                                 |0                                                                        |\n",
      "|348272371     |2023-01-04 01:00:00|0                                      |0                                     |0                                        |0                                         |0                                       |0                                                   |0                                                                 |0                                                                        |\n",
      "|348272371     |2023-01-05 01:00:00|43                                     |72                                    |20                                       |135                                       |0                                       |135                                                 |0                                                                 |0                                                                        |\n",
      "|348272371     |2023-01-06 01:00:00|0                                      |0                                     |0                                        |0                                         |0                                       |0                                                   |0                                                                 |0                                                                        |\n",
      "|234984832     |2022-12-31 01:00:00|51                                     |78                                    |0                                        |0                                         |129                                     |129                                                 |0                                                                 |0                                                                        |\n",
      "|234984832     |2023-01-01 01:00:00|2                                      |0                                     |0                                        |0                                         |0                                       |0                                                   |0                                                                 |0                                                                        |\n",
      "|234984832     |2023-01-02 01:00:00|0                                      |0                                     |0                                        |0                                         |0                                       |0                                                   |0                                                                 |0                                                                        |\n",
      "+--------------+-------------------+---------------------------------------+--------------------------------------+-----------------------------------------+------------------------------------------+----------------------------------------+----------------------------------------------------+------------------------------------------------------------------+-------------------------------------------------------------------------+\n",
      "\n"
     ]
    }
   ],
   "source": [
    "#### Filter\n",
    "filling_step = Filling(\n",
    "        time_bucket_col_name=time_bucket_col_name,\n",
    "        identifier_cols_name=identifier_cols_name,\n",
    "        time_bucket_size=time_bucket_size,\n",
    "        time_bucket_granularity=time_bucket_granularity, # type: ignore\n",
    "        new_timestamp_col_name=new_timestamp_col_name,\n",
    "    )\n",
    "filled_df = filling_step(aggregated_df, spark)\n",
    "filled_df.show(truncate=False)"
   ]
  },
  {
   "cell_type": "code",
   "execution_count": null,
   "metadata": {},
   "outputs": [],
   "source": []
  },
  {
   "cell_type": "code",
   "execution_count": null,
   "metadata": {},
   "outputs": [],
   "source": []
  },
  {
   "cell_type": "code",
   "execution_count": null,
   "metadata": {},
   "outputs": [],
   "source": []
  },
  {
   "cell_type": "code",
   "execution_count": 11,
   "metadata": {},
   "outputs": [
    {
     "name": "stdout",
     "output_type": "stream",
     "text": [
      "+--------------+------------------------------------------+---------------------------------------+--------------------------------------+-----------------------------------------+------------------------------------------+----------------------------------------+----------------------------------------------------+------------------------------------------------------------------+-------------------------------------------------------------------------+\n",
      "|ID_BIC_CLIENTE|bucket                                    |sum_IMPORTO_by_METODO_PAGAMENTO_(carta)|sum_IMPORTO_by_METODO_PAGAMENTO_(cash)|sum_IMPORTO_by_METODO_PAGAMENTO_(bitcoin)|sum_IMPORTO_by_CA_CATEGORY_LIV0_(shopping)|sum_IMPORTO_by_CA_CATEGORY_LIV0_(salute)|sum_of_IMPORTO_by_CA_CATEGORY_LIV0_(shopping_salute)|sum_of_IMPORTO_by_IS_CARTA_(false)_and_by_METODO_PAGAMENTO_(carta)|sum_of_IMPORTO_by_IS_CARTA_(true)_and_by_METODO_PAGAMENTO_(chash_bitcoin)|\n",
      "+--------------+------------------------------------------+---------------------------------------+--------------------------------------+-----------------------------------------+------------------------------------------+----------------------------------------+----------------------------------------------------+------------------------------------------------------------------+-------------------------------------------------------------------------+\n",
      "|234984832     |{2022-12-31 01:00:00, 2023-01-01 01:00:00}|51                                     |78                                    |0                                        |0                                         |129                                     |129                                                 |0                                                                 |0                                                                        |\n",
      "|234984832     |{2023-01-01 01:00:00, 2023-01-02 01:00:00}|2                                      |0                                     |0                                        |0                                         |0                                       |0                                                   |0                                                                 |0                                                                        |\n",
      "|348272371     |{2022-12-31 01:00:00, 2023-01-01 01:00:00}|6                                      |14                                    |0                                        |5                                         |6                                       |11                                                  |0                                                                 |0                                                                        |\n",
      "|348272371     |{2023-01-05 01:00:00, 2023-01-06 01:00:00}|43                                     |72                                    |20                                       |135                                       |0                                       |135                                                 |0                                                                 |0                                                                        |\n",
      "+--------------+------------------------------------------+---------------------------------------+--------------------------------------+-----------------------------------------+------------------------------------------+----------------------------------------+----------------------------------------------------+------------------------------------------------------------------+-------------------------------------------------------------------------+\n",
      "\n"
     ]
    }
   ],
   "source": [
    "from pyspark.sql import SparkSession, Row\n",
    "from pyspark.sql.types import StructType, StructField, StringType, FloatType\n",
    "from typing import *\n",
    "from pyspark_assert import assert_frame_equal  # type: ignore\n",
    "\n",
    "from pyspark.sql.dataframe import DataFrame\n",
    "from pyspark.sql import functions as F\n",
    "from pyspark.sql.types import DataTypeSingleton, DateType, TimestampType\n",
    "from pyspark.sql.types import StringType, BooleanType\n",
    "from pyspark.sql.types import (\n",
    "    ByteType,\n",
    "    ShortType,\n",
    "    IntegerType,\n",
    "    LongType,\n",
    "    FloatType,\n",
    "    ArrayType,\n",
    "    DoubleType,\n",
    ")\n",
    "\n",
    "def create_timestamps_struct(\n",
    "    df: DataFrame,\n",
    "    cols_name: Tuple[str, str],\n",
    "    struct_col_name: str,\n",
    "    struct_fields_name: Tuple[str, str] = (\"start\", \"end\"),\n",
    "    format: str = \"yyyy-MM-dd\",\n",
    ") -> DataFrame:\n",
    "    return df.withColumn(\n",
    "        struct_col_name,\n",
    "        F.struct(\n",
    "            F.to_timestamp(F.col(cols_name[0]), format).alias(struct_fields_name[0]),\n",
    "            F.to_timestamp(F.col(cols_name[1]), format).alias(struct_fields_name[1]),\n",
    "        ),\n",
    "    ).drop(*cols_name)\n",
    "\n",
    "# Creazione della SparkSession\n",
    "#spark = SparkSession.builder.appName(\"DataFrameCreation\").getOrCreate()\n",
    "\n",
    "spark.conf.set(\"spark.sql.session.timeZone\", \"Europe/Rome\")\n",
    "\n",
    "# Schema del DataFrame\n",
    "schema = [\n",
    "    \"ID_BIC_CLIENTE\", \n",
    "    \"bucket_start\",\n",
    "    \"bucket_end\",\n",
    "    \"sum_IMPORTO_by_METODO_PAGAMENTO_(carta)\", \n",
    "    \"sum_IMPORTO_by_METODO_PAGAMENTO_(cash)\", \n",
    "    \"sum_IMPORTO_by_METODO_PAGAMENTO_(bitcoin)\", \n",
    "    \"sum_IMPORTO_by_CA_CATEGORY_LIV0_(shopping)\", \n",
    "    \"sum_IMPORTO_by_CA_CATEGORY_LIV0_(salute)\", \n",
    "    \"sum_of_IMPORTO_by_CA_CATEGORY_LIV0_(shopping_salute)\", \n",
    "    \"sum_of_IMPORTO_by_IS_CARTA_(false)_and_by_METODO_PAGAMENTO_(carta)\", \n",
    "    \"sum_of_IMPORTO_by_IS_CARTA_(true)_and_by_METODO_PAGAMENTO_(chash_bitcoin)\", \n",
    "]\n",
    "\n",
    "# Dati per il DataFrame\n",
    "data = [\n",
    "    (348272371, \"2023-01-05 01:00:00\", \"2023-01-06 01:00:00\", 43, 72, 20, 135, 0,135, 0,0 ),\n",
    "    (234984832, \"2022-12-31 01:00:00\", \"2023-01-01 01:00:00\", 51,78,0,0,129,129,0,0),\n",
    "    (234984832, \"2023-01-01 01:00:00\", \"2023-01-02 01:00:00\", 2,0,0,0,0,0,0,0),\n",
    "    (348272371, \"2022-12-31 01:00:00\", \"2023-01-01 01:00:00\", 6,14,0,5,6,11,0,0),\n",
    "]\n",
    "\n",
    "# Creazione del DataFrame\n",
    "expected_df = spark.createDataFrame(data, schema)\n",
    "\n",
    "expected_df =  create_timestamps_struct(\n",
    "        df=expected_df, cols_name=(\"bucket_start\", \"bucket_end\"), struct_col_name=\"bucket\", format=\"yyyy-MM-dd HH:mm:ss\"\n",
    "    )\n",
    "\n",
    "# Riordina le colonne\n",
    "expected_df = expected_df.select(\"ID_BIC_CLIENTE\", \"bucket\",\n",
    "               \"sum_IMPORTO_by_METODO_PAGAMENTO_(carta)\", \"sum_IMPORTO_by_METODO_PAGAMENTO_(cash)\",\n",
    "               \"sum_IMPORTO_by_METODO_PAGAMENTO_(bitcoin)\", \"sum_IMPORTO_by_CA_CATEGORY_LIV0_(shopping)\",\n",
    "               \"sum_IMPORTO_by_CA_CATEGORY_LIV0_(salute)\", \"sum_of_IMPORTO_by_CA_CATEGORY_LIV0_(shopping_salute)\",\n",
    "               \"sum_of_IMPORTO_by_IS_CARTA_(false)_and_by_METODO_PAGAMENTO_(carta)\",\n",
    "               \"sum_of_IMPORTO_by_IS_CARTA_(true)_and_by_METODO_PAGAMENTO_(chash_bitcoin)\")\n",
    "\n",
    "expected_df = expected_df.orderBy([\"ID_BIC_CLIENTE\", \"bucket\"])\n",
    "\n",
    "# Visualizzare il DataFrame risultante\n",
    "expected_df.show(truncate=False)\n",
    "\n"
   ]
  },
  {
   "cell_type": "code",
   "execution_count": 8,
   "metadata": {},
   "outputs": [
    {
     "data": {
      "text/plain": [
       "StructType([StructField('ID_BIC_CLIENTE', LongType(), True), StructField('bucket', StructType([StructField('start', TimestampType(), True), StructField('end', TimestampType(), True)]), False), StructField('sum_IMPORTO_by_METODO_PAGAMENTO_(carta)', LongType(), True), StructField('sum_IMPORTO_by_METODO_PAGAMENTO_(cash)', LongType(), True), StructField('sum_IMPORTO_by_METODO_PAGAMENTO_(bitcoin)', LongType(), True), StructField('sum_IMPORTO_by_CA_CATEGORY_LIV0_(shopping)', LongType(), True), StructField('sum_IMPORTO_by_CA_CATEGORY_LIV0_(salute)', LongType(), True), StructField('sum_of_IMPORTO_by_CA_CATEGORY_LIV0_(shopping_salute)', LongType(), True), StructField('sum_of_IMPORTO_by_IS_CARTA_(false)_and_by_METODO_PAGAMENTO_(carta)', LongType(), True), StructField('sum_of_IMPORTO_by_IS_CARTA_(true)_and_by_METODO_PAGAMENTO_(chash_bitcoin)', LongType(), True)])"
      ]
     },
     "execution_count": 8,
     "metadata": {},
     "output_type": "execute_result"
    }
   ],
   "source": [
    "expected_df.schema"
   ]
  },
  {
   "cell_type": "code",
   "execution_count": 9,
   "metadata": {},
   "outputs": [],
   "source": [
    "assert_frame_equal(\n",
    "        expected_df,\n",
    "        aggregated_df.fillna(0),\n",
    "        check_metadata=False,\n",
    "        check_column_order=False,\n",
    "        check_row_order=False,\n",
    "        check_nullable=False,\n",
    "    )"
   ]
  },
  {
   "cell_type": "code",
   "execution_count": null,
   "metadata": {},
   "outputs": [],
   "source": []
  },
  {
   "cell_type": "code",
   "execution_count": 10,
   "metadata": {},
   "outputs": [
    {
     "name": "stdout",
     "output_type": "stream",
     "text": [
      "+--------------+--------------------+---------------------------------------+--------------------------------------+-----------------------------------------+------------------------------------------+----------------------------------------+----------------------------------------------------+------------------------------------------------------------------+-------------------------------------------------------------------------+\n",
      "|ID_BIC_CLIENTE|              bucket|sum_IMPORTO_by_METODO_PAGAMENTO_(carta)|sum_IMPORTO_by_METODO_PAGAMENTO_(cash)|sum_IMPORTO_by_METODO_PAGAMENTO_(bitcoin)|sum_IMPORTO_by_CA_CATEGORY_LIV0_(shopping)|sum_IMPORTO_by_CA_CATEGORY_LIV0_(salute)|sum_of_IMPORTO_by_CA_CATEGORY_LIV0_(shopping_salute)|sum_of_IMPORTO_by_IS_CARTA_(false)_and_by_METODO_PAGAMENTO_(carta)|sum_of_IMPORTO_by_IS_CARTA_(true)_and_by_METODO_PAGAMENTO_(chash_bitcoin)|\n",
      "+--------------+--------------------+---------------------------------------+--------------------------------------+-----------------------------------------+------------------------------------------+----------------------------------------+----------------------------------------------------+------------------------------------------------------------------+-------------------------------------------------------------------------+\n",
      "|     348272371|{2023-01-05 01:00...|                                     43|                                    72|                                       20|                                       135|                                    null|                                                 135|                                                              null|                                                                     null|\n",
      "|     234984832|{2022-12-31 01:00...|                                     51|                                    78|                                     null|                                      null|                                     129|                                                 129|                                                              null|                                                                     null|\n",
      "|     234984832|{2023-01-01 01:00...|                                      2|                                  null|                                     null|                                      null|                                    null|                                                null|                                                              null|                                                                     null|\n",
      "|     348272371|{2022-12-31 01:00...|                                      6|                                    14|                                     null|                                         5|                                       6|                                                  11|                                                              null|                                                                     null|\n",
      "+--------------+--------------------+---------------------------------------+--------------------------------------+-----------------------------------------+------------------------------------------+----------------------------------------+----------------------------------------------------+------------------------------------------------------------------+-------------------------------------------------------------------------+\n",
      "\n"
     ]
    },
    {
     "name": "stderr",
     "output_type": "stream",
     "text": [
      "23/07/26 16:03:58 WARN GarbageCollectionMetrics: To enable non-built-in garbage collector(s) List(G1 Concurrent GC), users should configure it(them) to spark.eventLog.gcMetrics.youngGenerationGarbageCollectors or spark.eventLog.gcMetrics.oldGenerationGarbageCollectors\n"
     ]
    }
   ],
   "source": [
    "aggregated_df.show()"
   ]
  },
  {
   "cell_type": "code",
   "execution_count": null,
   "metadata": {},
   "outputs": [],
   "source": []
  },
  {
   "cell_type": "code",
   "execution_count": null,
   "metadata": {},
   "outputs": [],
   "source": []
  },
  {
   "cell_type": "code",
   "execution_count": null,
   "metadata": {},
   "outputs": [],
   "source": []
  },
  {
   "cell_type": "code",
   "execution_count": null,
   "metadata": {},
   "outputs": [],
   "source": []
  }
 ],
 "metadata": {
  "kernelspec": {
   "display_name": "ts_train",
   "language": "python",
   "name": "python3"
  },
  "language_info": {
   "codemirror_mode": {
    "name": "ipython",
    "version": 3
   },
   "file_extension": ".py",
   "mimetype": "text/x-python",
   "name": "python",
   "nbconvert_exporter": "python",
   "pygments_lexer": "ipython3",
   "version": "3.9.17"
  },
  "orig_nbformat": 4
 },
 "nbformat": 4,
 "nbformat_minor": 2
}

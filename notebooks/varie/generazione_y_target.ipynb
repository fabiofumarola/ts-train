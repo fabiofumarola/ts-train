{
 "cells": [
  {
   "cell_type": "code",
   "execution_count": 11,
   "metadata": {},
   "outputs": [],
   "source": [
    "import pandas as pd\n",
    "from pathlib import Path"
   ]
  },
  {
   "cell_type": "code",
   "execution_count": 17,
   "metadata": {},
   "outputs": [
    {
     "data": {
      "text/plain": [
       "2554752"
      ]
     },
     "execution_count": 17,
     "metadata": {},
     "output_type": "execute_result"
    }
   ],
   "source": [
    "total_ds = len(list(Path('../../../dataset_offline/bic_target_stima_reddito.csv').glob(\"*.csv\")))"
   ]
  },
  {
   "cell_type": "code",
   "execution_count": 14,
   "metadata": {},
   "outputs": [
    {
     "name": "stdout",
     "output_type": "stream",
     "text": [
      "ID_CLIENTE_BIC    53248\n",
      "dtype: int64\n",
      "ID_CLIENTE_BIC    53248\n",
      "dtype: int64\n",
      "ID_CLIENTE_BIC    52224\n",
      "dtype: int64\n",
      "ID_CLIENTE_BIC    53248\n",
      "dtype: int64\n",
      "ID_CLIENTE_BIC    53248\n",
      "dtype: int64\n",
      "ID_CLIENTE_BIC    53248\n",
      "dtype: int64\n",
      "ID_CLIENTE_BIC    53248\n",
      "dtype: int64\n",
      "ID_CLIENTE_BIC    52224\n",
      "dtype: int64\n",
      "ID_CLIENTE_BIC    52224\n",
      "dtype: int64\n",
      "ID_CLIENTE_BIC    52224\n",
      "dtype: int64\n",
      "ID_CLIENTE_BIC    52224\n",
      "dtype: int64\n",
      "ID_CLIENTE_BIC    53248\n",
      "dtype: int64\n",
      "ID_CLIENTE_BIC    52224\n",
      "dtype: int64\n",
      "ID_CLIENTE_BIC    52224\n",
      "dtype: int64\n",
      "ID_CLIENTE_BIC    52224\n",
      "dtype: int64\n",
      "ID_CLIENTE_BIC    53248\n",
      "dtype: int64\n",
      "ID_CLIENTE_BIC    53248\n",
      "dtype: int64\n",
      "ID_CLIENTE_BIC    52224\n",
      "dtype: int64\n",
      "ID_CLIENTE_BIC    52224\n",
      "dtype: int64\n",
      "ID_CLIENTE_BIC    52224\n",
      "dtype: int64\n",
      "ID_CLIENTE_BIC    52224\n",
      "dtype: int64\n",
      "ID_CLIENTE_BIC    53248\n",
      "dtype: int64\n",
      "ID_CLIENTE_BIC    52224\n",
      "dtype: int64\n",
      "ID_CLIENTE_BIC    52224\n",
      "dtype: int64\n",
      "ID_CLIENTE_BIC    53248\n",
      "dtype: int64\n",
      "ID_CLIENTE_BIC    53248\n",
      "dtype: int64\n",
      "ID_CLIENTE_BIC    52224\n",
      "dtype: int64\n",
      "ID_CLIENTE_BIC    53248\n",
      "dtype: int64\n",
      "ID_CLIENTE_BIC    53248\n",
      "dtype: int64\n",
      "ID_CLIENTE_BIC    52224\n",
      "dtype: int64\n",
      "ID_CLIENTE_BIC    53248\n",
      "dtype: int64\n",
      "ID_CLIENTE_BIC    53248\n",
      "dtype: int64\n",
      "ID_CLIENTE_BIC    52224\n",
      "dtype: int64\n",
      "ID_CLIENTE_BIC    53248\n",
      "dtype: int64\n",
      "ID_CLIENTE_BIC    52224\n",
      "dtype: int64\n",
      "ID_CLIENTE_BIC    52940\n",
      "dtype: int64\n",
      "ID_CLIENTE_BIC    52224\n",
      "dtype: int64\n",
      "ID_CLIENTE_BIC    53248\n",
      "dtype: int64\n",
      "ID_CLIENTE_BIC    52224\n",
      "dtype: int64\n",
      "ID_CLIENTE_BIC    52224\n",
      "dtype: int64\n",
      "ID_CLIENTE_BIC    52224\n",
      "dtype: int64\n",
      "ID_CLIENTE_BIC    53248\n",
      "dtype: int64\n",
      "ID_CLIENTE_BIC    53248\n",
      "dtype: int64\n",
      "ID_CLIENTE_BIC    53248\n",
      "dtype: int64\n",
      "ID_CLIENTE_BIC    53248\n",
      "dtype: int64\n",
      "ID_CLIENTE_BIC    52224\n",
      "dtype: int64\n",
      "ID_CLIENTE_BIC    52224\n",
      "dtype: int64\n",
      "ID_CLIENTE_BIC    53248\n",
      "dtype: int64\n",
      "ID_CLIENTE_BIC    2531020\n",
      "dtype: int64\n"
     ]
    }
   ],
   "source": [
    "# load csv to pandas\n",
    "df1 = pd.read_csv('../../../dataset_offline/bic_target_stima_reddito.csv/part-00000-tid-2662329857650203138-9e0a3331-3d9e-46d7-b302-4ddbe7f06e62-20263-1-c000.csv')\n",
    "print(df1.count())\n",
    "\n",
    "for ds_path in Path('../../../dataset_offline/bic_target_stima_reddito.csv').glob(\"*.csv\"):\n",
    "    if ds_path.name == 'part-00000-tid-2662329857650203138-9e0a3331-3d9e-46d7-b302-4ddbe7f06e62-20263-1-c000.csv':\n",
    "        continue\n",
    "    df2 = pd.read_csv(ds_path)\n",
    "    print(df2.count())\n",
    "\n",
    "    df1 = pd.concat([df1, df2])\n",
    "\n",
    "print(df1.count())\n"
   ]
  },
  {
   "cell_type": "code",
   "execution_count": null,
   "metadata": {},
   "outputs": [],
   "source": [
    "    "
   ]
  },
  {
   "cell_type": "code",
   "execution_count": 18,
   "metadata": {},
   "outputs": [
    {
     "data": {
      "text/plain": [
       "ID_CLIENTE_BIC    2531020\n",
       "dtype: int64"
      ]
     },
     "execution_count": 18,
     "metadata": {},
     "output_type": "execute_result"
    }
   ],
   "source": [
    "df1.head()\n",
    "df1.count()"
   ]
  },
  {
   "cell_type": "code",
   "execution_count": 19,
   "metadata": {},
   "outputs": [],
   "source": [
    "#dump df to paquet \n",
    "df1.to_parquet('../../../dataset_offline/bic_target_stima_reddito.parquet')"
   ]
  },
  {
   "cell_type": "code",
   "execution_count": 23,
   "metadata": {},
   "outputs": [],
   "source": [
    "from pyspark.sql import SparkSession\n",
    "\n",
    "# Create a SparkSession\n",
    "spark = SparkSession.builder \\\n",
    "    .appName(\"feature_generation\") \\\n",
    "    .getOrCreate()\n"
   ]
  },
  {
   "cell_type": "code",
   "execution_count": 24,
   "metadata": {},
   "outputs": [],
   "source": [
    "timeseries_df = spark.read.parquet(\"../../../dataset_offline/timeseries.parquet\") \n",
    "all_target_df = spark.read.parquet(\"../../../dataset_offline/bic_target_stima_reddito.parquet\")"
   ]
  },
  {
   "cell_type": "code",
   "execution_count": 25,
   "metadata": {},
   "outputs": [],
   "source": [
    "# get all id_cliente_bic in common between timeseries and target\n",
    "id_cliente_bic_in_common = timeseries_df.select('id_cliente_bic').intersect(all_target_df.select('id_cliente_bic')).distinct()"
   ]
  },
  {
   "cell_type": "code",
   "execution_count": 28,
   "metadata": {},
   "outputs": [
    {
     "data": {
      "text/plain": [
       "136"
      ]
     },
     "execution_count": 28,
     "metadata": {},
     "output_type": "execute_result"
    }
   ],
   "source": [
    "id_cliente_bic_in_common.count()"
   ]
  },
  {
   "cell_type": "code",
   "execution_count": null,
   "metadata": {},
   "outputs": [],
   "source": []
  }
 ],
 "metadata": {
  "kernelspec": {
   "display_name": "ts_train",
   "language": "python",
   "name": "python3"
  },
  "language_info": {
   "codemirror_mode": {
    "name": "ipython",
    "version": 3
   },
   "file_extension": ".py",
   "mimetype": "text/x-python",
   "name": "python",
   "nbconvert_exporter": "python",
   "pygments_lexer": "ipython3",
   "version": "3.11.4"
  },
  "orig_nbformat": 4
 },
 "nbformat": 4,
 "nbformat_minor": 2
}

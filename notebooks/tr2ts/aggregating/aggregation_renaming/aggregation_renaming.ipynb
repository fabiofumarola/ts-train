{
 "cells": [
  {
   "cell_type": "code",
   "execution_count": 4,
   "metadata": {},
   "outputs": [],
   "source": [
    "from typing import *\n",
    "\n",
    "from ts_train.step.aggregating import Aggregating, Aggregation, Filter, Pivot, AndGroup, OrGroup"
   ]
  },
  {
   "cell_type": "code",
   "execution_count": 5,
   "metadata": {},
   "outputs": [],
   "source": [
    "# Renamed as: \n",
    "# - sum(IMPORTO)_where_IS_CARTA=true&CA_CATEGORY_LIV0=shopping\n",
    "# - sum(IMPORTO)_where_IS_CARTA=true&CA_CATEGORY_LIV0=salute\n",
    "# - sum(IMPORTO)_where_IS_CARTA=true&CA_CATEGORY_LIV0=trasporti\n",
    "agg1 = Aggregation(\n",
    "    numerical_col_name=\"IMPORTO\",\n",
    "    agg_function=\"sum\",\n",
    "    filters=[\n",
    "        Filter(\"IS_CARTA\", \"=\", True)\n",
    "    ],\n",
    "    pivot=Pivot(\"CA_CATEGORY_LIV0\", \"in\", [\"shopping\", \"salute\", \"trasporti\"]),\n",
    ")\n",
    "\n",
    "# Renamed as: \n",
    "# - somma_dello_importo_con_carta_per_categoria_shopping\n",
    "# - somma_dello_importo_con_carta_per_categoria_salute\n",
    "# - somma_dello_importo_con_carta_per_categoria_trasporti\n",
    "agg1b = Aggregation(\n",
    "    numerical_col_name=\"IMPORTO\",\n",
    "    agg_function=\"sum\",\n",
    "    filters=[\n",
    "        Filter(\"IS_CARTA\", \"=\", True)\n",
    "    ],\n",
    "    pivot=Pivot(\"CA_CATEGORY_LIV0\", \"in\", [\"shopping\", \"salute\", \"trasporti\"]),\n",
    "    new_col_name=\"somma_dello_importo_con_carta_per_categoria_\"\n",
    ")"
   ]
  },
  {
   "cell_type": "code",
   "execution_count": 6,
   "metadata": {},
   "outputs": [],
   "source": [
    "# Renamed as: sum(IMPORTO)_where_IS_CARTA=true\n",
    "agg2 = Aggregation(\n",
    "    numerical_col_name=\"IMPORTO\",\n",
    "    agg_function=\"sum\",\n",
    "    filters=[\n",
    "        Filter(\"IS_CARTA\", \"=\", True)\n",
    "    ],\n",
    ")\n",
    "\n",
    "# Renamed as: somma_dello_importo_con_carta\n",
    "agg2b = Aggregation(\n",
    "    numerical_col_name=\"IMPORTO\",\n",
    "    agg_function=\"sum\",\n",
    "    filters=[\n",
    "        Filter(\"IS_CARTA\", \"=\", True)\n",
    "    ],\n",
    "    new_col_name=\"somma_dello_importo_con_carta\",\n",
    ")"
   ]
  },
  {
   "cell_type": "code",
   "execution_count": 7,
   "metadata": {},
   "outputs": [],
   "source": [
    "# Renamed as: \n",
    "# - sum(IMPORTO)_where_CA_CATEGORY_LIV0=shopping\n",
    "# - sum(IMPORTO)_where_CA_CATEGORY_LIV0=salute\n",
    "# - sum(IMPORTO)_where_CA_CATEGORY_LIV0=trasporti\n",
    "agg3 = Aggregation(\n",
    "    numerical_col_name=\"IMPORTO\",\n",
    "    agg_function=\"sum\",\n",
    "    pivot=Pivot(\"CA_CATEGORY_LIV0\", \"in\", [\"shopping\", \"salute\", \"trasporti\"]),\n",
    ")\n",
    "\n",
    "# Renamed as: \n",
    "# - somma_dello_importo_per_categoria_shopping\n",
    "# - somma_dello_importo_per_categoria_salute\n",
    "# - somma_dello_importo_per_categoria_trasporti\n",
    "agg3b = Aggregation(\n",
    "    numerical_col_name=\"IMPORTO\",\n",
    "    agg_function=\"sum\",\n",
    "    pivot=Pivot(\"CA_CATEGORY_LIV0\", \"in\", [\"shopping\", \"salute\", \"trasporti\"]),\n",
    "    new_col_name=\"somma_dello_importo_per_categoria_\",\n",
    ")"
   ]
  },
  {
   "cell_type": "code",
   "execution_count": 11,
   "metadata": {},
   "outputs": [],
   "source": [
    "aggregating = Aggregating(\n",
    "    identifier_cols_name=[\"ID_BIC_CLIENT\"],\n",
    "    time_bucket_cols_name=[\"bucket\"],\n",
    "    aggregations=[agg1]\n",
    ")"
   ]
  },
  {
   "cell_type": "code",
   "execution_count": 12,
   "metadata": {},
   "outputs": [
    {
     "name": "stdout",
     "output_type": "stream",
     "text": [
      "CA_CATEGORY_LIV0[shopping_salute_trasporti]\n",
      "IS_CARTA=True\n",
      "IMPORTO<100\n"
     ]
    }
   ],
   "source": [
    "print(aggregating._generate_filter_name(Filter(\"CA_CATEGORY_LIV0\", \"in\", [\"shopping\", \"salute\", \"trasporti\"])))\n",
    "print(aggregating._generate_filter_name(Filter(\"IS_CARTA\", \"==\", True)))\n",
    "print(aggregating._generate_filter_name(Filter(\"IMPORTO\", \"<\", 100)))"
   ]
  },
  {
   "cell_type": "code",
   "execution_count": 13,
   "metadata": {},
   "outputs": [
    {
     "name": "stdout",
     "output_type": "stream",
     "text": [
      "CA_CATEGORY_LIV0[shopping_salute_trasporti]&IS_CARTA=True\n",
      "spese&(IMPORTO<200|IMPORTO>100)\n",
      "CA_CATEGORY_LIV0[shopping_salute_trasporti]&((IMPORTO<200|IMPORTO>100)&IS_CARTA=True)\n",
      "CA_CATEGORY_LIV0[shopping_salute_trasporti]&carta_tra_100_e_200\n"
     ]
    }
   ],
   "source": [
    "print(aggregating._generate_filters_name(filters=[\n",
    "    Filter(\"CA_CATEGORY_LIV0\", \"in\", [\"shopping\", \"salute\", \"trasporti\"]),\n",
    "    Filter(\"IS_CARTA\", \"==\", True)\n",
    "]))\n",
    "print(aggregating._generate_filters_name(filters=[\n",
    "    Filter(\"CA_CATEGORY_LIV0\", \"in\", [\"shopping\", \"salute\", \"trasporti\"], name=\"spese\"),\n",
    "    OrGroup([\n",
    "        Filter(\"IMPORTO\", \"<\", 200),\n",
    "        Filter(\"IMPORTO\", \">\", 100)\n",
    "    ])\n",
    "]))\n",
    "print(aggregating._generate_filters_name(filters=[\n",
    "    Filter(\"CA_CATEGORY_LIV0\", \"in\", [\"shopping\", \"salute\", \"trasporti\"]),\n",
    "    AndGroup([\n",
    "        OrGroup([\n",
    "            Filter(\"IMPORTO\", \"<\", 200),\n",
    "            Filter(\"IMPORTO\", \">\", 100)\n",
    "        ]),\n",
    "        Filter(\"IS_CARTA\", \"==\", True)\n",
    "    ])\n",
    "]))\n",
    "print(aggregating._generate_filters_name(filters=[\n",
    "    Filter(\"CA_CATEGORY_LIV0\", \"in\", [\"shopping\", \"salute\", \"trasporti\"]),\n",
    "    AndGroup([\n",
    "        OrGroup([\n",
    "            Filter(\"IMPORTO\", \"<\", 200),\n",
    "            Filter(\"IMPORTO\", \">\", 100)\n",
    "        ]),\n",
    "        Filter(\"IS_CARTA\", \"==\", True)\n",
    "    ], name=\"carta_tra_100_e_200\")\n",
    "]))"
   ]
  },
  {
   "cell_type": "code",
   "execution_count": 14,
   "metadata": {},
   "outputs": [
    {
     "name": "stdout",
     "output_type": "stream",
     "text": [
      "['CA_CATEGORY_LIV0=shopping', 'CA_CATEGORY_LIV0=salute', 'CA_CATEGORY_LIV0=trasporti']\n",
      "['categoria_shopping', 'categoria_salute', 'categoria_trasporti']\n",
      "['categoria(shopping)', 'categoria(salute)', 'categoria(trasporti)']\n",
      "['shopping', 'salute', 'trasporti']\n"
     ]
    }
   ],
   "source": [
    "print(aggregating._generate_pivot_names(pivot=Pivot(\"CA_CATEGORY_LIV0\", \"in\", [\"shopping\", \"salute\", \"trasporti\"])))\n",
    "print(aggregating._generate_pivot_names(pivot=Pivot(\"CA_CATEGORY_LIV0\", \"in\", [\"shopping\", \"salute\", \"trasporti\"], name=\"categoria_\")))\n",
    "print(aggregating._generate_pivot_names(pivot=Pivot(\"CA_CATEGORY_LIV0\", \"in\", [\"shopping\", \"salute\", \"trasporti\"], name=\"categoria(PIVOTVALUE)\")))\n",
    "print(aggregating._generate_pivot_names(pivot=Pivot(\"CA_CATEGORY_LIV0\", \"in\", [\"shopping\", \"salute\", \"trasporti\"], name=\"PIVOTVALUE\")))"
   ]
  },
  {
   "cell_type": "code",
   "execution_count": 15,
   "metadata": {},
   "outputs": [
    {
     "name": "stdout",
     "output_type": "stream",
     "text": [
      "['sum(IMPORTO)_where_IS_CARTA=True_CA_CATEGORY_LIV0=shopping', 'sum(IMPORTO)_where_IS_CARTA=True_CA_CATEGORY_LIV0=salute', 'sum(IMPORTO)_where_IS_CARTA=True_CA_CATEGORY_LIV0=trasporti']\n",
      "['somma_dello_importo_CA_CATEGORY_LIV0=shopping', 'somma_dello_importo_CA_CATEGORY_LIV0=salute', 'somma_dello_importo_CA_CATEGORY_LIV0=trasporti']\n",
      "['sum_of_IMPORTO_CA_CATEGORY_LIV0=shopping', 'sum_of_IMPORTO_CA_CATEGORY_LIV0=salute', 'sum_of_IMPORTO_CA_CATEGORY_LIV0=trasporti']\n",
      "['aggregazione01_con_filtri_IS_CARTA=True_CA_CATEGORY_LIV0=shopping', 'aggregazione01_con_filtri_IS_CARTA=True_CA_CATEGORY_LIV0=salute', 'aggregazione01_con_filtri_IS_CARTA=True_CA_CATEGORY_LIV0=trasporti']\n",
      "['aggregazione01_con_filtri_IS_CARTA=True_shopping', 'aggregazione01_con_filtri_IS_CARTA=True_salute', 'aggregazione01_con_filtri_IS_CARTA=True_trasporti']\n"
     ]
    }
   ],
   "source": [
    "print(aggregating._generate_new_cols_name(agg1))\n",
    "print(aggregating._generate_new_cols_name(agg1, pattern=\"somma_dello_importo\"))\n",
    "print(aggregating._generate_new_cols_name(agg1, pattern=\"FUNCTION_of_NUMERICAL\"))\n",
    "print(aggregating._generate_new_cols_name(agg1, pattern=\"aggregazione01_con_filtri_FILTERS_PIVOT\"))\n",
    "print(aggregating._generate_new_cols_name(agg1, pattern=\"aggregazione01_con_filtri_FILTERS_PIVOTVALUE\"))"
   ]
  }
 ],
 "metadata": {
  "kernelspec": {
   "display_name": "transactionsanalysis",
   "language": "python",
   "name": "python3"
  },
  "language_info": {
   "codemirror_mode": {
    "name": "ipython",
    "version": 3
   },
   "file_extension": ".py",
   "mimetype": "text/x-python",
   "name": "python",
   "nbconvert_exporter": "python",
   "pygments_lexer": "ipython3",
   "version": "3.11.4"
  },
  "orig_nbformat": 4
 },
 "nbformat": 4,
 "nbformat_minor": 2
}

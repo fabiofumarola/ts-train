{
 "cells": [
  {
   "cell_type": "code",
   "execution_count": 1,
   "metadata": {},
   "outputs": [],
   "source": [
    "import timeit\n",
    "\n",
    "from pyspark.sql.dataframe import DataFrame\n",
    "from pyspark.sql import SparkSession\n",
    "\n",
    "from ts_train.step.time_bucketing import TimeBucketing\n",
    "from ts_train.step.aggregation import Aggregation"
   ]
  },
  {
   "cell_type": "code",
   "execution_count": 2,
   "metadata": {},
   "outputs": [
    {
     "name": "stderr",
     "output_type": "stream",
     "text": [
      "Setting default log level to \"WARN\".\n",
      "To adjust logging level use sc.setLogLevel(newLevel). For SparkR, use setLogLevel(newLevel).\n",
      "23/07/27 17:38:40 WARN NativeCodeLoader: Unable to load native-hadoop library for your platform... using builtin-java classes where applicable\n"
     ]
    }
   ],
   "source": [
    "spark = SparkSession.builder.getOrCreate()"
   ]
  },
  {
   "cell_type": "code",
   "execution_count": 3,
   "metadata": {},
   "outputs": [
    {
     "name": "stderr",
     "output_type": "stream",
     "text": [
      "                                                                                \r"
     ]
    }
   ],
   "source": [
    "df = spark.read \\\n",
    "    .option(\"header\", \"true\") \\\n",
    "    .option(\"inferSchema\", \"true\") \\\n",
    "    .option(\"delimiter\", \"|\") \\\n",
    "    .option(\"encoding\", \"utf-8\") \\\n",
    "    .option(\"multiline\", \"False\") \\\n",
    "    .csv(\"../../data/df_ts.csv\")"
   ]
  },
  {
   "cell_type": "code",
   "execution_count": 4,
   "metadata": {},
   "outputs": [
    {
     "name": "stdout",
     "output_type": "stream",
     "text": [
      "+---------------+--------------+----------------+-------------------+-------+-----+--------------+--------+-----------+---------------+------+------+--------------------+--------------------+--------------------+-----+------+-----------+\n",
      "|ARCA_TIPO_CARTA|DATA_CONTABILE|DATA_TRANSAZIONE|    ORA_TRANSAZIONE|IMPORTO|SEGNO|ID_CLIENTE_BIC|IS_CARTA|TIPO_CANALE|TIPO_CANALE_AGG|IS_BON|IS_SDD|       CATEGORY_LIV0|       CATEGORY_LIV1|       CATEGORY_LIV2|IS_CC|IS_LIB|   MERCHANT|\n",
      "+---------------+--------------+----------------+-------------------+-------+-----+--------------+--------+-----------+---------------+------+------+--------------------+--------------------+--------------------+-----+------+-----------+\n",
      "|      EVOLUTION|    2022-01-22|      2022-01-20|2023-07-27 11:25:47|   0.97|    -|    1301589529|    true|WEB_ESTERNO|        DIGITAL| false| false|            shopping|                null|                null|false| false|ali express|\n",
      "|      EVOLUTION|    2022-01-25|      2022-01-22|2023-07-27 18:48:38|   0.97|    -|      47165987|    true|      ALTRO|          ALTRO| false| false|scambio_soldi_tra...|                null|                null|false| false|       null|\n",
      "|CARTA_PREPAGATA|    2022-01-14|      2022-01-12|2023-07-27 16:13:12|   0.97|    -|      43416144|    true|      ALTRO|          ALTRO| false| false|            shopping|                null|                null|false| false|       null|\n",
      "|      EVOLUTION|    2022-01-08|      2022-01-06|2023-07-27 13:45:46|   0.97|    -|    1392844265|    true|WEB_ESTERNO|        DIGITAL| false| false|        tempo_libero|                null|                null|false| false|       null|\n",
      "|      EVOLUTION|    2022-01-11|      2022-01-06|2023-07-27 20:20:05|   0.97|    -|    1335320644|    true|      ALTRO|          ALTRO| false| false|   non_categorizzato|                null|                null|false| false|       null|\n",
      "|      EVOLUTION|    2022-01-11|      2022-01-07|2023-07-27 10:58:30|   0.97|    -|    1394930823|    true|WEB_ESTERNO|        DIGITAL| false| false|   non_categorizzato|                null|                null|false| false|       null|\n",
      "|   CARTA_DEBITO|    2022-02-02|      2022-01-31|2023-07-27 12:36:29|   0.97|    -|      41944024|    true|WEB_ESTERNO|        DIGITAL| false| false|           trasporti|                auto|parcheggi_garage_...|false| false|  easy park|\n",
      "|      EVOLUTION|    2022-02-03|      2022-01-31|2023-07-27 00:00:00|   0.97|    -|    1398049799|    true|WEB_ESTERNO|        DIGITAL| false| false|   non_categorizzato|                null|                null|false| false|       null|\n",
      "|CARTA_PREPAGATA|    2022-01-05|      2022-01-03|2023-07-27 18:23:44|   0.97|    -|      87062386|    true|WEB_ESTERNO|        DIGITAL| false| false|           trasporti|                auto|parcheggi_garage_...|false| false|  easy park|\n",
      "|CARTA_PREPAGATA|    2022-01-19|      2022-01-17|2023-07-27 18:11:03|   0.97|    -|    1382498933|    true|WEB_ESTERNO|        DIGITAL| false| false|            shopping|                null|                null|false| false|       kiko|\n",
      "|      EVOLUTION|    2022-01-05|      2022-01-02|2023-07-27 17:24:00|   0.97|    -|      52821415|    true|WEB_ESTERNO|        DIGITAL| false| false|              salute|medicine_parafarm...|                null|false| false|       null|\n",
      "|CARTA_PREPAGATA|    2022-01-05|      2022-01-03|2023-07-27 18:23:13|   0.97|    -|      53794356|    true|WEB_ESTERNO|        DIGITAL| false| false|        tempo_libero|               sport|                null|false| false|  decathlon|\n",
      "|      EVOLUTION|    2022-01-15|      2022-01-13|2023-07-27 10:27:37|   0.97|    -|    1010094709|    true|      ALTRO|          ALTRO| false| false|              salute|visite_mediche_esami|                null|false| false|       null|\n",
      "|      EVOLUTION|    2022-01-27|      2022-01-25|2023-07-27 05:19:42|   0.97|    -|      54574654|    true|WEB_ESTERNO|        DIGITAL| false| false|   non_categorizzato|                null|                null|false| false|       null|\n",
      "|CARTA_PREPAGATA|    2022-01-25|      2022-01-21|2023-07-27 13:35:47|   0.97|    -|      76893691|    true|      ALTRO|          ALTRO| false| false|        tempo_libero|associazioni_circoli|                null|false| false|       null|\n",
      "|CARTA_PREPAGATA|    2022-01-27|      2022-01-25|2023-07-27 18:14:55|   0.97|    -|      40910166|    true|WEB_ESTERNO|        DIGITAL| false| false|servizi_professio...|                null|                null|false| false|   facebook|\n",
      "|CARTA_PREPAGATA|    2022-01-21|      2022-01-19|2023-07-27 18:17:45|   0.97|    -|      78578297|    true|WEB_ESTERNO|        DIGITAL| false| false|           trasporti|                auto|parcheggi_garage_...|false| false|  easy park|\n",
      "|      EVOLUTION|    2022-01-25|      2022-01-23|2023-07-27 02:38:42|   0.97|    +|      48373033|    true|      ALTRO|          ALTRO| false| false|              viaggi|     alberghi_bb_etc|                null|false| false|       null|\n",
      "|      EVOLUTION|    2022-01-18|      2022-01-16|2023-07-27 14:36:35|   0.97|    -|     153503234|    true|      ALTRO|          ALTRO| false| false|              salute|visite_mediche_esami|                null|false| false|       null|\n",
      "|      EVOLUTION|    2022-01-27|      2022-01-25|2023-07-27 00:00:00|   0.97|    -|    1318534809|    true|WEB_ESTERNO|        DIGITAL| false| false|   non_categorizzato|                null|                null|false| false|       null|\n",
      "+---------------+--------------+----------------+-------------------+-------+-----+--------------+--------+-----------+---------------+------+------+--------------------+--------------------+--------------------+-----+------+-----------+\n",
      "only showing top 20 rows\n",
      "\n"
     ]
    }
   ],
   "source": [
    "df.show()"
   ]
  },
  {
   "cell_type": "code",
   "execution_count": 5,
   "metadata": {},
   "outputs": [
    {
     "data": {
      "text/plain": [
       "960404"
      ]
     },
     "execution_count": 5,
     "metadata": {},
     "output_type": "execute_result"
    }
   ],
   "source": [
    "df.count()"
   ]
  },
  {
   "cell_type": "code",
   "execution_count": 6,
   "metadata": {},
   "outputs": [],
   "source": [
    "df_big = df\n",
    "iterations = 200\n",
    "for i in range(iterations-1):\n",
    "    df_big = df_big.union(df)"
   ]
  },
  {
   "cell_type": "code",
   "execution_count": 7,
   "metadata": {},
   "outputs": [
    {
     "name": "stderr",
     "output_type": "stream",
     "text": [
      "23/07/27 17:38:50 WARN GarbageCollectionMetrics: To enable non-built-in garbage collector(s) List(G1 Concurrent GC), users should configure it(them) to spark.eventLog.gcMetrics.youngGenerationGarbageCollectors or spark.eventLog.gcMetrics.oldGenerationGarbageCollectors\n",
      "                                                                                \r"
     ]
    },
    {
     "data": {
      "text/plain": [
       "192080800"
      ]
     },
     "execution_count": 7,
     "metadata": {},
     "output_type": "execute_result"
    }
   ],
   "source": [
    "df_big.count()"
   ]
  },
  {
   "cell_type": "code",
   "execution_count": 8,
   "metadata": {},
   "outputs": [],
   "source": [
    "time_bucketing = TimeBucketing(\n",
    "    time_zone=\"Europe/Rome\",\n",
    "    time_column_name=\"DATA_TRANSAZIONE\",\n",
    "    time_bucket_size=1,\n",
    "    time_bucket_granularity=\"day\",\n",
    "    time_bucket_col_name=\"bucket\",\n",
    ")\n",
    "\n",
    "aggregation = Aggregation(\n",
    "    numerical_col_name=[\"IMPORTO\"],\n",
    "    identifier_cols_name=[\"ID_CLIENTE_BIC\"],\n",
    "    all_aggregation_filters=[[(\"CATEGORY_LIV0\", [])]],\n",
    "    agg_funcs=[\"sum\"],\n",
    ")"
   ]
  },
  {
   "cell_type": "code",
   "execution_count": 9,
   "metadata": {},
   "outputs": [
    {
     "name": "stderr",
     "output_type": "stream",
     "text": [
      "                                                                                \r"
     ]
    }
   ],
   "source": [
    "bucketed_df = time_bucketing(df=df_big, spark=spark)"
   ]
  },
  {
   "cell_type": "code",
   "execution_count": 10,
   "metadata": {},
   "outputs": [
    {
     "name": "stderr",
     "output_type": "stream",
     "text": [
      "23/07/27 17:40:08 WARN DAGScheduler: Broadcasting large task binary with size 1036.3 KiB\n",
      "23/07/27 17:41:49 WARN DAGScheduler: Broadcasting large task binary with size 1036.3 KiB\n",
      "23/07/27 17:43:29 WARN DAGScheduler: Broadcasting large task binary with size 1036.3 KiB\n",
      "23/07/27 17:45:06 WARN DAGScheduler: Broadcasting large task binary with size 1036.3 KiB\n",
      "23/07/27 17:46:54 WARN DAGScheduler: Broadcasting large task binary with size 1036.3 KiB\n",
      "23/07/27 17:48:56 WARN DAGScheduler: Broadcasting large task binary with size 1036.3 KiB\n",
      "23/07/27 17:50:48 WARN DAGScheduler: Broadcasting large task binary with size 1036.3 KiB\n",
      "23/07/27 17:52:31 WARN DAGScheduler: Broadcasting large task binary with size 1036.3 KiB\n",
      "[Stage 57:===================================================>(1593 + 7) / 1600]\r"
     ]
    },
    {
     "name": "stdout",
     "output_type": "stream",
     "text": [
      "1min 46s ± 8.28 s per loop (mean ± std. dev. of 7 runs, 1 loop each)\n"
     ]
    },
    {
     "name": "stderr",
     "output_type": "stream",
     "text": [
      "                                                                                \r"
     ]
    }
   ],
   "source": [
    "%%timeit\n",
    "\n",
    "aggregated_df = aggregation(df=bucketed_df, spark=spark)"
   ]
  },
  {
   "cell_type": "markdown",
   "metadata": {},
   "source": [
    "### 960404 transactions\n",
    "\n",
    "With precalculated options\n",
    "\n",
    "907 ms ± 48.6 ms per loop (mean ± std. dev. of 7 runs, 1 loop each)\n",
    "\n",
    "Without options\n",
    "\n",
    "792 ms ± 39.1 ms per loop (mean ± std. dev. of 7 runs, 1 loop each)"
   ]
  },
  {
   "cell_type": "markdown",
   "metadata": {},
   "source": [
    "### 192080800 transactions\n",
    "\n",
    "With precalculated options\n",
    "\n",
    "1min 46s ± 8.28 s per loop (mean ± std. dev. of 7 runs, 1 loop each)\n",
    "\n",
    "Without options\n",
    "\n",
    "2min 33s ± 2.79 s per loop (mean ± std. dev. of 7 runs, 1 loop each)"
   ]
  },
  {
   "cell_type": "code",
   "execution_count": null,
   "metadata": {},
   "outputs": [],
   "source": []
  }
 ],
 "metadata": {
  "kernelspec": {
   "display_name": "pyspark",
   "language": "python",
   "name": "python3"
  },
  "language_info": {
   "codemirror_mode": {
    "name": "ipython",
    "version": 3
   },
   "file_extension": ".py",
   "mimetype": "text/x-python",
   "name": "python",
   "nbconvert_exporter": "python",
   "pygments_lexer": "ipython3",
   "version": "3.11.4"
  },
  "orig_nbformat": 4
 },
 "nbformat": 4,
 "nbformat_minor": 2
}

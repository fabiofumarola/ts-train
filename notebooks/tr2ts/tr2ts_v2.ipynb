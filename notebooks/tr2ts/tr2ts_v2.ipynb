{
 "cells": [
  {
   "cell_type": "code",
   "execution_count": 18,
   "metadata": {},
   "outputs": [],
   "source": [
    "from pyspark.sql import SparkSession, Window\n",
    "import pyspark.sql.functions as F"
   ]
  },
  {
   "cell_type": "code",
   "execution_count": 19,
   "metadata": {},
   "outputs": [],
   "source": [
    "spark = SparkSession \\\n",
    "    .builder \\\n",
    "    .appName(\"PySpark Experimentation\") \\\n",
    "    .getOrCreate()"
   ]
  },
  {
   "cell_type": "code",
   "execution_count": 20,
   "metadata": {},
   "outputs": [],
   "source": [
    "data_df = spark.createDataFrame([\n",
    "    (1, \"2023-06-01\", 5, \"option_1\"),\n",
    "    (1, \"2023-06-01\", 6, \"option_2\"),\n",
    "    (1, \"2023-06-02\", 7, \"option_1\"),\n",
    "    (1, \"2023-06-06\", 4, \"option_1\"),\n",
    "    (2, \"2023-06-03\", 10, \"option_2\"),\n",
    "    (2, \"2023-06-03\", 13, \"option_2\"),\n",
    "], schema=['id', 'timestamp', 'amount', \"categorical_feature\"])\n",
    "\n",
    "data_df = data_df.withColumn(\"timestamp\", F.to_timestamp(F.col(\"timestamp\"), \"yyyy-MM-dd\"))"
   ]
  },
  {
   "cell_type": "code",
   "execution_count": 21,
   "metadata": {},
   "outputs": [
    {
     "name": "stdout",
     "output_type": "stream",
     "text": [
      "root\n",
      " |-- id: long (nullable = true)\n",
      " |-- timestamp: timestamp (nullable = true)\n",
      " |-- amount: long (nullable = true)\n",
      " |-- categorical_feature: string (nullable = true)\n",
      "\n"
     ]
    }
   ],
   "source": [
    "data_df.printSchema()"
   ]
  },
  {
   "cell_type": "code",
   "execution_count": 22,
   "metadata": {},
   "outputs": [
    {
     "name": "stdout",
     "output_type": "stream",
     "text": [
      "+---+-------------------+------+-------------------+\n",
      "| id|          timestamp|amount|categorical_feature|\n",
      "+---+-------------------+------+-------------------+\n",
      "|  1|2023-06-01 00:00:00|     5|           option_1|\n",
      "|  1|2023-06-01 00:00:00|     6|           option_2|\n",
      "|  1|2023-06-02 00:00:00|     7|           option_1|\n",
      "|  1|2023-06-06 00:00:00|     4|           option_1|\n",
      "|  2|2023-06-03 00:00:00|    10|           option_2|\n",
      "|  2|2023-06-03 00:00:00|    13|           option_2|\n",
      "+---+-------------------+------+-------------------+\n",
      "\n"
     ]
    }
   ],
   "source": [
    "data_df.show()"
   ]
  },
  {
   "cell_type": "code",
   "execution_count": 23,
   "metadata": {},
   "outputs": [],
   "source": [
    "utf_shift_hours = 2\n",
    "windows_size = \"2 days\""
   ]
  },
  {
   "cell_type": "code",
   "execution_count": 24,
   "metadata": {},
   "outputs": [],
   "source": [
    "window_column = F.window(timeColumn=F.col(\"timestamp\"), windowDuration=windows_size, startTime=f\"-{utf_shift_hours} hours\")"
   ]
  },
  {
   "cell_type": "code",
   "execution_count": 25,
   "metadata": {},
   "outputs": [],
   "source": [
    "data_df = data_df.withColumn(\"window\", window_column)"
   ]
  },
  {
   "cell_type": "code",
   "execution_count": 26,
   "metadata": {},
   "outputs": [
    {
     "name": "stdout",
     "output_type": "stream",
     "text": [
      "+---+-------------------+------+-------------------+------------------------------------------+\n",
      "|id |timestamp          |amount|categorical_feature|window                                    |\n",
      "+---+-------------------+------+-------------------+------------------------------------------+\n",
      "|1  |2023-06-01 00:00:00|5     |option_1           |{2023-05-31 00:00:00, 2023-06-02 00:00:00}|\n",
      "|1  |2023-06-01 00:00:00|6     |option_2           |{2023-05-31 00:00:00, 2023-06-02 00:00:00}|\n",
      "|1  |2023-06-02 00:00:00|7     |option_1           |{2023-06-02 00:00:00, 2023-06-04 00:00:00}|\n",
      "|1  |2023-06-06 00:00:00|4     |option_1           |{2023-06-06 00:00:00, 2023-06-08 00:00:00}|\n",
      "|2  |2023-06-03 00:00:00|10    |option_2           |{2023-06-02 00:00:00, 2023-06-04 00:00:00}|\n",
      "|2  |2023-06-03 00:00:00|13    |option_2           |{2023-06-02 00:00:00, 2023-06-04 00:00:00}|\n",
      "+---+-------------------+------+-------------------+------------------------------------------+\n",
      "\n"
     ]
    }
   ],
   "source": [
    "data_df.show(truncate=False)"
   ]
  },
  {
   "cell_type": "code",
   "execution_count": 27,
   "metadata": {},
   "outputs": [
    {
     "name": "stdout",
     "output_type": "stream",
     "text": [
      "+---+--------------------+--------+--------+\n",
      "| id|              window|option_1|option_2|\n",
      "+---+--------------------+--------+--------+\n",
      "|  1|{2023-05-31 00:00...|       1|       1|\n",
      "|  1|{2023-06-06 00:00...|       1|    null|\n",
      "|  2|{2023-06-02 00:00...|    null|       2|\n",
      "|  1|{2023-06-02 00:00...|       1|    null|\n",
      "+---+--------------------+--------+--------+\n",
      "\n"
     ]
    }
   ],
   "source": [
    "cat_grouped_df = data_df.groupBy(F.col(\"id\"), window_column).pivot(\"categorical_feature\").count()\n",
    "cat_grouped_df.show()"
   ]
  },
  {
   "cell_type": "code",
   "execution_count": 28,
   "metadata": {},
   "outputs": [
    {
     "name": "stdout",
     "output_type": "stream",
     "text": [
      "+---+--------------------+---+\n",
      "| id|              window|tot|\n",
      "+---+--------------------+---+\n",
      "|  1|{2023-05-31 00:00...| 11|\n",
      "|  1|{2023-06-02 00:00...|  7|\n",
      "|  1|{2023-06-06 00:00...|  4|\n",
      "|  2|{2023-06-02 00:00...| 23|\n",
      "+---+--------------------+---+\n",
      "\n"
     ]
    }
   ],
   "source": [
    "num_grouped_df = data_df.groupBy(F.col(\"id\"), window_column).agg(F.sum(\"amount\").alias(\"tot\"))\n",
    "num_grouped_df.show()"
   ]
  },
  {
   "cell_type": "code",
   "execution_count": 29,
   "metadata": {},
   "outputs": [
    {
     "name": "stdout",
     "output_type": "stream",
     "text": [
      "+---+--------------------+--------+--------+---+\n",
      "| id|              window|option_1|option_2|tot|\n",
      "+---+--------------------+--------+--------+---+\n",
      "|  1|{2023-05-31 00:00...|       1|       1| 11|\n",
      "|  1|{2023-06-02 00:00...|       1|    null|  7|\n",
      "|  1|{2023-06-06 00:00...|       1|    null|  4|\n",
      "|  2|{2023-06-02 00:00...|    null|       2| 23|\n",
      "+---+--------------------+--------+--------+---+\n",
      "\n"
     ]
    }
   ],
   "source": [
    "grouped_df = cat_grouped_df.join(num_grouped_df, on=[\"id\", \"window\"])\n",
    "grouped_df.show()"
   ]
  },
  {
   "cell_type": "code",
   "execution_count": 30,
   "metadata": {},
   "outputs": [
    {
     "name": "stdout",
     "output_type": "stream",
     "text": [
      "+---+--------------------+--------+--------+---+-------------------+\n",
      "| id|              window|option_1|option_2|tot|          timestamp|\n",
      "+---+--------------------+--------+--------+---+-------------------+\n",
      "|  1|{2023-05-31 00:00...|       1|       1| 11|2023-05-31 00:00:00|\n",
      "|  1|{2023-06-02 00:00...|       1|    null|  7|2023-06-02 00:00:00|\n",
      "|  1|{2023-06-06 00:00...|       1|    null|  4|2023-06-06 00:00:00|\n",
      "|  2|{2023-06-02 00:00...|    null|       2| 23|2023-06-02 00:00:00|\n",
      "+---+--------------------+--------+--------+---+-------------------+\n",
      "\n"
     ]
    }
   ],
   "source": [
    "grouped_df = grouped_df.withColumn(\"timestamp\", F.col(\"window\").start)\n",
    "# grouped_df = grouped_df.withColumn(\"window_end\", F.col(\"window\").end)\n",
    "\n",
    "grouped_df.show()"
   ]
  },
  {
   "cell_type": "code",
   "execution_count": 36,
   "metadata": {},
   "outputs": [
    {
     "name": "stdout",
     "output_type": "stream",
     "text": [
      "+---+-------------------+-------------------+\n",
      "| id|   min_window_start|     max_window_end|\n",
      "+---+-------------------+-------------------+\n",
      "|  1|2023-05-31 00:00:00|2023-06-08 00:00:00|\n",
      "|  2|2023-06-02 00:00:00|2023-06-04 00:00:00|\n",
      "+---+-------------------+-------------------+\n",
      "\n"
     ]
    }
   ],
   "source": [
    "ids_df = data_df.select(F.col(\"id\"), F.col(\"window\").start.alias(\"window_start\"), F.col(\"window\").end.alias(\"window_end\"))\n",
    "ids_df = ids_df.groupBy(\"id\").agg(F.min(\"window_start\").alias(\"min_window_start\"), F.max(\"window_end\").alias(\"max_window_end\"))\n",
    "ids_df.show()"
   ]
  },
  {
   "cell_type": "code",
   "execution_count": 37,
   "metadata": {},
   "outputs": [
    {
     "name": "stdout",
     "output_type": "stream",
     "text": [
      "+---+-------------------+\n",
      "| id|          timestamp|\n",
      "+---+-------------------+\n",
      "|  1|2023-05-31 00:00:00|\n",
      "|  1|2023-06-02 00:00:00|\n",
      "|  1|2023-06-04 00:00:00|\n",
      "|  1|2023-06-06 00:00:00|\n",
      "|  1|2023-06-08 00:00:00|\n",
      "|  2|2023-06-02 00:00:00|\n",
      "|  2|2023-06-04 00:00:00|\n",
      "+---+-------------------+\n",
      "\n"
     ]
    }
   ],
   "source": [
    "ids_timestamps_df = ids_df.withColumn(\"timestamps\", F.expr(f\"sequence(to_timestamp(min_window_start), to_timestamp(max_window_end), interval {windows_size})\")).drop(\"min_window_start\", \"max_window_end\")\n",
    "ids_timestamps_df = ids_timestamps_df.withColumn(\"timestamp\", F.explode(F.col(\"timestamps\"))).drop(\"timestamps\")\n",
    "ids_timestamps_df.show()"
   ]
  },
  {
   "cell_type": "code",
   "execution_count": 33,
   "metadata": {},
   "outputs": [
    {
     "name": "stdout",
     "output_type": "stream",
     "text": [
      "+---+-------------------+------+-------------------+--------------------+\n",
      "| id|          timestamp|amount|categorical_feature|              window|\n",
      "+---+-------------------+------+-------------------+--------------------+\n",
      "|  1|2023-06-01 00:00:00|     5|           option_1|{2023-05-31 00:00...|\n",
      "|  1|2023-06-01 00:00:00|     6|           option_2|{2023-05-31 00:00...|\n",
      "|  1|2023-06-02 00:00:00|     7|           option_1|{2023-06-02 00:00...|\n",
      "|  1|2023-06-06 00:00:00|     4|           option_1|{2023-06-06 00:00...|\n",
      "|  2|2023-06-03 00:00:00|    10|           option_2|{2023-06-02 00:00...|\n",
      "|  2|2023-06-03 00:00:00|    13|           option_2|{2023-06-02 00:00...|\n",
      "+---+-------------------+------+-------------------+--------------------+\n",
      "\n"
     ]
    }
   ],
   "source": [
    "data_df.show()"
   ]
  },
  {
   "cell_type": "code",
   "execution_count": 38,
   "metadata": {},
   "outputs": [
    {
     "name": "stdout",
     "output_type": "stream",
     "text": [
      "+---+-------------------+------------------------------------------+--------+--------+---+\n",
      "|id |timestamp          |window                                    |option_1|option_2|tot|\n",
      "+---+-------------------+------------------------------------------+--------+--------+---+\n",
      "|1  |2023-05-31 00:00:00|{2023-05-31 00:00:00, 2023-06-02 00:00:00}|1       |1       |11 |\n",
      "|1  |2023-06-02 00:00:00|{2023-06-02 00:00:00, 2023-06-04 00:00:00}|1       |0       |7  |\n",
      "|1  |2023-06-04 00:00:00|null                                      |0       |0       |0  |\n",
      "|1  |2023-06-06 00:00:00|{2023-06-06 00:00:00, 2023-06-08 00:00:00}|1       |0       |4  |\n",
      "|1  |2023-06-08 00:00:00|null                                      |0       |0       |0  |\n",
      "|2  |2023-06-02 00:00:00|{2023-06-02 00:00:00, 2023-06-04 00:00:00}|0       |2       |23 |\n",
      "|2  |2023-06-04 00:00:00|null                                      |0       |0       |0  |\n",
      "+---+-------------------+------------------------------------------+--------+--------+---+\n",
      "\n"
     ]
    }
   ],
   "source": [
    "group_on = (grouped_df.timestamp == ids_timestamps_df.timestamp) & (grouped_df.id == ids_timestamps_df.id)\n",
    "grouped_df.join(ids_timestamps_df, on=[\"id\", \"timestamp\"], how='right').fillna(0, subset=[\"tot\", \"option_1\", \"option_2\"]).show(truncate=False)"
   ]
  },
  {
   "cell_type": "code",
   "execution_count": null,
   "metadata": {},
   "outputs": [],
   "source": []
  }
 ],
 "metadata": {
  "kernelspec": {
   "display_name": "pyspark",
   "language": "python",
   "name": "python3"
  },
  "language_info": {
   "codemirror_mode": {
    "name": "ipython",
    "version": 3
   },
   "file_extension": ".py",
   "mimetype": "text/x-python",
   "name": "python",
   "nbconvert_exporter": "python",
   "pygments_lexer": "ipython3",
   "version": "3.11.4"
  },
  "orig_nbformat": 4
 },
 "nbformat": 4,
 "nbformat_minor": 2
}

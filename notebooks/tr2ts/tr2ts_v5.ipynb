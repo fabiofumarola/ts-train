{
 "cells": [
  {
   "cell_type": "code",
   "execution_count": 5,
   "metadata": {},
   "outputs": [],
   "source": [
    "from pyspark.sql import SparkSession, Window\n",
    "import pyspark.sql.functions as F"
   ]
  },
  {
   "cell_type": "code",
   "execution_count": 6,
   "metadata": {},
   "outputs": [
    {
     "name": "stderr",
     "output_type": "stream",
     "text": [
      "Setting default log level to \"WARN\".\n",
      "To adjust logging level use sc.setLogLevel(newLevel). For SparkR, use setLogLevel(newLevel).\n",
      "23/07/11 12:25:57 WARN NativeCodeLoader: Unable to load native-hadoop library for your platform... using builtin-java classes where applicable\n"
     ]
    }
   ],
   "source": [
    "spark = SparkSession \\\n",
    "    .builder \\\n",
    "    .appName(\"PySpark Experimentation\") \\\n",
    "    .getOrCreate()"
   ]
  },
  {
   "cell_type": "code",
   "execution_count": 18,
   "metadata": {},
   "outputs": [],
   "source": [
    "data_df = spark.createDataFrame([\n",
    "    (348272371, \"2023-01-01\", 5.50, \"shopping\", \"true\"),\n",
    "    (348272371, \"2023-01-01\", 6.10, \"salute\", \"false\"),\n",
    "    (348272371, \"2023-01-01\", 8.20, \"trasporti\", \"false\"),\n",
    "    (348272371, \"2023-01-01\", 1.50, \"trasporti\", \"true\"),\n",
    "    (348272371, \"2023-01-06\", 20.20, \"shopping\", \"false\"),\n",
    "    (348272371, \"2023-01-06\", 43.00, \"shopping\", \"true\"),\n",
    "    (348272371, \"2023-01-06\", 72.20, \"shopping\", \"false\"),\n",
    "    (234984832, \"2023-01-01\", 15.34, \"salute\", \"true\"),\n",
    "    (234984832, \"2023-01-01\", 36.22, \"salute\", \"true\"),\n",
    "    (234984832, \"2023-01-01\", 78.35, \"salute\", \"false\"),\n",
    "    (234984832, \"2023-01-02\", 2.20, \"trasporti\", \"true\"),\n",
    "], schema=[\"ID_BIC_CLIENTE\", \"DATA_TRANSAZIONE\", \"IMPORTO\", \"CA_CATEGORY_LIV0\", \"IS_CARTA\"])\n",
    "\n",
    "data_df = data_df.withColumn(\"DATA_TRANSAZIONE\", F.to_timestamp(F.col(\"DATA_TRANSAZIONE\"), \"yyyy-MM-dd\"))"
   ]
  },
  {
   "cell_type": "code",
   "execution_count": 19,
   "metadata": {},
   "outputs": [
    {
     "name": "stdout",
     "output_type": "stream",
     "text": [
      "root\n",
      " |-- ID_BIC_CLIENTE: long (nullable = true)\n",
      " |-- DATA_TRANSAZIONE: timestamp (nullable = true)\n",
      " |-- IMPORTO_SEGNO: double (nullable = true)\n",
      " |-- CA_CATEGORY_LIV0: string (nullable = true)\n",
      " |-- IS_CARTA: string (nullable = true)\n",
      "\n"
     ]
    }
   ],
   "source": [
    "data_df.printSchema()"
   ]
  },
  {
   "cell_type": "code",
   "execution_count": 20,
   "metadata": {},
   "outputs": [
    {
     "name": "stdout",
     "output_type": "stream",
     "text": [
      "+--------------+-------------------+-------------+----------------+--------+\n",
      "|ID_BIC_CLIENTE|   DATA_TRANSAZIONE|IMPORTO_SEGNO|CA_CATEGORY_LIV0|IS_CARTA|\n",
      "+--------------+-------------------+-------------+----------------+--------+\n",
      "|     348272371|2023-01-01 00:00:00|          5.5|        shopping|    true|\n",
      "|     348272371|2023-01-01 00:00:00|          6.1|          salute|   false|\n",
      "|     348272371|2023-01-01 00:00:00|          8.2|       trasporti|   false|\n",
      "|     348272371|2023-01-01 00:00:00|          1.5|       trasporti|    true|\n",
      "|     348272371|2023-01-04 00:00:00|         20.2|        shopping|   false|\n",
      "|     348272371|2023-01-04 00:00:00|         43.0|        shopping|    true|\n",
      "|     348272371|2023-01-04 00:00:00|         72.2|        shopping|   false|\n",
      "|     234984832|2023-01-01 00:00:00|        15.34|          salute|    true|\n",
      "|     234984832|2023-01-01 00:00:00|        36.22|          salute|    true|\n",
      "|     234984832|2023-01-01 00:00:00|        78.35|          salute|   false|\n",
      "|     234984832|2023-01-02 00:00:00|          2.2|       trasporti|    true|\n",
      "+--------------+-------------------+-------------+----------------+--------+\n",
      "\n"
     ]
    }
   ],
   "source": [
    "data_df.show()"
   ]
  },
  {
   "cell_type": "code",
   "execution_count": 21,
   "metadata": {},
   "outputs": [],
   "source": [
    "utf_shift_hours = 1\n",
    "windows_size = \"2 days\""
   ]
  },
  {
   "cell_type": "code",
   "execution_count": 22,
   "metadata": {},
   "outputs": [],
   "source": [
    "window_column = F.window(timeColumn=F.col(\"DATA_TRANSAZIONE\"), windowDuration=windows_size, startTime=f\"-{utf_shift_hours} hours\")"
   ]
  },
  {
   "cell_type": "code",
   "execution_count": 23,
   "metadata": {},
   "outputs": [],
   "source": [
    "data_df = data_df.withColumn(\"window\", window_column)"
   ]
  },
  {
   "cell_type": "code",
   "execution_count": 24,
   "metadata": {},
   "outputs": [
    {
     "name": "stdout",
     "output_type": "stream",
     "text": [
      "+--------------+-------------------+-------------+----------------+--------+------------------------------------------+\n",
      "|ID_BIC_CLIENTE|DATA_TRANSAZIONE   |IMPORTO_SEGNO|CA_CATEGORY_LIV0|IS_CARTA|window                                    |\n",
      "+--------------+-------------------+-------------+----------------+--------+------------------------------------------+\n",
      "|348272371     |2023-01-01 00:00:00|5.5          |shopping        |true    |{2023-01-01 00:00:00, 2023-01-03 00:00:00}|\n",
      "|348272371     |2023-01-01 00:00:00|6.1          |salute          |false   |{2023-01-01 00:00:00, 2023-01-03 00:00:00}|\n",
      "|348272371     |2023-01-01 00:00:00|8.2          |trasporti       |false   |{2023-01-01 00:00:00, 2023-01-03 00:00:00}|\n",
      "|348272371     |2023-01-01 00:00:00|1.5          |trasporti       |true    |{2023-01-01 00:00:00, 2023-01-03 00:00:00}|\n",
      "|348272371     |2023-01-04 00:00:00|20.2         |shopping        |false   |{2023-01-03 00:00:00, 2023-01-05 00:00:00}|\n",
      "|348272371     |2023-01-04 00:00:00|43.0         |shopping        |true    |{2023-01-03 00:00:00, 2023-01-05 00:00:00}|\n",
      "|348272371     |2023-01-04 00:00:00|72.2         |shopping        |false   |{2023-01-03 00:00:00, 2023-01-05 00:00:00}|\n",
      "|234984832     |2023-01-01 00:00:00|15.34        |salute          |true    |{2023-01-01 00:00:00, 2023-01-03 00:00:00}|\n",
      "|234984832     |2023-01-01 00:00:00|36.22        |salute          |true    |{2023-01-01 00:00:00, 2023-01-03 00:00:00}|\n",
      "|234984832     |2023-01-01 00:00:00|78.35        |salute          |false   |{2023-01-01 00:00:00, 2023-01-03 00:00:00}|\n",
      "|234984832     |2023-01-02 00:00:00|2.2          |trasporti       |true    |{2023-01-01 00:00:00, 2023-01-03 00:00:00}|\n",
      "+--------------+-------------------+-------------+----------------+--------+------------------------------------------+\n",
      "\n"
     ]
    }
   ],
   "source": [
    "data_df.show(truncate=False)"
   ]
  },
  {
   "cell_type": "code",
   "execution_count": 13,
   "metadata": {},
   "outputs": [
    {
     "ename": "AnalysisException",
     "evalue": "[UNRESOLVED_COLUMN.WITH_SUGGESTION] A column or function parameter with name `numerical_2` cannot be resolved. Did you mean one of the following? [`ID_BIC_CLIENTE`, `DATA_TRANSAZIONE`, `IMPORTO_SEGNO`, `CA_CATEGORY_LIV0`, `IS_CARTA`, `window`].",
     "output_type": "error",
     "traceback": [
      "\u001b[0;31m---------------------------------------------------------------------------\u001b[0m",
      "\u001b[0;31mAnalysisException\u001b[0m                         Traceback (most recent call last)",
      "Cell \u001b[0;32mIn[13], line 3\u001b[0m\n\u001b[1;32m      1\u001b[0m \u001b[39m# Solution 3\u001b[39;00m\n\u001b[0;32m----> 3\u001b[0m cat_grouped_1_df \u001b[39m=\u001b[39m data_df\u001b[39m.\u001b[39;49mgroupBy(F\u001b[39m.\u001b[39;49mcol(\u001b[39m\"\u001b[39;49m\u001b[39mid\u001b[39;49m\u001b[39m\"\u001b[39;49m), window_column)\u001b[39m.\u001b[39;49mpivot(\u001b[39m\"\u001b[39;49m\u001b[39mcategorical_feature_1\u001b[39;49m\u001b[39m\"\u001b[39;49m, [\u001b[39m\"\u001b[39;49m\u001b[39moption_1\u001b[39;49m\u001b[39m\"\u001b[39;49m])\u001b[39m.\u001b[39;49magg({\u001b[39m\"\u001b[39;49m\u001b[39mnumerical_1\u001b[39;49m\u001b[39m\"\u001b[39;49m: \u001b[39m\"\u001b[39;49m\u001b[39msum\u001b[39;49m\u001b[39m\"\u001b[39;49m, \u001b[39m\"\u001b[39;49m\u001b[39mnumerical_2\u001b[39;49m\u001b[39m\"\u001b[39;49m: \u001b[39m\"\u001b[39;49m\u001b[39mmean\u001b[39;49m\u001b[39m\"\u001b[39;49m})\n\u001b[1;32m      4\u001b[0m cat_grouped_2_df \u001b[39m=\u001b[39m data_df\u001b[39m.\u001b[39mgroupBy(F\u001b[39m.\u001b[39mcol(\u001b[39m\"\u001b[39m\u001b[39mid\u001b[39m\u001b[39m\"\u001b[39m), window_column)\u001b[39m.\u001b[39mpivot(\u001b[39m\"\u001b[39m\u001b[39mcategorical_feature_2\u001b[39m\u001b[39m\"\u001b[39m)\u001b[39m.\u001b[39magg({\u001b[39m\"\u001b[39m\u001b[39mnumerical_2\u001b[39m\u001b[39m\"\u001b[39m: \u001b[39m\"\u001b[39m\u001b[39msum\u001b[39m\u001b[39m\"\u001b[39m})\n\u001b[1;32m      6\u001b[0m cat_grouped_df \u001b[39m=\u001b[39m cat_grouped_1_df\u001b[39m.\u001b[39mjoin(cat_grouped_2_df, on\u001b[39m=\u001b[39m[\u001b[39m\"\u001b[39m\u001b[39mid\u001b[39m\u001b[39m\"\u001b[39m, \u001b[39m\"\u001b[39m\u001b[39mwindow\u001b[39m\u001b[39m\"\u001b[39m])\n",
      "File \u001b[0;32m~/anaconda3/envs/pyspark/lib/python3.11/site-packages/pyspark/sql/group.py:170\u001b[0m, in \u001b[0;36mGroupedData.agg\u001b[0;34m(self, *exprs)\u001b[0m\n\u001b[1;32m    168\u001b[0m \u001b[39massert\u001b[39;00m exprs, \u001b[39m\"\u001b[39m\u001b[39mexprs should not be empty\u001b[39m\u001b[39m\"\u001b[39m\n\u001b[1;32m    169\u001b[0m \u001b[39mif\u001b[39;00m \u001b[39mlen\u001b[39m(exprs) \u001b[39m==\u001b[39m \u001b[39m1\u001b[39m \u001b[39mand\u001b[39;00m \u001b[39misinstance\u001b[39m(exprs[\u001b[39m0\u001b[39m], \u001b[39mdict\u001b[39m):\n\u001b[0;32m--> 170\u001b[0m     jdf \u001b[39m=\u001b[39m \u001b[39mself\u001b[39;49m\u001b[39m.\u001b[39;49m_jgd\u001b[39m.\u001b[39;49magg(exprs[\u001b[39m0\u001b[39;49m])\n\u001b[1;32m    171\u001b[0m \u001b[39melse\u001b[39;00m:\n\u001b[1;32m    172\u001b[0m     \u001b[39m# Columns\u001b[39;00m\n\u001b[1;32m    173\u001b[0m     \u001b[39massert\u001b[39;00m \u001b[39mall\u001b[39m(\u001b[39misinstance\u001b[39m(c, Column) \u001b[39mfor\u001b[39;00m c \u001b[39min\u001b[39;00m exprs), \u001b[39m\"\u001b[39m\u001b[39mall exprs should be Column\u001b[39m\u001b[39m\"\u001b[39m\n",
      "File \u001b[0;32m~/anaconda3/envs/pyspark/lib/python3.11/site-packages/py4j/java_gateway.py:1322\u001b[0m, in \u001b[0;36mJavaMember.__call__\u001b[0;34m(self, *args)\u001b[0m\n\u001b[1;32m   1316\u001b[0m command \u001b[39m=\u001b[39m proto\u001b[39m.\u001b[39mCALL_COMMAND_NAME \u001b[39m+\u001b[39m\\\n\u001b[1;32m   1317\u001b[0m     \u001b[39mself\u001b[39m\u001b[39m.\u001b[39mcommand_header \u001b[39m+\u001b[39m\\\n\u001b[1;32m   1318\u001b[0m     args_command \u001b[39m+\u001b[39m\\\n\u001b[1;32m   1319\u001b[0m     proto\u001b[39m.\u001b[39mEND_COMMAND_PART\n\u001b[1;32m   1321\u001b[0m answer \u001b[39m=\u001b[39m \u001b[39mself\u001b[39m\u001b[39m.\u001b[39mgateway_client\u001b[39m.\u001b[39msend_command(command)\n\u001b[0;32m-> 1322\u001b[0m return_value \u001b[39m=\u001b[39m get_return_value(\n\u001b[1;32m   1323\u001b[0m     answer, \u001b[39mself\u001b[39;49m\u001b[39m.\u001b[39;49mgateway_client, \u001b[39mself\u001b[39;49m\u001b[39m.\u001b[39;49mtarget_id, \u001b[39mself\u001b[39;49m\u001b[39m.\u001b[39;49mname)\n\u001b[1;32m   1325\u001b[0m \u001b[39mfor\u001b[39;00m temp_arg \u001b[39min\u001b[39;00m temp_args:\n\u001b[1;32m   1326\u001b[0m     \u001b[39mif\u001b[39;00m \u001b[39mhasattr\u001b[39m(temp_arg, \u001b[39m\"\u001b[39m\u001b[39m_detach\u001b[39m\u001b[39m\"\u001b[39m):\n",
      "File \u001b[0;32m~/anaconda3/envs/pyspark/lib/python3.11/site-packages/pyspark/errors/exceptions/captured.py:175\u001b[0m, in \u001b[0;36mcapture_sql_exception.<locals>.deco\u001b[0;34m(*a, **kw)\u001b[0m\n\u001b[1;32m    171\u001b[0m converted \u001b[39m=\u001b[39m convert_exception(e\u001b[39m.\u001b[39mjava_exception)\n\u001b[1;32m    172\u001b[0m \u001b[39mif\u001b[39;00m \u001b[39mnot\u001b[39;00m \u001b[39misinstance\u001b[39m(converted, UnknownException):\n\u001b[1;32m    173\u001b[0m     \u001b[39m# Hide where the exception came from that shows a non-Pythonic\u001b[39;00m\n\u001b[1;32m    174\u001b[0m     \u001b[39m# JVM exception message.\u001b[39;00m\n\u001b[0;32m--> 175\u001b[0m     \u001b[39mraise\u001b[39;00m converted \u001b[39mfrom\u001b[39;00m \u001b[39mNone\u001b[39;00m\n\u001b[1;32m    176\u001b[0m \u001b[39melse\u001b[39;00m:\n\u001b[1;32m    177\u001b[0m     \u001b[39mraise\u001b[39;00m\n",
      "\u001b[0;31mAnalysisException\u001b[0m: [UNRESOLVED_COLUMN.WITH_SUGGESTION] A column or function parameter with name `numerical_2` cannot be resolved. Did you mean one of the following? [`ID_BIC_CLIENTE`, `DATA_TRANSAZIONE`, `IMPORTO_SEGNO`, `CA_CATEGORY_LIV0`, `IS_CARTA`, `window`]."
     ]
    }
   ],
   "source": [
    "# Solution 3\n",
    "\n",
    "cat_grouped_1_df = data_df.groupBy(F.col(\"ID_BIC_CLIENTE\"), window_column).pivot(\"categorical_feature_1\", [\"option_1\"]).agg({\"numerical_1\": \"sum\", \"numerical_2\": \"mean\"})\n",
    "cat_grouped_2_df = data_df.groupBy(F.col(\"ID_BIC_CLIENTE\"), window_column).pivot(\"categorical_feature_2\").agg({\"numerical_2\": \"sum\"})\n",
    "\n",
    "cat_grouped_df = cat_grouped_1_df.join(cat_grouped_2_df, on=[\"ID_BIC_CLIENTE\", \"window\"])\n",
    "cat_grouped_df.show()"
   ]
  },
  {
   "cell_type": "code",
   "execution_count": 23,
   "metadata": {},
   "outputs": [
    {
     "name": "stdout",
     "output_type": "stream",
     "text": [
      "+---+--------------------+---+\n",
      "| id|              window|tot|\n",
      "+---+--------------------+---+\n",
      "|  1|{2023-05-31 00:00...| 11|\n",
      "|  1|{2023-06-02 00:00...|  7|\n",
      "|  1|{2023-06-06 00:00...|  4|\n",
      "|  2|{2023-06-02 00:00...| 23|\n",
      "+---+--------------------+---+\n",
      "\n"
     ]
    }
   ],
   "source": [
    "num_grouped_df = data_df.groupBy(F.col(\"id\"), window_column).agg(F.sum(\"numerical_1\").alias(\"tot\"))\n",
    "num_grouped_df.show()"
   ]
  },
  {
   "cell_type": "code",
   "execution_count": 24,
   "metadata": {},
   "outputs": [
    {
     "name": "stdout",
     "output_type": "stream",
     "text": [
      "+---+--------------------+--------+--------+---+\n",
      "| id|              window|option_1|option_2|tot|\n",
      "+---+--------------------+--------+--------+---+\n",
      "|  1|{2023-05-31 00:00...|       5|       6| 11|\n",
      "|  1|{2023-06-02 00:00...|       7|    null|  7|\n",
      "|  1|{2023-06-06 00:00...|       4|    null|  4|\n",
      "|  2|{2023-06-02 00:00...|    null|      23| 23|\n",
      "+---+--------------------+--------+--------+---+\n",
      "\n"
     ]
    }
   ],
   "source": [
    "grouped_df = cat_grouped_df.join(num_grouped_df, on=[\"id\", \"window\"])\n",
    "grouped_df.show()"
   ]
  },
  {
   "cell_type": "code",
   "execution_count": 25,
   "metadata": {},
   "outputs": [
    {
     "name": "stdout",
     "output_type": "stream",
     "text": [
      "+---+--------------------+--------+--------+---+-------------------+\n",
      "| id|              window|option_1|option_2|tot|          timestamp|\n",
      "+---+--------------------+--------+--------+---+-------------------+\n",
      "|  1|{2023-05-31 00:00...|       5|       6| 11|2023-05-31 00:00:00|\n",
      "|  1|{2023-06-02 00:00...|       7|    null|  7|2023-06-02 00:00:00|\n",
      "|  1|{2023-06-06 00:00...|       4|    null|  4|2023-06-06 00:00:00|\n",
      "|  2|{2023-06-02 00:00...|    null|      23| 23|2023-06-02 00:00:00|\n",
      "+---+--------------------+--------+--------+---+-------------------+\n",
      "\n"
     ]
    }
   ],
   "source": [
    "grouped_df = grouped_df.withColumn(\"timestamp\", F.col(\"window\").start)\n",
    "# grouped_df = grouped_df.withColumn(\"window_end\", F.col(\"window\").end)\n",
    "\n",
    "grouped_df.show()"
   ]
  },
  {
   "cell_type": "code",
   "execution_count": 26,
   "metadata": {},
   "outputs": [
    {
     "name": "stdout",
     "output_type": "stream",
     "text": [
      "+---+-------------------+-------------------+\n",
      "| id|   min_window_start|     max_window_end|\n",
      "+---+-------------------+-------------------+\n",
      "|  1|2023-05-31 00:00:00|2023-06-08 00:00:00|\n",
      "|  2|2023-06-02 00:00:00|2023-06-04 00:00:00|\n",
      "+---+-------------------+-------------------+\n",
      "\n"
     ]
    }
   ],
   "source": [
    "ids_df = data_df.select(F.col(\"id\"), F.col(\"window\").start.alias(\"window_start\"), F.col(\"window\").end.alias(\"window_end\")).distinct()\n",
    "ids_df = ids_df.groupBy(\"id\").agg(F.min(\"window_start\").alias(\"min_window_start\"), F.max(\"window_end\").alias(\"max_window_end\"))\n",
    "ids_df.show()"
   ]
  },
  {
   "cell_type": "code",
   "execution_count": 27,
   "metadata": {},
   "outputs": [
    {
     "name": "stdout",
     "output_type": "stream",
     "text": [
      "+---+-------------------+\n",
      "| id|          timestamp|\n",
      "+---+-------------------+\n",
      "|  1|2023-05-31 00:00:00|\n",
      "|  1|2023-06-02 00:00:00|\n",
      "|  1|2023-06-04 00:00:00|\n",
      "|  1|2023-06-06 00:00:00|\n",
      "|  1|2023-06-08 00:00:00|\n",
      "|  2|2023-06-02 00:00:00|\n",
      "|  2|2023-06-04 00:00:00|\n",
      "+---+-------------------+\n",
      "\n"
     ]
    }
   ],
   "source": [
    "ids_timestamps_df = ids_df.withColumn(\"timestamps\", F.expr(f\"sequence(to_timestamp(min_window_start), to_timestamp(max_window_end), interval {windows_size})\")).drop(\"min_window_start\", \"max_window_end\")\n",
    "ids_timestamps_df = ids_timestamps_df.withColumn(\"timestamp\", F.explode(F.col(\"timestamps\"))).drop(\"window_start\", \"window_end\", \"timestamps\")\n",
    "ids_timestamps_df.show()"
   ]
  },
  {
   "cell_type": "code",
   "execution_count": 28,
   "metadata": {},
   "outputs": [
    {
     "name": "stdout",
     "output_type": "stream",
     "text": [
      "+---+-------------------+-----------+-----------+-------------------+--------------------+\n",
      "| id|          timestamp|numerical_1|numerical_2|categorical_feature|              window|\n",
      "+---+-------------------+-----------+-----------+-------------------+--------------------+\n",
      "|  1|2023-06-01 00:00:00|          5|          4|           option_1|{2023-05-31 00:00...|\n",
      "|  1|2023-06-01 00:00:00|          6|          1|           option_2|{2023-05-31 00:00...|\n",
      "|  1|2023-06-02 00:00:00|          7|          6|           option_1|{2023-06-02 00:00...|\n",
      "|  1|2023-06-06 00:00:00|          4|          2|           option_1|{2023-06-06 00:00...|\n",
      "|  2|2023-06-03 00:00:00|         10|         12|           option_2|{2023-06-02 00:00...|\n",
      "|  2|2023-06-03 00:00:00|         13|         15|           option_2|{2023-06-02 00:00...|\n",
      "+---+-------------------+-----------+-----------+-------------------+--------------------+\n",
      "\n"
     ]
    }
   ],
   "source": [
    "data_df.show()"
   ]
  },
  {
   "cell_type": "code",
   "execution_count": 29,
   "metadata": {},
   "outputs": [
    {
     "name": "stdout",
     "output_type": "stream",
     "text": [
      "+---+-------------------+--------+--------+---+\n",
      "|id |timestamp          |option_1|option_2|tot|\n",
      "+---+-------------------+--------+--------+---+\n",
      "|1  |2023-05-31 00:00:00|5       |6       |11 |\n",
      "|1  |2023-06-02 00:00:00|7       |0       |7  |\n",
      "|1  |2023-06-04 00:00:00|0       |0       |0  |\n",
      "|1  |2023-06-06 00:00:00|4       |0       |4  |\n",
      "|1  |2023-06-08 00:00:00|0       |0       |0  |\n",
      "|2  |2023-06-02 00:00:00|0       |23      |23 |\n",
      "|2  |2023-06-04 00:00:00|0       |0       |0  |\n",
      "+---+-------------------+--------+--------+---+\n",
      "\n"
     ]
    }
   ],
   "source": [
    "group_on = (grouped_df.timestamp == ids_timestamps_df.timestamp) & (grouped_df.id == ids_timestamps_df.id)\n",
    "grouped_df.join(ids_timestamps_df, on=[\"id\", \"timestamp\"], how='right').fillna(0, subset=[\"tot\", \"option_1\", \"option_2\"]).drop(\"window\").show(truncate=False)"
   ]
  },
  {
   "cell_type": "code",
   "execution_count": null,
   "metadata": {},
   "outputs": [],
   "source": []
  }
 ],
 "metadata": {
  "kernelspec": {
   "display_name": "pyspark",
   "language": "python",
   "name": "python3"
  },
  "language_info": {
   "codemirror_mode": {
    "name": "ipython",
    "version": 3
   },
   "file_extension": ".py",
   "mimetype": "text/x-python",
   "name": "python",
   "nbconvert_exporter": "python",
   "pygments_lexer": "ipython3",
   "version": "3.11.4"
  },
  "orig_nbformat": 4
 },
 "nbformat": 4,
 "nbformat_minor": 2
}
